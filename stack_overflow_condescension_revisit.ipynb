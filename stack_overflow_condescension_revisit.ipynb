{
 "cells": [
  {
   "cell_type": "code",
   "execution_count": 1,
   "id": "fc09da5c-7cf2-442a-875b-d6cfb8ccc855",
   "metadata": {},
   "outputs": [
    {
     "data": {
      "application/vnd.jupyter.widget-view+json": {
       "model_id": "25f9ab4c656849e89787d6c4a4f38f78",
       "version_major": 2,
       "version_minor": 0
      },
      "text/plain": [
       "model.safetensors:   0%|          | 0.00/1.63G [00:00<?, ?B/s]"
      ]
     },
     "metadata": {},
     "output_type": "display_data"
    },
    {
     "data": {
      "application/vnd.jupyter.widget-view+json": {
       "model_id": "44872502dcd048029b8c4dab9abc2d11",
       "version_major": 2,
       "version_minor": 0
      },
      "text/plain": [
       "tokenizer_config.json:   0%|          | 0.00/26.0 [00:00<?, ?B/s]"
      ]
     },
     "metadata": {},
     "output_type": "display_data"
    },
    {
     "data": {
      "application/vnd.jupyter.widget-view+json": {
       "model_id": "d015f4e46d2142279e1ba48c48f59314",
       "version_major": 2,
       "version_minor": 0
      },
      "text/plain": [
       "vocab.json: 0.00B [00:00, ?B/s]"
      ]
     },
     "metadata": {},
     "output_type": "display_data"
    },
    {
     "data": {
      "application/vnd.jupyter.widget-view+json": {
       "model_id": "25705072eaef464a99a47619407d05bc",
       "version_major": 2,
       "version_minor": 0
      },
      "text/plain": [
       "merges.txt: 0.00B [00:00, ?B/s]"
      ]
     },
     "metadata": {},
     "output_type": "display_data"
    },
    {
     "data": {
      "application/vnd.jupyter.widget-view+json": {
       "model_id": "5c39daeb84bb4b0596207f9252d1e428",
       "version_major": 2,
       "version_minor": 0
      },
      "text/plain": [
       "tokenizer.json: 0.00B [00:00, ?B/s]"
      ]
     },
     "metadata": {},
     "output_type": "display_data"
    },
    {
     "name": "stderr",
     "output_type": "stream",
     "text": [
      "Device set to use mps:0\n"
     ]
    }
   ],
   "source": [
    "import pandas as pd\n",
    "from transformers import pipeline\n",
    "\n",
    "classifier = pipeline(\"zero-shot-classification\", model=\"facebook/bart-large-mnli\")"
   ]
  },
  {
   "cell_type": "code",
   "execution_count": 2,
   "id": "48f1540f-fe1c-488f-90a0-018e62b19a61",
   "metadata": {},
   "outputs": [
    {
     "data": {
      "text/html": [
       "<div>\n",
       "<style scoped>\n",
       "    .dataframe tbody tr th:only-of-type {\n",
       "        vertical-align: middle;\n",
       "    }\n",
       "\n",
       "    .dataframe tbody tr th {\n",
       "        vertical-align: top;\n",
       "    }\n",
       "\n",
       "    .dataframe thead th {\n",
       "        text-align: right;\n",
       "    }\n",
       "</style>\n",
       "<table border=\"1\" class=\"dataframe\">\n",
       "  <thead>\n",
       "    <tr style=\"text-align: right;\">\n",
       "      <th></th>\n",
       "      <th>id</th>\n",
       "      <th>post_id</th>\n",
       "      <th>text</th>\n",
       "      <th>creation_date</th>\n",
       "      <th>user_id</th>\n",
       "    </tr>\n",
       "  </thead>\n",
       "  <tbody>\n",
       "    <tr>\n",
       "      <th>0</th>\n",
       "      <td>130390264</td>\n",
       "      <td>73843814</td>\n",
       "      <td>indexes start at zero. So the correct index fo...</td>\n",
       "      <td>2022-09-25 10:39:46.423000 UTC</td>\n",
       "      <td>5497719</td>\n",
       "    </tr>\n",
       "    <tr>\n",
       "      <th>1</th>\n",
       "      <td>130390263</td>\n",
       "      <td>73843618</td>\n",
       "      <td>import axios from \"axios\"\\n\\nconst BASE_URL=\"h...</td>\n",
       "      <td>2022-09-25 10:39:36.187000 UTC</td>\n",
       "      <td>18259724</td>\n",
       "    </tr>\n",
       "    <tr>\n",
       "      <th>2</th>\n",
       "      <td>130390262</td>\n",
       "      <td>73843773</td>\n",
       "      <td>I can't. Hence the comments I made.</td>\n",
       "      <td>2022-09-25 10:39:30.510000 UTC</td>\n",
       "      <td>19068</td>\n",
       "    </tr>\n",
       "    <tr>\n",
       "      <th>3</th>\n",
       "      <td>130390261</td>\n",
       "      <td>73773589</td>\n",
       "      <td>@Blackteahamburger I'm not sure if we say «cre...</td>\n",
       "      <td>2022-09-25 10:39:29.870000 UTC</td>\n",
       "      <td>9585016</td>\n",
       "    </tr>\n",
       "    <tr>\n",
       "      <th>4</th>\n",
       "      <td>130390260</td>\n",
       "      <td>73830895</td>\n",
       "      <td>Please edit the question to limit it to a spec...</td>\n",
       "      <td>2022-09-25 10:39:24.037000 UTC</td>\n",
       "      <td>-1</td>\n",
       "    </tr>\n",
       "  </tbody>\n",
       "</table>\n",
       "</div>"
      ],
      "text/plain": [
       "          id   post_id                                               text  \\\n",
       "0  130390264  73843814  indexes start at zero. So the correct index fo...   \n",
       "1  130390263  73843618  import axios from \"axios\"\\n\\nconst BASE_URL=\"h...   \n",
       "2  130390262  73843773                I can't. Hence the comments I made.   \n",
       "3  130390261  73773589  @Blackteahamburger I'm not sure if we say «cre...   \n",
       "4  130390260  73830895  Please edit the question to limit it to a spec...   \n",
       "\n",
       "                    creation_date   user_id  \n",
       "0  2022-09-25 10:39:46.423000 UTC   5497719  \n",
       "1  2022-09-25 10:39:36.187000 UTC  18259724  \n",
       "2  2022-09-25 10:39:30.510000 UTC     19068  \n",
       "3  2022-09-25 10:39:29.870000 UTC   9585016  \n",
       "4  2022-09-25 10:39:24.037000 UTC        -1  "
      ]
     },
     "execution_count": 2,
     "metadata": {},
     "output_type": "execute_result"
    }
   ],
   "source": [
    "df = pd.read_csv(\"/Users/amelialui/Documents/code/stack_overflow_comments.csv\")\n",
    "\n",
    "df.head()"
   ]
  },
  {
   "cell_type": "code",
   "execution_count": 5,
   "id": "e2dd9001-5fac-49e8-b1b5-ebae54763411",
   "metadata": {},
   "outputs": [
    {
     "data": {
      "text/plain": [
       "['Yes according to my coordinates.',\n",
       " 'a *SQL injection attack* waiting to happen',\n",
       " 'Why do you get `dquote>` I had no idea but google told me. https://stackoverflow.com/questions/15773278/i-get-dquote-as-a-result-of-executing-a-program-in-linux-shell There must be something incorrect on your command line',\n",
       " 'Thank you for helping out Samuel',\n",
       " 'It builds if I substitute `go/bin` for `go/app`\\n\\n however when I run it with `docker run --user=app:app logger-output-app:latest`, I get the following error `docker: Error response from daemon: failed to create shim task: OCI runtime create failed: runc create failed: unable to start container process: exec: \"/app\": permission denied: unknown.\\nERRO[0000] error waiting for container: context canceled`']"
      ]
     },
     "execution_count": 5,
     "metadata": {},
     "output_type": "execute_result"
    }
   ],
   "source": [
    "sample_comments = df[\"text\"].dropna().sample(5, random_state=42).tolist()\n",
    "sample_comments"
   ]
  },
  {
   "cell_type": "code",
   "execution_count": 4,
   "id": "fec8dcd8-ae24-4e70-87d4-c5aa5cc2c58c",
   "metadata": {},
   "outputs": [
    {
     "name": "stdout",
     "output_type": "stream",
     "text": [
      "Yes according to my coordinates. ... => not condescending (score: 0.778 )\n",
      "a *SQL injection attack* waiting to happen ... => not condescending (score: 0.559 )\n",
      "Why do you get `dquote>` I had no idea but google told me. https://stackoverflow ... => not condescending (score: 0.663 )\n",
      "Thank you for helping out Samuel ... => not condescending (score: 0.877 )\n",
      "It builds if I substitute `go/bin` for `go/app`\n",
      "\n",
      " however when I run it with `do ... => condescending (score: 0.68 )\n"
     ]
    }
   ],
   "source": [
    "labels = [\"condescending\", \"not condescending\"]\n",
    "\n",
    "for c in sample_comments:\n",
    "    result = classifier(c, candidate_labels=labels)\n",
    "    print(c[:80], \"... =>\", result[\"labels\"][0], \"(score:\", round(result[\"scores\"][0], 3), \")\")"
   ]
  }
 ],
 "metadata": {
  "kernelspec": {
   "display_name": "Python 3 (ipykernel)",
   "language": "python",
   "name": "python3"
  },
  "language_info": {
   "codemirror_mode": {
    "name": "ipython",
    "version": 3
   },
   "file_extension": ".py",
   "mimetype": "text/x-python",
   "name": "python",
   "nbconvert_exporter": "python",
   "pygments_lexer": "ipython3",
   "version": "3.12.7"
  }
 },
 "nbformat": 4,
 "nbformat_minor": 5
}
