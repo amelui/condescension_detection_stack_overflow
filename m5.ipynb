{
 "cells": [
  {
   "cell_type": "code",
   "execution_count": 1,
   "id": "2e4a7cc0",
   "metadata": {},
   "outputs": [],
   "source": [
    "import pandas as pd\n",
    "import numpy as np\n",
    "import matplotlib.pyplot as plt\n",
    "import re\n",
    "import string\n",
    "\n",
    "import seaborn as sns\n",
    "\n",
    "import nltk\n",
    "from nltk.tokenize import word_tokenize\n",
    "from nltk.corpus import stopwords\n",
    "from nltk.tokenize import MWETokenizer\n",
    "from nltk.stem.lancaster import LancasterStemmer\n",
    "\n",
    "from sklearn.feature_extraction.text import CountVectorizer\n",
    "from sklearn.feature_extraction.text import TfidfVectorizer\n",
    "\n",
    "from sklearn.decomposition import TruncatedSVD\n",
    "from sklearn.decomposition import NMF\n",
    "from gensim import corpora,models,matutils\n",
    "from scipy import sparse\n",
    "\n",
    "from vaderSentiment.vaderSentiment import SentimentIntensityAnalyzer\n",
    "\n",
    "from sklearn.utils import resample\n",
    "from sklearn.model_selection import train_test_split\n",
    "from sklearn.preprocessing import StandardScaler\n",
    "from sklearn.neighbors import KNeighborsClassifier\n",
    "from sklearn.linear_model import LogisticRegression\n",
    "from sklearn.ensemble import RandomForestClassifier\n",
    "from sklearn.metrics import accuracy_score, confusion_matrix, precision_score, recall_score, f1_score, plot_roc_curve, roc_curve"
   ]
  },
  {
   "cell_type": "code",
   "execution_count": 2,
   "id": "1a1b9952",
   "metadata": {},
   "outputs": [],
   "source": [
    "#load in stack overflow data w condescension labels\n",
    "stack_overflow_df = pd.read_csv('/Users/amelialui/Desktop/DS_Projects/Condescension_Detection_Stack_Overflow/dataCompleted.csv')\n",
    "stack_overflow_df = stack_overflow_df.drop(columns=['Unnamed: 0'])\n"
   ]
  },
  {
   "cell_type": "markdown",
   "id": "9dd50b35",
   "metadata": {},
   "source": [
    "# Text Preprocessing, Tokenization"
   ]
  },
  {
   "cell_type": "code",
   "execution_count": 3,
   "id": "04db6351",
   "metadata": {},
   "outputs": [
    {
     "data": {
      "text/html": [
       "<div>\n",
       "<style scoped>\n",
       "    .dataframe tbody tr th:only-of-type {\n",
       "        vertical-align: middle;\n",
       "    }\n",
       "\n",
       "    .dataframe tbody tr th {\n",
       "        vertical-align: top;\n",
       "    }\n",
       "\n",
       "    .dataframe thead th {\n",
       "        text-align: right;\n",
       "    }\n",
       "</style>\n",
       "<table border=\"1\" class=\"dataframe\">\n",
       "  <thead>\n",
       "    <tr style=\"text-align: right;\">\n",
       "      <th></th>\n",
       "      <th>text</th>\n",
       "      <th>c_label</th>\n",
       "    </tr>\n",
       "  </thead>\n",
       "  <tbody>\n",
       "    <tr>\n",
       "      <th>0</th>\n",
       "      <td>Yeah, I didn't believe it until I created a co...</td>\n",
       "      <td>False</td>\n",
       "    </tr>\n",
       "    <tr>\n",
       "      <th>1</th>\n",
       "      <td>It will help if you give some details of which...</td>\n",
       "      <td>False</td>\n",
       "    </tr>\n",
       "    <tr>\n",
       "      <th>2</th>\n",
       "      <td>infact it does. Look a the first lines of your...</td>\n",
       "      <td>False</td>\n",
       "    </tr>\n",
       "    <tr>\n",
       "      <th>3</th>\n",
       "      <td>\"Currently + is implemented using StringBuffer...</td>\n",
       "      <td>False</td>\n",
       "    </tr>\n",
       "    <tr>\n",
       "      <th>4</th>\n",
       "      <td>That code will fail as .Distinct() returns an ...</td>\n",
       "      <td>False</td>\n",
       "    </tr>\n",
       "  </tbody>\n",
       "</table>\n",
       "</div>"
      ],
      "text/plain": [
       "                                                text  c_label\n",
       "0  Yeah, I didn't believe it until I created a co...    False\n",
       "1  It will help if you give some details of which...    False\n",
       "2  infact it does. Look a the first lines of your...    False\n",
       "3  \"Currently + is implemented using StringBuffer...    False\n",
       "4  That code will fail as .Distinct() returns an ...    False"
      ]
     },
     "execution_count": 3,
     "metadata": {},
     "output_type": "execute_result"
    }
   ],
   "source": [
    "stack_overflow_df.head()"
   ]
  },
  {
   "cell_type": "code",
   "execution_count": 4,
   "id": "b84def4e",
   "metadata": {},
   "outputs": [
    {
     "name": "stdout",
     "output_type": "stream",
     "text": [
      "<class 'pandas.core.frame.DataFrame'>\n",
      "RangeIndex: 3887 entries, 0 to 3886\n",
      "Data columns (total 2 columns):\n",
      " #   Column   Non-Null Count  Dtype \n",
      "---  ------   --------------  ----- \n",
      " 0   text     3887 non-null   object\n",
      " 1   c_label  3887 non-null   bool  \n",
      "dtypes: bool(1), object(1)\n",
      "memory usage: 34.3+ KB\n"
     ]
    }
   ],
   "source": [
    "stack_overflow_df.info()"
   ]
  },
  {
   "cell_type": "markdown",
   "id": "56f95bca",
   "metadata": {},
   "source": [
    "want to make a third column, stack_overflow_df['sentiment']"
   ]
  },
  {
   "cell_type": "code",
   "execution_count": 5,
   "id": "99883b91",
   "metadata": {},
   "outputs": [],
   "source": [
    "analyzer = SentimentIntensityAnalyzer()\n",
    "negative_scores = [] #we care more about how negative it is, not how neutral or pos or overall\n",
    "\n",
    "for i in range(0,3887):\n",
    "    doc = stack_overflow_df['text'][i]\n",
    "    sentiment = analyzer.polarity_scores(doc)\n",
    "    neg = sentiment['neg']\n",
    "    negative_scores.append(neg)\n",
    "\n",
    "stack_overflow_df['neg_sentiment'] = negative_scores"
   ]
  },
  {
   "cell_type": "code",
   "execution_count": 6,
   "id": "36d79e0c",
   "metadata": {},
   "outputs": [
    {
     "data": {
      "text/html": [
       "<div>\n",
       "<style scoped>\n",
       "    .dataframe tbody tr th:only-of-type {\n",
       "        vertical-align: middle;\n",
       "    }\n",
       "\n",
       "    .dataframe tbody tr th {\n",
       "        vertical-align: top;\n",
       "    }\n",
       "\n",
       "    .dataframe thead th {\n",
       "        text-align: right;\n",
       "    }\n",
       "</style>\n",
       "<table border=\"1\" class=\"dataframe\">\n",
       "  <thead>\n",
       "    <tr style=\"text-align: right;\">\n",
       "      <th></th>\n",
       "      <th>text</th>\n",
       "      <th>c_label</th>\n",
       "      <th>neg_sentiment</th>\n",
       "    </tr>\n",
       "  </thead>\n",
       "  <tbody>\n",
       "    <tr>\n",
       "      <th>0</th>\n",
       "      <td>Yeah, I didn't believe it until I created a co...</td>\n",
       "      <td>False</td>\n",
       "      <td>0.127</td>\n",
       "    </tr>\n",
       "    <tr>\n",
       "      <th>1</th>\n",
       "      <td>It will help if you give some details of which...</td>\n",
       "      <td>False</td>\n",
       "      <td>0.000</td>\n",
       "    </tr>\n",
       "    <tr>\n",
       "      <th>2</th>\n",
       "      <td>infact it does. Look a the first lines of your...</td>\n",
       "      <td>False</td>\n",
       "      <td>0.105</td>\n",
       "    </tr>\n",
       "    <tr>\n",
       "      <th>3</th>\n",
       "      <td>\"Currently + is implemented using StringBuffer...</td>\n",
       "      <td>False</td>\n",
       "      <td>0.000</td>\n",
       "    </tr>\n",
       "    <tr>\n",
       "      <th>4</th>\n",
       "      <td>That code will fail as .Distinct() returns an ...</td>\n",
       "      <td>False</td>\n",
       "      <td>0.189</td>\n",
       "    </tr>\n",
       "  </tbody>\n",
       "</table>\n",
       "</div>"
      ],
      "text/plain": [
       "                                                text  c_label  neg_sentiment\n",
       "0  Yeah, I didn't believe it until I created a co...    False          0.127\n",
       "1  It will help if you give some details of which...    False          0.000\n",
       "2  infact it does. Look a the first lines of your...    False          0.105\n",
       "3  \"Currently + is implemented using StringBuffer...    False          0.000\n",
       "4  That code will fail as .Distinct() returns an ...    False          0.189"
      ]
     },
     "execution_count": 6,
     "metadata": {},
     "output_type": "execute_result"
    }
   ],
   "source": [
    "stack_overflow_df.head()"
   ]
  },
  {
   "cell_type": "code",
   "execution_count": 7,
   "id": "c6f3f5d6",
   "metadata": {},
   "outputs": [
    {
     "data": {
      "text/html": [
       "<div>\n",
       "<style scoped>\n",
       "    .dataframe tbody tr th:only-of-type {\n",
       "        vertical-align: middle;\n",
       "    }\n",
       "\n",
       "    .dataframe tbody tr th {\n",
       "        vertical-align: top;\n",
       "    }\n",
       "\n",
       "    .dataframe thead th {\n",
       "        text-align: right;\n",
       "    }\n",
       "</style>\n",
       "<table border=\"1\" class=\"dataframe\">\n",
       "  <thead>\n",
       "    <tr style=\"text-align: right;\">\n",
       "      <th></th>\n",
       "      <th>text</th>\n",
       "      <th>c_label</th>\n",
       "      <th>neg_sentiment</th>\n",
       "    </tr>\n",
       "  </thead>\n",
       "  <tbody>\n",
       "    <tr>\n",
       "      <th>0</th>\n",
       "      <td>Yeah n't believe created console app good lord...</td>\n",
       "      <td>False</td>\n",
       "      <td>0.127</td>\n",
       "    </tr>\n",
       "    <tr>\n",
       "      <th>1</th>\n",
       "      <td>help give details database using techniques vary</td>\n",
       "      <td>False</td>\n",
       "      <td>0.000</td>\n",
       "    </tr>\n",
       "    <tr>\n",
       "      <th>2</th>\n",
       "      <td>infact Look first lines concat code problem co...</td>\n",
       "      <td>False</td>\n",
       "      <td>0.105</td>\n",
       "    </tr>\n",
       "    <tr>\n",
       "      <th>3</th>\n",
       "      <td>`` Currently implemented using StringBuffer ``...</td>\n",
       "      <td>False</td>\n",
       "      <td>0.000</td>\n",
       "    </tr>\n",
       "    <tr>\n",
       "      <th>4</th>\n",
       "      <td>code fail .Distinct returns IEnumerable add .T...</td>\n",
       "      <td>False</td>\n",
       "      <td>0.189</td>\n",
       "    </tr>\n",
       "  </tbody>\n",
       "</table>\n",
       "</div>"
      ],
      "text/plain": [
       "                                                text  c_label  neg_sentiment\n",
       "0  Yeah n't believe created console app good lord...    False          0.127\n",
       "1   help give details database using techniques vary    False          0.000\n",
       "2  infact Look first lines concat code problem co...    False          0.105\n",
       "3  `` Currently implemented using StringBuffer ``...    False          0.000\n",
       "4  code fail .Distinct returns IEnumerable add .T...    False          0.189"
      ]
     },
     "execution_count": 7,
     "metadata": {},
     "output_type": "execute_result"
    }
   ],
   "source": [
    "#remove stop words\n",
    "def split(word):\n",
    "    return [char for char in word]\n",
    "punc = split(string.punctuation)\n",
    "stop_words = set(stopwords.words('english'))\n",
    "\n",
    "for i in range(0,3887):\n",
    "    doc = stack_overflow_df['text'][i]\n",
    "    filtered = [w for w in word_tokenize(doc) if not w.lower() in stop_words]\n",
    "    filtered = [w for w in word_tokenize(\" \".join(filtered)) if not w.lower() in punc]\n",
    "    stack_overflow_df.at[i, 'text'] = \" \".join(filtered)\n",
    "\n",
    "stack_overflow_df.head()"
   ]
  },
  {
   "cell_type": "code",
   "execution_count": 8,
   "id": "222e9992",
   "metadata": {},
   "outputs": [],
   "source": [
    "#get rid of numbers\n",
    "for i in range(0,3887):\n",
    "    doc = stack_overflow_df['text'][i]\n",
    "    doc_no_nums = re.sub(\"\\d+\", \" \", doc)\n",
    "    stack_overflow_df.at[i, 'text'] = doc_no_nums"
   ]
  },
  {
   "cell_type": "code",
   "execution_count": 9,
   "id": "3c1e5160",
   "metadata": {},
   "outputs": [],
   "source": [
    "#simplify terms down to their stems\n",
    "#stemmer = LancasterStemmer()\n",
    "\n",
    "#for i in range(0,3887):\n",
    "    #doc = stack_overflow_df['text'][i]\n",
    "    #filtered = \"\"\n",
    "    #for word in doc.split():\n",
    "        #stem = stemmer.stem(word)\n",
    "        #filtered += stem + \" \"\n",
    "    #filtered.rstrip()\n",
    "    #stack_overflow_df.at[i, 'text'] = filtered.lower()"
   ]
  },
  {
   "cell_type": "markdown",
   "id": "6cf274d6",
   "metadata": {},
   "source": [
    "compound term extraction for emotes like :)"
   ]
  },
  {
   "cell_type": "code",
   "execution_count": 10,
   "id": "6d0b4310",
   "metadata": {},
   "outputs": [
    {
     "name": "stdout",
     "output_type": "stream",
     "text": [
      "['Yeah', \"n't\", 'believe', 'created', 'console', 'app', 'good', 'lord', 'would', 'give', 'rope', 'hang', 'hated', 'VB.NET', 'OrElse', 'AndAlso', 'keywords']\n"
     ]
    }
   ],
   "source": [
    "mwe_tokenizer = MWETokenizer([(':',')'), (';',')'),(':','('), ('=',')'),('=','('),\n",
    "                              (':','-',')'), (':','-','('),\n",
    "                              (':',\"'\",'-','('),('X','D'),(':','D'),(':',']'),\n",
    "                              ('>',':','('),('>',':','['),\n",
    "                              (':','/'),(':','|'),\n",
    "                              ('<','_','<'),('>','_','>'),('o','_','o'),('O','_','O')])\n",
    "\n",
    "for i in range(0,3886):\n",
    "    doc = stack_overflow_df['text'][i]\n",
    "    mwe_tokens = mwe_tokenizer.tokenize(word_tokenize(doc))\n",
    "    \n",
    "#make tokenizer that combines mwe_tokenizer and word_tokenizer to make callable\n",
    "def my_tokenizer(text):\n",
    "    mwe_tokens = mwe_tokenizer.tokenize(word_tokenize(text))\n",
    "    return(mwe_tokens)\n",
    "\n",
    "print(my_tokenizer(stack_overflow_df['text'][0]))"
   ]
  },
  {
   "cell_type": "markdown",
   "id": "6ade5da3",
   "metadata": {},
   "source": [
    "# Make CountVectorizer Doc-Term Matrix"
   ]
  },
  {
   "cell_type": "code",
   "execution_count": 11,
   "id": "282056a5",
   "metadata": {},
   "outputs": [
    {
     "name": "stdout",
     "output_type": "stream",
     "text": [
      "<class 'pandas.core.frame.DataFrame'>\n",
      "RangeIndex: 3887 entries, 0 to 3886\n",
      "Columns: 9625 entries, ' to …\n",
      "dtypes: int64(9625)\n",
      "memory usage: 285.4 MB\n"
     ]
    }
   ],
   "source": [
    "cv = CountVectorizer(tokenizer = my_tokenizer)\n",
    "cv_X = cv.fit_transform(stack_overflow_df['text'])\n",
    "cv_doc_term_mat = pd.DataFrame(cv_X.toarray(), columns = cv.get_feature_names_out())\n",
    "cv_doc_term_mat.info()"
   ]
  },
  {
   "cell_type": "code",
   "execution_count": 12,
   "id": "3695c1e4",
   "metadata": {},
   "outputs": [
    {
     "data": {
      "text/plain": [
       "55910"
      ]
     },
     "execution_count": 12,
     "metadata": {},
     "output_type": "execute_result"
    }
   ],
   "source": [
    "cv_doc_term_mat.values.sum()\n",
    "#looks about right"
   ]
  },
  {
   "cell_type": "code",
   "execution_count": 13,
   "id": "4b06118e",
   "metadata": {},
   "outputs": [
    {
     "name": "stdout",
     "output_type": "stream",
     "text": [
      "<class 'pandas.core.frame.DataFrame'>\n",
      "RangeIndex: 3887 entries, 0 to 3886\n",
      "Columns: 9625 entries, ' to …\n",
      "dtypes: int64(9625)\n",
      "memory usage: 285.4 MB\n"
     ]
    }
   ],
   "source": [
    "cv_doc_term_mat.info()"
   ]
  },
  {
   "cell_type": "markdown",
   "id": "36c76506",
   "metadata": {},
   "source": [
    "# Make TF-IDF Doc-Term Matrix"
   ]
  },
  {
   "cell_type": "code",
   "execution_count": 14,
   "id": "081cc9fc",
   "metadata": {},
   "outputs": [
    {
     "name": "stdout",
     "output_type": "stream",
     "text": [
      "<class 'pandas.core.frame.DataFrame'>\n",
      "RangeIndex: 3887 entries, 0 to 3886\n",
      "Columns: 9625 entries, ' to …\n",
      "dtypes: float64(9625)\n",
      "memory usage: 285.4 MB\n"
     ]
    }
   ],
   "source": [
    "tfidf = TfidfVectorizer(tokenizer = my_tokenizer)\n",
    "tfidf_X = tfidf.fit_transform(stack_overflow_df['text'])\n",
    "tfidf_doc_term_mat = pd.DataFrame(tfidf_X.toarray(), columns = tfidf.get_feature_names_out())\n",
    "tfidf_doc_term_mat.info()"
   ]
  },
  {
   "cell_type": "markdown",
   "id": "e6d6b6f3",
   "metadata": {},
   "source": [
    "# Latent Semantic Analysis Model"
   ]
  },
  {
   "cell_type": "markdown",
   "id": "0e82efb2",
   "metadata": {},
   "source": [
    "w/ count vectorizer"
   ]
  },
  {
   "cell_type": "code",
   "execution_count": 15,
   "id": "b1960c82",
   "metadata": {},
   "outputs": [
    {
     "data": {
      "text/plain": [
       "TruncatedSVD(n_components=3)"
      ]
     },
     "execution_count": 15,
     "metadata": {},
     "output_type": "execute_result"
    }
   ],
   "source": [
    "lsa = TruncatedSVD(3)\n",
    "lsa.fit(cv_doc_term_mat)"
   ]
  },
  {
   "cell_type": "code",
   "execution_count": 16,
   "id": "37fa7ff1",
   "metadata": {},
   "outputs": [],
   "source": [
    "def topics(model, feature_names, top_words, topic_names=None):\n",
    "    for j, topic in enumerate(model):\n",
    "        if not topic_names or not topic_names[j]:\n",
    "            print(\"\\nTopic \")\n",
    "        else:\n",
    "            print(\"\\nTopic:\",topic_names[j])\n",
    "        print(\", \".join([feature_names[i]\n",
    "                        for i in topic.argsort()[:-top_words - 1:-1]]))"
   ]
  },
  {
   "cell_type": "code",
   "execution_count": 17,
   "id": "0948f3ae",
   "metadata": {},
   "outputs": [
    {
     "name": "stdout",
     "output_type": "stream",
     "text": [
      "\n",
      "Topic: asking for clarification\n",
      "``, n't, 's, use, code, would, ..., one, like, answer, also, question, c, object, ., get, way, think, using, need\n",
      "\n",
      "Topic: technical\n",
      "``, cast, ~, derived, straight, postgresql, exact, var, printf, typeof, derives, student, .constructor, computer, insane, controlchars.quote, repeating, intend, -name, namespacelist\n",
      "\n",
      "Topic: reviews on other comments\n",
      "'s, code, way, think, like, answer, function, much, data, language, also, right, problem, http, around, wrong, goto, since, pretty, lot\n"
     ]
    }
   ],
   "source": [
    "topics(lsa.components_, cv_doc_term_mat.columns, 20, topic_names=['asking for clarification','technical','reviews on other comments'])\n"
   ]
  },
  {
   "cell_type": "markdown",
   "id": "31e9dde5",
   "metadata": {},
   "source": [
    "this model makes sense, but it was a bit of a stretch to define the topics."
   ]
  },
  {
   "cell_type": "markdown",
   "id": "00f0ad13",
   "metadata": {},
   "source": [
    "# Latent Semantic Analysis Model\n",
    "w/ tfidf"
   ]
  },
  {
   "cell_type": "code",
   "execution_count": 18,
   "id": "325d6554",
   "metadata": {},
   "outputs": [
    {
     "data": {
      "text/plain": [
       "TruncatedSVD(n_components=3)"
      ]
     },
     "execution_count": 18,
     "metadata": {},
     "output_type": "execute_result"
    }
   ],
   "source": [
    "lsa = TruncatedSVD(3)\n",
    "lsa.fit(tfidf_doc_term_mat)"
   ]
  },
  {
   "cell_type": "code",
   "execution_count": 19,
   "id": "f0ccae57",
   "metadata": {},
   "outputs": [
    {
     "name": "stdout",
     "output_type": "stream",
     "text": [
      "\n",
      "Topic: asking for clarification\n",
      "``, n't, 's, use, code, would, ..., one, question, answer, like, think, c, also, good, need, really, way, want, using\n",
      "\n",
      "Topic: technical\n",
      "``, jpeg, ocaml, postgresql, words, datetime.now.tostring, case-insensitive, -tiers, n-tiers, associative, repeating, commutative, controlchars.quote, foo, hofstadterian, age, href=, insane, cryptography, combining\n",
      "\n",
      "Topic: reviews on other comments\n",
      "question, answer, asked, answers, good, asking, valid, ask, c++, perfectly, questions, answered, vote, accepted, nice, different, correct, post, subjective, one\n"
     ]
    }
   ],
   "source": [
    "topics(lsa.components_, tfidf_doc_term_mat.columns, 20, topic_names=['asking for clarification','technical','reviews on other comments'])\n"
   ]
  },
  {
   "cell_type": "markdown",
   "id": "f86e6c96",
   "metadata": {},
   "source": [
    "same topics, looks almost same as w countvectorizer input, the last topic makes a lot more sense with this group of words"
   ]
  },
  {
   "cell_type": "markdown",
   "id": "41bb5845",
   "metadata": {},
   "source": [
    "# Non-Negative Matrix Factorization\n",
    "w/ cv"
   ]
  },
  {
   "cell_type": "code",
   "execution_count": 20,
   "id": "bc08f407",
   "metadata": {},
   "outputs": [
    {
     "name": "stderr",
     "output_type": "stream",
     "text": [
      "/Users/amelialui/opt/anaconda3/lib/python3.9/site-packages/sklearn/decomposition/_nmf.py:289: FutureWarning: The 'init' value, when 'init=None' and n_components is less than n_samples and n_features, will be changed from 'nndsvd' to 'nndsvda' in 1.1 (renaming of 0.26).\n",
      "  warnings.warn(\n"
     ]
    },
    {
     "data": {
      "text/plain": [
       "NMF(n_components=3)"
      ]
     },
     "execution_count": 20,
     "metadata": {},
     "output_type": "execute_result"
    }
   ],
   "source": [
    "nmf = NMF(3)\n",
    "nmf.fit(cv_doc_term_mat)"
   ]
  },
  {
   "cell_type": "code",
   "execution_count": 21,
   "id": "62ecae53",
   "metadata": {
    "scrolled": false
   },
   "outputs": [
    {
     "name": "stdout",
     "output_type": "stream",
     "text": [
      "\n",
      "Topic: technical\n",
      "``, string, cast, object, new, use, ..., ., also, name, like, x, would, type, instead, different, one, ==, example, code\n",
      "\n",
      "Topic: asking for clarification\n",
      "n't, would, use, ca, code, one, ..., want, question, could, c, work, like, think, answer, need, time, know, make, using\n",
      "\n",
      "Topic: reviews on other comments\n",
      "'s, code, think, use, like, answer, way, one, c, good, ..., question, time, would, also, using, function, know, much, need\n"
     ]
    }
   ],
   "source": [
    "topics(nmf.components_, cv_doc_term_mat.columns, 20, topic_names=[\"technical\",\"asking for clarification\",\"reviews on other comments\"])\n"
   ]
  },
  {
   "cell_type": "markdown",
   "id": "7522923a",
   "metadata": {},
   "source": [
    "# Non-Negative Matrix Factorization\n",
    "w/ tfidf"
   ]
  },
  {
   "cell_type": "code",
   "execution_count": 22,
   "id": "20d79430",
   "metadata": {},
   "outputs": [
    {
     "name": "stderr",
     "output_type": "stream",
     "text": [
      "/Users/amelialui/opt/anaconda3/lib/python3.9/site-packages/sklearn/decomposition/_nmf.py:289: FutureWarning: The 'init' value, when 'init=None' and n_components is less than n_samples and n_features, will be changed from 'nndsvd' to 'nndsvda' in 1.1 (renaming of 0.26).\n",
      "  warnings.warn(\n"
     ]
    },
    {
     "data": {
      "text/plain": [
       "NMF(n_components=3)"
      ]
     },
     "execution_count": 22,
     "metadata": {},
     "output_type": "execute_result"
    }
   ],
   "source": [
    "nmf = NMF(3)\n",
    "nmf.fit(tfidf_doc_term_mat)"
   ]
  },
  {
   "cell_type": "code",
   "execution_count": 23,
   "id": "e6a092fd",
   "metadata": {},
   "outputs": [
    {
     "name": "stdout",
     "output_type": "stream",
     "text": [
      "\n",
      "Topic: technical\n",
      "``, mean, string, new, also, example, different, best, statement, use, ==, --, ., actually, name, read, work, put, say, get\n",
      "\n",
      "Topic: asking for clarification\n",
      "n't, 's, code, use, ..., would, one, think, like, c, need, time, using, way, know, ca, want, could, good, 're\n",
      "\n",
      "Topic: reviews on other comments\n",
      "question, answer, asked, good, one, answers, would, asking, valid, c++, ask, vote, perfectly, accepted, nice, answered, questions, different, people, think\n"
     ]
    }
   ],
   "source": [
    "topics(nmf.components_, tfidf_doc_term_mat.columns, 20, topic_names=[\"technical\",\"asking for clarification\",\"reviews on other comments\"])\n"
   ]
  },
  {
   "cell_type": "markdown",
   "id": "a6142057",
   "metadata": {},
   "source": [
    "# Add LSA TFIDF Model to DF\n",
    "This model made most sense overall"
   ]
  },
  {
   "cell_type": "code",
   "execution_count": 24,
   "id": "f7a665bc",
   "metadata": {},
   "outputs": [
    {
     "data": {
      "text/plain": [
       "[[0.04185612157516906, -0.08850437172698633, -0.004839773810875579],\n",
       " [0.02358291198589463, -0.046590073820414905, -0.002936018954458795],\n",
       " [0.044888548086182985, -0.06546244256663718, -0.04179421132617069],\n",
       " [0.19601036864510055, 0.04668949021073287, -0.011794694893860407],\n",
       " [0.026784441856634422, -0.04811177732899725, -0.0404578951152731],\n",
       " [0.0861905696385305, -0.17927835851352555, -0.030394116012717666],\n",
       " [0.06788642449593546, -0.13559370365741752, -0.04885534982156884],\n",
       " [0.6341389710359764, 0.3007540642650205, 0.008780588362160053],\n",
       " [0.04785942210109899, -0.09475636812354223, -0.0035501771951569365],\n",
       " [0.04785942210109899, -0.09475636812354223, -0.0035501771951569365],\n",
       " [0.028862470620396798, -0.04555585927463099, -0.022592568261938572],\n",
       " [0.04978255045970931, -0.09176240484762474, -0.04448641421031833],\n",
       " [0.17003557692573734, 0.05076611471173577, -0.014574520675761402],\n",
       " [0.07620240258500274, -0.1282817096775582, -0.08723991112992761],\n",
       " [0.022167418512821415, -0.03978219862481312, 0.002426747732008813],\n",
       " [0.04392617254301669, -0.08524333503941084, -0.01264007858459448],\n",
       " [0.034807860808018676, -0.048784331395794175, -0.03754944457975952],\n",
       " [0.07333650385338157, -0.1307766115984652, -0.024766472725859984],\n",
       " [0.01145803862191956, -0.008289046708336073, -0.0038287100181194425],\n",
       " [0.016031809893283216, -0.02774224031172154, -0.014672550207397331],\n",
       " [0.010653715295618009, -0.016914669050910044, -0.009840574220330307],\n",
       " [0.0524397093415591, -0.05774285598685087, -0.03258656318091513],\n",
       " [0.03301239779660746, -0.07232159413509012, -0.02880050175471069],\n",
       " [0.04617311826756291, -0.08205777330386978, -0.025817045628137268],\n",
       " [0.0043314453383023485, -0.001245073415079601, 0.0022404302214780263],\n",
       " [0.029058392703163675, -0.04585787050500147, -0.009451096322835896],\n",
       " [0.013838035179280093, -0.019563484608930194, -0.0051322050581454216],\n",
       " [0.007618089320123227, -0.010171159648589168, -0.004555841794784191],\n",
       " [0.04232485296701647, -0.0730704229176485, -0.024137140433220707],\n",
       " [0.044560880738049535, -0.08917820010927044, -0.008259662091993327],\n",
       " [0.038800769397538806, -0.07305845731282452, 0.17873762951521152],\n",
       " [0.012949225849787485, -0.029947823724991298, -0.010807499656150597],\n",
       " [0.03322158536376904, -0.06212802142323148, 0.0011991396362614818],\n",
       " [0.3768481178914366, 0.09396966992483789, -0.020440647185679162],\n",
       " [0.02517909754729028, -0.04150487527890813, 0.009370165863122084],\n",
       " [0.016473799325028293, -0.03166326632160355, -0.008406071229954258],\n",
       " [0.03737750200920498, -0.062330645599228615, -0.03741346868155503],\n",
       " [0.0488276115139499, -0.10050571836942317, -0.0072734911755153375],\n",
       " [0.19603822128202975, 0.018941364476416617, 0.08801756415259451],\n",
       " [0.06295899350783313, -0.12403134208946263, 0.10361194233338969],\n",
       " [0.039213185797327785, -0.0706852020001135, -0.005190566499698791],\n",
       " [0.040387267815633086, -0.08775625539092594, -0.03934891117185125],\n",
       " [0.3006288666655861, 0.02875396428016836, -0.022041880059851363],\n",
       " [0.017356514132422035, -0.029281367901399607, -0.008465370538368499],\n",
       " [0.0323621831952311, -0.04491617966964637, -0.01754851249619773],\n",
       " [0.05517703922318458, -0.10414862973269672, -0.015535917506438783],\n",
       " [0.03476182095421486, -0.07289515562636466, 0.2957949393465208],\n",
       " [0.06873042261918592, -0.14191287168698982, -0.058948278684337066],\n",
       " [0.3580513185107822, 0.15383510437784298, -0.017023590879173288],\n",
       " [0.05515707502712165, -0.10669051737164294, -0.030497809420367002],\n",
       " [0.0713144379034609, -0.15500177548717947, -0.059122035508937534],\n",
       " [0.03366754570031814, -0.06475053288583874, 0.11711772741436936],\n",
       " [0.42585320143847283, 0.11823354981181335, -0.007301256906812344],\n",
       " [0.04378820475982129, -0.08153732227362925, -0.03532262849875813],\n",
       " [0.037879259847498, -0.061976643480170776, -0.01953809462850584],\n",
       " [0.18912412158786013, -0.003388420537927382, -0.04133173567585519],\n",
       " [0.06875532948589491, -0.13037106997999057, -0.0038660759125336334],\n",
       " [0.36224781048961135, 0.11963400578021179, -0.0100400185809366],\n",
       " [0.38258124693733103, 0.09233883380802295, -0.004665843915518303],\n",
       " [0.01008159480184076, -0.016871069524638748, -0.007768154095925304],\n",
       " [0.06759331010568104, -0.1316345092128964, 0.08928522299545262],\n",
       " [0.042844425504205634, -0.07614966824782239, -0.017596350026132176],\n",
       " [0.03988125898644683, -0.07854409055754995, -0.02668660438211641],\n",
       " [0.048650596540819525, -0.07199649813808484, -0.00505407486294281],\n",
       " [0.06917110995408503, -0.11147496559556615, -0.05261865517560642],\n",
       " [0.03697988719641682, -0.0620861267292553, -0.026332024160071826],\n",
       " [0.01969226088178036, -0.0332985524135751, -0.007611858636055387],\n",
       " [0.03689981739793289, -0.059151282325335196, -0.02102716649461665],\n",
       " [0.07289672175745689, -0.13037127528287437, -0.03696243899332018],\n",
       " [0.013477129463226205, -0.025759486104623523, -0.0037215786418412096],\n",
       " [0.043253439251745365, -0.07508318673318312, -0.02526254140884815],\n",
       " [0.02775351452511944, -0.04985721540850208, -0.008703180056323897],\n",
       " [0.07461214800497903, -0.1345608092541179, -0.03062655799144143],\n",
       " [0.2248966187386011, -0.01170878161453755, -0.004460340662722147],\n",
       " [0.03422279700183397, -0.06615101753543036, 0.011502076241347126],\n",
       " [0.019130552435979244, -0.02781769504408455, -0.004918921335231844],\n",
       " [0.2954126613149032, 0.13191862931679568, 0.0065379380274872825],\n",
       " [0.02960630941188154, -0.04661804902155368, -0.01809158485728151],\n",
       " [0.035944940715241944, -0.06045403825952422, -0.013977529964766469],\n",
       " [0.02040540437727011, -0.03203128670374197, -0.00663939792109206],\n",
       " [0.047533329202175095, -0.08279147407300533, 0.048365747282096805],\n",
       " [0.05926445912365758, -0.11151135959411508, -0.026405644246236964],\n",
       " [0.061056462057795, -0.11434177417376598, 0.015054130829210356],\n",
       " [0.21310867756850693, -0.07244778347843205, -0.030070062076910348],\n",
       " [0.03422818569509912, -0.04613359093937715, -0.01650747065985117],\n",
       " [0.21391727430946067, 0.02353171860715404, -0.03106701187767514],\n",
       " [0.10053168126579048, -0.1738168338638896, -0.07513089450569287],\n",
       " [0.08329212221363196, -0.15357558886983105, 0.41381558233314947],\n",
       " [0.22105093681816598, 0.019514949891710008, -0.014311185711634268],\n",
       " [0.06772029831023446, -0.135036875237758, -0.055682213417389985],\n",
       " [0.02074938824533062, -0.03596515786133599, -0.022698842089478703],\n",
       " [0.029830278951285677, -0.04586351586587019, -0.0197314773778666],\n",
       " [0.025198937906219153, -0.047938824336272404, -0.006240813381673777],\n",
       " [0.03737337668284591, -0.08364449876605538, 0.10976624907439894],\n",
       " [0.02987308025362575, -0.05542722533267985, -0.03630463548328154],\n",
       " [0.04252972113749743, -0.07413072800400794, 0.0018050535853557583],\n",
       " [0.07137953548307728, -0.15200557129511966, 0.32393620223120834],\n",
       " [0.06880425252664032, -0.12908834297191696, -0.022393192802610963],\n",
       " [0.08086465687278319, -0.14708649288893327, -0.08104402772012853],\n",
       " [0.08081551453191942, -0.1370609943218265, -0.06317782137035054],\n",
       " [0.10046694027617802, -0.2195857529662419, 0.15705474028368113],\n",
       " [0.04006281487593013, -0.06987749421891783, -0.023533701124778435],\n",
       " [0.01459168375545834, -0.027516013595418866, -0.01743106089070156],\n",
       " [0.0516513437963279, -0.09096129976043317, -0.03761942393504217],\n",
       " [0.012230075668114394, -0.02089063319454189, -0.0007780401713293981],\n",
       " [0.05682240575963091, -0.11106998538650939, -0.0034131934548566945],\n",
       " [0.1958964671084627, -0.036426267900177146, -0.018525070308133298],\n",
       " [0.0644133353933208, -0.10207716099304312, -0.03336864619617312],\n",
       " [0.028578853635054677, -0.04783268145501701, -0.007948654639798852],\n",
       " [0.07417420179866846, -0.13743458806564898, -0.041974970873823604],\n",
       " [0.04580731546977722, -0.08622544758696085, -0.04362730523997899],\n",
       " [0.01448174715774548, -0.022818088154818353, 0.004590336730322727],\n",
       " [0.03578379234157991, -0.06218784805199035, -0.02012914254187889],\n",
       " [0.4657926722736553, 0.19151010246282033, 0.13974138938182484],\n",
       " [0.02835746728246238, -0.05100070956341736, -0.0002374608988096776],\n",
       " [0.2682895001292337, 0.1420209083263083, 0.005656993711525807],\n",
       " [0.2772467694487752, -0.15653993570043195, -0.03963607231450476],\n",
       " [0.0025373154126489216, -0.005993906334317403, 0.0006249518696643093],\n",
       " [0.05221159630270632, -0.11433602206645871, 0.18253269646141287],\n",
       " [0.03851163726825504, -0.05703724381803206, -0.028446288168079658],\n",
       " [0.0433005719430616, -0.05002628754301763, -0.02095366598894025],\n",
       " [0.04192430410112563, -0.090277535508166, 0.3234767203428316],\n",
       " [0.08851185056561636, -0.17092124677985354, -0.03711610928436031],\n",
       " [0.03967143299910154, -0.06773848014316769, -0.011732438115435624],\n",
       " [0.03403179247878854, -0.07095310438156102, -0.017027966067857878],\n",
       " [0.06541437073469732, -0.11679747383815284, -0.06301029315571456],\n",
       " [0.2979609800876852, -0.10344482196408024, 0.14299160487659265],\n",
       " [0.0795963734794215, -0.18750426361216388, 0.4066448497770155],\n",
       " [0.03209824193248123, -0.06396909168441679, -0.01650222737456636],\n",
       " [0.058838993907427, -0.10902134140274669, -0.03937079589537352],\n",
       " [0.23812608921313777, -0.04836937556094161, -0.02832566280226572],\n",
       " [0.06994363770819673, -0.11803285429942854, -0.01251876106377354],\n",
       " [0.017288570888930106, -0.0329297949618885, 0.007542950620220219],\n",
       " [0.03238782877084369, -0.05790842479832118, 0.07615201008035995],\n",
       " [0.025096515947324687, -0.044933451400237884, -0.03348420768755901],\n",
       " [0.05259409203423642, -0.09042706746287645, -0.03351846548918362],\n",
       " [0.07026481406170494, -0.12895363756634698, -0.0514289127328105],\n",
       " [0.3209652883204422, 0.15672655646737005, -0.0023214501604371784],\n",
       " [0.023854131485108312, -0.028753067928225597, -0.015227806217624085],\n",
       " [0.5733413045620904, 0.2797330598373641, 0.012340473405523935],\n",
       " [0.047549526208587455, -0.08699576939367763, -0.050615593335926336],\n",
       " [0.028813043907992126, -0.05159060299504735, -0.028718863542940676],\n",
       " [0.011130876666062267, -0.01580582461685775, -0.005638413086253296],\n",
       " [0.07961447089799921, -0.14944234343887386, -0.05141552558151752],\n",
       " [0.028662441100275257, -0.056640248845018296, -0.01161510137725322],\n",
       " [0.06285647889993014, -0.11664791637340968, 0.009019829478533992],\n",
       " [0.2054059813594756, -0.01748218020561603, -0.015139030323787776],\n",
       " [0.02778217417847662, -0.03975240714455488, -0.021718056447678526],\n",
       " [0.03098703300110654, -0.05087783792843343, -0.023906053663140858],\n",
       " [0.1982445267005866, -0.033375451711482686, -0.048763747849507204],\n",
       " [0.06186590322017995, -0.11136013311654502, -0.050572574345478086],\n",
       " [0.049124394308980426, -0.08428938014061885, -0.015377783023149922],\n",
       " [0.2992373445886797, -0.0029802924203334853, -0.0384295312237466],\n",
       " [0.020732937844001816, -0.03489729919687132, -6.374995792259378e-05],\n",
       " [0.013236051788672126, -0.02376443808155467, -0.010574088760137688],\n",
       " [0.04753320489354515, -0.09124553334934841, 0.24541661660390152],\n",
       " [0.04404095073808813, -0.07775068211561878, -0.013196101623943303],\n",
       " [0.0216160206191464, -0.024085504983703033, -0.004876055675304287],\n",
       " [0.03676916083672459, -0.06761361577418029, -0.039361885903847066],\n",
       " [0.0407344816640395, -0.07432367225692636, -0.01835776763634638],\n",
       " [0.03164230521437221, -0.043753691383337866, -0.023979855492367336],\n",
       " [0.015974641331425225, -0.021890450867054344, -0.016400676902603956],\n",
       " [0.019951562687741085, -0.03630794357669005, -0.00920925113332441],\n",
       " [0.04646441192614923, -0.1006646065646844, -0.03606195665267003],\n",
       " [0.05444355396766304, -0.08466370453287371, -0.03454539053576408],\n",
       " [0.08111597583469646, -0.16687528317313963, -0.06368077020981189],\n",
       " [0.03964615359080115, -0.0767102888881157, -0.05123681413504754],\n",
       " [0.0566992927185318, -0.10443458486317597, 0.09153243836723025],\n",
       " [0.02825157227623032, -0.05181613743003612, -0.01649536478679036],\n",
       " [0.07612069722091254, -0.14132080739074038, -0.0624974572468526],\n",
       " [0.06921205624216448, -0.11845250683525246, -0.03444258599528605],\n",
       " [0.008029848676812359, -0.016393429800401926, 0.011942280668346072],\n",
       " [0.05893301793359388, -0.11498610654207635, 0.21890350938390382],\n",
       " [0.048443777249949686, -0.0871891460530099, -0.020224600976487102],\n",
       " [0.06488851857686188, -0.10765779045831818, -0.027537436973980877],\n",
       " [0.01856494706911657, -0.032113615265408416, -0.024037176452596412],\n",
       " [0.029138844929768974, -0.04009090002828688, -0.010550419928649628],\n",
       " [0.05039151261590764, -0.09033347864645933, -0.029367809727004743],\n",
       " [0.10482270846857862, -0.19369749482057885, -0.058380451581754804],\n",
       " [0.020405483841840818, -0.021145249256990847, -0.015717446836679475],\n",
       " [0.013054335565426718, -0.021993030992795006, 0.005884222161332918],\n",
       " [0.07633341465531075, -0.13958099829773676, -0.06884502443418611],\n",
       " [0.023141495017871282, -0.03903040515240886, -0.004761192982122584],\n",
       " [0.3453795978946694, 0.14571957775918631, 0.0020403405909910706],\n",
       " [0.2723253125133171, 0.12285055185507601, 0.009526632128302737],\n",
       " [0.05366731384320976, -0.09217736889212018, -0.048655200070445194],\n",
       " [0.08633661091033203, -0.16824534375118827, 0.024389689462275328],\n",
       " [0.03943545302664677, -0.0849646498528064, 0.007542790882711814],\n",
       " [0.01825708867439916, -0.03389110212945795, -0.026635056505539625],\n",
       " [0.05763426106458393, -0.11010307565191936, -0.0443885307458999],\n",
       " [0.03489367526853308, -0.0668499920417125, 0.12571678356161778],\n",
       " [0.08518254093925623, -0.13790946297959447, 0.12466204363877859],\n",
       " [0.272727222541475, -0.03295570077335416, -0.031233727124995656],\n",
       " [0.026726382189573728, -0.028645422082412213, -0.01311318920112736],\n",
       " [0.014716441382987212, -0.020704969978679506, -0.010772726629684457],\n",
       " [0.04469823938167266, -0.06528165615684943, -0.05049604850939016],\n",
       " [0.030694254772108995, -0.06410661806558898, -0.015713397810087418],\n",
       " [0.045180921006124544, -0.09292770461794252, 0.12323872575043769],\n",
       " [0.06127938086467573, -0.09673258159289183, -0.043675322528024044],\n",
       " [0.09146619282542581, -0.17969323545854599, -0.04777709961222445],\n",
       " [0.030218278165163127, -0.05310919155030416, -0.016028509922252437],\n",
       " [0.045719915946150755, -0.07319990913128627, -0.02323512645497612],\n",
       " [0.06305755240252865, -0.11347851705064577, 0.052802230801021206],\n",
       " [0.07197516156864864, -0.14193225434486323, -0.03462589485977278],\n",
       " [0.5701204295702142, 0.2869122400097839, 0.004324236468128647],\n",
       " [0.04674097055317099, -0.09024330176609482, -0.008331859145435909],\n",
       " [0.054591052763412376, -0.0840525600564461, 0.06224095132952358],\n",
       " [0.04864180257861664, -0.10356886155114418, -0.03614607048859769],\n",
       " [0.0640615848328642, -0.10901743936368684, -0.02882958030524734],\n",
       " [0.03582757812678108, -0.07095102423025165, -0.016996109199295572],\n",
       " [0.25927761782499215, 0.11191665976086007, -0.004524257927003041],\n",
       " [0.03784019338606532, -0.057454105554486344, -0.015137021755759459],\n",
       " [0.058267822162995114, -0.0968122427716741, -0.04563109915355114],\n",
       " [0.34516452233652717, 0.17265051779792603, 0.003596961619522312],\n",
       " [0.021341721607588838, -0.028149749888537186, -0.024726429948155194],\n",
       " [0.058307722070321547, -0.1069088795629955, -0.05034078572363032],\n",
       " [0.10594052022010585, -0.19827097042532837, -0.05485584854320524],\n",
       " [0.035593371928809375, -0.0525430325892671, -0.0229104193250115],\n",
       " [0.07031154772972703, -0.12223132778308204, -0.05139481221379516],\n",
       " [0.0225634410124294, -0.03510808622654561, -0.024100632941410804],\n",
       " [0.05235726835095198, -0.09124683841394629, -0.034267683535751964],\n",
       " [0.02936754086007368, -0.03008120304820343, -0.009038672362683527],\n",
       " [0.006666670308393033, -0.016413174074653702, -0.006482920769160254],\n",
       " [0.5845218191233859, 0.28272568740543175, 0.00969144615438773],\n",
       " [0.04228907194741719, -0.08142497678230895, -0.02362172901151216],\n",
       " [0.3849645948669332, 0.09674032005951813, 0.06967306483460114],\n",
       " [0.2581611074219294, 0.10862298150742132, 0.0048610598612961586],\n",
       " [0.024042380913008157, -0.04823972466189201, -0.022180163145697367],\n",
       " [0.08168990798385331, -0.1558601923395757, -0.01899824343419616],\n",
       " [0.10328642932011088, -0.21085451771834904, -0.06315449200525955],\n",
       " [0.02228768389568418, -0.04176735145979222, -0.0045986178495001735],\n",
       " [0.2016043816609131, -0.06410085480077243, -0.013960340357097646],\n",
       " [0.03025044267006829, -0.043724454295585996, -0.03875422020200787],\n",
       " [0.08051748474403733, -0.15258667548448962, 0.038308831310139735],\n",
       " [0.07019162959911027, -0.12522353908268696, -0.05838175348747887],\n",
       " [0.04172088324421711, -0.06704847105643263, -0.013677455662089995],\n",
       " [0.20529230215921007, -0.03996430713370871, 0.04728736226159574],\n",
       " [0.06347095193229339, -0.11773099781185797, -0.0183270810049602],\n",
       " [0.20957652076519206, -0.0208857026467921, -0.02676711017083129],\n",
       " [0.04279993267634592, -0.0817373054800769, -0.03218587821386928],\n",
       " [0.02647342568215093, -0.043870167415308456, -0.01728527366955107],\n",
       " [0.17784432893013, 0.06915693929613112, -0.005099517115528288],\n",
       " [0.036372098993808416, -0.04983922981576298, -0.02436897932135667],\n",
       " [0.15083261575153067, 0.03456103742924402, -0.0038506538272704387],\n",
       " [0.01581872430303302, -0.03131751798392281, -0.01982457756624635],\n",
       " [0.040078259647496436, -0.06541895766740832, 0.002158737970325877],\n",
       " [0.2701238669698543, -0.08223178826406508, -0.0747646702054491],\n",
       " [0.060132887282195735, -0.1051698985926788, -0.04098384703580151],\n",
       " [0.03016670874910612, -0.05624538368365765, -0.01852788792919597],\n",
       " [0.08067628492686776, -0.1414145362143006, -0.06488853196190184],\n",
       " [0.3778998899636091, -0.018165912812973736, -0.0649240816844774],\n",
       " [0.058467447219247806, -0.10607054657843393, -0.038035926330109715],\n",
       " [0.060788969660541536, -0.11103195671122304, -0.02239316076079778],\n",
       " [0.22570429714316842, -0.06452934403233178, -0.06529853540369676],\n",
       " [0.011257980897196271, -0.017466994468725468, 0.00525241571894695],\n",
       " [0.044646497364160355, -0.0870084045575692, -0.02861478090425582],\n",
       " [0.017320911461824275, -0.03129105043732101, -0.005068674603356211],\n",
       " [0.03284635460752179, -0.05781827504546797, 0.03164365225322282],\n",
       " [0.009897733993264593, -0.012931242563942295, -0.011699908299859558],\n",
       " [0.10019110148836129, -0.2019284964053066, -0.060552666117316245],\n",
       " [0.04509185107880892, -0.0761542499731343, 0.004183466719599364],\n",
       " [0.4569630751391456, 0.19284485442856397, 0.00444659289229676],\n",
       " [0.042179172704544673, -0.07478931130434695, -0.03855687801178456],\n",
       " [0.07781859351113873, -0.15037042631623831, -0.048439193385995546],\n",
       " [0.22674257838276232, 0.09792726614047963, 0.003861874472783439],\n",
       " [0.02784427464720333, -0.04454695166354604, -0.03385205152217277],\n",
       " [0.028671429347252267, -0.050171177827707907, 0.007102516859673046],\n",
       " [0.06337327472190316, -0.12908421151295874, -0.0243230685820895],\n",
       " [0.035689178928198326, -0.07419636145348374, 0.27403168961417185],\n",
       " [0.05745220526384506, -0.10298360996944833, -0.03275045073689632],\n",
       " [0.01350865616151467, -0.026793733526504767, -0.008661679813752841],\n",
       " [0.0398573077727537, -0.06727115196045642, -0.04340254700360027],\n",
       " [9.429248404173359e-05, -0.0003660152957101265, -1.3114542197766614e-05],\n",
       " [0.054936902688559545, -0.10225483161459162, -0.043691964302811366],\n",
       " [0.22292364999245667, 0.09033549430948203, -0.002862412178004344],\n",
       " [0.2119169434033586, 0.001305281345855766, -0.005337447885624515],\n",
       " [0.07498847112015773, -0.14879868593508735, -0.028937512158102613],\n",
       " [0.02118414985872185, -0.035120220916289364, -0.002168708985135553],\n",
       " [0.05719322341351967, -0.11024491190218175, -0.0449865850705118],\n",
       " [0.034431975062707766, -0.05553281101018824, -0.015725657757280166],\n",
       " [0.06345441736332912, -0.10925664356717117, -0.006690367213361239],\n",
       " [0.023807950620674468, -0.03448499450820015, -0.0038581250755336193],\n",
       " [0.039274184892420794, -0.06276895310299598, -0.029340681043964492],\n",
       " [0.02843554808876561, -0.051345097758934505, -0.016596530672753653],\n",
       " [0.038625829012274716, -0.07633576565504532, 0.0009088187426333988],\n",
       " [0.10058082738386517, -0.19391830904928495, -0.08326273066371538],\n",
       " [0.27654135593708384, 0.13716930582624529, -0.0021834318385726696],\n",
       " [0.03195314310812791, -0.05488848412303858, -0.023521206714133686],\n",
       " [0.28601692156071745, 0.05054655715314461, -0.011959501553407248],\n",
       " [0.04903437555403793, -0.08625107889465052, -0.00655189542327045],\n",
       " [0.031544345537883205, -0.05105074249433779, -0.01742703401683353],\n",
       " [0.026403281511874883, -0.04041348754173771, -0.0017745739601560517],\n",
       " [0.06562811002797804, -0.11583417641555459, -0.02498417906652766],\n",
       " [0.008524026955906776, -0.010649873030296903, 0.005750407015078494],\n",
       " [0.03016721100390308, -0.04808275998806562, -0.0010323539865637694],\n",
       " [0.14380908796408823, 0.009100945274927138, -0.03466188939533539],\n",
       " [0.03214078464011403, -0.04613227816846013, -0.020889188709993303],\n",
       " [0.07971487466365648, -0.16104620905160044, 0.11875775978824972],\n",
       " [0.04047401085312644, -0.08332806196093698, -0.011780176941313078],\n",
       " [0.01308187124463377, -0.020523587896360822, -0.010600939443434102],\n",
       " [0.02338023482976629, -0.021530854443175575, -0.0005430535610541532],\n",
       " [0.05587971332717825, -0.10813531653098793, 0.19311781461507005],\n",
       " [0.06941653946058338, -0.13246854268572497, -0.03372592714203253],\n",
       " [0.028243266847664407, -0.04131656384729735, -0.026049499918518886],\n",
       " [0.06929514082035221, -0.12705561109529853, 0.16533452230942772],\n",
       " [0.049901419589311845, -0.10429551854543323, -0.02838332435673622],\n",
       " [0.07132967461476035, -0.11589514425142627, -0.06798394791942822],\n",
       " [0.017920418214671743, -0.02993164760608918, -0.018810713322313207],\n",
       " [0.24500894728245742, 0.05067715222152935, -0.015321962306045642],\n",
       " [0.020086775712896465, -0.03780604236679953, 0.003280213979429599],\n",
       " [0.08179445083190703, -0.17560093856774484, 0.1363270625635521],\n",
       " [0.07693410859437544, -0.14290340898991108, 0.3561607843725424],\n",
       " [0.01644970738889894, -0.030446830130257525, -0.0014213479778266102],\n",
       " [0.10306600987554705, -0.190123404259937, -0.08945749295258652],\n",
       " [0.1086420512423329, -0.20386874603470892, 0.36865366238407543],\n",
       " [0.008377989813993902, -0.015019860941465207, 0.004239534737551985],\n",
       " [0.018426068073448064, -0.03663245162063351, -0.009492556713507915],\n",
       " [0.06564568455086199, -0.11740922354304299, -0.06877161888373039],\n",
       " [0.04901732919797436, -0.0975805277505204, 0.21199132173169236],\n",
       " [0.011381793829908749, -0.022040757882129162, -0.014254329934484012],\n",
       " [0.026198095656492212, -0.04837127008345702, -0.030081921800223173],\n",
       " [0.015668124237197274, -0.013571342207773673, -0.00960010745790428],\n",
       " [0.02384412484434377, -0.03463804583928994, -0.003899729249413301],\n",
       " [0.04196022156298062, -0.059167120976993004, -0.04715239945997493],\n",
       " [0.01659952137103519, -0.036410082617238625, 0.012413450730829997],\n",
       " [0.0424704832586003, -0.0718289713525393, -0.019114292430106934],\n",
       " [0.1011899752257145, -0.19319435523161843, -0.04382202178885026],\n",
       " [0.02545308258577588, -0.05195453891740428, 0.02155406587712115],\n",
       " [0.07632494063481296, -0.13711422830811906, -0.06258375395124591],\n",
       " [0.03298625536891455, -0.06454440524593301, -0.02557998109674308],\n",
       " [0.01928073371540674, -0.0225934570446837, -0.003882272319582749],\n",
       " [0.022302839172818306, -0.04369136825351948, -0.0020057712101676293],\n",
       " [0.04547849270424971, -0.0917586710167294, -0.002210919660956105],\n",
       " [0.022842003506649108, -0.03733893167648815, -0.015328285968466696],\n",
       " [0.06789610170244435, -0.13176349785440547, -0.02813025074496301],\n",
       " [0.14935650775823753, -0.01528065878343343, -0.02516953091557985],\n",
       " [0.034772314419695964, -0.06316988359888463, -0.01755768478287319],\n",
       " [0.22427594650593952, 0.021902233219993947, -0.03672211841695042],\n",
       " [0.03977829082594143, -0.06243207592016441, -0.008952506962070002],\n",
       " [0.01649469410401661, -0.02673238502763589, -0.00825069139568516],\n",
       " [0.04013432124405509, -0.0702263228899184, -0.01608134016853893],\n",
       " [0.24832593984991785, 0.06860034848065266, -0.02620722898480215],\n",
       " [0.04197847161580784, -0.07939725642701162, -0.01353402514947145],\n",
       " [0.022301815911389744, -0.03598078712717856, -0.021630415838722262],\n",
       " [0.19317373895849627, 0.0407131263349975, -0.006811467528110203],\n",
       " [0.038926725521925463, -0.05918340157025187, -0.03239275572419313],\n",
       " [0.039939952936956416, -0.0722501451189897, -0.024452123205894023],\n",
       " [0.25542001754226223, 0.03989160539852952, -0.0006692220363509324],\n",
       " [0.041260047561127486, -0.07810741211600997, -0.025487216222281544],\n",
       " [0.020965038570543965, -0.0346590506167599, -0.017810577913703732],\n",
       " [0.2662506551136682, 0.09680560796619295, -0.00018485400721284656],\n",
       " [0.04049313063457082, -0.08276864614853391, -0.04548532217552841],\n",
       " [0.04956532336591483, -0.09004598193578779, -0.039888922848128346],\n",
       " [0.06419079720267268, -0.12461961279951665, -0.03568952315500575],\n",
       " [0.016725801150768146, -0.029508166721150024, 0.0021101074482362757],\n",
       " [0.07645701777583556, -0.15381665912011525, -0.0443999886950502],\n",
       " [0.05672356462089355, -0.11228883157106556, -0.02215007394870684],\n",
       " [0.05575374416193119, -0.10592422529915457, -0.05009040647068262],\n",
       " [0.024678680249974223, -0.04625913581117108, -0.004542473313546715],\n",
       " [0.01870738138562233, -0.03496042525588318, -0.016537317131399446],\n",
       " [0.036060263613682746, -0.07595293387917529, 0.013008484922436753],\n",
       " [0.01971780605492996, -0.020724141628291986, -0.012222899200145432],\n",
       " [0.027869984555235205, -0.04156057337727409, -0.0059630500204966635],\n",
       " [0.035239715915627266, -0.06205018642784095, -0.020656528797053045],\n",
       " [0.023135166302627935, -0.032755594611147326, -0.026958337570546498],\n",
       " [0.05578706784719034, -0.10136168147572526, -0.025767075180482275],\n",
       " [0.029536798560397443, -0.05347413884224913, -0.01167707670871988],\n",
       " [0.2111609160742664, 0.1044399227608466, 0.006434307492266611],\n",
       " [0.2793803768223228, 0.1033173282163806, 0.012720651772664172],\n",
       " [0.025487629874539015, -0.03544057708452446, -0.005436283078702548],\n",
       " [0.05903335736642021, -0.10796950025047912, 0.1001635181148547],\n",
       " [0.04897264655926339, -0.08066336565788125, -0.023805772341485985],\n",
       " [0.043196808797612826, -0.08832783857147822, -0.04144898741861157],\n",
       " [0.0487278646279979, -0.09001997973533131, -0.030698355485096737],\n",
       " [0.02393806052437666, -0.03623864397035528, -0.0205584092891001],\n",
       " [0.04337900009557445, -0.0756903464019919, -0.005034578539519842],\n",
       " [0.0163869055891777, -0.031336040278444395, -0.015632012328910993],\n",
       " [0.23885975670465717, -0.07081897663672948, -0.035425331603670084],\n",
       " [0.050789790053261126, -0.09847056938021516, -0.022837629942968066],\n",
       " [0.05890844190915597, -0.1167099126355739, 0.026752620947555306],\n",
       " [0.029152550527462472, -0.042141768297206866, -0.014815116915746699],\n",
       " [0.4567696625168687, 0.17844048817693905, -0.006494429636588889],\n",
       " [0.04340495555802242, -0.07137995416835391, -0.028319858576912358],\n",
       " [0.2989561366726135, 0.08684230556447203, -0.015739976845732303],\n",
       " [0.265218243206432, 0.0058055301514024615, -0.04715839041331816],\n",
       " [0.022057504324598666, -0.02289328551617547, -0.017305654494410235],\n",
       " [0.03781942829407163, -0.051617647310018916, -0.027957532777737992],\n",
       " [0.01154381492676354, -0.017710497970697372, 0.0071171786672772006],\n",
       " [0.4345716316611065, 0.1309354159964994, 0.0031051531656412523],\n",
       " [0.08352771418306194, -0.13417477106928077, -0.05212605101048943],\n",
       " [0.06590034239299297, -0.1242179437195103, 0.28955216055543137],\n",
       " [0.006711948526568139, -0.014968881066714831, -0.005697747620064259],\n",
       " [0.07045170447770377, -0.12233812487089732, -0.05361608035054975],\n",
       " [0.06792989199968309, -0.13938524559397097, 0.41837166149376415],\n",
       " [0.02278220663428188, -0.03828502157642847, -0.041641234250361446],\n",
       " [0.17822263782861072, 0.03207579987270276, -0.018136446839590505],\n",
       " [0.06285375507847145, -0.11411670372063766, -0.022526913576689934],\n",
       " [0.07739038034400489, -0.13097228413281803, -0.04474693929571596],\n",
       " [0.3473037059527351, 0.036677806132534796, 0.16034710505123453],\n",
       " [0.06989307959480714, -0.12125369211301865, -0.014298237907413467],\n",
       " [0.04913427165043742, -0.08467251372511231, -0.03802061169153977],\n",
       " [0.03607534279662499, -0.06757771912226783, -0.006303003147901637],\n",
       " [0.06975151038786036, -0.1240529093207546, -0.051005703789338254],\n",
       " [0.024881055641620506, -0.05147824976473495, -0.03094621677682779],\n",
       " [0.04508684302575296, -0.07459639342656277, -0.035882194880901545],\n",
       " [0.020877736964064468, -0.040574481662050375, -0.030940812173379656],\n",
       " [0.05022670592844531, -0.08625009456074682, -0.02975770818309462],\n",
       " [0.02756324790171375, -0.06004266136221761, 0.018966850365346295],\n",
       " [0.09246837100474849, -0.16770626219649543, -0.07233117510896762],\n",
       " [0.03556429426203055, -0.0640933824382409, -0.0275166752565179],\n",
       " [0.02453549764436683, -0.03657671567760114, -0.015911564113856427],\n",
       " [0.2029342677954461, 0.03419908320500109, -0.040950927228489],\n",
       " [0.02032075428897892, -0.02530343399602878, -0.014138082953814605],\n",
       " [0.009116747518003763, -0.01698485801831789, -0.004604885031597316],\n",
       " [0.03755037301720302, -0.06734807029162265, -0.0277164180763833],\n",
       " [0.03748907553330947, -0.06133680637331869, -0.022214520305700716],\n",
       " [0.35776110889750107, 0.04662466214474756, -0.018973001115359826],\n",
       " [0.3750716316506758, 0.11006829773730088, -0.029052610963954343],\n",
       " [0.0669586684770511, -0.12765521482150832, -0.016510256098732513],\n",
       " [0.20717950132512422, -0.06889117075680898, -0.01799624024782902],\n",
       " [0.020867521053267835, -0.03612848443326922, -0.012056440522709527],\n",
       " [0.2542969100013325, 0.02645820501252253, 0.08411914640443013],\n",
       " [0.024547814659313317, -0.0394855263377191, -0.028181280538338446],\n",
       " [0.0674990633337442, -0.11496198617676257, -0.03933895168383885],\n",
       " [0.007767732252612139, -0.004560819130184158, -0.005692139047804555],\n",
       " [0.05337324643816072, -0.09948611003278232, -0.011130291640383932],\n",
       " [0.0005605796409667947, -0.0022617523392547065, -0.0013351273205059124],\n",
       " [0.039411452039894275, -0.07529193207134136, -0.029019281875084093],\n",
       " [0.4264064570414581, 0.21996588679877285, 0.0016948375493523868],\n",
       " [0.05105834214848917, -0.09484616902671097, -0.01674202951820808],\n",
       " [0.05484419042420773, -0.10199409357833022, -0.019789468967479518],\n",
       " [0.030736680176305844, -0.05212843523596242, -0.00010964730494292702],\n",
       " [0.06028897815750198, -0.10797827868222527, -0.009987224004868126],\n",
       " [0.11031789637906797, -0.20682510698722908, 0.19905472473742614],\n",
       " [0.031959691562975096, -0.04593495974781522, -0.015058678693270967],\n",
       " [0.031609487189524416, -0.058810899505543454, -0.022770101832315478],\n",
       " [0.005510705870655162, -0.009371254263219766, 0.009163499745178315],\n",
       " [0.2192760036886599, -0.0028928738321109277, -0.009381274764360162],\n",
       " [0.021663224990950622, -0.03291468555851695, -0.010999125125917351],\n",
       " [0.22337617686820077, 0.07440685892634992, -0.010240325453971522],\n",
       " [0.004916131992164829, -0.004533378299885039, -0.0015074992733870624],\n",
       " [0.04210726036061186, -0.0790889011074849, 0.06400810700291458],\n",
       " [0.09375271029010206, -0.17326619319122635, -0.052779142483634106],\n",
       " [0.04721563097804732, -0.0968641592957347, -0.0197289712084173],\n",
       " [0.0022658533032492044, -0.0019374336222096077, -0.002568744738076659],\n",
       " [0.01159444726871635, -0.024477279552169443, -0.01703381050096698],\n",
       " [0.2322262511660846, 0.035361965617221505, -0.018622175427809144],\n",
       " [0.19278845801121522, -0.02992065783753744, -0.028922346795567176],\n",
       " [0.07542496845756998, -0.13795821027721084, 0.09764196427292672],\n",
       " [0.15642643395464423, 0.005615612619204219, -0.015862639969641247],\n",
       " [0.0747177605321586, -0.1483724237294902, -0.022341264207396724],\n",
       " [0.057886030435678304, -0.10409885602920893, -0.013047208099601968],\n",
       " [0.1045516602129268, -0.19754271496930267, -0.025401510759408715],\n",
       " [0.04441477496696804, -0.08268087872132555, -0.0183331887313757],\n",
       " [0.03661833763596507, -0.06580126606073737, -0.019421922782894813],\n",
       " [0.02352632340118722, -0.04726701956117489, -0.003163538781595944],\n",
       " [0.06302767615131533, -0.10437128009587227, -0.011268500242488108],\n",
       " [0.06528633349898903, -0.12701830439263193, -0.03791873570349824],\n",
       " [0.170037883192275, -0.05418995850149152, -0.007565748572053473],\n",
       " [0.06606957408840503, -0.12300233782390774, -0.010066940501866664],\n",
       " [0.04653977972923355, -0.08243082388069044, -0.010999962699538839],\n",
       " [0.010039959576745689, -0.02362641429226087, 0.004821602457039174],\n",
       " [0.06661624343122882, -0.11532463537748716, -0.0287534561921563],\n",
       " [0.029468017190285987, -0.0360832341083882, -0.013327705995809841],\n",
       " [0.03957337735617635, -0.05650196061214141, 0.07253142214520523],\n",
       " [0.2516300547838802, 0.0073788415924154055, -0.016622183911458636],\n",
       " [0.019905076932036057, -0.04226065959132257, 0.002047401735939123],\n",
       " [0.05357187945266307, -0.09153902107608917, -0.04034667678959805],\n",
       " [0.10219605420138032, -0.19702688306355393, 0.053434805645675564],\n",
       " [0.05908516768556959, -0.10790683074860412, -0.04906202283358988],\n",
       " [0.07340983349924825, -0.13168421263978658, 0.41642989358449184],\n",
       " [0.010817404421884166, -0.016678430370397034, -0.008015947128169427],\n",
       " [0.0832588309526847, -0.14863840005209975, -0.05712234607542531],\n",
       " [0.07520114628512717, -0.13587581443912122, -0.07541666863486901],\n",
       " [0.5136792964140209, 0.11518683050938844, 0.08440348688401396],\n",
       " [0.03182815872097537, -0.06652711555921179, -0.05143557973586736],\n",
       " [0.028502184471201113, -0.04354887794685053, -0.03557612226233036],\n",
       " [0.4523115663731189, 0.016350764225691213, -0.03130178193999056],\n",
       " [0.04990502261971461, -0.09385312911176849, -0.03034207294235099],\n",
       " [0.04294783602520438, -0.07724844541854316, -0.03438829689363454],\n",
       " [0.12530445532443082, 0.011379915645672556, -0.02506814038402023],\n",
       " [0.021382396745760437, -0.021007792707203016, -0.011718265411072345],\n",
       " [0.06594920260044763, -0.13390411127952043, -0.02588218571003716],\n",
       " [0.02537150355789022, -0.04280346998512678, -0.01302371132991818],\n",
       " [0.398295105587976, 0.13545497541329382, -0.00259926226041823],\n",
       " [0.04120803402931946, -0.056860860079940206, -0.03516134359758595],\n",
       " [0.10654012931783349, -0.201839663006065, -0.026705868636230867],\n",
       " [0.03505919116934259, -0.06266230347453378, -0.0151381348206043],\n",
       " [0.13339361034523703, -0.27193025162758366, -0.045676727926639404],\n",
       " [0.019824685973543695, -0.0272780893666847, -0.023628156463846008],\n",
       " [0.5106681798792319, 0.23027175660860796, 0.020389312483068564],\n",
       " [0.00705427761647736, -0.010122034518798903, 0.00865793535277698],\n",
       " [0.25675627579055743, 0.1012569950232318, -0.006943252632714204],\n",
       " [0.057599849100870126, -0.09904885858343723, -0.035873359960042914],\n",
       " [0.029943093969516037, -0.051794682461309055, -0.0025478288079073637],\n",
       " [0.038705192334575485, -0.06752996585745405, -0.01859068774137962],\n",
       " [0.08187414395603668, -0.14599519364890426, -0.0129213201170217],\n",
       " [0.02827684281880227, -0.052651021521838134, 0.1273203736383855],\n",
       " [0.06427803077741963, -0.12791598883855504, -0.02033673310150854],\n",
       " [0.02486370522379367, -0.03594256696678989, -0.019153418869273107],\n",
       " [0.04378042167148262, -0.04492741637418567, -0.018213574491197863],\n",
       " [0.10220453551252427, -0.1988958290552105, 0.31716222347757766],\n",
       " [0.14865584048523378, 0.0356748221440535, -0.016687616297186552],\n",
       " [0.017834572109385688, -0.04367427538503769, 0.003246187145962978],\n",
       " [0.08865752639135274, -0.16113884943403736, -0.021327544455206463],\n",
       " [0.031061928164326548, -0.05005611221030578, -0.030994640680883513],\n",
       " [0.05321431462690162, -0.08126299568465564, -0.013110099806101182],\n",
       " [0.02812575566782147, -0.05366967305043839, -0.012140300717232079],\n",
       " [0.2086944645272101, -0.01954024664788395, -0.03471808864800586],\n",
       " [0.014749336336685718, -0.025349657530572375, 0.006652083020787095],\n",
       " [0.0459651440328565, -0.09058731727240267, -0.01877944946896983],\n",
       " [0.03497442435084454, -0.06798759399499314, 0.14932249948034776],\n",
       " [0.0411252704264948, -0.07006102287708094, -0.03232288310645538],\n",
       " [0.031242926148248577, -0.043156163578236255, -0.007026683505006863],\n",
       " [0.013376841346335697, -0.02534214253703433, -0.007455629143728528],\n",
       " [0.047642024193985916, -0.08765821862435812, -0.019989842476921656],\n",
       " [0.03998429482092332, -0.07010566230811768, 0.08180483535292682],\n",
       " [0.055722849142396086, -0.07876037129270716, -0.07007916929369648],\n",
       " [0.12411461309392255, -0.23055882761739763, -0.04139099238563988],\n",
       " [0.00615805983770008, -0.010334604239925688, -0.0051618037028872184],\n",
       " [0.03711203700469426, -0.07632349306857028, -0.00012930481088197464],\n",
       " [0.028996778364396063, -0.04018510624298709, -0.01100327188425161],\n",
       " [0.012568420412428411, -0.02558285894992423, 0.0045065948245906085],\n",
       " [0.012104871855753957, -0.02107770126294813, -0.008911629110527832],\n",
       " [0.028451474096416955, -0.0651038780572124, 0.011528858330619118],\n",
       " [0.03468015687800338, -0.04914563980901363, -0.006468358918889597],\n",
       " [0.04970699587393519, -0.0859286607875706, -0.022019936796617654],\n",
       " [0.04576331961692903, -0.06322345953858072, -0.01799742253998487],\n",
       " [0.04611968252599154, -0.07219461808227709, 0.009291914141315553],\n",
       " [0.04605403651776138, -0.08713732721829734, 0.077540938221807],\n",
       " [0.02631609504089304, -0.041727855586905824, -0.020892963158813078],\n",
       " [0.021370998420667704, -0.03468037006075053, -0.008741785315714814],\n",
       " [0.07804796790376899, -0.1356407838695416, -0.033281883026531976],\n",
       " [0.054447290549963195, -0.09844698234512043, -0.004290563100641791],\n",
       " [0.06952471068296918, -0.15614908681373488, 0.007415625418161493],\n",
       " [0.01586982890634861, -0.022820126057573838, -0.0020054469645344646],\n",
       " [0.03500294699069764, -0.06418603421492777, -0.004865138290443763],\n",
       " [0.008770424052582122, -0.009840501171788392, -0.007413412266116186],\n",
       " [0.009183158083033414, -0.01840504913966668, -0.008176197912519157],\n",
       " [0.31508407325386456, 0.15177265024525086, 0.006280810931823717],\n",
       " [0.06755896957827887, -0.13045402618425592, -0.021377953123225],\n",
       " [0.01925627376468868, -0.03334152243030544, -0.013866192648474957],\n",
       " [0.056937234675022055, -0.10860764800430191, -0.05816484740131061],\n",
       " [0.055174383106743566, -0.09932993877478857, -0.04985857469526921],\n",
       " [0.06916598687536607, -0.14779728638235376, 0.28232829563851664],\n",
       " [0.2464584280280611, 0.10618056519619097, -0.0074534420493065166],\n",
       " [0.007440798056193825, -0.011142323149760712, -0.0054501486927891665],\n",
       " [0.06839231434699757, -0.12184401993518545, 0.10972143533131072],\n",
       " [0.20189766941348025, -0.006854085818856525, -0.0357636444338889],\n",
       " [0.37086896985681017, 0.06387790448554997, 0.07535594937870399],\n",
       " [0.0032437056635256237, -0.008733792233873461, -0.006287107294648606],\n",
       " [0.030943860347817834, -0.06824655819248934, -0.001176553422459119],\n",
       " [0.06568418095144611, -0.1461661864459221, 0.6831316295207152],\n",
       " [0.05556508931403793, -0.0984496650740257, -0.00345958063623473],\n",
       " [0.046308888852472675, -0.08914382495904652, -0.020107321261414436],\n",
       " [0.09605580788044925, -0.188876414944686, -0.0635418077319062],\n",
       " [0.09289868156843749, -0.184741746623848, -0.06870642537186634],\n",
       " [0.034058673468361646, -0.04635002054603903, -0.011565246805163944],\n",
       " [0.02294099619327596, -0.037951583097901996, -0.014916790504689548],\n",
       " [0.04086497391650387, -0.07545770783730518, -0.04913422684199514],\n",
       " [0.04658095334384712, -0.08748320183544497, -0.040365412520606485],\n",
       " [0.03135343155720022, -0.05022611929835117, -0.01539636297358074],\n",
       " [0.0586903675876987, -0.1004150747194029, -0.029635101988232736],\n",
       " [0.021293854547091706, -0.03895308757906723, 0.010826790848790117],\n",
       " [0.03633992110950809, -0.07020439911824472, -0.020371570820033293],\n",
       " [0.03396653696446349, -0.049042829885334406, 0.07171616481697489],\n",
       " [0.21474284467808305, -0.011208484664666068, -0.017400188462535895],\n",
       " [0.03120481261660368, -0.0506974138086678, -0.007438771403803444],\n",
       " [0.05167969216957212, -0.09996018799285292, -0.049522141788652184],\n",
       " [0.03558980146128312, -0.055743391348021074, -0.01586481677186529],\n",
       " [0.08672063012736723, -0.16839298995290958, -0.014731288536684607],\n",
       " [0.29168777480499347, 0.010748054556946354, 0.2419174787245168],\n",
       " [0.029866766460159823, -0.04448580903104677, -0.02431881660585283],\n",
       " [0.03423016124877825, -0.04716762761585955, -0.040894822576791126],\n",
       " [0.06685477177949826, -0.12677486727770731, -0.06516358175731557],\n",
       " [0.04214580144402343, -0.06979262924906629, -0.010786415118657272],\n",
       " [0.050172778599291756, -0.09979635268239669, -0.0039703699893882],\n",
       " [0.043801438614925914, -0.09182549622427731, -0.032621950167474115],\n",
       " [0.1053803801881745, -0.2123057210440948, -0.05305840871038589],\n",
       " [0.06265976235113828, -0.10447198056024745, -0.036234642455055095],\n",
       " [0.05423187640262179, -0.08189837869402393, -0.030540259662365163],\n",
       " [0.04669097032794501, -0.07997664229662363, -0.03719998835417162],\n",
       " [0.008627692647289902, -0.013803898052558869, 0.013197524689334425],\n",
       " [0.04715529324956909, -0.07530627011537777, -0.02041551377558805],\n",
       " [0.01601453760276194, -0.024892064851282817, -0.00237176620660535],\n",
       " [0.046751594123424216, -0.07377301751219652, -0.012203631612665775],\n",
       " [0.026359534893674003, -0.05177052317522557, -0.03581034002925151],\n",
       " [0.0732632790604931, -0.13504606591015242, -0.015604469632816878],\n",
       " [0.013209079666924249, -0.009909332675082016, -0.008897675687811099],\n",
       " [0.2505702856224684, 0.10503770740545006, -0.0136704914095255],\n",
       " [0.4093278137240236, 0.1960933723919628, 0.011399602096521319],\n",
       " [0.03250362679456141, -0.048611144619367025, -0.02429308883048679],\n",
       " [0.060994114510782356, -0.1062706183496509, -0.03554784312641396],\n",
       " [0.06975631793549239, -0.13510397153862885, -0.04298044855375225],\n",
       " [0.05239801954471618, -0.09453943290739544, -0.032080771093760826],\n",
       " [0.05324393636753099, -0.1066372059108953, 0.15414696553056678],\n",
       " [0.051238565763641074, -0.08090008087509397, -0.02408526220369229],\n",
       " [0.17788524972920344, 0.030509955120120492, -0.0147747667040962],\n",
       " [0.03367696367211275, -0.04545039733560212, -0.010355816478573199],\n",
       " [0.010878149505799135, -0.015427864591474027, -0.002469084272593259],\n",
       " [0.04298438300014308, -0.05736964349181657, -0.03450122545826658],\n",
       " [0.04405323576951891, -0.0619215875985809, -0.06582161985241726],\n",
       " [0.08319844894236297, -0.15275867063295426, -0.05611267289519218],\n",
       " [0.05478362790683827, -0.10267064684988289, 0.15133895708472142],\n",
       " [0.04642500873728388, -0.06678348837351511, -0.03704865823782192],\n",
       " [0.05777702099325861, -0.09398761156256175, -0.009465486619808672],\n",
       " [0.04405481578143171, -0.05982192776259895, -0.019239663091298674],\n",
       " [0.049303516889151716, -0.10550975398263618, -0.025678564471926187],\n",
       " [0.015433942125892174, -0.026588452752138447, -0.02169648668933753],\n",
       " [0.25837570978489904, 0.07139024338560829, 0.02230110656721845],\n",
       " [0.02492514076531377, -0.0497837268476337, 0.005308199823409965],\n",
       " [0.041108082313756934, -0.08587591750686166, -0.03568334552154556],\n",
       " [0.040133438934814705, -0.07225586151936086, -0.022496952999260425],\n",
       " [0.04936858260956082, -0.07684878507294728, -0.01935123652019871],\n",
       " [0.038918274803983625, -0.07952340766613711, -0.023077801835113883],\n",
       " [0.00953222252209626, -0.015408818602868982, -0.010278697777364081],\n",
       " [0.08972508340110567, -0.18644855388916245, -0.036916422094859326],\n",
       " [0.07358711519509092, -0.14166944958548058, -0.02532846434191432],\n",
       " [0.04889318407427877, -0.09281067278387604, -0.01939113834407772],\n",
       " [0.032112896718130404, -0.053481823190214994, -0.01594622019105271],\n",
       " [0.3495482341145565, -0.04931370950954124, 0.229886032004477],\n",
       " [0.09465431729003546, -0.19813643635943035, 0.23076146077272672],\n",
       " [0.06186015744058891, -0.12534752630374743, 0.11462575121831016],\n",
       " [0.02473708220100898, -0.03773403869195771, -0.007098235970275408],\n",
       " [0.018780970736144723, -0.02548038105722552, -0.017012529207916967],\n",
       " [0.03959091010397064, -0.05660489478458555, -0.027868233587694573],\n",
       " [0.011481556184371945, -0.020685783574272622, -0.014383001346247933],\n",
       " [0.0387156824404973, -0.07021718571624225, -0.0029677728056056764],\n",
       " [0.02619433858859581, -0.05282529584370396, -0.01587036187994281],\n",
       " [0.03537310516503244, -0.06607740662342385, -7.006108267168585e-05],\n",
       " [0.004031012448413622, -0.0023034974576609116, -0.000662129243159629],\n",
       " [0.11000583434561854, -0.030974591338012565, -0.01084180849331129],\n",
       " [0.05559335940248049, -0.10403468089818074, -0.05043575231053497],\n",
       " [0.0010862893637313617, -0.0009468501189998896, -0.0017609419005841292],\n",
       " [0.01486195303254621, -0.02489948143254854, -0.013784978330812565],\n",
       " [0.011707855224083914, -0.014088669165293452, 0.002087323781438751],\n",
       " [0.023615948164666316, -0.03205579077598, -0.013427752485206237],\n",
       " [0.24179160625507476, 0.03863702192570455, -0.02091166557651851],\n",
       " [0.2742144240060463, -0.11814956322962643, 0.2515639359466341],\n",
       " [0.184877846587637, -0.019720908796558856, -0.037300143576964255],\n",
       " [0.060437411755476525, -0.10577079094199872, -0.02540507149559095],\n",
       " [0.023261123216942313, -0.033615897043413154, -0.011884881251477556],\n",
       " [0.001960084427268566, -0.005827496943131484, -0.003981347546123029],\n",
       " [0.040142399772377504, -0.06518941795108031, -0.025079373383589877],\n",
       " [0.06619433311397632, -0.12460559006635033, 0.15292594214260832],\n",
       " [0.03622628201288668, -0.0508560694430983, -0.01939500060906202],\n",
       " [0.06859390287069857, -0.12366628892813478, -0.035375337161145964],\n",
       " [0.05661338808128955, -0.09824795945493016, -0.063177364423874],\n",
       " [0.07495815680434445, -0.14194268727280246, -0.08442458213840809],\n",
       " [0.06353304643492738, -0.10584414613986837, -0.06403967805530004],\n",
       " [0.024049406512890715, -0.04299804970176625, -0.03551619700328575],\n",
       " [0.03568801221092567, -0.07742702153571965, 0.3615998982600736],\n",
       " [0.039992735837171965, -0.07905227847004448, -0.010383383735155993],\n",
       " [0.060871642099068535, -0.09741202560011933, -0.05638136368573762],\n",
       " [0.03281649152799325, -0.06288649197549365, 0.00034497197927933646],\n",
       " [0.04342944563941842, -0.08527654209223595, 0.1858032663159878],\n",
       " [0.046512422496427876, -0.0935179522922089, 0.21503617236740807],\n",
       " [0.24832844994080577, 0.057825939210484525, -0.02684910006500414],\n",
       " [0.045656458449847635, -0.08608677505603879, -0.012320421626906611],\n",
       " [0.033836281685315855, -0.05713563173437067, -0.04802567571727577],\n",
       " [0.21300731667959308, 0.02216803876350885, -0.043389942891627044],\n",
       " [0.06156363037230389, -0.11887875378737371, -0.04165005479769794],\n",
       " [0.0447896646642639, -0.07264978621274419, -0.051428620048854734],\n",
       " [0.015648342988834326, -0.017037050470130398, -0.017897784031429394],\n",
       " [0.041409470227283245, -0.07964913106190402, -0.013509255970336174],\n",
       " [0.36146273245676175, 0.024137301047659262, -0.032828255383355],\n",
       " [0.019230712023693464, -0.036474594524589704, -0.02277552255119314],\n",
       " [0.3078656784666348, 0.011570461397756061, -0.0341751861477109],\n",
       " [0.051060486704778814, -0.09806830722660606, 0.1429423370371885],\n",
       " [0.43966959331650923, 0.15591811463604244, -0.016884771302023722],\n",
       " [0.02428156883489143, -0.041900420235332005, -0.01310041440316711],\n",
       " [0.05488449584184299, -0.10394156365841323, -0.030270573506632887],\n",
       " [0.03989891636737635, -0.06796667661731223, -0.03768830340363726],\n",
       " [0.038953678172926526, -0.06467083465449583, -0.00831491615254805],\n",
       " [0.054851384324939655, -0.09119149103223158, -0.03344235718313006],\n",
       " [0.028599143782316615, -0.04550279081470675, 0.0013117184892424546],\n",
       " [0.036277167675798694, -0.06501523544741877, -0.024987268316235205],\n",
       " [0.050965100460475844, -0.08924095855476226, -0.016420324904981836],\n",
       " [0.06123205331460703, -0.13067149223528246, 0.20998041708347995],\n",
       " [0.0019621503987225313, -0.003066024461342537, -0.002267304083830988],\n",
       " [0.023694436439559596, -0.033592144911678036, -0.019753714560576965],\n",
       " [0.03283278684748329, -0.052596645401023046, -0.016096166525043854],\n",
       " [0.029134751437547783, -0.04153777200185979, -0.01535698702209728],\n",
       " [0.20576190807952904, 0.032939599170679394, -0.0012337045661392583],\n",
       " [0.01669907197672243, -0.032354709167786336, -0.009155471321668513],\n",
       " [0.05137523240276154, -0.10263017264452061, -0.029465118212564298],\n",
       " [0.04327222562705667, -0.07690049774767019, -0.029034748183693265],\n",
       " [0.028973024660351267, -0.056609988835179474, -0.009842355488723144],\n",
       " [0.5964481151176328, 0.2914588601409877, 0.004244846530569973],\n",
       " [0.025579548938691098, -0.04221252988059204, -0.01106336968387215],\n",
       " [0.017317745618896, -0.029656603197610286, -0.016411224758234175],\n",
       " [0.043754841385486534, -0.08395142166669861, -0.05127183746408152],\n",
       " [0.08178811582912598, -0.16140554546735603, -0.03139495129375736],\n",
       " [0.10583949710305599, -0.2149120542167099, 0.14306338234031257],\n",
       " [0.07216824373178114, -0.12768851130799613, 0.08979765354293752],\n",
       " [0.025129032223007348, -0.0438337268246541, -0.03242809819193332],\n",
       " [0.01843145095956877, -0.024597436719651665, -0.008999441926133432],\n",
       " [0.057610011141794835, -0.08874232525695348, -0.016002509587802055],\n",
       " [0.3415450089198992, 0.08213300877492866, 0.0613615764280423],\n",
       " [0.010191798747563211, -0.02046419706182974, -0.00329386167739595],\n",
       " [0.020867605989969847, -0.03093070133101205, -0.014356224075022237],\n",
       " [0.18128824511963093, 0.0032494419849420806, -0.026201318387258764],\n",
       " [0.042560923465105205, -0.0830972145609172, -0.048602556301442855],\n",
       " [0.04220316041826727, -0.06677205238835143, -0.010952933113135103],\n",
       " [0.03830874439783263, -0.06810865698680771, -0.025502030129268417],\n",
       " [0.22013118415341004, 0.023404079103575382, -0.03111888437264441],\n",
       " [0.03622215844360396, -0.06682822417756226, -0.013237818744337913],\n",
       " [0.02936723454365781, -0.0511791727030969, -0.020530572481666776],\n",
       " [0.05527148388841115, -0.10419969102851605, -0.02527253668449278],\n",
       " [0.07106817089056172, -0.113002703957988, -0.03235214863142545],\n",
       " [0.0390265424685803, -0.07990900840020651, 0.15550853593470174],\n",
       " [0.22826396239838548, 0.034979920878608226, -0.006396348105649349],\n",
       " [0.24459467624287634, -0.04773161965854436, -0.03786501998347146],\n",
       " [0.00934377048523664, -0.010222994123745128, -0.00592957118868566],\n",
       " [0.21017624735487192, -0.010982826722423384, -0.022228166426667643],\n",
       " [0.009797973481185517, -0.013006507115124417, -0.010094545208425235],\n",
       " [0.06663114808169765, -0.12106069749907719, -0.04107292115949799],\n",
       " [0.04902499137992197, -0.09787310234466051, -0.0513265806024272],\n",
       " [0.05643568051624635, -0.10726880107108676, -0.022212831682910973],\n",
       " [0.2406132734583126, 0.05389273545240472, -0.03173343908532453],\n",
       " [0.25732066871419174, 0.10072707424214812, 0.0020064681653016296],\n",
       " [0.033960675506039, -0.05549026780988935, -0.024684550844057167],\n",
       " [0.0418355092002233, -0.08865161835409954, 0.14059464547686237],\n",
       " [0.028587692946026, -0.04824450233338429, 0.10718789180405025],\n",
       " [0.1707713789557318, 0.03784002785932946, -0.004621499814943773],\n",
       " [0.019451037240319304, -0.035885618108982935, -0.017788082614720327],\n",
       " [0.04196373310277181, -0.06825841641921432, -0.03990486225320726],\n",
       " [0.07818515746633144, -0.15581252467693615, -0.08018072091201046],\n",
       " [0.04977811090630835, -0.10714062729609548, -0.0033596019861369926],\n",
       " [0.18154870688835395, 0.01854780177749863, -0.014806145973122445],\n",
       " [0.012567230115340014, -0.02240944335448887, -0.0024686577229660308],\n",
       " [0.062093541899526795, -0.0989623799279491, -0.030165256868155507],\n",
       " [0.09843871023761058, -0.17508334510470222, -0.05567911138974139],\n",
       " [0.020951429676215973, -0.049023044644523055, 0.01610653577665687],\n",
       " [0.0920025260376301, -0.17757035480426114, -0.02158155120542763],\n",
       " [0.080102463423376, -0.13736625891381918, -0.05629020846460338],\n",
       " [0.032043341655438914, -0.030812427604732216, -0.023544953110937274],\n",
       " [0.06469725360824806, -0.10650178409695249, -0.03850167015217097],\n",
       " [0.05987435041054713, -0.10646778136934228, -0.05473838550142434],\n",
       " [0.023414075950914992, -0.03729890089016121, -0.002726141443381278],\n",
       " [0.04315304285971433, -0.0659173714555816, -0.007941402694882086],\n",
       " [0.03526388619289053, -0.06220403579513746, -0.03238736784606539],\n",
       " [0.008844507441668212, -0.00701685690588715, -0.006594149430367667],\n",
       " [0.014027825972931013, -0.019551361791025713, -0.002068333081296535],\n",
       " [0.25435791542925346, -0.09972944790216322, -0.05259847729492302],\n",
       " [0.040494928620954725, -0.07348204520990027, -0.032722467701043374],\n",
       " [0.3133434080539077, 0.11266421572252286, 0.008336694860563116],\n",
       " [0.3288559033540548, 0.1131488915256668, 0.004638266826247465],\n",
       " [0.06481336523385607, -0.12712869696620147, -0.03730972363520424],\n",
       " [0.04534784698440765, -0.08768534455714787, -0.02522769701947333],\n",
       " [0.020931576272838745, -0.035660858713274964, -0.022350096780535643],\n",
       " [0.026679548716865675, -0.03512217762196133, -0.008979993029531912],\n",
       " [0.34421809136014514, 0.09175979481642789, 0.15134875158365146],\n",
       " [0.029115917021735976, -0.04760291256274572, -0.02118779527595038],\n",
       " [0.010040797780419452, -0.01236099539774219, -0.004654521627407529],\n",
       " [0.0966525714620545, -0.18440692701020303, -0.0949101621999885],\n",
       " [0.048849936316788765, -0.0741404540799828, -0.028507496715919987],\n",
       " [0.03121648358807395, -0.05136497638562609, -0.026779444421001882],\n",
       " [0.03382599184492987, -0.06976878487207508, -0.02473034856826549],\n",
       " [0.03210006421758616, -0.06749169159549957, -0.036100575328352],\n",
       " [0.06471407887896401, -0.1288380983472646, -0.025186822933396392],\n",
       " [0.05028962570590423, -0.09339446476198823, -0.05060382460050631],\n",
       " [0.08649832029578855, -0.16324125351067953, -0.07428771451138301],\n",
       " [0.06262778992133372, -0.12028438032548973, -0.0660411722666571],\n",
       " [0.05458992421432762, -0.09570020768920562, -0.029305097217256028],\n",
       " [0.39166404841206137, 0.0794856241351336, -0.06282690452436611],\n",
       " [0.03133709448695174, -0.057011828872175034, -0.01912284791380611],\n",
       " [0.21777905601228484, 0.04293283449394609, -0.016393460478519924],\n",
       " [0.030492138602819574, -0.04360577540419061, -0.024146206109161187],\n",
       " [0.42646215342690114, -0.0273477170425103, 0.128021416782004],\n",
       " [0.03886481257625778, -0.05654132744801716, -0.012591767480215522],\n",
       " [0.026900162106683525, -0.04598494807204862, -0.02729572462637525],\n",
       " [0.02649399496764758, -0.04881871661539956, 0.1589729197142186],\n",
       " [0.2941989934328619, -0.029607233644248273, -0.06907752119964145],\n",
       " [0.03271113532813218, -0.0625065647668045, -0.02538302315979654],\n",
       " [0.06879901852435027, -0.10747394845157869, 0.14406104162413386],\n",
       " [0.026073310972025254, -0.04091008774190907, -0.01753754859305007],\n",
       " [0.07052726419570295, -0.12192777960763342, -0.025140792248547292],\n",
       " [0.06400342196184775, -0.14889386426926, 0.5672861011920698],\n",
       " [0.052748918228626776, -0.10583397811708091, -0.016060005466189266],\n",
       " [0.07601550028898044, -0.1376333048410633, -0.04841866973853741],\n",
       " [0.2565913274783659, 0.07373019027408054, -0.003053014319809733],\n",
       " [0.017626971132133972, -0.019940241500333546, -0.011810541510836584],\n",
       " [0.050373586242407654, -0.08123676593750663, -0.011351900190472448],\n",
       " [0.2477182456363086, -0.08855403584233522, -0.05358707423970416],\n",
       " [0.5190059874553696, 0.17976866304234487, -0.02040194054018636],\n",
       " [0.0030314862126882003, 0.0013663161976648643, -0.0007418320640746357],\n",
       " [0.01828695585651207, -0.0135803090960778, 0.005893112050461705],\n",
       " [0.03392805573899113, -0.06252326386972017, -0.022528697000741515],\n",
       " [0.05310263964547082, -0.09682185897414997, -0.038472880347688754],\n",
       " [0.051810375387332755, -0.08850929641282619, -0.031549493233046774],\n",
       " [0.6217505334599955, 0.1290418153125052, -0.04469332824489787],\n",
       " [0.06207115776336734, -0.10553854113029165, 0.0020093827048917497],\n",
       " [0.3623212990490862, 0.14614736066382294, 0.009362837457168174],\n",
       " [0.020944849913173427, -0.04524617008530926, 0.001340471088633428],\n",
       " [0.04204873836217279, -0.0714101426456931, -0.0055821747913542006],\n",
       " [0.007652737164452275, -0.017220141366347422, -0.010758125234701738],\n",
       " [0.048538848737136195, -0.10187438598133237, -0.005622833010446693],\n",
       " [0.028259048320496284, -0.05561608402584614, -0.020531265036541832],\n",
       " [0.05843003908370638, -0.11883589182413784, -0.04799461147389925],\n",
       " [0.003361562520507449, -0.006695319473633521, -0.003757602653553914],\n",
       " [0.07795663568617278, -0.15424982565275228, -0.04599075775882041],\n",
       " [0.059885469171663215, -0.1068307010731609, -0.032670453626725056],\n",
       " [0.02955139997134647, -0.04570453796150168, -0.03044955037256459],\n",
       " [0.06622008167187213, -0.11383736403814439, -0.06547920047321602],\n",
       " [0.0659969101755881, -0.13447508678750494, -0.053022906744178734],\n",
       " [0.32230926908723156, 0.09822187667629935, -0.006440706777347376],\n",
       " [0.09340395004117807, -0.1774641940003864, -0.0219074605713172],\n",
       " [0.056672492555389246, -0.08407459311955139, -0.04718155334940888],\n",
       " [0.026940733908071043, -0.050624487817689356, -0.0007282552483657708],\n",
       " [0.011525601325873514, -0.020180637232402127, -0.011562675844407051],\n",
       " [0.03449893387673058, -0.05244051648514988, -0.009248539214488365],\n",
       " [0.019503542884094553, -0.030521372086342355, -0.004751782961178124],\n",
       " [0.13972846847546266, 0.0269275888605022, -0.0011832406281285768],\n",
       " [0.24868900010275385, 0.13491652907447754, 0.005236496707197688],\n",
       " [0.023891333043143594, -0.035843278658538605, -0.03791757383279435],\n",
       " [0.04199309510292586, -0.07160164284817358, -0.02286391465503703],\n",
       " [0.017879035852457207, -0.030745158736257938, -0.016282179290871],\n",
       " [0.06324054203853964, -0.12173676562417012, 0.1101368389689963],\n",
       " [0.011555368504840352, -0.025800458726051658, -0.0023528249747310367],\n",
       " [0.044132654121537655, -0.07855903319859621, -0.030260404738178436],\n",
       " [0.034087012851420385, -0.06246979361840656, -0.02385811474777262],\n",
       " [0.04082719500243436, -0.08335230818883176, -0.00478067487309269],\n",
       " [0.01906087385050459, -0.02375615153567351, 0.005899100978763553],\n",
       " [0.0058606593234964855, -0.01271135059608253, -0.00032331384367911267],\n",
       " [0.0034621699765723787, -0.00527770460188923, -0.0034008049513405214],\n",
       " [0.04405324551599536, -0.07794030545250381, -0.014888088777933565],\n",
       " [0.2139548082790157, -0.04597606238927347, -0.028672862453464412],\n",
       " [0.046240396065637075, -0.1011500501003616, -0.01719623964193447],\n",
       " [0.03510637329786267, -0.07268835400672338, -0.01059171730859277],\n",
       " [0.07505408321267831, -0.1505616367042548, -0.002186924301155399],\n",
       " [0.02448536481675198, -0.034837897978022773, -0.014200842631037016],\n",
       " [0.06318403591990988, -0.11999400224984064, 0.1752741675343925],\n",
       " [0.37733562244791896, 0.13260752075094875, -0.01203786987436475],\n",
       " [0.019310910235755915, -0.032208346633918805, -0.015146504580036498],\n",
       " [0.05601719793163451, -0.09801969281925264, 0.05319886227218243],\n",
       " [0.04663322349018409, -0.07539299611985434, 0.012598321237672733],\n",
       " [0.04374900668725809, -0.07002596610069951, -0.040166928166058075],\n",
       " [0.045691248454139445, -0.08415533617075174, -0.018831189403898257],\n",
       " [0.046642859426522805, -0.10377905721577282, 0.445016496728975],\n",
       " [0.01397577735536309, -0.015947642268197303, -0.008097206681896837],\n",
       " [0.04288366773288941, -0.07170171784038705, -0.020642894185712593],\n",
       " [0.03505592485167265, -0.05640939945175486, 0.006921178838507262],\n",
       " [0.019587167816484067, -0.027708430447747484, -0.01931359013689242],\n",
       " [0.05906164469492701, -0.11727095264462578, -0.023237106277869318],\n",
       " [0.011193544518737303, -0.016589378089854136, 0.00028374387439329045],\n",
       " [0.01906628158262242, -0.03803526223375282, -0.01852811989421902],\n",
       " [0.04287610339962268, -0.06266967844774231, -0.05329435728845343],\n",
       " [0.3007889139098322, 0.00945573238854853, -0.017263041169673806],\n",
       " [0.028810337031319477, -0.04520649852196489, -0.012336153392648323],\n",
       " [0.3006268695128287, 0.062342184866782564, -0.021634955166374766],\n",
       " [0.042825703609504835, -0.07159503107511705, -0.03249408841617046],\n",
       " [0.1907981896706376, 0.07576576530306685, -0.0017467644476687823],\n",
       " [0.05659844727355209, -0.09335969161689081, 0.11250716211074509],\n",
       " [0.030941295988506135, -0.056991936076683555, 0.002349985049069055],\n",
       " [0.3109632345553578, 0.11721348498005164, -0.00733860165419763],\n",
       " [0.018142633643813137, -0.030301202757618592, 0.009166646814166625],\n",
       " [0.00805491556612816, -0.01598081135900742, 0.0030316375784492098],\n",
       " [0.038757690229581976, -0.06410180624645051, -0.018053992646436645],\n",
       " [0.2327965720196535, 0.009517466126485076, 0.12134623015156085],\n",
       " [0.2733133437342775, 0.056115865296662744, -0.009972990050909741],\n",
       " [0.2682983632613306, 0.1086158896067258, 0.020509476732744135],\n",
       " [0.06917541864895162, -0.11840294302476234, 0.022349756519062368],\n",
       " [0.05144095070406244, -0.10302546863539734, -0.017690869416943016],\n",
       " [0.011944989378135653, -0.010008582691379482, -0.00742708504907394],\n",
       " [0.04130727941061683, -0.07891048801429698, 0.013159379037926884],\n",
       " [0.02867990534184216, -0.049105856301937735, -0.008406069299855542],\n",
       " [0.25829709844527843, 0.12351771709734173, 0.00241323440600626],\n",
       " [0.039419774585631825, -0.07607012002734599, -0.023521726541034026],\n",
       " [0.044461611331035496, -0.08273837971444618, -0.013331826189002801],\n",
       " [0.016862378253986905, -0.03605143173497966, -0.01577385906302988],\n",
       " [0.03746974229634455, -0.06199706629245353, -0.019014209992864864],\n",
       " [0.017512409791406912, -0.02739579101170719, -0.005397692409869932],\n",
       " [0.047153362530772014, -0.08955160775199733, -0.03405742395955194],\n",
       " [0.01600369357342971, -0.021702393742478697, -0.0016271511767126476],\n",
       " [0.04796246075285608, -0.09499824105357017, -0.011150482308621881],\n",
       " [0.3205341344118634, 0.1113570521809251, -0.014166361336675126],\n",
       " [0.05522647623700788, -0.10898456818632614, -0.01083532713074135],\n",
       " [0.005804656583165913, -0.013016144453681409, 0.040493806036588906],\n",
       " [0.017729422665503286, -0.03288198254521206, -0.017024937025361075],\n",
       " [0.04038324501921755, -0.0751687704291977, 0.03530277785138534],\n",
       " [0.012126369973288009, -0.02264687703254419, -0.014756135448602502],\n",
       " [0.048065575718450285, -0.09417986868268192, -0.0182743356169122],\n",
       " [0.07888826053496917, -0.15698057646268943, -0.06158625539615971],\n",
       " [0.040733750954457, -0.07474125843448488, -0.04553120491612982],\n",
       " [0.07290394972211035, -0.13468773423194555, -0.05644983814195982],\n",
       " [0.05075268489351923, -0.09353241287173104, -0.005021763261484666],\n",
       " [0.025795277262871036, -0.04066873999336902, -0.010015495104451811],\n",
       " [0.027536208179002073, -0.034621215720524526, -0.008670313431525842],\n",
       " [0.0326025852739442, -0.047603720037537066, -0.01986205134928981],\n",
       " [0.11179924142027525, -0.22719128879548295, 0.0990926418759795],\n",
       " [0.048402950305667186, -0.08177331120764858, 0.0012553733675433802],\n",
       " [0.22588376871218788, -0.032048021273048274, -0.04225984607032277],\n",
       " [0.06380091484185113, -0.11071911288006094, -0.012374009733054163],\n",
       " [0.2232977738195524, -0.02192310965885777, 0.005580315654920387],\n",
       " [0.12139851158773723, -0.23608017720086935, -0.057468480435572344],\n",
       " [0.05751808319343631, -0.10506311501170462, 0.08176590565347715],\n",
       " [0.030886778594365255, -0.05477320725692683, -0.0007004867353031977],\n",
       " [0.02730834191066021, -0.04961827396489099, -0.014959647744664666],\n",
       " [0.03037991204674968, -0.04858703275974535, -0.029097678823679737],\n",
       " [0.22236000577865658, 0.046280670587347715, -0.0107608736907157],\n",
       " [0.06214324915615372, -0.11497190389101308, 0.003616133243038707],\n",
       " [0.06401674660230668, -0.10592062937137475, -0.03495031794132656],\n",
       " [0.044343814822421716, -0.05823762639194383, -0.03297051465217707],\n",
       " [0.2091168961290126, -0.0007901620223600995, -0.03921124653927504],\n",
       " [0.07250164724121806, -0.13425721531196175, -0.016803816757416077],\n",
       " [0.03689331257771685, -0.06194622949477558, -0.015337425580000452],\n",
       " [0.027417705131863937, -0.04383252208539166, -0.020246530824269172],\n",
       " [0.08205605196098416, -0.15229787513247517, -0.03759094088569337],\n",
       " [0.06065801557551263, -0.11017544423743646, -0.03307480066217042],\n",
       " [0.41340610947398954, 0.03791440802794473, -0.037668723542395574],\n",
       " [0.06267937733755569, -0.12481380340246823, 0.0014396494391307833],\n",
       " [0.047905554916350575, -0.08678847887230905, -0.030913935192156662],\n",
       " [0.05814347533145621, -0.12072814903370765, -0.017382007672920863],\n",
       " [0.06589784169677954, -0.13282186519285344, -0.005852723168101611],\n",
       " [0.21715585499950998, 0.09977794043774192, -0.0009687703582767567],\n",
       " [0.017946174095122794, -0.03407813182914595, 0.0015247942398544073],\n",
       " [0.21725014706561876, -0.032027144325228886, 0.01694836150981644],\n",
       " [0.1445983745973311, -0.014169672948950052, -0.007622769808772924],\n",
       " [0.042286790559075145, -0.07146456808502241, -0.016553792744187706],\n",
       " [0.030735306625671338, -0.050842154655345626, -0.014680117421173037],\n",
       " [0.07329369365199047, -0.14854188763469373, -0.0662138326253261],\n",
       " [0.026953514526445226, -0.03969727041635471, -0.013650092310757736],\n",
       " [0.06007094318525027, -0.10202606005774774, -0.03265330236149067],\n",
       " [0.05144542438644563, -0.08091197292287865, -0.0336873764266048],\n",
       " [0.06264509932395589, -0.10494079305178929, -0.002409215231709459],\n",
       " [0.06424818082981114, -0.12284014773871839, -0.020480166455322777],\n",
       " [0.013278127120492467, -0.02128588279931091, 0.00816088685857939],\n",
       " [0.05857096794711314, -0.09804651695627602, -0.045903203099382735],\n",
       " [0.05967511568654746, -0.112045106085538, -0.07453260674368245],\n",
       " [0.0337252248023679, -0.06978159572393734, -0.0034438379879421447],\n",
       " [0.03267628382822209, -0.07204590239195052, -0.02837840579230449],\n",
       " [0.19675230569499785, 0.03935672553695766, 0.0893639662220276],\n",
       " [0.036222350022846, -0.04896062416826481, -0.018923997989163353],\n",
       " [0.03188187911860586, -0.04771533488587294, -0.02246757915607183],\n",
       " [0.08019216413060164, -0.15759996638319101, 0.2719305076517451],\n",
       " [0.04757676873725507, -0.09345789790701758, -0.018581182047774234],\n",
       " [0.048745248074925994, -0.08482435821308244, -0.024845530803369525],\n",
       " [0.041492044246135805, -0.06856309418768933, -0.013853693985569826],\n",
       " [0.04035448660287683, -0.07044569664623604, -0.01256864524872312],\n",
       " [0.029220206184937536, -0.04328712259971676, -0.0027819635333668153],\n",
       " [0.04477913955979527, -0.10148340481485314, -0.03952135623545144],\n",
       " [0.0514350091351904, -0.09466074983303102, -0.015447821971269458],\n",
       " [0.03849578102464005, -0.0632434315329936, -0.02251152735358664],\n",
       " [0.04645885687487173, -0.07766557885315148, -0.01597417839573588],\n",
       " [0.028329187236132425, -0.04822838595926099, 0.004850549042380466],\n",
       " [0.0204873268650828, -0.028293053614041257, -0.008566168069927601],\n",
       " [0.015112111685406266, -0.02115211603638007, -0.0033373165582635724],\n",
       " [0.03210738450172146, -0.061630764514316816, -0.013551866617414728],\n",
       " [0.0375047171212304, -0.06837436477970645, -0.03694173740566951],\n",
       " [0.21763313091612527, -0.030252343563759637, -0.05921288715237276],\n",
       " [0.07295288586954667, -0.11953488314212658, -0.04420615020667826],\n",
       " [0.19516934518689463, 0.04433710002201542, -0.021208220662290233],\n",
       " [0.02343721266909593, -0.0354422947008813, -0.02002761154838401],\n",
       " [0.014353204632741824, -0.025005936270390217, -0.0025016855485958884],\n",
       " [0.01981024916238915, -0.035713961618707185, -0.02119164517206705],\n",
       " [0.023835426715540065, -0.036786588981541433, -6.097953808693684e-05],\n",
       " [0.04014978816034928, -0.05365649329092754, -0.03129663671976973],\n",
       " [0.012444406175540644, -0.017216634145901414, -0.00528249178645528],\n",
       " [0.21459058428276748, 0.06358726467867092, -0.0005257310825596824],\n",
       " [0.009513497502372346, -0.017355245953632532, -0.0036509093015539233],\n",
       " [0.6626087598713037, 0.3500165270846033, 0.015357949292934407],\n",
       " [0.059465817582463804, -0.10295778085057546, -0.04023525241062654],\n",
       " [0.08567156699184497, -0.15550799961547862, 0.3460519509851586],\n",
       " [0.04535478995688295, -0.08179303795757177, -0.036594248684027594],\n",
       " [0.027555730025747835, -0.037070212359790494, -0.0019642313125123197],\n",
       " [0.0541455336128802, -0.11495679682699632, -0.03912668262444258],\n",
       " [0.02662084106495124, -0.05220740113095248, -0.031554810692405975],\n",
       " [0.05475257804294667, -0.11732090735494198, -0.0206074725707657],\n",
       " [0.01668216747054587, -0.030027984538797917, -0.010631294147922585],\n",
       " [0.06908553434380295, -0.1284330853450841, -0.0576036735936876],\n",
       " [0.013917808655761355, -0.025918877241816407, -0.007836148933136979],\n",
       " [0.05683365211588647, -0.1062140760550604, 0.04198604886059786],\n",
       " [0.06351479149199045, -0.12669640960947232, -0.06433118733828755],\n",
       " [0.020329321949246363, -0.03643808269091419, -0.013159630790462113],\n",
       " [0.029648864042526195, -0.05964396191892981, 0.1735084493776665],\n",
       " [0.032467398397656416, -0.05417406798480795, -0.013601387049245024],\n",
       " [0.014921289351195618, -0.02812815237287076, -0.015367288036986743],\n",
       " [0.18136085270827224, -0.048061518644559396, -0.01981417573893822],\n",
       " [0.11856174143592259, -0.19904950235957655, -0.04869288038610807],\n",
       " [0.06924228707332547, -0.13428305577638236, -0.02441874784601898],\n",
       " [0.07554730376926895, -0.13950478848416545, -0.07106951743626584],\n",
       " [0.020574143671460206, -0.03631018215133466, -0.027945169945179326],\n",
       " [0.01914659093367783, -0.030087373896518207, -0.013252464413561642],\n",
       " [0.029948367826244753, -0.05343958449738585, -0.0367914455773421],\n",
       " [0.00899873683750469, -0.01279020031952096, -0.0023181537120684033],\n",
       " [0.2898020162180336, 0.09623313732008582, -0.026521111230953145],\n",
       " [0.040670454695343576, -0.06899565611151273, -0.032551689327773296],\n",
       " [0.07453065534375236, -0.1511322100344762, 0.02450013938307314],\n",
       " [0.023147593583027374, -0.037146809628372496, -0.008997615239700198],\n",
       " [0.03279662729269528, -0.05380426753337833, -0.004765672914276429],\n",
       " [0.04922575261404041, -0.09680076004649647, 0.2424528040386244],\n",
       " [0.07065451708604178, -0.13505655777405146, -0.0347646494300271],\n",
       " [0.0005851397559857578, -0.0024086253049358532, -0.001394209842998421],\n",
       " [0.021265344919877995, -0.03723114267414808, -0.01768861223678061],\n",
       " [0.0018094919707806287, -0.003185301383998198, -0.0010378688131667292],\n",
       " [0.19858224848490938, -0.0458430714684347, -0.020384937440603372],\n",
       " [0.05068873942510237, -0.08570652379764694, -0.021417227577112632],\n",
       " [0.06179480740464829, -0.1101143177280844, -0.03186408327406942],\n",
       " [0.04772593267251687, -0.08103251941045411, -0.03252396956943146],\n",
       " ...]"
      ]
     },
     "execution_count": 24,
     "metadata": {},
     "output_type": "execute_result"
    }
   ],
   "source": [
    "lsa.transform(tfidf_doc_term_mat).tolist()"
   ]
  },
  {
   "cell_type": "code",
   "execution_count": 25,
   "id": "fca7a3e0",
   "metadata": {},
   "outputs": [],
   "source": [
    "topic1 = []\n",
    "topic2 = []\n",
    "topic3 = []\n",
    "for topic_list in lsa.transform(tfidf_doc_term_mat).tolist():\n",
    "    topic1.append(topic_list[0])\n",
    "    topic2.append(topic_list[1])\n",
    "    topic3.append(topic_list[2])"
   ]
  },
  {
   "cell_type": "code",
   "execution_count": 26,
   "id": "30ca28b9",
   "metadata": {},
   "outputs": [],
   "source": [
    "stack_overflow_df['topic1'] = topic1\n",
    "stack_overflow_df['topic2'] = topic2\n",
    "stack_overflow_df['topic3'] = topic3"
   ]
  },
  {
   "cell_type": "code",
   "execution_count": 27,
   "id": "058e188e",
   "metadata": {},
   "outputs": [
    {
     "data": {
      "text/html": [
       "<div>\n",
       "<style scoped>\n",
       "    .dataframe tbody tr th:only-of-type {\n",
       "        vertical-align: middle;\n",
       "    }\n",
       "\n",
       "    .dataframe tbody tr th {\n",
       "        vertical-align: top;\n",
       "    }\n",
       "\n",
       "    .dataframe thead th {\n",
       "        text-align: right;\n",
       "    }\n",
       "</style>\n",
       "<table border=\"1\" class=\"dataframe\">\n",
       "  <thead>\n",
       "    <tr style=\"text-align: right;\">\n",
       "      <th></th>\n",
       "      <th>text</th>\n",
       "      <th>c_label</th>\n",
       "      <th>neg_sentiment</th>\n",
       "      <th>topic1</th>\n",
       "      <th>topic2</th>\n",
       "      <th>topic3</th>\n",
       "    </tr>\n",
       "  </thead>\n",
       "  <tbody>\n",
       "    <tr>\n",
       "      <th>0</th>\n",
       "      <td>Yeah n't believe created console app good lord...</td>\n",
       "      <td>False</td>\n",
       "      <td>0.127</td>\n",
       "      <td>0.041856</td>\n",
       "      <td>-0.088504</td>\n",
       "      <td>-0.004840</td>\n",
       "    </tr>\n",
       "    <tr>\n",
       "      <th>1</th>\n",
       "      <td>help give details database using techniques vary</td>\n",
       "      <td>False</td>\n",
       "      <td>0.000</td>\n",
       "      <td>0.023583</td>\n",
       "      <td>-0.046590</td>\n",
       "      <td>-0.002936</td>\n",
       "    </tr>\n",
       "    <tr>\n",
       "      <th>2</th>\n",
       "      <td>infact Look first lines concat code problem co...</td>\n",
       "      <td>False</td>\n",
       "      <td>0.105</td>\n",
       "      <td>0.044889</td>\n",
       "      <td>-0.065462</td>\n",
       "      <td>-0.041794</td>\n",
       "    </tr>\n",
       "    <tr>\n",
       "      <th>3</th>\n",
       "      <td>`` Currently implemented using StringBuffer ``...</td>\n",
       "      <td>False</td>\n",
       "      <td>0.000</td>\n",
       "      <td>0.196010</td>\n",
       "      <td>0.046689</td>\n",
       "      <td>-0.011795</td>\n",
       "    </tr>\n",
       "    <tr>\n",
       "      <th>4</th>\n",
       "      <td>code fail .Distinct returns IEnumerable add .T...</td>\n",
       "      <td>False</td>\n",
       "      <td>0.189</td>\n",
       "      <td>0.026784</td>\n",
       "      <td>-0.048112</td>\n",
       "      <td>-0.040458</td>\n",
       "    </tr>\n",
       "  </tbody>\n",
       "</table>\n",
       "</div>"
      ],
      "text/plain": [
       "                                                text  c_label  neg_sentiment  \\\n",
       "0  Yeah n't believe created console app good lord...    False          0.127   \n",
       "1   help give details database using techniques vary    False          0.000   \n",
       "2  infact Look first lines concat code problem co...    False          0.105   \n",
       "3  `` Currently implemented using StringBuffer ``...    False          0.000   \n",
       "4  code fail .Distinct returns IEnumerable add .T...    False          0.189   \n",
       "\n",
       "     topic1    topic2    topic3  \n",
       "0  0.041856 -0.088504 -0.004840  \n",
       "1  0.023583 -0.046590 -0.002936  \n",
       "2  0.044889 -0.065462 -0.041794  \n",
       "3  0.196010  0.046689 -0.011795  \n",
       "4  0.026784 -0.048112 -0.040458  "
      ]
     },
     "execution_count": 27,
     "metadata": {},
     "output_type": "execute_result"
    }
   ],
   "source": [
    "stack_overflow_df.head()"
   ]
  },
  {
   "cell_type": "markdown",
   "id": "7a053d1d",
   "metadata": {},
   "source": [
    "# EDA for Classification"
   ]
  },
  {
   "cell_type": "code",
   "execution_count": 28,
   "id": "dd2b43e4",
   "metadata": {},
   "outputs": [],
   "source": [
    "stack_overflow_df[\"c_label\"] = stack_overflow_df[\"c_label\"].astype(int)\n",
    "\n",
    "X = stack_overflow_df[['neg_sentiment','topic1','topic2','topic3']]\n",
    "y = stack_overflow_df.c_label\n"
   ]
  },
  {
   "cell_type": "code",
   "execution_count": 29,
   "id": "c98e0002",
   "metadata": {},
   "outputs": [
    {
     "data": {
      "text/plain": [
       "<AxesSubplot:xlabel='c_label', ylabel='neg_sentiment'>"
      ]
     },
     "execution_count": 29,
     "metadata": {},
     "output_type": "execute_result"
    },
    {
     "data": {
      "image/png": "[encoded data removed]",
      "text/plain": [
       "<Figure size 432x288 with 1 Axes>"
      ]
     },
     "metadata": {
      "needs_background": "light"
     },
     "output_type": "display_data"
    }
   ],
   "source": [
    "sns.violinplot(x=stack_overflow_df[\"c_label\"],y=stack_overflow_df[\"neg_sentiment\"])"
   ]
  },
  {
   "cell_type": "code",
   "execution_count": 30,
   "id": "cddefa7a",
   "metadata": {},
   "outputs": [
    {
     "data": {
      "text/plain": [
       "<AxesSubplot:xlabel='c_label', ylabel='topic1'>"
      ]
     },
     "execution_count": 30,
     "metadata": {},
     "output_type": "execute_result"
    },
    {
     "data": {
      "image/png": "[encoded data removed]",
      "text/plain": [
       "<Figure size 432x288 with 1 Axes>"
      ]
     },
     "metadata": {
      "needs_background": "light"
     },
     "output_type": "display_data"
    }
   ],
   "source": [
    "sns.violinplot(x=stack_overflow_df[\"c_label\"],y=stack_overflow_df[\"topic1\"])"
   ]
  },
  {
   "cell_type": "code",
   "execution_count": 31,
   "id": "21eb4786",
   "metadata": {},
   "outputs": [
    {
     "data": {
      "text/plain": [
       "<AxesSubplot:xlabel='c_label', ylabel='topic2'>"
      ]
     },
     "execution_count": 31,
     "metadata": {},
     "output_type": "execute_result"
    },
    {
     "data": {
      "image/png": "[encoded data removed]",
      "text/plain": [
       "<Figure size 432x288 with 1 Axes>"
      ]
     },
     "metadata": {
      "needs_background": "light"
     },
     "output_type": "display_data"
    }
   ],
   "source": [
    "sns.violinplot(x=stack_overflow_df[\"c_label\"],y=stack_overflow_df[\"topic2\"])"
   ]
  },
  {
   "cell_type": "code",
   "execution_count": 32,
   "id": "ac72e96a",
   "metadata": {},
   "outputs": [
    {
     "data": {
      "text/plain": [
       "<AxesSubplot:xlabel='c_label', ylabel='topic3'>"
      ]
     },
     "execution_count": 32,
     "metadata": {},
     "output_type": "execute_result"
    },
    {
     "data": {
      "image/png": "[encoded data removed]",
      "text/plain": [
       "<Figure size 432x288 with 1 Axes>"
      ]
     },
     "metadata": {
      "needs_background": "light"
     },
     "output_type": "display_data"
    }
   ],
   "source": [
    "sns.violinplot(x=stack_overflow_df[\"c_label\"],y=stack_overflow_df[\"topic3\"])"
   ]
  },
  {
   "cell_type": "markdown",
   "id": "b4d1dff2",
   "metadata": {},
   "source": [
    "# Split data"
   ]
  },
  {
   "cell_type": "code",
   "execution_count": 33,
   "id": "167d14c6",
   "metadata": {},
   "outputs": [],
   "source": [
    "#Split the data into train and test sets (80/20) \n",
    "X_train, X_test, y_train, y_test = train_test_split(X, y, test_size = .2, random_state=8)\n",
    "df_train = X_train\n",
    "df_train['c_label'] = y_train"
   ]
  },
  {
   "cell_type": "markdown",
   "id": "d749128d",
   "metadata": {},
   "source": [
    "# Resample data since unbalanced"
   ]
  },
  {
   "cell_type": "code",
   "execution_count": 34,
   "id": "0f4152ec",
   "metadata": {},
   "outputs": [],
   "source": [
    "df_majority = df_train[(df_train['c_label']==0)] \n",
    "df_minority = df_train[(df_train['c_label']==1)] \n",
    "# upsample minority class\n",
    "df_minority_upsampled = resample(df_minority, \n",
    "                                 replace=True,    # sample with replacement\n",
    "                                 n_samples= 131177, # to match majority class\n",
    "                                 random_state=42)  # reproducible results\n",
    "# Combine majority class with upsampled minority class\n",
    "df_upsampled = pd.concat([df_minority_upsampled, df_majority])\n",
    "\n",
    "X_train_upsampled = df_upsampled[['neg_sentiment','topic1','topic2','topic3']]\n",
    "y_train_upsampled = df_upsampled['c_label']"
   ]
  },
  {
   "cell_type": "markdown",
   "id": "3d0973ff",
   "metadata": {},
   "source": [
    "# Scale Data"
   ]
  },
  {
   "cell_type": "code",
   "execution_count": 35,
   "id": "7b8de643",
   "metadata": {},
   "outputs": [],
   "source": [
    "#scale data for knn and logreg\n",
    "std_scale = StandardScaler()\n",
    "\n",
    "X_train_scaled_upsampled = std_scale.fit_transform(X_train_upsampled)\n",
    "X_test_scaled = std_scale.transform(X_test)"
   ]
  },
  {
   "cell_type": "markdown",
   "id": "2aae85f9",
   "metadata": {},
   "source": [
    "# kNN"
   ]
  },
  {
   "cell_type": "code",
   "execution_count": 36,
   "id": "d8e96111",
   "metadata": {},
   "outputs": [
    {
     "name": "stdout",
     "output_type": "stream",
     "text": [
      "Model: kNN\n",
      "\n",
      "accuracy score: 75.96%\n",
      "precision score: 17.31%\n",
      "recall score: 31.76%\n",
      "f1 score: 22.41%\n"
     ]
    }
   ],
   "source": [
    "knn = KNeighborsClassifier(n_neighbors=3)\n",
    "knn.fit(X_train_scaled_upsampled, y_train_upsampled)\n",
    "y_pred_knn = knn.predict(X_test_scaled)\n",
    "\n",
    "print(\"Model: kNN\\n\")\n",
    "print(\"accuracy score:\", \"{0:.2%}\".format(accuracy_score(y_test, y_pred_knn)))\n",
    "print(\"precision score:\", \"{0:.2%}\".format(precision_score(y_test, y_pred_knn)))\n",
    "print(\"recall score:\", \"{0:.2%}\".format(recall_score(y_test, y_pred_knn)))\n",
    "print(\"f1 score:\", \"{0:.2%}\".format(f1_score(y_test, y_pred_knn)))"
   ]
  },
  {
   "cell_type": "code",
   "execution_count": 37,
   "id": "e45c689c",
   "metadata": {},
   "outputs": [
    {
     "data": {
      "image/png": "[encoded data removed]",
      "text/plain": [
       "<Figure size 432x288 with 2 Axes>"
      ]
     },
     "metadata": {
      "needs_background": "light"
     },
     "output_type": "display_data"
    }
   ],
   "source": [
    "cm = confusion_matrix(y_test, y_pred_knn)\n",
    "\n",
    "plt.rcParams['font.family'] = \"serif\"\n",
    "\n",
    "names = [\"True Negatives\",\"False Positives\",\"False Negatives\",\"True Positives\"]\n",
    "counts = [\"{0:0.0f}\".format(value) for value in cm.flatten()]\n",
    "percents = [\"{0:.2%}\".format(value) for value in cm.flatten()/np.sum(cm)]\n",
    "labels = [f'{v1}\\n{v2}\\n{v3}' for v1, v2, v3 in zip(names,counts,percents)]\n",
    "labels = np.asarray(labels).reshape(2,2)\n",
    "\n",
    "sns.heatmap(cm, annot=labels, fmt=\"\", cmap='coolwarm');\n",
    "plt.title(\"Confusion Matrix - kNN\",fontsize=17)\n",
    "plt.ylabel(\"Actual\")\n",
    "plt.xlabel(\"Predicted\")\n",
    "plt.show()"
   ]
  },
  {
   "cell_type": "code",
   "execution_count": 71,
   "id": "306867d1",
   "metadata": {},
   "outputs": [
    {
     "name": "stdout",
     "output_type": "stream",
     "text": [
      "Model: kNN with lower decision threshold\n",
      "\n",
      "accuracy score: 70.18%\n",
      "precision score: 16.13%\n",
      "recall score: 41.18%\n",
      "f1 score: 23.18%\n"
     ]
    }
   ],
   "source": [
    "knn = KNeighborsClassifier(n_neighbors=3)\n",
    "knn.fit(X_train_scaled_upsampled, y_train_upsampled)\n",
    "y_pred_knn = (knn.predict_proba(X_test_scaled)[:,1] >= 0.3).astype(bool)\n",
    "\n",
    "print(\"Model: kNN with lower decision threshold\\n\")\n",
    "print(\"accuracy score:\", \"{0:.2%}\".format(accuracy_score(y_test, y_pred_knn)))\n",
    "print(\"precision score:\", \"{0:.2%}\".format(precision_score(y_test, y_pred_knn)))\n",
    "print(\"recall score:\", \"{0:.2%}\".format(recall_score(y_test, y_pred_knn)))\n",
    "print(\"f1 score:\", \"{0:.2%}\".format(f1_score(y_test, y_pred_knn)))"
   ]
  },
  {
   "cell_type": "code",
   "execution_count": 68,
   "id": "dc50f299",
   "metadata": {},
   "outputs": [
    {
     "data": {
      "image/png": "[encoded data removed]",
      "text/plain": [
       "<Figure size 432x288 with 2 Axes>"
      ]
     },
     "metadata": {
      "needs_background": "light"
     },
     "output_type": "display_data"
    }
   ],
   "source": [
    "cm = confusion_matrix(y_test, y_pred_knn)\n",
    "\n",
    "plt.rcParams['font.family'] = \"serif\"\n",
    "\n",
    "names = [\"True Negatives\",\"False Positives\",\"False Negatives\",\"True Positives\"]\n",
    "counts = [\"{0:0.0f}\".format(value) for value in cm.flatten()]\n",
    "percents = [\"{0:.2%}\".format(value) for value in cm.flatten()/np.sum(cm)]\n",
    "labels = [f'{v1}\\n{v2}\\n{v3}' for v1, v2, v3 in zip(names,counts,percents)]\n",
    "labels = np.asarray(labels).reshape(2,2)\n",
    "\n",
    "sns.heatmap(cm, annot=labels, fmt=\"\", cmap='coolwarm');\n",
    "plt.title(\"Confusion Matrix: kNN\\n(lower decision threshold)\",fontsize=17)\n",
    "plt.ylabel(\"Actual\")\n",
    "plt.xlabel(\"Predicted\")\n",
    "plt.show()"
   ]
  },
  {
   "cell_type": "markdown",
   "id": "c66efb3a",
   "metadata": {},
   "source": [
    "# LogReg"
   ]
  },
  {
   "cell_type": "code",
   "execution_count": 40,
   "id": "d7b04ed4",
   "metadata": {},
   "outputs": [],
   "source": [
    "#instantiate, then fit\n",
    "logreg = LogisticRegression()\n",
    "logreg.fit(X_train_scaled_upsampled, y_train_upsampled)\n",
    "\n",
    "#prediction\n",
    "p_pred = logreg.predict_proba(X_test_scaled)[:,1]\n",
    "y_pred = np.where(p_pred > 0.5, 1, 0)"
   ]
  },
  {
   "cell_type": "code",
   "execution_count": 41,
   "id": "bae97dd2",
   "metadata": {},
   "outputs": [
    {
     "name": "stdout",
     "output_type": "stream",
     "text": [
      "Model: LogReg\n",
      "\n",
      "accuracy score: 10.93%\n",
      "precision score: 10.93%\n",
      "recall score: 100.00%\n",
      "f1 score: 19.70%\n"
     ]
    }
   ],
   "source": [
    "print(\"Model: LogReg\\n\")\n",
    "\n",
    "print(\"accuracy score:\", \"{0:.2%}\".format(accuracy_score(y_test, y_pred)))\n",
    "print(\"precision score:\", \"{0:.2%}\".format(precision_score(y_test, y_pred)))\n",
    "print(\"recall score:\", \"{0:.2%}\".format(recall_score(y_test, y_pred)))\n",
    "print(\"f1 score:\", \"{0:.2%}\".format(f1_score(y_test, y_pred)))"
   ]
  },
  {
   "cell_type": "code",
   "execution_count": 42,
   "id": "c5780cdf",
   "metadata": {},
   "outputs": [
    {
     "data": {
      "image/png": "[encoded data removed]",
      "text/plain": [
       "<Figure size 432x288 with 2 Axes>"
      ]
     },
     "metadata": {
      "needs_background": "light"
     },
     "output_type": "display_data"
    }
   ],
   "source": [
    "cm = confusion_matrix(y_test, y_pred)\n",
    "\n",
    "plt.rcParams['font.family'] = \"serif\"\n",
    "\n",
    "names = [\"True Negatives\",\"False Positives\",\"False Negatives\",\"True Positives\"]\n",
    "counts = [\"{0:0.0f}\".format(value) for value in cm.flatten()]\n",
    "percents = [\"{0:.2%}\".format(value) for value in cm.flatten()/np.sum(cm)]\n",
    "labels = [f'{v1}\\n{v2}\\n{v3}' for v1, v2, v3 in zip(names,counts,percents)]\n",
    "labels = np.asarray(labels).reshape(2,2)\n",
    "\n",
    "sns.heatmap(cm, annot=labels, fmt=\"\", cmap='coolwarm');\n",
    "plt.title(\"Confusion Matrix - LogReg\",fontsize=17)\n",
    "plt.ylabel(\"Actual\")\n",
    "plt.xlabel(\"Predicted\")\n",
    "plt.show()"
   ]
  },
  {
   "cell_type": "code",
   "execution_count": 43,
   "id": "93af3e69",
   "metadata": {
    "scrolled": false
   },
   "outputs": [
    {
     "name": "stdout",
     "output_type": "stream",
     "text": [
      "neg_sentiment : 0.5225111925864416\n",
      "topic1 : 0.11804928185152197\n",
      "topic2 : -0.31990213067935275\n",
      "topic3 : 0.3430449306871736\n"
     ]
    },
    {
     "data": {
      "image/png": "[encoded data removed]",
      "text/plain": [
       "<Figure size 432x288 with 1 Axes>"
      ]
     },
     "metadata": {
      "needs_background": "light"
     },
     "output_type": "display_data"
    }
   ],
   "source": [
    "#visualize coefs\n",
    "features = []\n",
    "coefs = []\n",
    "\n",
    "plt.rcParams['font.family'] = \"serif\"\n",
    "\n",
    "i=0\n",
    "while i < (len(list(X.columns.values))):\n",
    "    features.append(X.columns.values[i])\n",
    "    coefs.append(logreg.coef_[0][i])\n",
    "    print(X.columns.values[i], \":\", logreg.coef_[0][i])\n",
    "    i+=1\n",
    "    \n",
    "sns.barplot(x=features,y=coefs,color='cornflowerblue')\n",
    "plt.xticks(rotation=90)\n",
    "plt.title(\"Visualize LogReg Coefs\",fontsize = 17)\n",
    "plt.show()"
   ]
  },
  {
   "cell_type": "code",
   "execution_count": 70,
   "id": "bff25346",
   "metadata": {},
   "outputs": [
    {
     "name": "stdout",
     "output_type": "stream",
     "text": [
      "Model: LogReg with lower decision threshold\n",
      "\n",
      "accuracy score: 10.93%\n",
      "precision score: 10.93%\n",
      "recall score: 100.00%\n",
      "f1 score: 19.70%\n"
     ]
    }
   ],
   "source": [
    "#instantiate, then fit\n",
    "logreg = LogisticRegression()\n",
    "logreg.fit(X_train_scaled_upsampled, y_train_upsampled)\n",
    "\n",
    "#prediction\n",
    "y_pred = (logreg.predict_proba(X_test_scaled)[:,1] >= 0.3).astype(bool)\n",
    "\n",
    "print(\"Model: LogReg with lower decision threshold\\n\")\n",
    "print(\"accuracy score:\", \"{0:.2%}\".format(accuracy_score(y_test, y_pred)))\n",
    "print(\"precision score:\", \"{0:.2%}\".format(precision_score(y_test, y_pred)))\n",
    "print(\"recall score:\", \"{0:.2%}\".format(recall_score(y_test, y_pred)))\n",
    "print(\"f1 score:\", \"{0:.2%}\".format(f1_score(y_test, y_pred)))"
   ]
  },
  {
   "cell_type": "markdown",
   "id": "bb89be90",
   "metadata": {},
   "source": [
    "so much for logistic regression >:("
   ]
  },
  {
   "cell_type": "markdown",
   "id": "2c9b664f",
   "metadata": {},
   "source": [
    "# Random Forests"
   ]
  },
  {
   "cell_type": "code",
   "execution_count": 44,
   "id": "13ce209d",
   "metadata": {},
   "outputs": [],
   "source": [
    "#instantiate, then fit\n",
    "rf = RandomForestClassifier()\n",
    "rf.fit(X_train_upsampled, y_train_upsampled)\n",
    "y_pred = rf.predict(X_test)"
   ]
  },
  {
   "cell_type": "code",
   "execution_count": 45,
   "id": "f7ca7371",
   "metadata": {},
   "outputs": [
    {
     "name": "stdout",
     "output_type": "stream",
     "text": [
      "Model: Random Forests\n",
      "\n",
      "accuracy score: 85.99%\n",
      "precision score: 12.50%\n",
      "recall score: 4.71%\n",
      "f1 score: 6.84%\n"
     ]
    }
   ],
   "source": [
    "print(\"Model: Random Forests\\n\")\n",
    "\n",
    "print(\"accuracy score:\", \"{0:.2%}\".format(accuracy_score(y_test, y_pred)))\n",
    "print(\"precision score:\", \"{0:.2%}\".format(precision_score(y_test, y_pred)))\n",
    "print(\"recall score:\", \"{0:.2%}\".format(recall_score(y_test, y_pred)))\n",
    "print(\"f1 score:\", \"{0:.2%}\".format(f1_score(y_test, y_pred)))"
   ]
  },
  {
   "cell_type": "code",
   "execution_count": 46,
   "id": "06a1dfea",
   "metadata": {},
   "outputs": [
    {
     "data": {
      "image/png": "[encoded data removed]",
      "text/plain": [
       "<Figure size 432x288 with 2 Axes>"
      ]
     },
     "metadata": {
      "needs_background": "light"
     },
     "output_type": "display_data"
    }
   ],
   "source": [
    "cm = confusion_matrix(y_test, y_pred)\n",
    "\n",
    "plt.rcParams['font.family'] = \"serif\"\n",
    "\n",
    "names = [\"True Negatives\",\"False Positives\",\"False Negatives\",\"True Positives\"]\n",
    "counts = [\"{0:0.0f}\".format(value) for value in cm.flatten()]\n",
    "percents = [\"{0:.2%}\".format(value) for value in cm.flatten()/np.sum(cm)]\n",
    "labels = [f'{v1}\\n{v2}\\n{v3}' for v1, v2, v3 in zip(names,counts,percents)]\n",
    "labels = np.asarray(labels).reshape(2,2)\n",
    "\n",
    "sns.heatmap(cm, annot=labels, fmt=\"\", cmap='coolwarm');\n",
    "plt.title(\"Confusion Matrix - Random Forests\",fontsize=17)\n",
    "plt.ylabel(\"Actual\")\n",
    "plt.xlabel(\"Predicted\")\n",
    "plt.show()"
   ]
  },
  {
   "cell_type": "code",
   "execution_count": 72,
   "id": "8ed45132",
   "metadata": {},
   "outputs": [
    {
     "name": "stderr",
     "output_type": "stream",
     "text": [
      "/Users/amelialui/opt/anaconda3/lib/python3.9/site-packages/sklearn/base.py:450: UserWarning: X does not have valid feature names, but RandomForestClassifier was fitted with feature names\n",
      "  warnings.warn(\n"
     ]
    }
   ],
   "source": [
    "#instantiate, then fit\n",
    "rf = RandomForestClassifier()\n",
    "rf.fit(X_train_upsampled, y_train_upsampled)\n",
    "y_pred = (rf.predict_proba(X_test_scaled)[:,1] >= 0.3).astype(bool)"
   ]
  },
  {
   "cell_type": "code",
   "execution_count": 74,
   "id": "667ac3a9",
   "metadata": {},
   "outputs": [
    {
     "name": "stdout",
     "output_type": "stream",
     "text": [
      "Model: Random Forests with lower decision threshold\n",
      "\n",
      "accuracy score: 88.56%\n",
      "precision score: 16.67%\n",
      "recall score: 1.18%\n",
      "f1 score: 2.20%\n"
     ]
    }
   ],
   "source": [
    "print(\"Model: Random Forests with lower decision threshold\\n\")\n",
    "\n",
    "print(\"accuracy score:\", \"{0:.2%}\".format(accuracy_score(y_test, y_pred)))\n",
    "print(\"precision score:\", \"{0:.2%}\".format(precision_score(y_test, y_pred)))\n",
    "print(\"recall score:\", \"{0:.2%}\".format(recall_score(y_test, y_pred)))\n",
    "print(\"f1 score:\", \"{0:.2%}\".format(f1_score(y_test, y_pred)))"
   ]
  }
 ],
 "metadata": {
  "kernelspec": {
   "display_name": "Python 3 (unsupervised)",
   "language": "python",
   "name": "unsupervised"
  },
  "language_info": {
   "codemirror_mode": {
    "name": "ipython",
    "version": 3
   },
   "file_extension": ".py",
   "mimetype": "text/x-python",
   "name": "python",
   "nbconvert_exporter": "python",
   "pygments_lexer": "ipython3",
   "version": "3.9.12"
  }
 },
 "nbformat": 4,
 "nbformat_minor": 5
}
