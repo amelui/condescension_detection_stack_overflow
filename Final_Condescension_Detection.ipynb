{
 "cells": [
  {
   "cell_type": "code",
   "execution_count": 1,
   "id": "2e4a7cc0",
   "metadata": {},
   "outputs": [],
   "source": [
    "import pandas as pd\n",
    "import numpy as np\n",
    "import matplotlib.pyplot as plt\n",
    "import re\n",
    "import string\n",
    "\n",
    "import seaborn as sns\n",
    "\n",
    "import nltk\n",
    "from nltk.tokenize import word_tokenize\n",
    "from nltk.corpus import stopwords\n",
    "from nltk.tokenize import MWETokenizer\n",
    "from nltk.stem.lancaster import LancasterStemmer\n",
    "\n",
    "from sklearn.feature_extraction.text import CountVectorizer\n",
    "from sklearn.feature_extraction.text import TfidfVectorizer\n",
    "\n",
    "from sklearn.decomposition import TruncatedSVD\n",
    "from sklearn.decomposition import NMF\n",
    "from gensim import corpora,models,matutils\n",
    "from scipy import sparse\n",
    "\n",
    "from vaderSentiment.vaderSentiment import SentimentIntensityAnalyzer\n",
    "\n",
    "from sklearn.utils import resample\n",
    "from sklearn.model_selection import train_test_split\n",
    "from sklearn.preprocessing import StandardScaler\n",
    "from sklearn.neighbors import KNeighborsClassifier\n",
    "from sklearn.linear_model import LogisticRegression\n",
    "from sklearn.ensemble import RandomForestClassifier\n",
    "from sklearn.metrics import accuracy_score, confusion_matrix, precision_score, recall_score, f1_score, plot_roc_curve, roc_curve"
   ]
  },
  {
   "cell_type": "code",
   "execution_count": 2,
   "id": "1a1b9952",
   "metadata": {},
   "outputs": [],
   "source": [
    "#load in stack overflow data w condescension labels\n",
    "stack_overflow_df = pd.read_csv('/Users/amelialui/Desktop/DS_Projects/Condescension_Detection_Stack_Overflow/dataCompleted.csv')\n",
    "stack_overflow_df = stack_overflow_df.drop(columns=['Unnamed: 0'])\n"
   ]
  },
  {
   "cell_type": "markdown",
   "id": "9dd50b35",
   "metadata": {},
   "source": [
    "# Text Preprocessing, Tokenization"
   ]
  },
  {
   "cell_type": "code",
   "execution_count": 3,
   "id": "04db6351",
   "metadata": {},
   "outputs": [
    {
     "data": {
      "text/html": [
       "<div>\n",
       "<style scoped>\n",
       "    .dataframe tbody tr th:only-of-type {\n",
       "        vertical-align: middle;\n",
       "    }\n",
       "\n",
       "    .dataframe tbody tr th {\n",
       "        vertical-align: top;\n",
       "    }\n",
       "\n",
       "    .dataframe thead th {\n",
       "        text-align: right;\n",
       "    }\n",
       "</style>\n",
       "<table border=\"1\" class=\"dataframe\">\n",
       "  <thead>\n",
       "    <tr style=\"text-align: right;\">\n",
       "      <th></th>\n",
       "      <th>text</th>\n",
       "      <th>c_label</th>\n",
       "    </tr>\n",
       "  </thead>\n",
       "  <tbody>\n",
       "    <tr>\n",
       "      <th>0</th>\n",
       "      <td>Yeah, I didn't believe it until I created a co...</td>\n",
       "      <td>False</td>\n",
       "    </tr>\n",
       "    <tr>\n",
       "      <th>1</th>\n",
       "      <td>It will help if you give some details of which...</td>\n",
       "      <td>False</td>\n",
       "    </tr>\n",
       "    <tr>\n",
       "      <th>2</th>\n",
       "      <td>infact it does. Look a the first lines of your...</td>\n",
       "      <td>False</td>\n",
       "    </tr>\n",
       "    <tr>\n",
       "      <th>3</th>\n",
       "      <td>\"Currently + is implemented using StringBuffer...</td>\n",
       "      <td>False</td>\n",
       "    </tr>\n",
       "    <tr>\n",
       "      <th>4</th>\n",
       "      <td>That code will fail as .Distinct() returns an ...</td>\n",
       "      <td>False</td>\n",
       "    </tr>\n",
       "  </tbody>\n",
       "</table>\n",
       "</div>"
      ],
      "text/plain": [
       "                                                text  c_label\n",
       "0  Yeah, I didn't believe it until I created a co...    False\n",
       "1  It will help if you give some details of which...    False\n",
       "2  infact it does. Look a the first lines of your...    False\n",
       "3  \"Currently + is implemented using StringBuffer...    False\n",
       "4  That code will fail as .Distinct() returns an ...    False"
      ]
     },
     "execution_count": 3,
     "metadata": {},
     "output_type": "execute_result"
    }
   ],
   "source": [
    "stack_overflow_df.head()"
   ]
  },
  {
   "cell_type": "code",
   "execution_count": 4,
   "id": "b84def4e",
   "metadata": {},
   "outputs": [
    {
     "name": "stdout",
     "output_type": "stream",
     "text": [
      "<class 'pandas.core.frame.DataFrame'>\n",
      "RangeIndex: 3887 entries, 0 to 3886\n",
      "Data columns (total 2 columns):\n",
      " #   Column   Non-Null Count  Dtype \n",
      "---  ------   --------------  ----- \n",
      " 0   text     3887 non-null   object\n",
      " 1   c_label  3887 non-null   bool  \n",
      "dtypes: bool(1), object(1)\n",
      "memory usage: 34.3+ KB\n"
     ]
    }
   ],
   "source": [
    "stack_overflow_df.info()"
   ]
  },
  {
   "cell_type": "markdown",
   "id": "56f95bca",
   "metadata": {},
   "source": [
    "want to make a third column, stack_overflow_df['sentiment']"
   ]
  },
  {
   "cell_type": "code",
   "execution_count": 5,
   "id": "99883b91",
   "metadata": {},
   "outputs": [],
   "source": [
    "analyzer = SentimentIntensityAnalyzer()\n",
    "negative_scores = [] #we care more about how negative it is, not how neutral or pos or overall\n",
    "\n",
    "for i in range(0,3887):\n",
    "    doc = stack_overflow_df['text'][i]\n",
    "    sentiment = analyzer.polarity_scores(doc)\n",
    "    neg = sentiment['neg']\n",
    "    negative_scores.append(neg)\n",
    "\n",
    "stack_overflow_df['neg_sentiment'] = negative_scores"
   ]
  },
  {
   "cell_type": "code",
   "execution_count": 6,
   "id": "36d79e0c",
   "metadata": {},
   "outputs": [
    {
     "data": {
      "text/html": [
       "<div>\n",
       "<style scoped>\n",
       "    .dataframe tbody tr th:only-of-type {\n",
       "        vertical-align: middle;\n",
       "    }\n",
       "\n",
       "    .dataframe tbody tr th {\n",
       "        vertical-align: top;\n",
       "    }\n",
       "\n",
       "    .dataframe thead th {\n",
       "        text-align: right;\n",
       "    }\n",
       "</style>\n",
       "<table border=\"1\" class=\"dataframe\">\n",
       "  <thead>\n",
       "    <tr style=\"text-align: right;\">\n",
       "      <th></th>\n",
       "      <th>text</th>\n",
       "      <th>c_label</th>\n",
       "      <th>neg_sentiment</th>\n",
       "    </tr>\n",
       "  </thead>\n",
       "  <tbody>\n",
       "    <tr>\n",
       "      <th>0</th>\n",
       "      <td>Yeah, I didn't believe it until I created a co...</td>\n",
       "      <td>False</td>\n",
       "      <td>0.127</td>\n",
       "    </tr>\n",
       "    <tr>\n",
       "      <th>1</th>\n",
       "      <td>It will help if you give some details of which...</td>\n",
       "      <td>False</td>\n",
       "      <td>0.000</td>\n",
       "    </tr>\n",
       "    <tr>\n",
       "      <th>2</th>\n",
       "      <td>infact it does. Look a the first lines of your...</td>\n",
       "      <td>False</td>\n",
       "      <td>0.105</td>\n",
       "    </tr>\n",
       "    <tr>\n",
       "      <th>3</th>\n",
       "      <td>\"Currently + is implemented using StringBuffer...</td>\n",
       "      <td>False</td>\n",
       "      <td>0.000</td>\n",
       "    </tr>\n",
       "    <tr>\n",
       "      <th>4</th>\n",
       "      <td>That code will fail as .Distinct() returns an ...</td>\n",
       "      <td>False</td>\n",
       "      <td>0.189</td>\n",
       "    </tr>\n",
       "  </tbody>\n",
       "</table>\n",
       "</div>"
      ],
      "text/plain": [
       "                                                text  c_label  neg_sentiment\n",
       "0  Yeah, I didn't believe it until I created a co...    False          0.127\n",
       "1  It will help if you give some details of which...    False          0.000\n",
       "2  infact it does. Look a the first lines of your...    False          0.105\n",
       "3  \"Currently + is implemented using StringBuffer...    False          0.000\n",
       "4  That code will fail as .Distinct() returns an ...    False          0.189"
      ]
     },
     "execution_count": 6,
     "metadata": {},
     "output_type": "execute_result"
    }
   ],
   "source": [
    "stack_overflow_df.head()"
   ]
  },
  {
   "cell_type": "code",
   "execution_count": 7,
   "id": "c6f3f5d6",
   "metadata": {},
   "outputs": [
    {
     "data": {
      "text/html": [
       "<div>\n",
       "<style scoped>\n",
       "    .dataframe tbody tr th:only-of-type {\n",
       "        vertical-align: middle;\n",
       "    }\n",
       "\n",
       "    .dataframe tbody tr th {\n",
       "        vertical-align: top;\n",
       "    }\n",
       "\n",
       "    .dataframe thead th {\n",
       "        text-align: right;\n",
       "    }\n",
       "</style>\n",
       "<table border=\"1\" class=\"dataframe\">\n",
       "  <thead>\n",
       "    <tr style=\"text-align: right;\">\n",
       "      <th></th>\n",
       "      <th>text</th>\n",
       "      <th>c_label</th>\n",
       "      <th>neg_sentiment</th>\n",
       "    </tr>\n",
       "  </thead>\n",
       "  <tbody>\n",
       "    <tr>\n",
       "      <th>0</th>\n",
       "      <td>Yeah n't believe created console app good lord...</td>\n",
       "      <td>False</td>\n",
       "      <td>0.127</td>\n",
       "    </tr>\n",
       "    <tr>\n",
       "      <th>1</th>\n",
       "      <td>help give details database using techniques vary</td>\n",
       "      <td>False</td>\n",
       "      <td>0.000</td>\n",
       "    </tr>\n",
       "    <tr>\n",
       "      <th>2</th>\n",
       "      <td>infact Look first lines concat code problem co...</td>\n",
       "      <td>False</td>\n",
       "      <td>0.105</td>\n",
       "    </tr>\n",
       "    <tr>\n",
       "      <th>3</th>\n",
       "      <td>`` Currently implemented using StringBuffer ``...</td>\n",
       "      <td>False</td>\n",
       "      <td>0.000</td>\n",
       "    </tr>\n",
       "    <tr>\n",
       "      <th>4</th>\n",
       "      <td>code fail .Distinct returns IEnumerable add .T...</td>\n",
       "      <td>False</td>\n",
       "      <td>0.189</td>\n",
       "    </tr>\n",
       "  </tbody>\n",
       "</table>\n",
       "</div>"
      ],
      "text/plain": [
       "                                                text  c_label  neg_sentiment\n",
       "0  Yeah n't believe created console app good lord...    False          0.127\n",
       "1   help give details database using techniques vary    False          0.000\n",
       "2  infact Look first lines concat code problem co...    False          0.105\n",
       "3  `` Currently implemented using StringBuffer ``...    False          0.000\n",
       "4  code fail .Distinct returns IEnumerable add .T...    False          0.189"
      ]
     },
     "execution_count": 7,
     "metadata": {},
     "output_type": "execute_result"
    }
   ],
   "source": [
    "#remove stop words\n",
    "def split(word):\n",
    "    return [char for char in word]\n",
    "punc = split(string.punctuation)\n",
    "stop_words = set(stopwords.words('english'))\n",
    "\n",
    "for i in range(0,3887):\n",
    "    doc = stack_overflow_df['text'][i]\n",
    "    filtered = [w for w in word_tokenize(doc) if not w.lower() in stop_words]\n",
    "    filtered = [w for w in word_tokenize(\" \".join(filtered)) if not w.lower() in punc]\n",
    "    stack_overflow_df.at[i, 'text'] = \" \".join(filtered)\n",
    "\n",
    "stack_overflow_df.head()"
   ]
  },
  {
   "cell_type": "code",
   "execution_count": 8,
   "id": "222e9992",
   "metadata": {},
   "outputs": [],
   "source": [
    "#get rid of numbers\n",
    "for i in range(0,3887):\n",
    "    doc = stack_overflow_df['text'][i]\n",
    "    doc_no_nums = re.sub(\"\\d+\", \" \", doc)\n",
    "    stack_overflow_df.at[i, 'text'] = doc_no_nums"
   ]
  },
  {
   "cell_type": "code",
   "execution_count": 9,
   "id": "3c1e5160",
   "metadata": {},
   "outputs": [],
   "source": [
    "#simplify terms down to their stems\n",
    "#stemmer = LancasterStemmer()\n",
    "\n",
    "#for i in range(0,3887):\n",
    "    #doc = stack_overflow_df['text'][i]\n",
    "    #filtered = \"\"\n",
    "    #for word in doc.split():\n",
    "        #stem = stemmer.stem(word)\n",
    "        #filtered += stem + \" \"\n",
    "    #filtered.rstrip()\n",
    "    #stack_overflow_df.at[i, 'text'] = filtered.lower()"
   ]
  },
  {
   "cell_type": "markdown",
   "id": "6cf274d6",
   "metadata": {},
   "source": [
    "compound term extraction for emotes like :)"
   ]
  },
  {
   "cell_type": "code",
   "execution_count": 10,
   "id": "6d0b4310",
   "metadata": {},
   "outputs": [
    {
     "name": "stdout",
     "output_type": "stream",
     "text": [
      "['Yeah', \"n't\", 'believe', 'created', 'console', 'app', 'good', 'lord', 'would', 'give', 'rope', 'hang', 'hated', 'VB.NET', 'OrElse', 'AndAlso', 'keywords']\n"
     ]
    }
   ],
   "source": [
    "mwe_tokenizer = MWETokenizer([(':',')'), (';',')'),(':','('), ('=',')'),('=','('),\n",
    "                              (':','-',')'), (':','-','('),\n",
    "                              (':',\"'\",'-','('),('X','D'),(':','D'),(':',']'),\n",
    "                              ('>',':','('),('>',':','['),\n",
    "                              (':','/'),(':','|'),\n",
    "                              ('<','_','<'),('>','_','>'),('o','_','o'),('O','_','O')])\n",
    "\n",
    "for i in range(0,3886):\n",
    "    doc = stack_overflow_df['text'][i]\n",
    "    mwe_tokens = mwe_tokenizer.tokenize(word_tokenize(doc))\n",
    "    \n",
    "#make tokenizer that combines mwe_tokenizer and word_tokenizer to make callable\n",
    "def my_tokenizer(text):\n",
    "    mwe_tokens = mwe_tokenizer.tokenize(word_tokenize(text))\n",
    "    return(mwe_tokens)\n",
    "\n",
    "print(my_tokenizer(stack_overflow_df['text'][0]))"
   ]
  },
  {
   "cell_type": "markdown",
   "id": "6ade5da3",
   "metadata": {},
   "source": [
    "# Make CountVectorizer Doc-Term Matrix"
   ]
  },
  {
   "cell_type": "code",
   "execution_count": 11,
   "id": "282056a5",
   "metadata": {},
   "outputs": [
    {
     "name": "stdout",
     "output_type": "stream",
     "text": [
      "<class 'pandas.core.frame.DataFrame'>\n",
      "RangeIndex: 3887 entries, 0 to 3886\n",
      "Columns: 9625 entries, ' to …\n",
      "dtypes: int64(9625)\n",
      "memory usage: 285.4 MB\n"
     ]
    }
   ],
   "source": [
    "cv = CountVectorizer(tokenizer = my_tokenizer)\n",
    "cv_X = cv.fit_transform(stack_overflow_df['text'])\n",
    "cv_doc_term_mat = pd.DataFrame(cv_X.toarray(), columns = cv.get_feature_names_out())\n",
    "cv_doc_term_mat.info()"
   ]
  },
  {
   "cell_type": "code",
   "execution_count": 12,
   "id": "3695c1e4",
   "metadata": {},
   "outputs": [
    {
     "data": {
      "text/plain": [
       "55910"
      ]
     },
     "execution_count": 12,
     "metadata": {},
     "output_type": "execute_result"
    }
   ],
   "source": [
    "cv_doc_term_mat.values.sum()\n",
    "#looks about right"
   ]
  },
  {
   "cell_type": "code",
   "execution_count": 13,
   "id": "4b06118e",
   "metadata": {},
   "outputs": [
    {
     "name": "stdout",
     "output_type": "stream",
     "text": [
      "<class 'pandas.core.frame.DataFrame'>\n",
      "RangeIndex: 3887 entries, 0 to 3886\n",
      "Columns: 9625 entries, ' to …\n",
      "dtypes: int64(9625)\n",
      "memory usage: 285.4 MB\n"
     ]
    }
   ],
   "source": [
    "cv_doc_term_mat.info()"
   ]
  },
  {
   "cell_type": "markdown",
   "id": "36c76506",
   "metadata": {},
   "source": [
    "# Make TF-IDF Doc-Term Matrix"
   ]
  },
  {
   "cell_type": "code",
   "execution_count": 14,
   "id": "081cc9fc",
   "metadata": {},
   "outputs": [
    {
     "name": "stdout",
     "output_type": "stream",
     "text": [
      "<class 'pandas.core.frame.DataFrame'>\n",
      "RangeIndex: 3887 entries, 0 to 3886\n",
      "Columns: 9625 entries, ' to …\n",
      "dtypes: float64(9625)\n",
      "memory usage: 285.4 MB\n"
     ]
    }
   ],
   "source": [
    "tfidf = TfidfVectorizer(tokenizer = my_tokenizer)\n",
    "tfidf_X = tfidf.fit_transform(stack_overflow_df['text'])\n",
    "tfidf_doc_term_mat = pd.DataFrame(tfidf_X.toarray(), columns = tfidf.get_feature_names_out())\n",
    "tfidf_doc_term_mat.info()"
   ]
  },
  {
   "cell_type": "markdown",
   "id": "e6d6b6f3",
   "metadata": {},
   "source": [
    "# Latent Semantic Analysis Model"
   ]
  },
  {
   "cell_type": "markdown",
   "id": "0e82efb2",
   "metadata": {},
   "source": [
    "w/ count vectorizer"
   ]
  },
  {
   "cell_type": "code",
   "execution_count": 15,
   "id": "b1960c82",
   "metadata": {},
   "outputs": [
    {
     "data": {
      "text/plain": [
       "TruncatedSVD(n_components=3)"
      ]
     },
     "execution_count": 15,
     "metadata": {},
     "output_type": "execute_result"
    }
   ],
   "source": [
    "lsa = TruncatedSVD(3)\n",
    "lsa.fit(cv_doc_term_mat)"
   ]
  },
  {
   "cell_type": "code",
   "execution_count": 16,
   "id": "37fa7ff1",
   "metadata": {},
   "outputs": [],
   "source": [
    "def topics(model, feature_names, top_words, topic_names=None):\n",
    "    for j, topic in enumerate(model):\n",
    "        if not topic_names or not topic_names[j]:\n",
    "            print(\"\\nTopic \")\n",
    "        else:\n",
    "            print(\"\\nTopic:\",topic_names[j])\n",
    "        print(\", \".join([feature_names[i]\n",
    "                        for i in topic.argsort()[:-top_words - 1:-1]]))"
   ]
  },
  {
   "cell_type": "code",
   "execution_count": 17,
   "id": "0948f3ae",
   "metadata": {},
   "outputs": [
    {
     "name": "stdout",
     "output_type": "stream",
     "text": [
      "\n",
      "Topic: asking for clarification\n",
      "``, n't, 's, use, code, would, ..., one, like, answer, also, question, c, object, ., get, way, think, using, need\n",
      "\n",
      "Topic: technical\n",
      "``, cast, ~, derived, straight, postgresql, exact, var, printf, typeof, derives, student, .constructor, computer, insane, controlchars.quote, repeating, intend, -name, namespacelist\n",
      "\n",
      "Topic: reviews on other comments\n",
      "'s, code, way, think, like, answer, function, much, data, language, also, right, problem, http, around, wrong, goto, since, pretty, lot\n"
     ]
    }
   ],
   "source": [
    "topics(lsa.components_, cv_doc_term_mat.columns, 20, topic_names=['asking for clarification','technical','reviews on other comments'])\n"
   ]
  },
  {
   "cell_type": "markdown",
   "id": "31e9dde5",
   "metadata": {},
   "source": [
    "this model makes sense, but it was a bit of a stretch to define the topics."
   ]
  },
  {
   "cell_type": "markdown",
   "id": "00f0ad13",
   "metadata": {},
   "source": [
    "# Latent Semantic Analysis Model\n",
    "w/ tfidf"
   ]
  },
  {
   "cell_type": "code",
   "execution_count": 18,
   "id": "325d6554",
   "metadata": {},
   "outputs": [
    {
     "data": {
      "text/plain": [
       "TruncatedSVD(n_components=3)"
      ]
     },
     "execution_count": 18,
     "metadata": {},
     "output_type": "execute_result"
    }
   ],
   "source": [
    "lsa = TruncatedSVD(3)\n",
    "lsa.fit(tfidf_doc_term_mat)"
   ]
  },
  {
   "cell_type": "code",
   "execution_count": 19,
   "id": "f0ccae57",
   "metadata": {},
   "outputs": [
    {
     "name": "stdout",
     "output_type": "stream",
     "text": [
      "\n",
      "Topic: asking for clarification\n",
      "``, n't, 's, use, code, would, ..., one, question, answer, like, think, c, also, good, need, really, way, want, using\n",
      "\n",
      "Topic: technical\n",
      "``, jpeg, ocaml, postgresql, words, datetime.now.tostring, case-insensitive, -tiers, n-tiers, associative, repeating, commutative, controlchars.quote, hofstadterian, foo, age, href=, insane, cryptography, combining\n",
      "\n",
      "Topic: reviews on other comments\n",
      "question, answer, asked, c++, answers, good, one, asking, ask, c, valid, vote, answered, perfectly, questions, accepted, nice, different, correct, people\n"
     ]
    }
   ],
   "source": [
    "topics(lsa.components_, tfidf_doc_term_mat.columns, 20, topic_names=['asking for clarification','technical','reviews on other comments'])\n"
   ]
  },
  {
   "cell_type": "markdown",
   "id": "f86e6c96",
   "metadata": {},
   "source": [
    "same topics, looks almost same as w countvectorizer input, the last topic makes a lot more sense with this group of words"
   ]
  },
  {
   "cell_type": "markdown",
   "id": "41bb5845",
   "metadata": {},
   "source": [
    "# Non-Negative Matrix Factorization\n",
    "w/ cv"
   ]
  },
  {
   "cell_type": "code",
   "execution_count": 20,
   "id": "bc08f407",
   "metadata": {},
   "outputs": [
    {
     "name": "stderr",
     "output_type": "stream",
     "text": [
      "/Users/amelialui/opt/anaconda3/lib/python3.9/site-packages/sklearn/decomposition/_nmf.py:289: FutureWarning: The 'init' value, when 'init=None' and n_components is less than n_samples and n_features, will be changed from 'nndsvd' to 'nndsvda' in 1.1 (renaming of 0.26).\n",
      "  warnings.warn(\n"
     ]
    },
    {
     "data": {
      "text/plain": [
       "NMF(n_components=3)"
      ]
     },
     "execution_count": 20,
     "metadata": {},
     "output_type": "execute_result"
    }
   ],
   "source": [
    "nmf = NMF(3)\n",
    "nmf.fit(cv_doc_term_mat)"
   ]
  },
  {
   "cell_type": "code",
   "execution_count": 21,
   "id": "62ecae53",
   "metadata": {
    "scrolled": false
   },
   "outputs": [
    {
     "name": "stdout",
     "output_type": "stream",
     "text": [
      "\n",
      "Topic: technical\n",
      "``, string, cast, object, new, use, ..., ., also, name, like, x, would, type, instead, different, one, ==, example, code\n",
      "\n",
      "Topic: asking for clarification\n",
      "n't, would, use, ca, code, one, ..., want, question, could, c, work, like, think, answer, need, time, know, make, using\n",
      "\n",
      "Topic: reviews on other comments\n",
      "'s, code, think, use, like, answer, way, one, c, good, ..., question, time, would, also, using, function, know, much, need\n"
     ]
    }
   ],
   "source": [
    "topics(nmf.components_, cv_doc_term_mat.columns, 20, topic_names=[\"technical\",\"asking for clarification\",\"reviews on other comments\"])\n"
   ]
  },
  {
   "cell_type": "markdown",
   "id": "7522923a",
   "metadata": {},
   "source": [
    "# Non-Negative Matrix Factorization\n",
    "w/ tfidf"
   ]
  },
  {
   "cell_type": "code",
   "execution_count": 22,
   "id": "20d79430",
   "metadata": {},
   "outputs": [
    {
     "name": "stderr",
     "output_type": "stream",
     "text": [
      "/Users/amelialui/opt/anaconda3/lib/python3.9/site-packages/sklearn/decomposition/_nmf.py:289: FutureWarning: The 'init' value, when 'init=None' and n_components is less than n_samples and n_features, will be changed from 'nndsvd' to 'nndsvda' in 1.1 (renaming of 0.26).\n",
      "  warnings.warn(\n"
     ]
    },
    {
     "data": {
      "text/plain": [
       "NMF(n_components=3)"
      ]
     },
     "execution_count": 22,
     "metadata": {},
     "output_type": "execute_result"
    }
   ],
   "source": [
    "nmf = NMF(3)\n",
    "nmf.fit(tfidf_doc_term_mat)"
   ]
  },
  {
   "cell_type": "code",
   "execution_count": 23,
   "id": "e6a092fd",
   "metadata": {},
   "outputs": [
    {
     "name": "stdout",
     "output_type": "stream",
     "text": [
      "\n",
      "Topic: technical\n",
      "``, mean, string, new, also, example, different, best, statement, use, ==, --, ., actually, name, read, work, put, say, get\n",
      "\n",
      "Topic: asking for clarification\n",
      "n't, 's, code, use, ..., would, one, think, like, c, need, time, using, way, know, ca, want, could, good, 're\n",
      "\n",
      "Topic: reviews on other comments\n",
      "question, answer, asked, good, one, answers, would, asking, valid, c++, ask, vote, perfectly, accepted, nice, answered, questions, different, people, think\n"
     ]
    }
   ],
   "source": [
    "topics(nmf.components_, tfidf_doc_term_mat.columns, 20, topic_names=[\"technical\",\"asking for clarification\",\"reviews on other comments\"])\n"
   ]
  },
  {
   "cell_type": "markdown",
   "id": "a6142057",
   "metadata": {},
   "source": [
    "# Add LSA TFIDF Model to DF\n",
    "This model made most sense overall"
   ]
  },
  {
   "cell_type": "code",
   "execution_count": 24,
   "id": "f7a665bc",
   "metadata": {},
   "outputs": [
    {
     "data": {
      "text/plain": [
       "[[0.04185670640745015, -0.08844380809648877, -0.003838055763657467],\n",
       " [0.023581792318466417, -0.046577512152704656, -0.003004843310316729],\n",
       " [0.04488972578420531, -0.06559766052791116, -0.0430868050046158],\n",
       " [0.19600989452265996, 0.046654518487304376, -0.01550285171615793],\n",
       " [0.026784816459610932, -0.04821148671614872, -0.04078684410135846],\n",
       " [0.08618965118228157, -0.17912766295043844, -0.038389851633364516],\n",
       " [0.06788587180076425, -0.13553917523850353, -0.05368069540711527],\n",
       " [0.6341397623425966, 0.3007609024530037, 0.01042673298486746],\n",
       " [0.04785982881231742, -0.09481968837780412, -0.011194482434350358],\n",
       " [0.04785982881231742, -0.09481968837780412, -0.011194482434350358],\n",
       " [0.028862957228727195, -0.0455546903913639, -0.01945425356045841],\n",
       " [0.049776656534746895, -0.09179452473853178, -0.050918662622493276],\n",
       " [0.17003533117540978, 0.050661140064225625, -0.010534030670514586],\n",
       " [0.07620365884404297, -0.12859483541825842, -0.08123181777839861],\n",
       " [0.02216772721441658, -0.039660214617970674, 0.0048854770739701825],\n",
       " [0.04392683819688936, -0.0853170145897309, -0.015611859660896718],\n",
       " [0.03480755005760825, -0.048866512268744514, -0.038458757350880834],\n",
       " [0.07333700430633033, -0.13075584314935274, -0.024859528742803057],\n",
       " [0.011457850201227426, -0.008310596228367474, -0.0037580080544228514],\n",
       " [0.01603164342519238, -0.027691243764140373, -0.014970355599026205],\n",
       " [0.01065399157540391, -0.01686439421420001, -0.008991660129981182],\n",
       " [0.05243959687489581, -0.05790428563097539, -0.03466828121229169],\n",
       " [0.03301262069877524, -0.0723125381344516, -0.029168691098074066],\n",
       " [0.046173392352713824, -0.08214957152622103, -0.026339719019773493],\n",
       " [0.004331496110070843, -0.001216615052946863, 0.0024453993862475934],\n",
       " [0.029057688443848945, -0.04586427038230326, -0.010444158977853085],\n",
       " [0.013836143779344477, -0.019726930735492806, -0.00571719927922548],\n",
       " [0.007617855009519546, -0.010179562870142251, -0.004417390858430841],\n",
       " [0.04232453711617369, -0.07313362874226557, -0.025282370068753595],\n",
       " [0.044558770863516145, -0.0889467343217399, -0.012836378592135414],\n",
       " [0.038801965571635545, -0.07315902492537171, 0.17875698238274199],\n",
       " [0.01294899212029832, -0.0299215503015893, -0.008808527653947596],\n",
       " [0.033221808262292374, -0.062130963236775257, 0.0011904947776458926],\n",
       " [0.3768483422060442, 0.09386811616243007, -0.017946094227501926],\n",
       " [0.025178631022731993, -0.04158941747295147, 0.010429521135991524],\n",
       " [0.016474191995282234, -0.03177147187918634, -0.008477024795686],\n",
       " [0.03737719863500363, -0.06249454760906915, -0.035957864300971996],\n",
       " [0.048828960183565924, -0.10057279907719421, -9.954389085564588e-05],\n",
       " [0.1960376711322461, 0.018689479510649108, 0.08657108576270116],\n",
       " [0.06295912994680526, -0.12412417278526892, 0.11209464355532198],\n",
       " [0.03921345489653416, -0.0707302485710559, -0.002292654384735018],\n",
       " [0.04038766695049239, -0.08768089679167862, -0.038821748469949915],\n",
       " [0.3006288325957432, 0.02885363861175192, -0.02635118578654691],\n",
       " [0.017356907844310664, -0.029392679008971648, -0.005682558610901726],\n",
       " [0.032360012185731986, -0.04506803390477173, -0.017070240050991795],\n",
       " [0.055178526661572816, -0.10429650204445803, -0.0143916509554534],\n",
       " [0.03476048938167948, -0.07301402043921679, 0.29192552701356145],\n",
       " [0.06873060380122696, -0.1419344098407399, -0.06100982266364478],\n",
       " [0.3580511908402865, 0.15380074531673493, -0.01831597669959661],\n",
       " [0.055157018805743585, -0.10677140844507324, -0.03691610631107938],\n",
       " [0.07131454813365995, -0.1551125675571573, -0.06440922402927358],\n",
       " [0.033666804392702254, -0.06473655826906745, 0.11736997552122994],\n",
       " [0.4258534045816039, 0.11823885685524647, -0.011171593658102967],\n",
       " [0.04378846996827507, -0.08146728037238546, -0.03485080434801233],\n",
       " [0.03787926253608774, -0.06200133264382813, -0.020667904099407483],\n",
       " [0.1891248467403796, -0.0032216354734518502, -0.04537796129553955],\n",
       " [0.06875493889798269, -0.13025408308575825, -0.0011226429848408574],\n",
       " [0.3622473721738639, 0.11962801787283428, -0.009558758648118726],\n",
       " [0.3825820308851973, 0.09224862410789693, -0.007923820895353555],\n",
       " [0.010080826919874426, -0.016887275259728485, -0.008939275050814726],\n",
       " [0.06759278312275183, -0.13176147159211768, 0.08759831244791771],\n",
       " [0.04284411026521321, -0.07624463471995424, -0.01890365788032819],\n",
       " [0.03988186786448405, -0.07848731242772411, -0.02563900845402721],\n",
       " [0.0486511117724736, -0.07204890428502235, 0.001656415712872825],\n",
       " [0.06917206482047675, -0.11184250775461668, -0.04473098350242129],\n",
       " [0.03697939027737828, -0.06216911287599864, -0.028907612213012423],\n",
       " [0.019693098126440496, -0.033428144370574425, -0.004660777945109183],\n",
       " [0.03689900785712734, -0.05895657144074959, -0.02113740173350021],\n",
       " [0.07289610663863784, -0.13043055029038955, -0.0392573160886007],\n",
       " [0.013475044830345222, -0.025653249759571523, -0.004415482028972005],\n",
       " [0.04325238737429213, -0.07507607585893816, -0.025384787606599134],\n",
       " [0.027751427080400064, -0.04970497309682854, -0.01076262828767448],\n",
       " [0.07461291187697905, -0.13444646965670196, -0.028121864505085265],\n",
       " [0.22489568769549417, -0.01167084598115413, -0.006701186667148081],\n",
       " [0.03422256957384851, -0.06601100476219535, 0.012119993923825312],\n",
       " [0.01912968437984669, -0.027893166624335934, -0.0029331589006895468],\n",
       " [0.2954133774433651, 0.1319314543236938, 0.008034553198342181],\n",
       " [0.029606523804378566, -0.04659587284052325, -0.01734285069887824],\n",
       " [0.03594556738240011, -0.060495750574761475, -0.007955131152297788],\n",
       " [0.020405561878943206, -0.032084743106423494, -0.005007142641837152],\n",
       " [0.04753342220239413, -0.08301349741518237, 0.05094308578810859],\n",
       " [0.059263271718233146, -0.11148356166909736, -0.028418580776099715],\n",
       " [0.06105668721974125, -0.11428449499292842, 0.013509875285588651],\n",
       " [0.21310877857706828, -0.07245922970464358, -0.0326812515210152],\n",
       " [0.03422887321561518, -0.04618016366745063, -0.015656141339572445],\n",
       " [0.2139162624612134, 0.023437060938540963, -0.03145154786057989],\n",
       " [0.10053260847130381, -0.17399241963751627, -0.0774868460809145],\n",
       " [0.08329238280559138, -0.1537232846219617, 0.41143350535218054],\n",
       " [0.22105038708481273, 0.019568112162296654, -0.013344468864239248],\n",
       " [0.06771844015709709, -0.13529512378803385, -0.06169038037082685],\n",
       " [0.02074952504147885, -0.03599397877256792, -0.021745679678956957],\n",
       " [0.029828989736831065, -0.0459485869615973, -0.01989969570657123],\n",
       " [0.025199118395055314, -0.04789223801580646, -0.007232182006178175],\n",
       " [0.03737290093283778, -0.0835596828817148, 0.10951003502475415],\n",
       " [0.029872652140231874, -0.055441390110996386, -0.03869601659199419],\n",
       " [0.042528011969664985, -0.07415670315549414, -0.000966580945654872],\n",
       " [0.07137857547483255, -0.15201049021978566, 0.3171114905369289],\n",
       " [0.0688049484397624, -0.1289940434432609, -0.02232313791546224],\n",
       " [0.08086672650594341, -0.14709186657715387, -0.07844683560340632],\n",
       " [0.08081603879775978, -0.1372106357841894, -0.06873508279493615],\n",
       " [0.10046721499152586, -0.21945103159204984, 0.15586106081251697],\n",
       " [0.04006184569342873, -0.07003065840373111, -0.01686640115255492],\n",
       " [0.01459059522424767, -0.02753196227048208, -0.017624360571373184],\n",
       " [0.05165121843103644, -0.09105046962458496, -0.038441045059855135],\n",
       " [0.012229941090565074, -0.020865383430518848, 0.0003957003531585523],\n",
       " [0.05682218191772123, -0.11086712086963585, -0.004997907500763441],\n",
       " [0.1958966428959399, -0.03641693833842785, -0.01742712996295846],\n",
       " [0.06441361091323178, -0.10192885944840674, -0.036466069247550484],\n",
       " [0.02857872752667436, -0.04782561412917752, -0.007780372948095103],\n",
       " [0.07417413506883269, -0.1374485582029296, -0.04105757019761644],\n",
       " [0.04580761684443375, -0.08620950713767414, -0.043368434500580054],\n",
       " [0.014482079545980775, -0.022781048399229613, 0.008873125427444376],\n",
       " [0.03578360466394066, -0.062163490281036744, -0.02026822007488289],\n",
       " [0.4657924355989227, 0.19143584616154088, 0.1387491549977184],\n",
       " [0.02835675126141437, -0.05087111168384812, 0.000594503486392565],\n",
       " [0.268289425837214, 0.14204919466781712, 0.005439886212068445],\n",
       " [0.2772463889425432, -0.15646740698310854, -0.04521391017518927],\n",
       " [0.002537266688739037, -0.005958677819142274, 0.0007874496345359946],\n",
       " [0.052210223034615415, -0.11463903027223428, 0.18253326584418528],\n",
       " [0.03851115947050153, -0.05702669261493448, -0.025624404308284193],\n",
       " [0.04330063165089554, -0.04975928896467252, -0.021958403983253667],\n",
       " [0.04192410417738014, -0.09040609391724981, 0.3196483899526885],\n",
       " [0.08851339091908877, -0.17070683130915013, -0.061738875891201805],\n",
       " [0.03967214667812079, -0.06779234527795484, -0.011377652614273865],\n",
       " [0.034033331137086086, -0.07121964766824884, -0.015534284165752409],\n",
       " [0.06541449923089615, -0.11718870040264347, -0.06386844952530364],\n",
       " [0.2979597158795788, -0.1033455854888538, 0.1418669892809503],\n",
       " [0.07959988691353569, -0.1875737791754825, 0.4288237645181159],\n",
       " [0.03209818993847511, -0.0640039951259354, -0.017269890171700265],\n",
       " [0.05883899315245216, -0.10904824045532256, -0.038067314331208225],\n",
       " [0.2381269478789878, -0.048361186519275054, -0.028771045059015215],\n",
       " [0.06994489949166212, -0.11799899936168376, -0.004164400628957182],\n",
       " [0.017289443312284134, -0.03300359571088349, 0.014718655082154954],\n",
       " [0.032388121205598155, -0.057907342006060014, 0.07606504417091679],\n",
       " [0.025095752713540156, -0.0449846151742706, -0.034098087518550785],\n",
       " [0.052591919203347035, -0.09055903937187483, -0.03717463508046813],\n",
       " [0.07026228819579262, -0.12891820010657287, -0.05320589673624894],\n",
       " [0.3209653291049953, 0.1567673157886752, -0.00434073007495788],\n",
       " [0.023854247634017074, -0.02874269434750274, -0.015542827152951884],\n",
       " [0.5733413892002084, 0.27985274829942897, 0.01172957908593554],\n",
       " [0.04754938715925671, -0.0869993369102736, -0.05164178051506817],\n",
       " [0.028811119707531238, -0.0516080267957566, -0.033167870518210206],\n",
       " [0.011130513790271105, -0.015798218274902222, -0.005546876476471438],\n",
       " [0.07961246027158661, -0.14953852576538573, -0.06526302238081344],\n",
       " [0.028662016452456408, -0.05656250638501472, -0.012492985522251258],\n",
       " [0.06285644086899772, -0.11633063196539621, 0.0054317176180693144],\n",
       " [0.20540531970051967, -0.01735651726291285, -0.01890079680783484],\n",
       " [0.027782468807103323, -0.03978910718034751, -0.020204553590885965],\n",
       " [0.030987201038669324, -0.05088880390711189, -0.021636736373083002],\n",
       " [0.1982444357590584, -0.03341821253702861, -0.04919560926403146],\n",
       " [0.061864882945519166, -0.11141470950309612, -0.05354085377718171],\n",
       " [0.04912474892499782, -0.08403094558115139, -0.010130971287684367],\n",
       " [0.299236814696528, -0.0028737721223517894, -0.0383808617333888],\n",
       " [0.020730903135499364, -0.03471732182353356, -0.001822335855406391],\n",
       " [0.013236270602670758, -0.02385059311551311, -0.009668312526116914],\n",
       " [0.04753259811689011, -0.09127959313563544, 0.24082248715010354],\n",
       " [0.0440411268111988, -0.07758672450997063, -0.01245473674115873],\n",
       " [0.02161578704280883, -0.02414872117230493, -0.0029154512516318225],\n",
       " [0.03676769726705421, -0.06763473382795052, -0.045774108040549794],\n",
       " [0.040734575578235094, -0.07431726992112801, -0.022039416135431686],\n",
       " [0.0316438795540302, -0.044017264236728026, -0.023450766839878574],\n",
       " [0.015974762475182435, -0.02195387139306466, -0.016208203587327],\n",
       " [0.019951475410295277, -0.03635740714436385, -0.009427600852619447],\n",
       " [0.046463161128327435, -0.10057470619043138, -0.03629345638697129],\n",
       " [0.054444626718279425, -0.08457769116184675, -0.03269012327172447],\n",
       " [0.0811174770801076, -0.16735986843381254, -0.06433912117146572],\n",
       " [0.03964834596270964, -0.07728736140131946, -0.04997500006933886],\n",
       " [0.05669831340618906, -0.10441132649690905, 0.09274785695762977],\n",
       " [0.028251559522245503, -0.051808359508222525, -0.01712133199974852],\n",
       " [0.07611943460225468, -0.1414328390716742, -0.06395186665022248],\n",
       " [0.06921173649784906, -0.11857365309300898, -0.02649991776616193],\n",
       " [0.008029322077816967, -0.016380199521778323, 0.011572484390123133],\n",
       " [0.05893275522324436, -0.11513982263905997, 0.21818321743735403],\n",
       " [0.04844362468554492, -0.08691211133572925, -0.020575483869809646],\n",
       " [0.06488976391833504, -0.1076142723620904, -0.02126821089028456],\n",
       " [0.01856294824313482, -0.0321608191825453, -0.023892427279142113],\n",
       " [0.02913764834563483, -0.04008520361923453, -0.006734085016198633],\n",
       " [0.05039166885448047, -0.09046686979051903, -0.027527913055846977],\n",
       " [0.10482313093183279, -0.19369248546416953, -0.05448347100867582],\n",
       " [0.020405669791748512, -0.02116402701148549, -0.018853901122413984],\n",
       " [0.01305324232386474, -0.021886280961347624, 0.005520968493787411],\n",
       " [0.07633273221574904, -0.1396074321347692, -0.07343075908524009],\n",
       " [0.023140274941542048, -0.039102965650569615, -0.0021823650539102672],\n",
       " [0.34537999325026536, 0.14570226261721694, 0.0047850641045059025],\n",
       " [0.27232528336019035, 0.12296180174195771, 0.008018404520481942],\n",
       " [0.05366861395704041, -0.09256135012797805, -0.04927339526198801],\n",
       " [0.08633725927192369, -0.16817141027326063, 0.029035674275037244],\n",
       " [0.039435470137343887, -0.08493372370281185, 0.009194108015417538],\n",
       " [0.018257120226601736, -0.03402018360011978, -0.02760031645706142],\n",
       " [0.05763229504200485, -0.1101241042365034, -0.04845490158379683],\n",
       " [0.03489278626955155, -0.06678344785313732, 0.12579308828763447],\n",
       " [0.08518206995720783, -0.13801665306804722, 0.12786889161070814],\n",
       " [0.2727275948880385, -0.03299160478872041, -0.03516560051773211],\n",
       " [0.026725829557358086, -0.028754556919821768, -0.010500205942351012],\n",
       " [0.014716585699540603, -0.0206701645900828, -0.010221075119713364],\n",
       " [0.04469804563111362, -0.06542513352120076, -0.051431320857805884],\n",
       " [0.030695657193205095, -0.0642477846870549, -0.004330152933129696],\n",
       " [0.045181359872377494, -0.09277547577100002, 0.12119123670670474],\n",
       " [0.06127970130272174, -0.09674886775640007, -0.043068676298944626],\n",
       " [0.09146639212257136, -0.17962729828740986, -0.054010925913032935],\n",
       " [0.030218339309508402, -0.05312864207028274, -0.019170551725000685],\n",
       " [0.0457177274006854, -0.07322420068217439, -0.022394881992690234],\n",
       " [0.06305843609274342, -0.11344405510974591, 0.05258489072713004],\n",
       " [0.07197654551653151, -0.14203788913555632, -0.027357606109342958],\n",
       " [0.5701199992014121, 0.2870064295986243, 0.003134982911098356],\n",
       " [0.04674092464269435, -0.09011637092924642, -0.014037845900923447],\n",
       " [0.05459242126641859, -0.08392712151046562, 0.07335094194900042],\n",
       " [0.048642628832525694, -0.10352586350212149, -0.03533875829207944],\n",
       " [0.06406162498130677, -0.10878334444158556, -0.025101601653463142],\n",
       " [0.035827132414340206, -0.07091560940503869, -0.013163401092175887],\n",
       " [0.25927807531353736, 0.1119519958787389, -0.0038319438779029725],\n",
       " [0.03783981310678613, -0.05744190414009218, -0.011376033613980223],\n",
       " [0.05826645957214559, -0.09673737436082014, -0.05062897731319737],\n",
       " [0.34516451530333686, 0.17269341302489372, 0.0037367029389620402],\n",
       " [0.021341612256456345, -0.028282053530977784, -0.028212612008001577],\n",
       " [0.05830795942582897, -0.1068425169030056, -0.051455959569634085],\n",
       " [0.1059404514083201, -0.1982230613389871, -0.04795446258863949],\n",
       " [0.035593805724622174, -0.05238915619259566, -0.019431795299995187],\n",
       " [0.07031314359017882, -0.12228645314876528, -0.046375533190324746],\n",
       " [0.022563047764251266, -0.03524380312979743, -0.026568175641240938],\n",
       " [0.05235742778662851, -0.09111867954197597, -0.03446630391773844],\n",
       " [0.029367240218702552, -0.030048848108123055, -0.010878658653134952],\n",
       " [0.006666452226985596, -0.01640388536047394, -0.006509117263294541],\n",
       " [0.584521323528912, 0.2827156403046687, 0.009367565760411764],\n",
       " [0.04228972317845035, -0.0812988279158211, -0.023733921647440002],\n",
       " [0.3849645822360483, 0.09676320663989829, 0.07178850597823531],\n",
       " [0.2581610293614352, 0.10859218911526643, 0.007009498678426936],\n",
       " [0.024041672999384284, -0.04818346517742016, -0.017563432971398868],\n",
       " [0.08169034922139366, -0.15581650104156738, -0.022486786081040676],\n",
       " [0.10328588269152576, -0.21074839604438464, -0.06835403689785317],\n",
       " [0.02228734577538306, -0.041762601000764024, -0.003873919874986045],\n",
       " [0.20160378461086192, -0.06418915706368554, -0.014674848598088677],\n",
       " [0.030251076415422417, -0.04386879579094825, -0.03725880399330604],\n",
       " [0.0805168057337794, -0.15250991876799216, 0.0374910666645883],\n",
       " [0.0701920215696699, -0.12547242206060666, -0.06376005519238172],\n",
       " [0.041720607390701665, -0.0670207520903286, -0.01501785505543194],\n",
       " [0.20529338725401383, -0.04006618748394919, 0.054920490371912704],\n",
       " [0.06347102750095154, -0.11774409227557248, -0.020624213158791725],\n",
       " [0.20957650764063013, -0.02086848774112927, -0.02997653211494635],\n",
       " [0.04280021463741602, -0.08209483152619616, -0.02263803057558851],\n",
       " [0.02647340435649313, -0.043778526141669535, -0.015674050768552984],\n",
       " [0.17784438348834816, 0.06910264894083767, -0.004133971317862085],\n",
       " [0.03637253665012733, -0.0501641986223847, -0.018095673790494725],\n",
       " [0.15083266860538178, 0.034479786042525794, -0.0015100652306796508],\n",
       " [0.015819346310448047, -0.03127912224386567, -0.026099699503808443],\n",
       " [0.04007769488662486, -0.06538849086332106, 0.006403628040029927],\n",
       " [0.2701241739684212, -0.0823376445091156, -0.07878299307614806],\n",
       " [0.06013417197204446, -0.10516010244723475, -0.03877572508257435],\n",
       " [0.030166607863119158, -0.056130723609077296, -0.018307013955134222],\n",
       " [0.08067412380355994, -0.14129875190279073, -0.05284517677905981],\n",
       " [0.3778995020801215, -0.018264945420746297, -0.065546036706773],\n",
       " [0.058468289310551855, -0.10593740734718167, -0.04100829774353677],\n",
       " [0.06078697783765013, -0.11107858686160497, -0.027013729324430365],\n",
       " [0.2257035770634153, -0.06451601426037847, -0.06134351860417141],\n",
       " [0.011257420420431902, -0.01745707483272642, 0.004701238023156686],\n",
       " [0.044646415937568025, -0.08705332781980525, -0.030413882024075505],\n",
       " [0.017321487087715554, -0.03134319681500914, -0.004117881989518634],\n",
       " [0.03284247416468381, -0.057995641058178275, 0.02891048298779928],\n",
       " [0.009897953252263135, -0.012843935611236064, -0.011867410581284689],\n",
       " [0.1001915180543337, -0.20230471421083232, -0.07454072771025723],\n",
       " [0.045091124917589695, -0.07591306343651592, 0.003120557549201981],\n",
       " [0.4569633346517497, 0.19293485264960136, 0.00716247983970736],\n",
       " [0.04217945903996829, -0.07474496995498317, -0.0378270135445742],\n",
       " [0.07781781236625529, -0.15040964917745836, -0.04893363191412939],\n",
       " [0.22674253897458876, 0.09799022160279518, 0.003665081332035568],\n",
       " [0.02784428670698124, -0.04456531618992567, -0.03190231933315856],\n",
       " [0.028671413718311584, -0.05009114752500014, 0.010748850398435556],\n",
       " [0.0633728530449665, -0.1289819665338916, -0.024495193560552846],\n",
       " [0.035689019012393665, -0.07423118829817502, 0.27234815737704166],\n",
       " [0.057451581452872456, -0.10305865545593805, -0.03247218014792417],\n",
       " [0.013507983593670227, -0.026810266438263928, -0.006217846547213347],\n",
       " [0.03985655742233203, -0.0674155044552984, -0.04409567457930085],\n",
       " [9.427214416369346e-05, -0.0003617156589818922, 1.682070666382152e-05],\n",
       " [0.054936380130441435, -0.10232239328863312, -0.04134201742545932],\n",
       " [0.22292333012031929, 0.0903238261203296, -0.0032831867055055355],\n",
       " [0.21191663706715788, 0.0013659542171607433, -0.011652548196351378],\n",
       " [0.07498860603596229, -0.1488911663348163, -0.03967965633457266],\n",
       " [0.021184355408327527, -0.035094276059327884, 0.00020764658871743604],\n",
       " [0.05719424388818241, -0.11038942696276625, -0.04657387915981405],\n",
       " [0.03443197442590008, -0.05568727329099998, -0.020530965883912133],\n",
       " [0.06345501466539029, -0.10919334752222457, -0.005156736269401985],\n",
       " [0.02380813895438821, -0.03454790356534652, -0.0029510461409639277],\n",
       " [0.03927404186816458, -0.06282583823782092, -0.027168730734933904],\n",
       " [0.028433770273704445, -0.05129210619517675, -0.01564289099532759],\n",
       " [0.03862592649043813, -0.07602996046482399, 0.0034704745752602096],\n",
       " [0.10058118951858054, -0.1939740481632891, -0.08220557025200871],\n",
       " [0.27654142346374966, 0.13713558127819223, -0.0031658857659565224],\n",
       " [0.031953511898074306, -0.05495008888064405, -0.022276324261397796],\n",
       " [0.2860188080266559, 0.05058568253319004, -0.005015874470765815],\n",
       " [0.049034865345168065, -0.08618861993376921, -0.006531523948980204],\n",
       " [0.03154425067714345, -0.05123506283966553, -0.015641583838681444],\n",
       " [0.026403325127150913, -0.040270964490548226, -0.0021626769321653255],\n",
       " [0.0656287741725594, -0.11580938181245995, -0.01863989550232196],\n",
       " [0.008524098313643974, -0.010656168262671213, 0.006043169339549065],\n",
       " [0.030165906176885346, -0.04784478944176332, -0.002575035952125053],\n",
       " [0.1438097967335687, 0.008655716590528398, -0.028784372242541306],\n",
       " [0.03214051090197155, -0.04600195042311851, -0.020785910171360528],\n",
       " [0.07971488383425339, -0.16110861944969349, 0.12050167727333594],\n",
       " [0.04047560089985854, -0.08323051255525982, -0.0029344389218447756],\n",
       " [0.013082075940014455, -0.020538993459211726, -0.009727266442630873],\n",
       " [0.023380597723878942, -0.021527650894827163, 0.00214019818340185],\n",
       " [0.0558803669599332, -0.1083173660235515, 0.1964373581215926],\n",
       " [0.06941686093359639, -0.13242239413618928, -0.030464949686037128],\n",
       " [0.028243044044192266, -0.04138127045734904, -0.022696165030629965],\n",
       " [0.06929779013294986, -0.1270670111783752, 0.16611787788603644],\n",
       " [0.04990229340977538, -0.10432661484564157, -0.03163031744832491],\n",
       " [0.07132921681938037, -0.1161481101682972, -0.06319953230783218],\n",
       " [0.0179201575206801, -0.029957855426131483, -0.01881022616943786],\n",
       " [0.24500879084335858, 0.050727778311998234, -0.013976642239192028],\n",
       " [0.020086634062958936, -0.037797252548054036, 0.009385617837530301],\n",
       " [0.08179410642796486, -0.17545707107060418, 0.13671847292265948],\n",
       " [0.07693111567310634, -0.1432544360278855, 0.3492820640337748],\n",
       " [0.016450012876135855, -0.030393166591119743, -0.002085774386127787],\n",
       " [0.10306729220923631, -0.19065472062775032, -0.0948749454521835],\n",
       " [0.10864115712897542, -0.2037660643483159, 0.3642788214426827],\n",
       " [0.008377929855499285, -0.015027103000701286, 0.005845266720785997],\n",
       " [0.018425226614582128, -0.03658434207550028, -0.009552252939417137],\n",
       " [0.06564564604027769, -0.11738195352908916, -0.06851911953187896],\n",
       " [0.04901859630107755, -0.09752517384355139, 0.2132560026920184],\n",
       " [0.011381985592051495, -0.022001961927082245, -0.013797293439363187],\n",
       " [0.026198031169036316, -0.04836730408333277, -0.03027306353187518],\n",
       " [0.015668041665433216, -0.013579959866096027, -0.011298752947343955],\n",
       " [0.02384408129313418, -0.034536094661125824, -0.0036471417375555167],\n",
       " [0.041961891569770884, -0.059043995895926904, -0.0392599194821035],\n",
       " [0.016601091654348043, -0.03654333507625106, 0.021690087140961226],\n",
       " [0.04247112253079849, -0.07177045321716767, -0.018140530539523563],\n",
       " [0.10118992016582075, -0.19317327154727898, -0.04875374268885699],\n",
       " [0.02545345564574063, -0.05198140327063668, 0.023660844126150275],\n",
       " [0.07632523623132592, -0.13729160663410814, -0.06317296102615709],\n",
       " [0.03298560440168034, -0.0644149987265966, -0.027418532573293717],\n",
       " [0.019280898003982583, -0.0225857771171265, -0.004814815160763908],\n",
       " [0.022303494011103403, -0.04368619230967961, -0.00015561955267000879],\n",
       " [0.045478313763978276, -0.09180437863120225, -0.0017399437360378573],\n",
       " [0.022840908359933756, -0.03733058464620433, -0.014523540358746907],\n",
       " [0.06789622519846769, -0.1316259435360571, -0.029500335367294104],\n",
       " [0.14935534285626365, -0.015457941068730113, -0.019834270815998117],\n",
       " [0.03477345277881676, -0.06312160901471042, -0.013819045304456903],\n",
       " [0.22427655113227937, 0.02141231786279557, -0.03304222497165683],\n",
       " [0.039776556672851966, -0.06240411787729229, -0.008444463732847768],\n",
       " [0.016494889721897273, -0.026782528077484793, -0.004900074027515746],\n",
       " [0.04013454482815953, -0.0704077558912712, -0.017357193525251974],\n",
       " [0.2483257698949473, 0.06852132571050867, -0.027561019580291245],\n",
       " [0.04197802724565361, -0.079374490106984, -0.01641304605027401],\n",
       " [0.022301445474243085, -0.03604315002512481, -0.022886704728043748],\n",
       " [0.1931736939208276, 0.040696267240650084, -0.008194488539860057],\n",
       " [0.03892569000243902, -0.05934512919215885, -0.03347997715065663],\n",
       " [0.03993939391698296, -0.0723286191913623, -0.019424968798007845],\n",
       " [0.2554192387407107, 0.03998377426626081, -0.004681739715242548],\n",
       " [0.0412603616896233, -0.07814999425296662, -0.02385924938809169],\n",
       " [0.020964585878400804, -0.03463181470215962, -0.01737155987127723],\n",
       " [0.26625224250954227, 0.09700916899101622, 0.005901278411710724],\n",
       " [0.04049325853092207, -0.08276168501004957, -0.04355721579161741],\n",
       " [0.049565385771527956, -0.08992852179421343, -0.038893553895950644],\n",
       " [0.06418943863515907, -0.12476622500483209, -0.04157685316468089],\n",
       " [0.01672631340085692, -0.029424399177952865, 0.0063022634649380835],\n",
       " [0.07645627265575176, -0.15371366824733212, -0.04025824482333502],\n",
       " [0.05672329140359067, -0.11202445422136284, -0.02331057699711943],\n",
       " [0.055753590598666664, -0.10584154249590078, -0.05575844734896089],\n",
       " [0.02467953440541812, -0.04607036398252604, 0.00025201034805810707],\n",
       " [0.01870450650626551, -0.03484793781563665, -0.019077625691719353],\n",
       " [0.03606270712461717, -0.07599195479475253, 0.026065022308099112],\n",
       " [0.019718450912258576, -0.020877170208357734, -0.008986860179083681],\n",
       " [0.027867954863054926, -0.04155320564673119, -0.0070089763186790815],\n",
       " [0.03523997556601492, -0.06202734153553866, -0.018339410962115704],\n",
       " [0.023134802880604113, -0.03283524433697055, -0.029591809354946045],\n",
       " [0.055787352224220176, -0.10138192707284249, -0.02078037117874666],\n",
       " [0.02953591368979828, -0.05348972962041628, -0.011788426606071779],\n",
       " [0.21116085309618324, 0.10446140282954411, 0.00648834163004665],\n",
       " [0.27937816170283114, 0.1032546885225106, 0.010574442735199268],\n",
       " [0.025487853323405855, -0.03539660684918665, -0.005630065272479693],\n",
       " [0.05903386457082112, -0.10782926923205718, 0.09711220090683902],\n",
       " [0.04897070008028749, -0.0806883096229148, -0.025578445843702276],\n",
       " [0.0431986476638387, -0.08898984038488691, -0.04808220302716078],\n",
       " [0.04872804239756041, -0.0904985445438563, -0.03702189020094932],\n",
       " [0.0239386358159371, -0.036412647151818994, -0.01967088983372075],\n",
       " [0.043378946125869476, -0.07570532838261107, -0.007262437275470407],\n",
       " [0.016385519880314156, -0.031378375356483204, -0.016582939027630847],\n",
       " [0.2388597533881093, -0.0706219993582693, -0.04858417130303987],\n",
       " [0.05078853801224692, -0.09847258706407654, -0.02472909106456516],\n",
       " [0.058907705330594126, -0.1166055215327771, 0.02805237655284368],\n",
       " [0.029149092538082053, -0.041974299198261227, -0.018009746807309556],\n",
       " [0.45676907506682624, 0.17834886626755486, -0.007453175427511432],\n",
       " [0.04340217454977584, -0.07129469347902657, -0.029354059001462922],\n",
       " [0.29895722677140735, 0.08671893132346821, -0.007770584363865204],\n",
       " [0.2652184725634082, 0.005781021480290913, -0.04752570252922028],\n",
       " [0.022058080571453594, -0.023308977162355644, -0.010666487059511577],\n",
       " [0.0378189869327112, -0.05164993840051399, -0.028262706209782225],\n",
       " [0.011543377421307923, -0.01766129282414624, 0.005349887238588676],\n",
       " [0.4345723753204924, 0.13087606981869593, 0.0014569170301230781],\n",
       " [0.08352805883924248, -0.1343506174845429, -0.0474938002091127],\n",
       " [0.06589835550379544, -0.12423397102140016, 0.2849297523007441],\n",
       " [0.006712147808399495, -0.015020191854052213, -0.006948373656319898],\n",
       " [0.07045197619166964, -0.12218856801990967, -0.05249441251594449],\n",
       " [0.06793029256771956, -0.13947046439146948, 0.4160342703797257],\n",
       " [0.022781824790889905, -0.03838750339435383, -0.04469682326374903],\n",
       " [0.17822310065747338, 0.03197150914684756, -0.016564487247965106],\n",
       " [0.06285375885906902, -0.11408983603459943, -0.021255141250567156],\n",
       " [0.07739015027775835, -0.1310803299246869, -0.04541755173895684],\n",
       " [0.34730538857424836, 0.036752138452394986, 0.168356690045344],\n",
       " [0.0698909101961227, -0.1213344573039333, -0.010187975839608643],\n",
       " [0.049134015776658796, -0.08483109576451682, -0.036340591863017795],\n",
       " [0.03607560224527519, -0.06758784745776161, -0.012189611128149654],\n",
       " [0.06975115768949838, -0.12406218360034044, -0.05535580721866105],\n",
       " [0.024881229010811134, -0.05130871324083054, -0.04308973106997599],\n",
       " [0.04508760902718723, -0.07481934433037961, -0.03893137776315371],\n",
       " [0.020879597059254566, -0.04075059296941544, -0.027598753859997667],\n",
       " [0.05022596078151165, -0.08615875468903915, -0.028920141961412796],\n",
       " [0.027564613523500796, -0.05996851270374384, 0.026047970939205568],\n",
       " [0.09246812485845546, -0.1676400924544211, -0.07945435744651944],\n",
       " [0.035564200210788155, -0.06402063278188715, -0.02765044275352199],\n",
       " [0.02453476751113635, -0.03658001711914278, -0.015591015773054849],\n",
       " [0.20293515578045268, 0.034044844885992825, -0.040355237175474665],\n",
       " [0.020320692915535003, -0.02531502224663768, -0.013882584522871893],\n",
       " [0.009116745503699687, -0.01700261191844544, -0.00501330052976893],\n",
       " [0.037551278657917415, -0.06744010677554378, -0.019168953470255802],\n",
       " [0.0374891939871063, -0.06117807500727776, -0.02968509876653543],\n",
       " [0.3577618918774827, 0.04647018206750686, -0.02337075740037671],\n",
       " [0.37507156399895875, 0.10999000359823462, -0.028783102793796277],\n",
       " [0.0669581480384527, -0.12773296337847398, -0.023298856328277284],\n",
       " [0.20717966892540976, -0.06891130946741543, -0.023039825206456695],\n",
       " [0.020867871129420013, -0.03600634189407257, -0.012970449056794855],\n",
       " [0.2542965296007511, 0.02603775039597528, 0.08625975389139014],\n",
       " [0.02454678320354834, -0.03955257861185953, -0.028963366080390567],\n",
       " [0.06749942910109417, -0.11526533484372865, -0.033810422519937405],\n",
       " [0.0077678853926576455, -0.004601573357919191, -0.00547464392012081],\n",
       " [0.053373644238446254, -0.09947388808957856, -0.017879937279049563],\n",
       " [0.0005604393074797186, -0.002243964995027102, -0.0014441345499470592],\n",
       " [0.03941172485914198, -0.07524669840157741, -0.029444925788457404],\n",
       " [0.4264065578440863, 0.21996566421672617, 0.0014490967398749326],\n",
       " [0.0510583791432824, -0.0947931352007842, -0.015545911244320271],\n",
       " [0.05484596166945819, -0.10214779681274933, -0.020835393616137572],\n",
       " [0.030738353553621367, -0.05203628941123356, 0.007564398442980193],\n",
       " [0.06028950706275255, -0.10784650716661005, -0.006202291154271478],\n",
       " [0.11031539663268133, -0.20673389681902413, 0.19484888434849076],\n",
       " [0.03195979436722898, -0.045946855819157154, -0.013304197710335702],\n",
       " [0.03160862182837725, -0.05867876022479637, -0.023794922891916107],\n",
       " [0.005510725203919502, -0.00938700793809116, 0.010003845633906348],\n",
       " [0.21927634744561045, -0.0028981065302128833, -0.013610861808543161],\n",
       " [0.021663088638262027, -0.03307244836667091, -0.013918206927446568],\n",
       " [0.2233769376714075, 0.07415861827508925, -0.008080465489484337],\n",
       " [0.004916033398605756, -0.004527210778627788, -0.001647558707399193],\n",
       " [0.042106273871314215, -0.07911500788004894, 0.06213405000596943],\n",
       " [0.09375141584549587, -0.17307008245510247, -0.049304227375954114],\n",
       " [0.0472156100312226, -0.09689717894347016, -0.022358027473461602],\n",
       " [0.0022657446050778278, -0.0019372509228931017, -0.002641835437469002],\n",
       " [0.01159486312971794, -0.024678128884322664, -0.01970832950579319],\n",
       " [0.23222494877812538, 0.03544086883798565, -0.02154784441215435],\n",
       " [0.19278876840011339, -0.030209657223991177, -0.021676578529137534],\n",
       " [0.07542655828555085, -0.1378867993864789, 0.10335186081096531],\n",
       " [0.15642634203581232, 0.005619405396379375, -0.014320519184456258],\n",
       " [0.0747180945080892, -0.14823401634430755, -0.02621181543578781],\n",
       " [0.05788652224257481, -0.10400672223543275, -0.011306673080385157],\n",
       " [0.10455095180289921, -0.19752880298835018, -0.035502672957034416],\n",
       " [0.044414862274824385, -0.08255671158445813, -0.01615490656898927],\n",
       " [0.03661819474205012, -0.06594767649719806, -0.017099072001262514],\n",
       " [0.02352610499134745, -0.04729391487982492, -0.0073276983627856744],\n",
       " [0.06302758913861817, -0.10424067386746863, -0.007235162523475174],\n",
       " [0.06528633837531526, -0.12688490646211611, -0.036637259823659035],\n",
       " [0.17003754129496312, -0.0540578166834005, -0.006837909013570781],\n",
       " [0.06606774398256383, -0.1227910319137932, -0.010168396955829401],\n",
       " [0.04653936916924288, -0.08230170625954941, -0.00740478006253501],\n",
       " [0.010039376426327707, -0.02349885477070724, 0.003643347099310627],\n",
       " [0.06661590840200957, -0.11528260783173358, -0.027781070267509814],\n",
       " [0.029469446308587104, -0.03620517730093427, -0.005835302473711399],\n",
       " [0.03957377549190093, -0.056573147939536716, 0.07723243238422288],\n",
       " [0.2516300158812456, 0.007271601782515923, -0.012067918595037384],\n",
       " [0.019904724489362757, -0.042225602648785256, 0.004329492812783327],\n",
       " [0.05357154320695231, -0.09149885593225257, -0.04205999448122381],\n",
       " [0.10219606219437631, -0.1974190188040789, 0.05519138199871554],\n",
       " [0.05908561135553236, -0.10775296955121255, -0.05146264395541096],\n",
       " [0.07340708516823434, -0.1318464980887919, 0.41054093737316066],\n",
       " [0.010817079836409319, -0.016645437386171368, -0.007610161249109078],\n",
       " [0.0832607456322739, -0.148783363555002, -0.04803397502736998],\n",
       " [0.0752015226629851, -0.13586232944387397, -0.08002790224266301],\n",
       " [0.513678712299228, 0.11518095562052845, 0.08210624795709018],\n",
       " [0.031827933011809036, -0.06657720387546648, -0.04878473460709521],\n",
       " [0.02850131172935513, -0.043607440410768375, -0.039868390276420265],\n",
       " [0.4523112151080012, 0.01660885673131636, -0.030749744507835033],\n",
       " [0.04990397989089015, -0.09384789603518766, -0.028830465635899277],\n",
       " [0.04294833263793639, -0.07720521375044513, -0.02893508976894596],\n",
       " [0.12530438105869182, 0.011332706205624297, -0.02526311987926007],\n",
       " [0.02138242225843384, -0.02104481304475761, -0.013373451535343469],\n",
       " [0.06594889029147603, -0.13362194358279716, -0.031780448897281634],\n",
       " [0.025371678652363082, -0.04265937195646146, -0.011542849440581246],\n",
       " [0.3982935669103771, 0.13546673066825848, -0.0014317771800635105],\n",
       " [0.041208110034198074, -0.057566578028856084, -0.026268367095693496],\n",
       " [0.10654368113604828, -0.2018105714403718, -0.02382245789462238],\n",
       " [0.035058731428062415, -0.06267613680866023, -0.013890344462101335],\n",
       " [0.13339203737692165, -0.2714941836726216, -0.04389986867426496],\n",
       " [0.019824346253196196, -0.027353770443017893, -0.02625274991097662],\n",
       " [0.5106693804821943, 0.2301735094817349, 0.024023987915565346],\n",
       " [0.007054414033604773, -0.010118676656571061, 0.008407688186464753],\n",
       " [0.25675662273670924, 0.10110056009234906, -0.00585939000185864],\n",
       " [0.05759957496233362, -0.09907592422650809, -0.03700029963802914],\n",
       " [0.029943443186417576, -0.051809839520428044, 0.00288686862744607],\n",
       " [0.038705161393421866, -0.06746493115660451, -0.010105809424852445],\n",
       " [0.08187673937606593, -0.14613211050359823, -0.0012781425899267558],\n",
       " [0.02827707147730528, -0.052686927156444754, 0.1267153137445067],\n",
       " [0.06427844270687243, -0.1279436116585674, -0.032647141113154254],\n",
       " [0.02486378725979406, -0.03598262185869623, -0.02050372735424167],\n",
       " [0.04378032335431276, -0.04506543019968039, -0.01789853805204496],\n",
       " [0.10220403293877685, -0.19889128539265188, 0.30885655512316057],\n",
       " [0.14865619853406462, 0.03555405891440305, -0.01530068423951683],\n",
       " [0.017835862694064515, -0.04376763451870001, 0.010611487399822213],\n",
       " [0.08865691274998809, -0.16113638166798755, -0.029262519987174725],\n",
       " [0.03106188399688427, -0.04997735638530284, -0.032204828347409786],\n",
       " [0.05321437450827785, -0.08111980627958118, -0.008848078549423447],\n",
       " [0.02812661995759126, -0.053608038010250395, -0.00731013006995225],\n",
       " [0.2086954006782614, -0.019649994504723538, -0.03434865249339344],\n",
       " [0.014749417964197181, -0.025272042913235763, 0.0058264052902894554],\n",
       " [0.04596529801449216, -0.09040018675848059, -0.020280391862600732],\n",
       " [0.034973792646969024, -0.0679868939898569, 0.1496294224078873],\n",
       " [0.04112495544474956, -0.07034998560760738, -0.03195563270277725],\n",
       " [0.03124286704671512, -0.043295221780253974, -0.0025566979281218573],\n",
       " [0.013377612447254498, -0.025350960638849257, -0.006184796282325005],\n",
       " [0.04763983807933065, -0.08783189563894628, -0.021702795348091972],\n",
       " [0.039984733672973304, -0.07013539528282159, 0.08347502408318712],\n",
       " [0.05572296932445983, -0.07924282582227937, -0.07929233500310459],\n",
       " [0.12411615308145832, -0.23055176541273995, -0.044307141241240626],\n",
       " [0.006157870925647846, -0.010339906812746377, -0.006303643665393046],\n",
       " [0.03711160233543612, -0.07628168493001207, 3.8879564727794386e-05],\n",
       " [0.028997448049868476, -0.040160609607597667, -0.010560857850513205],\n",
       " [0.012568491737800645, -0.025520935410878878, 0.0073178375150701296],\n",
       " [0.012104898965240182, -0.021015066334514283, -0.01107273274048763],\n",
       " [0.028451668681092376, -0.06504816532668747, 0.011465485932448782],\n",
       " [0.03467965822512467, -0.04910650472843096, -0.005892340622703795],\n",
       " [0.04970623691844212, -0.08600873324973994, -0.021233308465609363],\n",
       " [0.04576309701518359, -0.06319509785368985, -0.01969550544740593],\n",
       " [0.046121336567546585, -0.07227782255766392, 0.018757936277680493],\n",
       " [0.046053189870721586, -0.08720127205012333, 0.0809499218311235],\n",
       " [0.026315897365132623, -0.041832609920585725, -0.020312503753631125],\n",
       " [0.021368541364365095, -0.034881539418166664, -0.010509397484690102],\n",
       " [0.0780484114576827, -0.13571270226467594, -0.02841755373927957],\n",
       " [0.0544456374125123, -0.09835082566643308, -0.009775304707441673],\n",
       " [0.0695288347757702, -0.15608499284276992, 0.032484575904828006],\n",
       " [0.015869656348596276, -0.02272072537102266, -0.0030009009395696694],\n",
       " [0.035005675471353706, -0.06438229072056316, 0.010483792285203799],\n",
       " [0.008770426502458534, -0.009860166152354697, -0.006263162096389287],\n",
       " [0.009183227809721623, -0.018400301497719974, -0.007269894509312775],\n",
       " [0.3150840940197468, 0.151791910666648, 0.006207740416169964],\n",
       " [0.06756017208033038, -0.13039930550251264, -0.01993413765071378],\n",
       " [0.01925634115752836, -0.0333635362353517, -0.012828066824359167],\n",
       " [0.05693789379297482, -0.10863958936046925, -0.05940399070920108],\n",
       " [0.05517445837471954, -0.09931051726190836, -0.050045065635908374],\n",
       " [0.06916504005805975, -0.1479772973572717, 0.2698547022495884],\n",
       " [0.24645892868184394, 0.10611224647264052, -0.006193117640603126],\n",
       " [0.007440989919911166, -0.011140827549608079, -0.005036467459745856],\n",
       " [0.06839208689971658, -0.12181609669817729, 0.11270594378805569],\n",
       " [0.20189778964358998, -0.006853692234507535, -0.03496648592673725],\n",
       " [0.37086806914783343, 0.06384448189197814, 0.07445102118521833],\n",
       " [0.00324357711462442, -0.008721123560814347, -0.006180394399234059],\n",
       " [0.030943231971933147, -0.06815020579483616, 0.0018572693746327917],\n",
       " [0.06568144862603065, -0.14647441030846117, 0.6733595889539905],\n",
       " [0.05556446680577226, -0.09852580655551933, -0.0052253180744355416],\n",
       " [0.046308821865411895, -0.08911004841140335, -0.01552261113282478],\n",
       " [0.09605622933500028, -0.18883519455087716, -0.06755088151602144],\n",
       " [0.09289828895270773, -0.18473502565737074, -0.06342738753903551],\n",
       " [0.03405826296613062, -0.046514121984270435, -0.013916148389767315],\n",
       " [0.02294129713118884, -0.0379549603318316, -0.010756973435787421],\n",
       " [0.0408648161248606, -0.07545994139902257, -0.045617735367151004],\n",
       " [0.04658095063300767, -0.08753375784486266, -0.04124708844102845],\n",
       " [0.0313501646752274, -0.050383956668663264, -0.017965160356259526],\n",
       " [0.05869055793590809, -0.10049538604093257, -0.030906902390818183],\n",
       " [0.021293152837297373, -0.03873699495480096, 0.012610828599891773],\n",
       " [0.036338304741888816, -0.0702405490859663, -0.02064384721481852],\n",
       " [0.03396667855831542, -0.049121121382082196, 0.07338326368891643],\n",
       " [0.21474271312692325, -0.011100521770374516, -0.014874661000597998],\n",
       " [0.031204922879405537, -0.050639170879993964, -0.005012120919552404],\n",
       " [0.05167927233226697, -0.09990946465495434, -0.050470373869991564],\n",
       " [0.035590532467990356, -0.05567986360422985, -0.02293868276110936],\n",
       " [0.08671907904059795, -0.16796289377708032, -0.02007388323867263],\n",
       " [0.291688004594583, 0.010673846271657062, 0.24251248176593984],\n",
       " [0.029866295867155467, -0.04463529739015366, -0.02125853221631103],\n",
       " [0.03422968856281525, -0.047356082378112646, -0.04453944009784111],\n",
       " [0.06685444543222696, -0.1271549056441444, -0.0684455666995819],\n",
       " [0.04214518927617537, -0.06990559392165356, -0.008194735719127065],\n",
       " [0.05017238995905691, -0.09970472452844537, 0.004320044366995922],\n",
       " [0.04380111035553518, -0.0919039862053627, -0.026638129334435594],\n",
       " [0.10538066233601862, -0.21225828296946686, -0.06256792676051018],\n",
       " [0.06265994295917529, -0.10418662262361894, -0.0368873033375247],\n",
       " [0.05423197952586784, -0.08189346814884725, -0.025338369619625267],\n",
       " [0.046692267971290696, -0.0800010913749621, -0.03978403926506441],\n",
       " [0.008627388703046463, -0.013803807204304828, 0.013261149848763745],\n",
       " [0.04715699503525853, -0.07544213492939973, -0.014637418510358921],\n",
       " [0.016014079135954006, -0.024937832672100434, -0.002615820263530557],\n",
       " [0.04675244379998484, -0.07384214496495949, -0.009842847649422604],\n",
       " [0.026359938598213523, -0.05182268598979363, -0.03370273042557683],\n",
       " [0.07326406011268412, -0.1348802380888501, -0.018129299777015523],\n",
       " [0.013208685003490157, -0.009875705198747281, -0.00979782796079759],\n",
       " [0.2505703727828114, 0.10491500549970689, -0.015168287222167178],\n",
       " [0.40932779114468226, 0.19608503913357989, 0.012117310577469145],\n",
       " [0.03250258326806633, -0.04865724857440859, -0.02197568678618516],\n",
       " [0.06099332646123993, -0.10640736757437713, -0.03182098921447268],\n",
       " [0.06975638862706077, -0.1350720205002596, -0.041790822567289415],\n",
       " [0.05239718521425667, -0.09442850128913399, -0.031198603771351557],\n",
       " [0.05324343822279289, -0.10691481872330566, 0.15528179840812453],\n",
       " [0.05123672875568974, -0.08103624708778649, -0.020156701552002994],\n",
       " [0.17788524662862068, 0.03042603890387537, -0.01540380883029925],\n",
       " [0.03367576973208141, -0.04554883132473409, -0.006088047214792221],\n",
       " [0.01087771160018374, -0.01543698613863537, -0.002307591417218279],\n",
       " [0.04298365041939363, -0.057423211365584544, -0.033026321093349686],\n",
       " [0.044053093561512234, -0.062223052802058566, -0.07071787626807358],\n",
       " [0.08319718820076646, -0.1529132506752056, -0.050292899463219985],\n",
       " [0.05477948295092577, -0.10268648051483296, 0.14579222660032243],\n",
       " [0.0464249216180803, -0.06665157793735309, -0.03564968249689389],\n",
       " [0.05777793797754483, -0.09397470724640732, -0.010065230700892693],\n",
       " [0.044057319201625346, -0.05972998125286578, -0.01107374794306533],\n",
       " [0.049303566030667045, -0.10552306411453896, -0.026392321467463134],\n",
       " [0.015433175217688316, -0.026664330245638104, -0.02339212085273431],\n",
       " [0.2583751663111803, 0.07153665945453135, 0.022462812356160964],\n",
       " [0.024924850344662925, -0.049652204642048885, 0.004120156457399064],\n",
       " [0.041108390373970356, -0.08607061570349714, -0.03830334042877187],\n",
       " [0.04013246543906883, -0.07214440867740096, -0.022904454354598883],\n",
       " [0.049368208498804036, -0.07688389615756845, -0.012262185711234145],\n",
       " [0.03891822635285472, -0.07936230161165166, -0.021485721317438092],\n",
       " [0.009531996110064092, -0.015388445400784408, -0.010065267833970673],\n",
       " [0.08972339640967886, -0.18625418819237197, -0.03295260320743206],\n",
       " [0.07358563080938514, -0.14175400677940259, -0.014909988379751854],\n",
       " [0.048893010548006696, -0.09288083313824928, -0.0168611532491582],\n",
       " [0.03211369413420883, -0.05331014483581481, -0.011394752004271643],\n",
       " [0.34954832852859163, -0.049367522791856355, 0.2224205756808366],\n",
       " [0.0946550852262227, -0.19817004955961784, 0.230384825846902],\n",
       " [0.06186196124228047, -0.1253383584137954, 0.11456602018121458],\n",
       " [0.024737769303113263, -0.03782694100336012, -0.004474863185494719],\n",
       " [0.01878099225551441, -0.0255931760107536, -0.014700083949149846],\n",
       " [0.03958987184817758, -0.05663489145140362, -0.02600968668863974],\n",
       " [0.011481181322620784, -0.02064846129589218, -0.013870712723616927],\n",
       " [0.03871568546609668, -0.07016173540914054, -0.002580074202440891],\n",
       " [0.026193604595293747, -0.05279418174635319, -0.014849402577708316],\n",
       " [0.03537414807623038, -0.06624111090771272, 0.006018540963436439],\n",
       " [0.004031120643616485, -0.0023137606724019785, -0.0007542341519294121],\n",
       " [0.11000588556257292, -0.030899722042484083, -0.009975713474717127],\n",
       " [0.055592231808429204, -0.1041079604135876, -0.050566723003688856],\n",
       " [0.0010862767649001724, -0.0009549517612556608, -0.0018128447685878844],\n",
       " [0.014862409187097624, -0.025088810126445094, -0.009329064633945143],\n",
       " [0.011707673433580574, -0.014064580799078021, 0.0025257480994814183],\n",
       " [0.023616635554448408, -0.03215485340526626, -0.01480632765250589],\n",
       " [0.24179263745225713, 0.03874239118066926, -0.021251511336042493],\n",
       " [0.274214030738632, -0.11848523474998185, 0.24051967238867866],\n",
       " [0.1848778593282979, -0.01968211508528624, -0.04541661346867885],\n",
       " [0.0604376870517348, -0.10552509541538395, -0.0225810929702773],\n",
       " [0.02326062623865554, -0.03364978568684859, -0.011412901697975833],\n",
       " [0.0019599785118640006, -0.005806410522614447, -0.004212732955231986],\n",
       " [0.04014452318938976, -0.06526894633797736, -0.02254029495891899],\n",
       " [0.06619460679188065, -0.12472470474281773, 0.14669497721951255],\n",
       " [0.036225860424265385, -0.05097825594921723, -0.020163722282450253],\n",
       " [0.06859349271728081, -0.12372567942103972, -0.03853205393032347],\n",
       " [0.056613185582173514, -0.09833776669087038, -0.06398096948639839],\n",
       " [0.07495764476332377, -0.14211875239304006, -0.08872176960172141],\n",
       " [0.06353315257520893, -0.10593282724165506, -0.06332948878238372],\n",
       " [0.024048083444301743, -0.04300071500304704, -0.03591828590767861],\n",
       " [0.03568660018046846, -0.07757377885638515, 0.35659275435485954],\n",
       " [0.03999333107463557, -0.0790220416513494, -0.0103552251594811],\n",
       " [0.060872167964119095, -0.09730564859127817, -0.06018619595507506],\n",
       " [0.03281694954049112, -0.0628700252736727, 0.00776687813439742],\n",
       " [0.04343079913501871, -0.08532925643026684, 0.18810158192939486],\n",
       " [0.04651121860655307, -0.0935355332121258, 0.2097904958479308],\n",
       " [0.2483287828736414, 0.05764247498033708, -0.028050076813189606],\n",
       " [0.045656545491510235, -0.08600591546859554, -0.005300045679462368],\n",
       " [0.03383656278591176, -0.05725243027461485, -0.04775926420135774],\n",
       " [0.21300629480323482, 0.02212845888340463, -0.048213983459528154],\n",
       " [0.06156177818420824, -0.11901745857600224, -0.046121949200068305],\n",
       " [0.04478752617049493, -0.07279618054815779, -0.053186967701486565],\n",
       " [0.015648122114798796, -0.017155103131430413, -0.018047417364668996],\n",
       " [0.04140853870264409, -0.07966007440562456, -0.004020693100639346],\n",
       " [0.36146229419257725, 0.024215940057854643, -0.03376667863782026],\n",
       " [0.019230696841999236, -0.03651725384080848, -0.023805993277143066],\n",
       " [0.307867093882154, 0.011208071164735468, -0.0316386830158351],\n",
       " [0.05106144777133279, -0.09820039702831194, 0.1430954662325254],\n",
       " [0.4396699891536641, 0.15583415304257967, -0.01587468298761229],\n",
       " [0.02428145636747367, -0.04179821278095983, -0.012492876239750261],\n",
       " [0.05488416656672935, -0.10389117695934437, -0.027047001523265078],\n",
       " [0.03989950566466275, -0.06800434562967342, -0.03522850178368759],\n",
       " [0.038953158248393724, -0.0645169237185026, -0.007853084347564992],\n",
       " [0.05485259963823613, -0.09115880515867161, -0.03186465081965725],\n",
       " [0.028595499786543594, -0.04559309546809417, -0.0005745518363303812],\n",
       " [0.0362763443966983, -0.06489499546543032, -0.028151429798659224],\n",
       " [0.05096438329661621, -0.08926370551545093, -0.014584779727697606],\n",
       " [0.06123434746835696, -0.13064100747859556, 0.21755248679460315],\n",
       " [0.0019621871583818153, -0.003069011985323142, -0.0021952509220418367],\n",
       " [0.023694457503593946, -0.03359252056458041, -0.01972357444956007],\n",
       " [0.032833920773326516, -0.05249452383187158, -0.016939329272880506],\n",
       " [0.029134371178926574, -0.041605869251039006, -0.015561163517438026],\n",
       " [0.20575878599742042, 0.03282989462486251, -0.001132064117249787],\n",
       " [0.016700111428155744, -0.03236049988907769, -0.009589470150897717],\n",
       " [0.05137577845088164, -0.10248265754918154, -0.027236082413180915],\n",
       " [0.04327262437775315, -0.07678714723136536, -0.028944982302982366],\n",
       " [0.028973132358932157, -0.056617738687831626, -0.015035926321051078],\n",
       " [0.5964491273585568, 0.29146261152630526, 0.003400092851006887],\n",
       " [0.0255795449252013, -0.0421586021671167, -0.012736209305271097],\n",
       " [0.017318434855025308, -0.029668489027661483, -0.014166092194490344],\n",
       " [0.0437558082010409, -0.08439821525717008, -0.05145053383156499],\n",
       " [0.0817885480988341, -0.16133573370535206, -0.0348325651442031],\n",
       " [0.10583939216197771, -0.21481432699857253, 0.14625629006513913],\n",
       " [0.0721679270265083, -0.1275909225316362, 0.09432578688036365],\n",
       " [0.025129479050625413, -0.04399130293490562, -0.031422626243432374],\n",
       " [0.018432065973620994, -0.02469258975557885, -0.006707205102526261],\n",
       " [0.057611454133706094, -0.08875166432522935, -0.009021658321057013],\n",
       " [0.3415452849394455, 0.08214134784260708, 0.06106471754787626],\n",
       " [0.01019213789035104, -0.02040733127240653, -0.0030653230978618723],\n",
       " [0.020867398344174184, -0.030886705807246992, -0.014545723049228973],\n",
       " [0.1812880242020943, 0.0032574222681078036, -0.02904613414687325],\n",
       " [0.04256000564412555, -0.0830318676563482, -0.05034459584864256],\n",
       " [0.042203339058609075, -0.06669602330206004, -0.011227021303274583],\n",
       " [0.03830871423053495, -0.06809834788969582, -0.025852767412679264],\n",
       " [0.2201309663935662, 0.02344294651294831, -0.03224630652235232],\n",
       " [0.036221417890935206, -0.0666887563516096, -0.014909571879418153],\n",
       " [0.029367081901419297, -0.05115784081194305, -0.02450478490171399],\n",
       " [0.05527109329055286, -0.10402523282381985, -0.025088499120275113],\n",
       " [0.07106826044578843, -0.1132167460044313, -0.037440621394575095],\n",
       " [0.039025553531071996, -0.07996046284920004, 0.1509715281027101],\n",
       " [0.22826380829881285, 0.03488417468442842, -0.010029190463848684],\n",
       " [0.2445945804547154, -0.047735676742615044, -0.041866966490316855],\n",
       " [0.00934425363748946, -0.010130916098026563, -0.0049109564853908536],\n",
       " [0.21017512119605644, -0.01088478302361252, -0.015139939778431255],\n",
       " [0.009798151473717166, -0.012973414457556566, -0.01038151588715665],\n",
       " [0.0666303235434611, -0.12103897192783454, -0.04039693675620145],\n",
       " [0.049024821643525486, -0.09770911015301571, -0.0491109023294809],\n",
       " [0.05643629722608924, -0.10724951156610105, -0.023085811355970837],\n",
       " [0.2406134707895091, 0.053865813018678654, -0.03286005394902981],\n",
       " [0.2573201144729125, 0.10090416926594441, 0.0030617374421013596],\n",
       " [0.03396051293685795, -0.0555197060887612, -0.02250435393072745],\n",
       " [0.041836199058582546, -0.08871663663681947, 0.14361810624371138],\n",
       " [0.02858784246108529, -0.0482491070325979, 0.1065927407327442],\n",
       " [0.17077151025231158, 0.0377939642197756, -0.003622121324175574],\n",
       " [0.01945062259179127, -0.035932858580030286, -0.018227033418383387],\n",
       " [0.04196290310287749, -0.06834285682893348, -0.037370793603449096],\n",
       " [0.07818447997771176, -0.155695284443615, -0.082704937704424],\n",
       " [0.04978089637329734, -0.10701738011877376, 0.008259418563696304],\n",
       " [0.1815480269112215, 0.018576879812335318, -0.015247640898786843],\n",
       " [0.012568413290996583, -0.022262842087344022, 0.0022690524884946086],\n",
       " [0.06209419312047313, -0.09883554584731258, -0.023755922426079292],\n",
       " [0.09843810290875232, -0.17532777472078806, -0.0482993970718718],\n",
       " [0.02095279164412489, -0.04920402296821784, 0.02310022803137172],\n",
       " [0.09200284132267923, -0.17758657282194354, -0.014305577689701319],\n",
       " [0.08010381696058766, -0.13747945972731007, -0.05079375793937795],\n",
       " [0.0320428263535604, -0.03095086692720876, -0.025559244722434368],\n",
       " [0.06469673713346191, -0.1064876061218217, -0.047515637997859184],\n",
       " [0.059874846915475295, -0.10638972897699514, -0.05634288577260684],\n",
       " [0.02341024052418217, -0.03748069117741376, -0.005907621998014149],\n",
       " [0.043152770584146544, -0.06592831466308814, -0.003773253494708568],\n",
       " [0.035263893436187736, -0.062322969058892765, -0.03575084481359771],\n",
       " [0.008844437542177353, -0.0070211835418649785, -0.0061724360679557356],\n",
       " [0.014027755696320211, -0.019541194275554362, -0.0029414092059730224],\n",
       " [0.25435685228277816, -0.09971598159808553, -0.0557831126019738],\n",
       " [0.04049468861408875, -0.07352234270399975, -0.0334890171408065],\n",
       " [0.31334298051667103, 0.11275474876096049, 0.009460122131118144],\n",
       " [0.3288559242551809, 0.11320610114027123, 0.004327249739567616],\n",
       " [0.06481283213295647, -0.12713235085130434, -0.03716611373057049],\n",
       " [0.04534795132113443, -0.08772827118612718, -0.027368309374344292],\n",
       " [0.02093179022318076, -0.035637443558634574, -0.018740717762714937],\n",
       " [0.026680078010715924, -0.035120731826961196, -0.004978394003517739],\n",
       " [0.3442176052823116, 0.0916732515177048, 0.152218736060564],\n",
       " [0.02911603974603157, -0.04764014546769985, -0.02173680720334682],\n",
       " [0.010040230037401263, -0.012351031878095711, -0.0038712219448740516],\n",
       " [0.09665204181946331, -0.1845128261323, -0.09333845630788566],\n",
       " [0.048847648930283746, -0.07429828111556865, -0.030784469028662644],\n",
       " [0.031217258487672952, -0.05136694838706614, -0.03083301858301534],\n",
       " [0.03382618274908817, -0.06978858990360132, -0.024235635522864382],\n",
       " [0.032100500066412616, -0.06774515180233466, -0.04134431358089196],\n",
       " [0.06471221049087934, -0.12870926651300651, -0.031132635689809004],\n",
       " [0.05028906077108371, -0.09344882216301068, -0.050407803505139584],\n",
       " [0.08649774470992509, -0.1632927342416063, -0.08059024425939189],\n",
       " [0.06262731382653748, -0.12021918320363872, -0.06898771321088368],\n",
       " [0.054589804645546795, -0.0958038509890451, -0.027771218032414342],\n",
       " [0.3916644576497032, 0.0793196052423195, -0.06416623954483466],\n",
       " [0.0313380463218486, -0.05724634049711524, -0.024864702571213537],\n",
       " [0.21777973178553184, 0.04275455094602863, -0.011151251664798726],\n",
       " [0.03049155921597392, -0.0435809781227524, -0.026706489373084612],\n",
       " [0.4264600991804318, -0.02747676194701261, 0.1282257562405143],\n",
       " [0.03886474289680975, -0.05685646741501302, -0.012968678833216498],\n",
       " [0.02690104477408566, -0.046119176458806935, -0.026688938897131156],\n",
       " [0.026494638957410697, -0.048882741827035045, 0.15951152561566295],\n",
       " [0.294198351689938, -0.029562999177409635, -0.06853699188591159],\n",
       " [0.032710886191693204, -0.06262797461043017, -0.02204511748281878],\n",
       " [0.06879926237209665, -0.10761069547566067, 0.1404488305490511],\n",
       " [0.02607307196373666, -0.040939707022514, -0.017182719309039494],\n",
       " [0.07052666458248198, -0.12196540378629062, -0.021640656223920977],\n",
       " [0.06400555559883338, -0.14900958361426467, 0.5672791353761105],\n",
       " [0.052748633798817966, -0.10574703332465957, -0.01673776384833976],\n",
       " [0.07601582342717539, -0.1376820155525084, -0.05432155718117505],\n",
       " [0.25659245247452916, 0.07391426563379191, 0.004682275752097975],\n",
       " [0.017627319292657855, -0.01993652366028468, -0.01064455637546114],\n",
       " [0.050373592591143816, -0.08114139339255955, -0.011696699073030364],\n",
       " [0.24771961448398194, -0.0885515699315125, -0.05174984153416372],\n",
       " [0.5190064876363802, 0.17978095095009772, -0.02038562812620308],\n",
       " [0.0030314864063346308, 0.0013677211476800597, -0.0008733660320502934],\n",
       " [0.01828660549483847, -0.013623700530495383, 0.0051993072496490465],\n",
       " [0.033927808062542086, -0.06248615600939956, -0.022096596090059754],\n",
       " [0.053103897726417465, -0.09688059369600603, -0.03312750863264624],\n",
       " [0.051810895554699844, -0.08848847844723222, -0.030586539480308567],\n",
       " [0.6217516699945652, 0.1294083226114507, -0.04450096255910676],\n",
       " [0.06207209840889168, -0.10518487095323426, 0.0004003315706697756],\n",
       " [0.36232106448211726, 0.14619763862027, 0.009945318857581091],\n",
       " [0.020944570685183836, -0.045146413479279016, 0.0026602160693966147],\n",
       " [0.04204913053715733, -0.07140417723276418, -0.008858840844481382],\n",
       " [0.007652458625240698, -0.01725624334442902, -0.009700988648081037],\n",
       " [0.04853802151179683, -0.10174207882816362, -0.011516663065513489],\n",
       " [0.028259074517296943, -0.05553240783423163, -0.027079030741199543],\n",
       " [0.05843058669105891, -0.11885927373095677, -0.04650818181422076],\n",
       " [0.0033616636091966315, -0.006705109571967194, -0.0032582633144303597],\n",
       " [0.07795652099489409, -0.15447842389606742, -0.048635330707847375],\n",
       " [0.0598865342848058, -0.10660692488728404, -0.033305647556060275],\n",
       " [0.029551020278867947, -0.045873545906006244, -0.029877878866766516],\n",
       " [0.06622136611159662, -0.11390972122635339, -0.05735120152710241],\n",
       " [0.06599830617527751, -0.13468312149370212, -0.06035551533602687],\n",
       " [0.32230914611278705, 0.09817143214988024, -0.012078812398321221],\n",
       " [0.09340302323139915, -0.17735277546051625, -0.013802351282005526],\n",
       " [0.056672128914505016, -0.08418824275022657, -0.04290286107254929],\n",
       " [0.026940808531137353, -0.050651417789763994, -0.004574134779266171],\n",
       " [0.011525592129882398, -0.020270160684245923, -0.010093768380771317],\n",
       " [0.03449956654832774, -0.05259227705547244, -0.0064159489030252296],\n",
       " [0.019503029653634492, -0.030525686812944104, -0.004927422266471146],\n",
       " [0.13972970840896295, 0.02677823005595938, -0.0011332976447574776],\n",
       " [0.24868901298481264, 0.13493022572984165, 0.004806855262758325],\n",
       " [0.0238914668149526, -0.03599497887318079, -0.039404462504616905],\n",
       " [0.04199305635974454, -0.07157580553963996, -0.02180691008585207],\n",
       " [0.017879285151408873, -0.03068170337543519, -0.015724192690817845],\n",
       " [0.06324043594062807, -0.12158115152210086, 0.11166823149137697],\n",
       " [0.011554998545938978, -0.025730944798636586, -0.003238460800043988],\n",
       " [0.044132080062888226, -0.07860017103207258, -0.030632102756364254],\n",
       " [0.03408701851177326, -0.062399800253923894, -0.02381628477324012],\n",
       " [0.040827122426433604, -0.08337590863359096, 0.00770537585986283],\n",
       " [0.019058486652831108, -0.023917861076550796, 0.004612881969395796],\n",
       " [0.005860683941511196, -0.012707955339125152, 0.00030974091049927165],\n",
       " [0.0034621514878738686, -0.005277252146620539, -0.0030646273491271173],\n",
       " [0.04405314786353048, -0.07792451369997595, -0.015907306552708046],\n",
       " [0.2139539900693846, -0.04599204688006536, -0.030758401603595317],\n",
       " [0.04624048585253645, -0.10104636992466219, -0.015930542494687085],\n",
       " [0.03510626831979981, -0.07254465858626502, -0.012043554711344764],\n",
       " [0.07505512546490953, -0.15059479998600162, 0.0009555398114495955],\n",
       " [0.02448570998657125, -0.03499281464153087, -0.015197585278055897],\n",
       " [0.06318255407716131, -0.12017597896911465, 0.1689906757450948],\n",
       " [0.3773357526944918, 0.1326423241144009, -0.014851751233658547],\n",
       " [0.019309562507227616, -0.03215592278977607, -0.016029218422178457],\n",
       " [0.05601701487393831, -0.09793537823528745, 0.05308559383960426],\n",
       " [0.046634490941315485, -0.0752740629894537, 0.01660592355108753],\n",
       " [0.04374880549345645, -0.07003539137352198, -0.04118910676631852],\n",
       " [0.04569080689881682, -0.08413457216452866, -0.01622606622808643],\n",
       " [0.0466406548327606, -0.10397698125715964, 0.43843214350744075],\n",
       " [0.013975397604469251, -0.01594423570729888, -0.007046156763030397],\n",
       " [0.04288390690141058, -0.07175799562474272, -0.02346505848415106],\n",
       " [0.03505623518033617, -0.05635065768908981, 0.01078372374160422],\n",
       " [0.01958621485170601, -0.02779272692417943, -0.01668434611100272],\n",
       " [0.059061011737574616, -0.11717096511413966, -0.021764801506128337],\n",
       " [0.011192972541735333, -0.016473112986279115, 0.0003122910630207306],\n",
       " [0.019066951465528555, -0.03832936059449235, -0.018540039713967203],\n",
       " [0.04287513528941517, -0.06270515833352111, -0.055147107022251084],\n",
       " [0.3007896109100451, 0.00968959473659531, -0.014355396873816224],\n",
       " [0.028810075041063848, -0.04512607748046726, -0.013155863827336668],\n",
       " [0.30062722009830584, 0.0621934649015043, -0.023500739198934348],\n",
       " [0.04282621885133653, -0.07154966966786365, -0.033006457879656476],\n",
       " [0.1907983293527451, 0.0757229861456289, -0.0009056423711437591],\n",
       " [0.05659752202926289, -0.09341792940414113, 0.11069286774322393],\n",
       " [0.03094211988998872, -0.057040073641365555, 0.005544042055917372],\n",
       " [0.31096122830925965, 0.11725623253120343, -0.00866388285404089],\n",
       " [0.018141890581622494, -0.0302282441547938, 0.01024152115745252],\n",
       " [0.00805445780471948, -0.016009138815027697, 0.00253684236645699],\n",
       " [0.03875768959528946, -0.0641217894084805, -0.017988971856100554],\n",
       " [0.2327958309223791, 0.009532635879108062, 0.12654470352682592],\n",
       " [0.2733142323930116, 0.056081434439471896, -0.01217302786765836],\n",
       " [0.2682984078447226, 0.10873265963333727, 0.019316149404094055],\n",
       " [0.06917472105166488, -0.11833970399416147, 0.027254757408241632],\n",
       " [0.05144180617251241, -0.10267032375361412, -0.010574840475198254],\n",
       " [0.011944883587183115, -0.010079764359885335, -0.007438215124706878],\n",
       " [0.04130650486610324, -0.0789461035593525, 0.016663819096638208],\n",
       " [0.028679643762812762, -0.04908304412033513, -0.007789722741382288],\n",
       " [0.258297384937095, 0.12351070039711318, 0.0025467825151262295],\n",
       " [0.039419501792381385, -0.07607146809902189, -0.023349198768997433],\n",
       " [0.04446186157721611, -0.08280361195321519, -0.017093537793852375],\n",
       " [0.01686289382366713, -0.03617391602321355, -0.016325264780634906],\n",
       " [0.037470751856361506, -0.06202383169413371, -0.015410307814762169],\n",
       " [0.01751194205742858, -0.02744135486163874, -0.004097810377782889],\n",
       " [0.047154355679828355, -0.08960620455599826, -0.030724159267356402],\n",
       " [0.016003563348844483, -0.0217080069401317, -0.0030947030758937187],\n",
       " [0.04796334488463901, -0.09487036343910055, -0.003228739366521762],\n",
       " [0.3205347941739956, 0.11143153293913674, -0.011699868130152375],\n",
       " [0.05522801969980101, -0.10898077639818601, -0.00333045101827576],\n",
       " [0.005804231917146161, -0.01305872278218817, 0.03945842429406115],\n",
       " [0.017729456634701917, -0.03303602636728334, -0.014095942306344311],\n",
       " [0.04038276257961844, -0.07522653602830702, 0.03427717377451916],\n",
       " [0.01212682416815924, -0.022745772692054488, -0.015272869296658026],\n",
       " [0.0480645354236638, -0.09413420824818339, -0.01715051991226035],\n",
       " [0.07888940619575756, -0.15717773963252735, -0.05971366476327451],\n",
       " [0.04073450808930436, -0.07496616750314977, -0.0402433076134509],\n",
       " [0.07290390191721613, -0.1348525081522337, -0.05924239580015704],\n",
       " [0.05075394086388339, -0.09354597405510004, 0.005384566933693061],\n",
       " [0.025794325554499835, -0.04064381555125184, -0.012665559201029599],\n",
       " [0.027535771042074626, -0.03456994327264194, -0.009277868006680862],\n",
       " [0.03260187732640252, -0.04757390531416512, -0.02232463936946279],\n",
       " [0.11179795711347636, -0.2269984419306052, 0.09769077295508588],\n",
       " [0.048403296066049616, -0.08175098866147978, 0.007789385326532109],\n",
       " [0.22588277373699828, -0.03214247151423803, -0.04559758389571121],\n",
       " [0.06380046418997516, -0.11071474641197643, -0.007796111646565797],\n",
       " [0.22329908373565738, -0.021772561903272772, 0.011162189232317538],\n",
       " [0.1213991927110885, -0.23591475236086834, -0.04637152971617568],\n",
       " [0.05751537362087252, -0.10521886936545181, 0.0779789230883407],\n",
       " [0.030887227005503566, -0.05474113768775765, 0.0005295141540566073],\n",
       " [0.027307098714968177, -0.0495480840293684, -0.015364546775028631],\n",
       " [0.030380486179155945, -0.04860410644066145, -0.03363301968743351],\n",
       " [0.22236018700307736, 0.04627326927765509, -0.014290628588127992],\n",
       " [0.06214378507669889, -0.11486959068080863, 0.010798701615159279],\n",
       " [0.06401632344415116, -0.10590625392414585, -0.03532025469711187],\n",
       " [0.04434300857648895, -0.058386875565841996, -0.03823409590335151],\n",
       " [0.20911752436358141, -0.0007454377779882318, -0.037510354162145196],\n",
       " [0.07250191053424766, -0.13392340802040728, -0.013924389785957338],\n",
       " [0.03689386519587789, -0.061962251890223426, -0.010610861119205155],\n",
       " [0.027417320470329198, -0.04377592810734109, -0.019739825234697844],\n",
       " [0.08205685519956642, -0.15221414853959164, -0.03340763468401389],\n",
       " [0.06065841168707666, -0.11016173151545504, -0.026264894564634583],\n",
       " [0.4134043796846511, 0.037959496991941136, -0.042483136735105405],\n",
       " [0.06267898430872969, -0.12473235883846905, 0.005732669020047257],\n",
       " [0.04790586310985549, -0.08674508952692109, -0.04316263465998739],\n",
       " [0.05814356818215971, -0.12072814245266703, -0.013255637532467892],\n",
       " [0.06589598546495257, -0.1325850206484373, -0.008842493281370043],\n",
       " [0.21715581662364833, 0.09982318622026332, -0.0012451549779141625],\n",
       " [0.017946798908392347, -0.034108089890759724, 0.003536286769319514],\n",
       " [0.21725149359102122, -0.03204510387419738, 0.029982109598180852],\n",
       " [0.14460007891764975, -0.014143256209520668, -0.006362340583634005],\n",
       " [0.04228614800551552, -0.07148801784669771, -0.011708097454492356],\n",
       " [0.03073728123304525, -0.05097929764059045, -0.009470966886325153],\n",
       " [0.07329402495215503, -0.14854126387601363, -0.07602930682087519],\n",
       " [0.026953635930480745, -0.03971993678892005, -0.012471416078061003],\n",
       " [0.06007142462012999, -0.1018982271933522, -0.029826427681415222],\n",
       " [0.051443994363072815, -0.0808464851284065, -0.03408439707147808],\n",
       " [0.06264477238225435, -0.10493736776735238, -0.004648835449333167],\n",
       " [0.06424748744637898, -0.12292168677518897, -0.025406316546273452],\n",
       " [0.013277844521632541, -0.021296483503887752, 0.008441198633561018],\n",
       " [0.05857081747079904, -0.09806021561262375, -0.04764538853847161],\n",
       " [0.05967353827804683, -0.11219304548918188, -0.07557633366699065],\n",
       " [0.03372565582158971, -0.06980958781253867, -0.0026551537763087503],\n",
       " [0.03267632934532891, -0.07197523113648516, -0.027698841262447402],\n",
       " [0.19675155690642268, 0.03935048277716014, 0.08811823824364828],\n",
       " [0.03622458032875188, -0.04912220332998423, -0.016743783181847903],\n",
       " [0.031882189631032135, -0.047781950942825335, -0.021249430602295227],\n",
       " [0.08019221016216574, -0.15755161782061056, 0.2701060343548299],\n",
       " [0.047577954092840394, -0.09341685357970637, -0.014156555778718593],\n",
       " [0.04874494270100567, -0.08480653854484121, -0.025559399101142383],\n",
       " [0.041491001370514445, -0.06864408645386413, -0.012077672987792137],\n",
       " [0.040354627926218654, -0.0703891702046677, -0.011560403990214314],\n",
       " [0.029220249550156518, -0.043267007958749, -0.0017051307018253877],\n",
       " [0.04477871547537969, -0.10135567781094565, -0.04132186826081922],\n",
       " [0.05143662949634239, -0.0943429395398706, -0.01437416043301786],\n",
       " [0.0384953291789187, -0.06339414224964546, -0.01797611591502738],\n",
       " [0.04645886374030308, -0.07754919646130327, -0.02035413543255054],\n",
       " [0.02832958404587439, -0.04830999826078593, 0.0107012220924236],\n",
       " [0.02048742751949946, -0.028317885789228964, -0.006071573829357708],\n",
       " [0.015112002721836179, -0.021121877326153303, -0.0023656228815717726],\n",
       " [0.03210693155463045, -0.06160636897581049, -0.014384225267157798],\n",
       " [0.03750506393413731, -0.06818997513489697, -0.04719635201375536],\n",
       " [0.21763185020167616, -0.030436305248620073, -0.0630852875756569],\n",
       " [0.0729552201888648, -0.11941270220858016, -0.04131172962259339],\n",
       " [0.1951683792032068, 0.04438570213648774, -0.022127746715919418],\n",
       " [0.02343775106603626, -0.03559703219656283, -0.017828581881630962],\n",
       " [0.014352822907213429, -0.024911231322658482, -0.001823441801932413],\n",
       " [0.0198107981908137, -0.035671580149130716, -0.02322792720715786],\n",
       " [0.023834545135191933, -0.0367095714261039, -0.0009336699917973965],\n",
       " [0.04015083423594518, -0.05376846510942725, -0.026258616037653226],\n",
       " [0.012444327326486097, -0.017241701507694353, -0.003897708986802694],\n",
       " [0.21459084474826012, 0.06370385059387539, 0.0018632078683915015],\n",
       " [0.009513353085945473, -0.017376071534830406, -0.004212368655827574],\n",
       " [0.6626084477209392, 0.35010718026110016, 0.014258923008245142],\n",
       " [0.059464725151288735, -0.10306563355492818, -0.03918538895760644],\n",
       " [0.08567139327401868, -0.155526478592059, 0.3426284970320875],\n",
       " [0.04535557751367937, -0.08178442189271172, -0.040674477927564026],\n",
       " [0.027555781424619504, -0.037075317546946596, -0.003932181181613249],\n",
       " [0.05414530558417914, -0.11473177890162946, -0.0506519978445957],\n",
       " [0.026617864523629124, -0.05221588184450648, -0.034322442588917784],\n",
       " [0.05475401032021322, -0.11748221542338586, -0.02088168703222546],\n",
       " [0.01668196126904212, -0.030056244711668262, -0.009377839489020387],\n",
       " [0.0690863685157761, -0.12853896116031377, -0.04983500924121208],\n",
       " [0.013918066382599657, -0.02594814804306513, -0.0067784998141640525],\n",
       " [0.05683445485508254, -0.10630216767974329, 0.04800436938698775],\n",
       " [0.06351514558394118, -0.1267563804224096, -0.06846531382028136],\n",
       " [0.02032946829074831, -0.03643585516474112, -0.011727164158457818],\n",
       " [0.02964780406853294, -0.05979257195571308, 0.17104449806382688],\n",
       " [0.032467855374990945, -0.05396607688567585, -0.01428651286515395],\n",
       " [0.014920685109331373, -0.028184193665215435, -0.01695792781540711],\n",
       " [0.1813605882977589, -0.04816002838023627, -0.02626040533374846],\n",
       " [0.11856260516018989, -0.19895804136326803, -0.03127702735631844],\n",
       " [0.06924266807316348, -0.13424613449315664, -0.02348567417185553],\n",
       " [0.0755461822815033, -0.13965133285732567, -0.06987133985094586],\n",
       " [0.020573942060688435, -0.036570950683174744, -0.026262076209605703],\n",
       " [0.019145837779501237, -0.03009636658844705, -0.01171313716056577],\n",
       " [0.029948108039865532, -0.05353453190911518, -0.03950735279318907],\n",
       " [0.008998978048636246, -0.012823796289617282, -0.0015457126282292697],\n",
       " [0.289802453233658, 0.0963372124039268, -0.03414152103181598],\n",
       " [0.04067116387412779, -0.06911933552486996, -0.032904491153181246],\n",
       " [0.0745332740170998, -0.15097040374344964, 0.04155545877376472],\n",
       " [0.023148241676702704, -0.037180818522147094, -0.008701003174302415],\n",
       " [0.03279618083324311, -0.053719554179718826, -0.0058152119188938645],\n",
       " [0.04922600281434984, -0.0968942758807228, 0.24291860604833698],\n",
       " [0.07065463586755852, -0.13494272672427052, -0.039459874773683776],\n",
       " [0.0005849835688118678, -0.0023875365393175663, -0.0015413013203875998],\n",
       " [0.021265865172101765, -0.03707108261637319, -0.020780323895909822],\n",
       " [0.001809533960683365, -0.003176747414489893, -0.0008428316171076983],\n",
       " [0.19858199609918725, -0.045862989143688006, -0.02500615641162572],\n",
       " [0.0506883359903495, -0.08572853445918044, -0.02631984628113953],\n",
       " [0.06179641388839356, -0.11011702322299351, -0.03266758783580119],\n",
       " [0.047726786573244445, -0.08100807131857021, -0.030940759945891086],\n",
       " ...]"
      ]
     },
     "execution_count": 24,
     "metadata": {},
     "output_type": "execute_result"
    }
   ],
   "source": [
    "lsa.transform(tfidf_doc_term_mat).tolist()"
   ]
  },
  {
   "cell_type": "code",
   "execution_count": 25,
   "id": "fca7a3e0",
   "metadata": {},
   "outputs": [],
   "source": [
    "topic1 = []\n",
    "topic2 = []\n",
    "topic3 = []\n",
    "for topic_list in lsa.transform(tfidf_doc_term_mat).tolist():\n",
    "    topic1.append(topic_list[0])\n",
    "    topic2.append(topic_list[1])\n",
    "    topic3.append(topic_list[2])"
   ]
  },
  {
   "cell_type": "code",
   "execution_count": 26,
   "id": "30ca28b9",
   "metadata": {},
   "outputs": [],
   "source": [
    "stack_overflow_df['topic1'] = topic1\n",
    "stack_overflow_df['topic2'] = topic2\n",
    "stack_overflow_df['topic3'] = topic3"
   ]
  },
  {
   "cell_type": "code",
   "execution_count": 27,
   "id": "058e188e",
   "metadata": {},
   "outputs": [
    {
     "data": {
      "text/html": [
       "<div>\n",
       "<style scoped>\n",
       "    .dataframe tbody tr th:only-of-type {\n",
       "        vertical-align: middle;\n",
       "    }\n",
       "\n",
       "    .dataframe tbody tr th {\n",
       "        vertical-align: top;\n",
       "    }\n",
       "\n",
       "    .dataframe thead th {\n",
       "        text-align: right;\n",
       "    }\n",
       "</style>\n",
       "<table border=\"1\" class=\"dataframe\">\n",
       "  <thead>\n",
       "    <tr style=\"text-align: right;\">\n",
       "      <th></th>\n",
       "      <th>text</th>\n",
       "      <th>c_label</th>\n",
       "      <th>neg_sentiment</th>\n",
       "      <th>topic1</th>\n",
       "      <th>topic2</th>\n",
       "      <th>topic3</th>\n",
       "    </tr>\n",
       "  </thead>\n",
       "  <tbody>\n",
       "    <tr>\n",
       "      <th>0</th>\n",
       "      <td>Yeah n't believe created console app good lord...</td>\n",
       "      <td>False</td>\n",
       "      <td>0.127</td>\n",
       "      <td>0.041857</td>\n",
       "      <td>-0.088444</td>\n",
       "      <td>-0.003838</td>\n",
       "    </tr>\n",
       "    <tr>\n",
       "      <th>1</th>\n",
       "      <td>help give details database using techniques vary</td>\n",
       "      <td>False</td>\n",
       "      <td>0.000</td>\n",
       "      <td>0.023582</td>\n",
       "      <td>-0.046578</td>\n",
       "      <td>-0.003005</td>\n",
       "    </tr>\n",
       "    <tr>\n",
       "      <th>2</th>\n",
       "      <td>infact Look first lines concat code problem co...</td>\n",
       "      <td>False</td>\n",
       "      <td>0.105</td>\n",
       "      <td>0.044890</td>\n",
       "      <td>-0.065598</td>\n",
       "      <td>-0.043087</td>\n",
       "    </tr>\n",
       "    <tr>\n",
       "      <th>3</th>\n",
       "      <td>`` Currently implemented using StringBuffer ``...</td>\n",
       "      <td>False</td>\n",
       "      <td>0.000</td>\n",
       "      <td>0.196010</td>\n",
       "      <td>0.046655</td>\n",
       "      <td>-0.015503</td>\n",
       "    </tr>\n",
       "    <tr>\n",
       "      <th>4</th>\n",
       "      <td>code fail .Distinct returns IEnumerable add .T...</td>\n",
       "      <td>False</td>\n",
       "      <td>0.189</td>\n",
       "      <td>0.026785</td>\n",
       "      <td>-0.048211</td>\n",
       "      <td>-0.040787</td>\n",
       "    </tr>\n",
       "  </tbody>\n",
       "</table>\n",
       "</div>"
      ],
      "text/plain": [
       "                                                text  c_label  neg_sentiment  \\\n",
       "0  Yeah n't believe created console app good lord...    False          0.127   \n",
       "1   help give details database using techniques vary    False          0.000   \n",
       "2  infact Look first lines concat code problem co...    False          0.105   \n",
       "3  `` Currently implemented using StringBuffer ``...    False          0.000   \n",
       "4  code fail .Distinct returns IEnumerable add .T...    False          0.189   \n",
       "\n",
       "     topic1    topic2    topic3  \n",
       "0  0.041857 -0.088444 -0.003838  \n",
       "1  0.023582 -0.046578 -0.003005  \n",
       "2  0.044890 -0.065598 -0.043087  \n",
       "3  0.196010  0.046655 -0.015503  \n",
       "4  0.026785 -0.048211 -0.040787  "
      ]
     },
     "execution_count": 27,
     "metadata": {},
     "output_type": "execute_result"
    }
   ],
   "source": [
    "stack_overflow_df.head()"
   ]
  },
  {
   "cell_type": "markdown",
   "id": "7a053d1d",
   "metadata": {},
   "source": [
    "# EDA for Classification"
   ]
  },
  {
   "cell_type": "code",
   "execution_count": 28,
   "id": "dd2b43e4",
   "metadata": {},
   "outputs": [],
   "source": [
    "stack_overflow_df[\"c_label\"] = stack_overflow_df[\"c_label\"].astype(int)\n",
    "\n",
    "X = stack_overflow_df[['neg_sentiment','topic1','topic2','topic3']]\n",
    "y = stack_overflow_df.c_label\n"
   ]
  },
  {
   "cell_type": "code",
   "execution_count": 29,
   "id": "c98e0002",
   "metadata": {},
   "outputs": [
    {
     "data": {
      "text/plain": [
       "<AxesSubplot:xlabel='c_label', ylabel='neg_sentiment'>"
      ]
     },
     "execution_count": 29,
     "metadata": {},
     "output_type": "execute_result"
    },
    {
     "data": {
      "image/png": "[encoded data removed]",
      "text/plain": [
       "<Figure size 432x288 with 1 Axes>"
      ]
     },
     "metadata": {
      "needs_background": "light"
     },
     "output_type": "display_data"
    }
   ],
   "source": [
    "sns.violinplot(x=stack_overflow_df[\"c_label\"],y=stack_overflow_df[\"neg_sentiment\"])"
   ]
  },
  {
   "cell_type": "code",
   "execution_count": 30,
   "id": "cddefa7a",
   "metadata": {},
   "outputs": [
    {
     "data": {
      "text/plain": [
       "<AxesSubplot:xlabel='c_label', ylabel='topic1'>"
      ]
     },
     "execution_count": 30,
     "metadata": {},
     "output_type": "execute_result"
    },
    {
     "data": {
      "image/png": "[encoded data removed]",
      "text/plain": [
       "<Figure size 432x288 with 1 Axes>"
      ]
     },
     "metadata": {
      "needs_background": "light"
     },
     "output_type": "display_data"
    }
   ],
   "source": [
    "sns.violinplot(x=stack_overflow_df[\"c_label\"],y=stack_overflow_df[\"topic1\"])"
   ]
  },
  {
   "cell_type": "code",
   "execution_count": 31,
   "id": "21eb4786",
   "metadata": {},
   "outputs": [
    {
     "data": {
      "text/plain": [
       "<AxesSubplot:xlabel='c_label', ylabel='topic2'>"
      ]
     },
     "execution_count": 31,
     "metadata": {},
     "output_type": "execute_result"
    },
    {
     "data": {
      "image/png": "[encoded data removed]",
      "text/plain": [
       "<Figure size 432x288 with 1 Axes>"
      ]
     },
     "metadata": {
      "needs_background": "light"
     },
     "output_type": "display_data"
    }
   ],
   "source": [
    "sns.violinplot(x=stack_overflow_df[\"c_label\"],y=stack_overflow_df[\"topic2\"])"
   ]
  },
  {
   "cell_type": "code",
   "execution_count": 32,
   "id": "ac72e96a",
   "metadata": {},
   "outputs": [
    {
     "data": {
      "text/plain": [
       "<AxesSubplot:xlabel='c_label', ylabel='topic3'>"
      ]
     },
     "execution_count": 32,
     "metadata": {},
     "output_type": "execute_result"
    },
    {
     "data": {
      "image/png": "[encoded data removed]",
      "text/plain": [
       "<Figure size 432x288 with 1 Axes>"
      ]
     },
     "metadata": {
      "needs_background": "light"
     },
     "output_type": "display_data"
    }
   ],
   "source": [
    "sns.violinplot(x=stack_overflow_df[\"c_label\"],y=stack_overflow_df[\"topic3\"])"
   ]
  },
  {
   "cell_type": "markdown",
   "id": "b4d1dff2",
   "metadata": {},
   "source": [
    "# Split data"
   ]
  },
  {
   "cell_type": "code",
   "execution_count": 33,
   "id": "167d14c6",
   "metadata": {},
   "outputs": [],
   "source": [
    "#Split the data into train and test sets (80/20) \n",
    "X_train, X_test, y_train, y_test = train_test_split(X, y, test_size = .2, random_state=8)\n",
    "df_train = X_train\n",
    "df_train['c_label'] = y_train"
   ]
  },
  {
   "cell_type": "markdown",
   "id": "d749128d",
   "metadata": {},
   "source": [
    "# Resample data since unbalanced"
   ]
  },
  {
   "cell_type": "code",
   "execution_count": 34,
   "id": "0f4152ec",
   "metadata": {},
   "outputs": [],
   "source": [
    "df_majority = df_train[(df_train['c_label']==0)] \n",
    "df_minority = df_train[(df_train['c_label']==1)] \n",
    "# upsample minority class\n",
    "df_minority_upsampled = resample(df_minority, \n",
    "                                 replace=True,    # sample with replacement\n",
    "                                 n_samples= 131177, # to match majority class\n",
    "                                 random_state=42)  # reproducible results\n",
    "# Combine majority class with upsampled minority class\n",
    "df_upsampled = pd.concat([df_minority_upsampled, df_majority])\n",
    "\n",
    "X_train_upsampled = df_upsampled[['neg_sentiment','topic1','topic2','topic3']]\n",
    "y_train_upsampled = df_upsampled['c_label']"
   ]
  },
  {
   "cell_type": "markdown",
   "id": "3d0973ff",
   "metadata": {},
   "source": [
    "# Scale Data"
   ]
  },
  {
   "cell_type": "code",
   "execution_count": 35,
   "id": "7b8de643",
   "metadata": {},
   "outputs": [],
   "source": [
    "#scale data for knn and logreg\n",
    "std_scale = StandardScaler()\n",
    "\n",
    "X_train_scaled_upsampled = std_scale.fit_transform(X_train_upsampled)\n",
    "X_test_scaled = std_scale.transform(X_test)"
   ]
  },
  {
   "cell_type": "markdown",
   "id": "2aae85f9",
   "metadata": {},
   "source": [
    "# kNN"
   ]
  },
  {
   "cell_type": "code",
   "execution_count": 36,
   "id": "d8e96111",
   "metadata": {},
   "outputs": [
    {
     "name": "stdout",
     "output_type": "stream",
     "text": [
      "Model: kNN\n",
      "\n",
      "accuracy score: 74.55%\n",
      "precision score: 14.01%\n",
      "recall score: 25.88%\n",
      "f1 score: 18.18%\n"
     ]
    }
   ],
   "source": [
    "knn = KNeighborsClassifier(n_neighbors=3)\n",
    "knn.fit(X_train_scaled_upsampled, y_train_upsampled)\n",
    "y_pred_knn = knn.predict(X_test_scaled)\n",
    "\n",
    "print(\"Model: kNN\\n\")\n",
    "print(\"accuracy score:\", \"{0:.2%}\".format(accuracy_score(y_test, y_pred_knn)))\n",
    "print(\"precision score:\", \"{0:.2%}\".format(precision_score(y_test, y_pred_knn)))\n",
    "print(\"recall score:\", \"{0:.2%}\".format(recall_score(y_test, y_pred_knn)))\n",
    "print(\"f1 score:\", \"{0:.2%}\".format(f1_score(y_test, y_pred_knn)))"
   ]
  },
  {
   "cell_type": "code",
   "execution_count": 37,
   "id": "e45c689c",
   "metadata": {},
   "outputs": [
    {
     "data": {
      "image/png": "[encoded data removed]",
      "text/plain": [
       "<Figure size 432x288 with 2 Axes>"
      ]
     },
     "metadata": {
      "needs_background": "light"
     },
     "output_type": "display_data"
    }
   ],
   "source": [
    "cm = confusion_matrix(y_test, y_pred_knn)\n",
    "\n",
    "plt.rcParams['font.family'] = \"serif\"\n",
    "\n",
    "names = [\"True Negatives\",\"False Positives\",\"False Negatives\",\"True Positives\"]\n",
    "counts = [\"{0:0.0f}\".format(value) for value in cm.flatten()]\n",
    "percents = [\"{0:.2%}\".format(value) for value in cm.flatten()/np.sum(cm)]\n",
    "labels = [f'{v1}\\n{v2}\\n{v3}' for v1, v2, v3 in zip(names,counts,percents)]\n",
    "labels = np.asarray(labels).reshape(2,2)\n",
    "\n",
    "sns.heatmap(cm, annot=labels, fmt=\"\", cmap='coolwarm');\n",
    "plt.title(\"Confusion Matrix - kNN\",fontsize=17)\n",
    "plt.ylabel(\"Actual\")\n",
    "plt.xlabel(\"Predicted\")\n",
    "plt.show()"
   ]
  },
  {
   "cell_type": "code",
   "execution_count": 38,
   "id": "306867d1",
   "metadata": {},
   "outputs": [
    {
     "name": "stdout",
     "output_type": "stream",
     "text": [
      "Model: kNN with lower decision threshold\n",
      "\n",
      "accuracy score: 68.12%\n",
      "precision score: 14.72%\n",
      "recall score: 40.00%\n",
      "f1 score: 21.52%\n"
     ]
    }
   ],
   "source": [
    "knn = KNeighborsClassifier(n_neighbors=3)\n",
    "knn.fit(X_train_scaled_upsampled, y_train_upsampled)\n",
    "y_pred_knn = (knn.predict_proba(X_test_scaled)[:,1] >= 0.3).astype(bool)\n",
    "\n",
    "print(\"Model: kNN with lower decision threshold\\n\")\n",
    "print(\"accuracy score:\", \"{0:.2%}\".format(accuracy_score(y_test, y_pred_knn)))\n",
    "print(\"precision score:\", \"{0:.2%}\".format(precision_score(y_test, y_pred_knn)))\n",
    "print(\"recall score:\", \"{0:.2%}\".format(recall_score(y_test, y_pred_knn)))\n",
    "print(\"f1 score:\", \"{0:.2%}\".format(f1_score(y_test, y_pred_knn)))"
   ]
  },
  {
   "cell_type": "code",
   "execution_count": 39,
   "id": "dc50f299",
   "metadata": {},
   "outputs": [
    {
     "data": {
      "image/png": "[encoded data removed]",
      "text/plain": [
       "<Figure size 432x288 with 2 Axes>"
      ]
     },
     "metadata": {
      "needs_background": "light"
     },
     "output_type": "display_data"
    }
   ],
   "source": [
    "cm = confusion_matrix(y_test, y_pred_knn)\n",
    "\n",
    "plt.rcParams['font.family'] = \"serif\"\n",
    "\n",
    "names = [\"True Negatives\",\"False Positives\",\"False Negatives\",\"True Positives\"]\n",
    "counts = [\"{0:0.0f}\".format(value) for value in cm.flatten()]\n",
    "percents = [\"{0:.2%}\".format(value) for value in cm.flatten()/np.sum(cm)]\n",
    "labels = [f'{v1}\\n{v2}\\n{v3}' for v1, v2, v3 in zip(names,counts,percents)]\n",
    "labels = np.asarray(labels).reshape(2,2)\n",
    "\n",
    "sns.heatmap(cm, annot=labels, fmt=\"\", cmap='coolwarm');\n",
    "plt.title(\"Confusion Matrix: kNN\\n(lower decision threshold)\",fontsize=17)\n",
    "plt.ylabel(\"Actual\")\n",
    "plt.xlabel(\"Predicted\")\n",
    "plt.show()"
   ]
  },
  {
   "cell_type": "markdown",
   "id": "c66efb3a",
   "metadata": {},
   "source": [
    "# LogReg"
   ]
  },
  {
   "cell_type": "code",
   "execution_count": 40,
   "id": "d7b04ed4",
   "metadata": {},
   "outputs": [],
   "source": [
    "#instantiate, then fit\n",
    "logreg = LogisticRegression()\n",
    "logreg.fit(X_train_scaled_upsampled, y_train_upsampled)\n",
    "\n",
    "#prediction\n",
    "p_pred = logreg.predict_proba(X_test_scaled)[:,1]\n",
    "y_pred = np.where(p_pred > 0.5, 1, 0)"
   ]
  },
  {
   "cell_type": "code",
   "execution_count": 41,
   "id": "bae97dd2",
   "metadata": {},
   "outputs": [
    {
     "name": "stdout",
     "output_type": "stream",
     "text": [
      "Model: LogReg\n",
      "\n",
      "accuracy score: 10.93%\n",
      "precision score: 10.93%\n",
      "recall score: 100.00%\n",
      "f1 score: 19.70%\n"
     ]
    }
   ],
   "source": [
    "print(\"Model: LogReg\\n\")\n",
    "\n",
    "print(\"accuracy score:\", \"{0:.2%}\".format(accuracy_score(y_test, y_pred)))\n",
    "print(\"precision score:\", \"{0:.2%}\".format(precision_score(y_test, y_pred)))\n",
    "print(\"recall score:\", \"{0:.2%}\".format(recall_score(y_test, y_pred)))\n",
    "print(\"f1 score:\", \"{0:.2%}\".format(f1_score(y_test, y_pred)))"
   ]
  },
  {
   "cell_type": "code",
   "execution_count": 42,
   "id": "c5780cdf",
   "metadata": {},
   "outputs": [
    {
     "data": {
      "image/png": "[encoded data removed]",
      "text/plain": [
       "<Figure size 432x288 with 2 Axes>"
      ]
     },
     "metadata": {
      "needs_background": "light"
     },
     "output_type": "display_data"
    }
   ],
   "source": [
    "cm = confusion_matrix(y_test, y_pred)\n",
    "\n",
    "plt.rcParams['font.family'] = \"serif\"\n",
    "\n",
    "names = [\"True Negatives\",\"False Positives\",\"False Negatives\",\"True Positives\"]\n",
    "counts = [\"{0:0.0f}\".format(value) for value in cm.flatten()]\n",
    "percents = [\"{0:.2%}\".format(value) for value in cm.flatten()/np.sum(cm)]\n",
    "labels = [f'{v1}\\n{v2}\\n{v3}' for v1, v2, v3 in zip(names,counts,percents)]\n",
    "labels = np.asarray(labels).reshape(2,2)\n",
    "\n",
    "sns.heatmap(cm, annot=labels, fmt=\"\", cmap='coolwarm');\n",
    "plt.title(\"Confusion Matrix - LogReg\",fontsize=17)\n",
    "plt.ylabel(\"Actual\")\n",
    "plt.xlabel(\"Predicted\")\n",
    "plt.show()"
   ]
  },
  {
   "cell_type": "code",
   "execution_count": 43,
   "id": "93af3e69",
   "metadata": {
    "scrolled": false
   },
   "outputs": [
    {
     "name": "stdout",
     "output_type": "stream",
     "text": [
      "neg_sentiment : 0.5234939740597436\n",
      "topic1 : 0.11999577667004506\n",
      "topic2 : -0.3210098121020718\n",
      "topic3 : 0.34184034560899385\n"
     ]
    },
    {
     "data": {
      "image/png": "[encoded data removed]",
      "text/plain": [
       "<Figure size 432x288 with 1 Axes>"
      ]
     },
     "metadata": {
      "needs_background": "light"
     },
     "output_type": "display_data"
    }
   ],
   "source": [
    "#visualize coefs\n",
    "features = []\n",
    "coefs = []\n",
    "\n",
    "plt.rcParams['font.family'] = \"serif\"\n",
    "\n",
    "i=0\n",
    "while i < (len(list(X.columns.values))):\n",
    "    features.append(X.columns.values[i])\n",
    "    coefs.append(logreg.coef_[0][i])\n",
    "    print(X.columns.values[i], \":\", logreg.coef_[0][i])\n",
    "    i+=1\n",
    "    \n",
    "sns.barplot(x=features,y=coefs,color='cornflowerblue')\n",
    "plt.xticks(rotation=90)\n",
    "plt.title(\"Visualize LogReg Coefs\",fontsize = 17)\n",
    "plt.show()"
   ]
  },
  {
   "cell_type": "code",
   "execution_count": 44,
   "id": "bff25346",
   "metadata": {},
   "outputs": [
    {
     "name": "stdout",
     "output_type": "stream",
     "text": [
      "Model: LogReg with lower decision threshold\n",
      "\n",
      "accuracy score: 10.93%\n",
      "precision score: 10.93%\n",
      "recall score: 100.00%\n",
      "f1 score: 19.70%\n"
     ]
    }
   ],
   "source": [
    "#instantiate, then fit\n",
    "logreg = LogisticRegression()\n",
    "logreg.fit(X_train_scaled_upsampled, y_train_upsampled)\n",
    "\n",
    "#prediction\n",
    "y_pred = (logreg.predict_proba(X_test_scaled)[:,1] >= 0.3).astype(bool)\n",
    "\n",
    "print(\"Model: LogReg with lower decision threshold\\n\")\n",
    "print(\"accuracy score:\", \"{0:.2%}\".format(accuracy_score(y_test, y_pred)))\n",
    "print(\"precision score:\", \"{0:.2%}\".format(precision_score(y_test, y_pred)))\n",
    "print(\"recall score:\", \"{0:.2%}\".format(recall_score(y_test, y_pred)))\n",
    "print(\"f1 score:\", \"{0:.2%}\".format(f1_score(y_test, y_pred)))"
   ]
  },
  {
   "cell_type": "markdown",
   "id": "bb89be90",
   "metadata": {},
   "source": [
    "so much for logistic regression >:("
   ]
  },
  {
   "cell_type": "markdown",
   "id": "2c9b664f",
   "metadata": {},
   "source": [
    "# Random Forests"
   ]
  },
  {
   "cell_type": "code",
   "execution_count": 45,
   "id": "13ce209d",
   "metadata": {},
   "outputs": [],
   "source": [
    "#instantiate, then fit\n",
    "rf = RandomForestClassifier()\n",
    "rf.fit(X_train_upsampled, y_train_upsampled)\n",
    "y_pred = rf.predict(X_test)"
   ]
  },
  {
   "cell_type": "code",
   "execution_count": 46,
   "id": "f7ca7371",
   "metadata": {},
   "outputs": [
    {
     "name": "stdout",
     "output_type": "stream",
     "text": [
      "Model: Random Forests\n",
      "\n",
      "accuracy score: 86.25%\n",
      "precision score: 15.62%\n",
      "recall score: 5.88%\n",
      "f1 score: 8.55%\n"
     ]
    }
   ],
   "source": [
    "print(\"Model: Random Forests\\n\")\n",
    "\n",
    "print(\"accuracy score:\", \"{0:.2%}\".format(accuracy_score(y_test, y_pred)))\n",
    "print(\"precision score:\", \"{0:.2%}\".format(precision_score(y_test, y_pred)))\n",
    "print(\"recall score:\", \"{0:.2%}\".format(recall_score(y_test, y_pred)))\n",
    "print(\"f1 score:\", \"{0:.2%}\".format(f1_score(y_test, y_pred)))"
   ]
  },
  {
   "cell_type": "code",
   "execution_count": 47,
   "id": "06a1dfea",
   "metadata": {},
   "outputs": [
    {
     "data": {
      "image/png": "[encoded data removed]",
      "text/plain": [
       "<Figure size 432x288 with 2 Axes>"
      ]
     },
     "metadata": {
      "needs_background": "light"
     },
     "output_type": "display_data"
    }
   ],
   "source": [
    "cm = confusion_matrix(y_test, y_pred)\n",
    "\n",
    "plt.rcParams['font.family'] = \"serif\"\n",
    "\n",
    "names = [\"True Negatives\",\"False Positives\",\"False Negatives\",\"True Positives\"]\n",
    "counts = [\"{0:0.0f}\".format(value) for value in cm.flatten()]\n",
    "percents = [\"{0:.2%}\".format(value) for value in cm.flatten()/np.sum(cm)]\n",
    "labels = [f'{v1}\\n{v2}\\n{v3}' for v1, v2, v3 in zip(names,counts,percents)]\n",
    "labels = np.asarray(labels).reshape(2,2)\n",
    "\n",
    "sns.heatmap(cm, annot=labels, fmt=\"\", cmap='coolwarm');\n",
    "plt.title(\"Confusion Matrix - Random Forests\",fontsize=17)\n",
    "plt.ylabel(\"Actual\")\n",
    "plt.xlabel(\"Predicted\")\n",
    "plt.show()"
   ]
  },
  {
   "cell_type": "code",
   "execution_count": 48,
   "id": "8ed45132",
   "metadata": {},
   "outputs": [
    {
     "name": "stderr",
     "output_type": "stream",
     "text": [
      "/Users/amelialui/opt/anaconda3/lib/python3.9/site-packages/sklearn/base.py:450: UserWarning: X does not have valid feature names, but RandomForestClassifier was fitted with feature names\n",
      "  warnings.warn(\n"
     ]
    }
   ],
   "source": [
    "#instantiate, then fit\n",
    "rf = RandomForestClassifier()\n",
    "rf.fit(X_train_upsampled, y_train_upsampled)\n",
    "y_pred = (rf.predict_proba(X_test_scaled)[:,1] >= 0.3).astype(bool)"
   ]
  },
  {
   "cell_type": "code",
   "execution_count": 49,
   "id": "667ac3a9",
   "metadata": {},
   "outputs": [
    {
     "name": "stdout",
     "output_type": "stream",
     "text": [
      "Model: Random Forests with lower decision threshold\n",
      "\n",
      "accuracy score: 88.56%\n",
      "precision score: 16.67%\n",
      "recall score: 1.18%\n",
      "f1 score: 2.20%\n"
     ]
    }
   ],
   "source": [
    "print(\"Model: Random Forests with lower decision threshold\\n\")\n",
    "\n",
    "print(\"accuracy score:\", \"{0:.2%}\".format(accuracy_score(y_test, y_pred)))\n",
    "print(\"precision score:\", \"{0:.2%}\".format(precision_score(y_test, y_pred)))\n",
    "print(\"recall score:\", \"{0:.2%}\".format(recall_score(y_test, y_pred)))\n",
    "print(\"f1 score:\", \"{0:.2%}\".format(f1_score(y_test, y_pred)))"
   ]
  }
 ],
 "metadata": {
  "kernelspec": {
   "display_name": "Python 3 (unsupervised)",
   "language": "python",
   "name": "unsupervised"
  },
  "language_info": {
   "codemirror_mode": {
    "name": "ipython",
    "version": 3
   },
   "file_extension": ".py",
   "mimetype": "text/x-python",
   "name": "python",
   "nbconvert_exporter": "python",
   "pygments_lexer": "ipython3",
   "version": "3.9.12"
  }
 },
 "nbformat": 4,
 "nbformat_minor": 5
}
