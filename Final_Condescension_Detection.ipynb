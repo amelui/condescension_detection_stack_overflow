{
 "cells": [
  {
   "cell_type": "markdown",
   "id": "8cef8eb6",
   "metadata": {},
   "source": [
    "Some unsupervised learning code based from Metis class materials"
   ]
  },
  {
   "cell_type": "code",
   "execution_count": 1,
   "id": "2e4a7cc0",
   "metadata": {},
   "outputs": [],
   "source": [
    "import pandas as pd\n",
    "import numpy as np\n",
    "import matplotlib.pyplot as plt\n",
    "import re\n",
    "import string\n",
    "\n",
    "import seaborn as sns\n",
    "\n",
    "import nltk\n",
    "from nltk.tokenize import word_tokenize\n",
    "from nltk.corpus import stopwords\n",
    "from nltk.tokenize import MWETokenizer\n",
    "from nltk.stem.lancaster import LancasterStemmer\n",
    "\n",
    "from sklearn.feature_extraction.text import CountVectorizer\n",
    "from sklearn.feature_extraction.text import TfidfVectorizer\n",
    "\n",
    "from sklearn.decomposition import TruncatedSVD\n",
    "from sklearn.decomposition import NMF\n",
    "from gensim import corpora,models,matutils\n",
    "from scipy import sparse\n",
    "\n",
    "from vaderSentiment.vaderSentiment import SentimentIntensityAnalyzer\n",
    "\n",
    "from sklearn.utils import resample\n",
    "from sklearn.model_selection import train_test_split\n",
    "from sklearn.preprocessing import StandardScaler\n",
    "from sklearn.neighbors import KNeighborsClassifier\n",
    "from sklearn.linear_model import LogisticRegression\n",
    "from sklearn.ensemble import RandomForestClassifier\n",
    "from sklearn.metrics import accuracy_score, confusion_matrix, precision_score, recall_score, f1_score, plot_roc_curve, roc_curve"
   ]
  },
  {
   "cell_type": "code",
   "execution_count": 2,
   "id": "1a1b9952",
   "metadata": {},
   "outputs": [],
   "source": [
    "#load in stack overflow data w condescension labels\n",
    "stack_overflow_df = pd.read_csv('/Users/amelialui/Desktop/DS_Projects/Condescension_Detection_Stack_Overflow/dataCompleted.csv')\n",
    "stack_overflow_df = stack_overflow_df.drop(columns=['Unnamed: 0'])\n"
   ]
  },
  {
   "cell_type": "markdown",
   "id": "9dd50b35",
   "metadata": {},
   "source": [
    "# Text Preprocessing, Tokenization"
   ]
  },
  {
   "cell_type": "code",
   "execution_count": 3,
   "id": "04db6351",
   "metadata": {},
   "outputs": [
    {
     "data": {
      "text/html": [
       "<div>\n",
       "<style scoped>\n",
       "    .dataframe tbody tr th:only-of-type {\n",
       "        vertical-align: middle;\n",
       "    }\n",
       "\n",
       "    .dataframe tbody tr th {\n",
       "        vertical-align: top;\n",
       "    }\n",
       "\n",
       "    .dataframe thead th {\n",
       "        text-align: right;\n",
       "    }\n",
       "</style>\n",
       "<table border=\"1\" class=\"dataframe\">\n",
       "  <thead>\n",
       "    <tr style=\"text-align: right;\">\n",
       "      <th></th>\n",
       "      <th>text</th>\n",
       "      <th>c_label</th>\n",
       "    </tr>\n",
       "  </thead>\n",
       "  <tbody>\n",
       "    <tr>\n",
       "      <th>0</th>\n",
       "      <td>Yeah, I didn't believe it until I created a co...</td>\n",
       "      <td>False</td>\n",
       "    </tr>\n",
       "    <tr>\n",
       "      <th>1</th>\n",
       "      <td>It will help if you give some details of which...</td>\n",
       "      <td>False</td>\n",
       "    </tr>\n",
       "    <tr>\n",
       "      <th>2</th>\n",
       "      <td>infact it does. Look a the first lines of your...</td>\n",
       "      <td>False</td>\n",
       "    </tr>\n",
       "    <tr>\n",
       "      <th>3</th>\n",
       "      <td>\"Currently + is implemented using StringBuffer...</td>\n",
       "      <td>False</td>\n",
       "    </tr>\n",
       "    <tr>\n",
       "      <th>4</th>\n",
       "      <td>That code will fail as .Distinct() returns an ...</td>\n",
       "      <td>False</td>\n",
       "    </tr>\n",
       "  </tbody>\n",
       "</table>\n",
       "</div>"
      ],
      "text/plain": [
       "                                                text  c_label\n",
       "0  Yeah, I didn't believe it until I created a co...    False\n",
       "1  It will help if you give some details of which...    False\n",
       "2  infact it does. Look a the first lines of your...    False\n",
       "3  \"Currently + is implemented using StringBuffer...    False\n",
       "4  That code will fail as .Distinct() returns an ...    False"
      ]
     },
     "execution_count": 3,
     "metadata": {},
     "output_type": "execute_result"
    }
   ],
   "source": [
    "stack_overflow_df.head()"
   ]
  },
  {
   "cell_type": "code",
   "execution_count": 4,
   "id": "b84def4e",
   "metadata": {},
   "outputs": [
    {
     "name": "stdout",
     "output_type": "stream",
     "text": [
      "<class 'pandas.core.frame.DataFrame'>\n",
      "RangeIndex: 3887 entries, 0 to 3886\n",
      "Data columns (total 2 columns):\n",
      " #   Column   Non-Null Count  Dtype \n",
      "---  ------   --------------  ----- \n",
      " 0   text     3887 non-null   object\n",
      " 1   c_label  3887 non-null   bool  \n",
      "dtypes: bool(1), object(1)\n",
      "memory usage: 34.3+ KB\n"
     ]
    }
   ],
   "source": [
    "stack_overflow_df.info()"
   ]
  },
  {
   "cell_type": "markdown",
   "id": "56f95bca",
   "metadata": {},
   "source": [
    "want to make a third column, stack_overflow_df['sentiment']"
   ]
  },
  {
   "cell_type": "code",
   "execution_count": 5,
   "id": "99883b91",
   "metadata": {},
   "outputs": [],
   "source": [
    "analyzer = SentimentIntensityAnalyzer()\n",
    "negative_scores = [] #we care more about how negative it is, not how neutral or pos or overall\n",
    "\n",
    "for i in range(0,3887):\n",
    "    doc = stack_overflow_df['text'][i]\n",
    "    sentiment = analyzer.polarity_scores(doc)\n",
    "    neg = sentiment['neg']\n",
    "    negative_scores.append(neg)\n",
    "\n",
    "stack_overflow_df['neg_sentiment'] = negative_scores"
   ]
  },
  {
   "cell_type": "code",
   "execution_count": 6,
   "id": "36d79e0c",
   "metadata": {},
   "outputs": [
    {
     "data": {
      "text/html": [
       "<div>\n",
       "<style scoped>\n",
       "    .dataframe tbody tr th:only-of-type {\n",
       "        vertical-align: middle;\n",
       "    }\n",
       "\n",
       "    .dataframe tbody tr th {\n",
       "        vertical-align: top;\n",
       "    }\n",
       "\n",
       "    .dataframe thead th {\n",
       "        text-align: right;\n",
       "    }\n",
       "</style>\n",
       "<table border=\"1\" class=\"dataframe\">\n",
       "  <thead>\n",
       "    <tr style=\"text-align: right;\">\n",
       "      <th></th>\n",
       "      <th>text</th>\n",
       "      <th>c_label</th>\n",
       "      <th>neg_sentiment</th>\n",
       "    </tr>\n",
       "  </thead>\n",
       "  <tbody>\n",
       "    <tr>\n",
       "      <th>0</th>\n",
       "      <td>Yeah, I didn't believe it until I created a co...</td>\n",
       "      <td>False</td>\n",
       "      <td>0.127</td>\n",
       "    </tr>\n",
       "    <tr>\n",
       "      <th>1</th>\n",
       "      <td>It will help if you give some details of which...</td>\n",
       "      <td>False</td>\n",
       "      <td>0.000</td>\n",
       "    </tr>\n",
       "    <tr>\n",
       "      <th>2</th>\n",
       "      <td>infact it does. Look a the first lines of your...</td>\n",
       "      <td>False</td>\n",
       "      <td>0.105</td>\n",
       "    </tr>\n",
       "    <tr>\n",
       "      <th>3</th>\n",
       "      <td>\"Currently + is implemented using StringBuffer...</td>\n",
       "      <td>False</td>\n",
       "      <td>0.000</td>\n",
       "    </tr>\n",
       "    <tr>\n",
       "      <th>4</th>\n",
       "      <td>That code will fail as .Distinct() returns an ...</td>\n",
       "      <td>False</td>\n",
       "      <td>0.189</td>\n",
       "    </tr>\n",
       "  </tbody>\n",
       "</table>\n",
       "</div>"
      ],
      "text/plain": [
       "                                                text  c_label  neg_sentiment\n",
       "0  Yeah, I didn't believe it until I created a co...    False          0.127\n",
       "1  It will help if you give some details of which...    False          0.000\n",
       "2  infact it does. Look a the first lines of your...    False          0.105\n",
       "3  \"Currently + is implemented using StringBuffer...    False          0.000\n",
       "4  That code will fail as .Distinct() returns an ...    False          0.189"
      ]
     },
     "execution_count": 6,
     "metadata": {},
     "output_type": "execute_result"
    }
   ],
   "source": [
    "stack_overflow_df.head()"
   ]
  },
  {
   "cell_type": "code",
   "execution_count": 7,
   "id": "c6f3f5d6",
   "metadata": {},
   "outputs": [
    {
     "data": {
      "text/html": [
       "<div>\n",
       "<style scoped>\n",
       "    .dataframe tbody tr th:only-of-type {\n",
       "        vertical-align: middle;\n",
       "    }\n",
       "\n",
       "    .dataframe tbody tr th {\n",
       "        vertical-align: top;\n",
       "    }\n",
       "\n",
       "    .dataframe thead th {\n",
       "        text-align: right;\n",
       "    }\n",
       "</style>\n",
       "<table border=\"1\" class=\"dataframe\">\n",
       "  <thead>\n",
       "    <tr style=\"text-align: right;\">\n",
       "      <th></th>\n",
       "      <th>text</th>\n",
       "      <th>c_label</th>\n",
       "      <th>neg_sentiment</th>\n",
       "    </tr>\n",
       "  </thead>\n",
       "  <tbody>\n",
       "    <tr>\n",
       "      <th>0</th>\n",
       "      <td>Yeah n't believe created console app good lord...</td>\n",
       "      <td>False</td>\n",
       "      <td>0.127</td>\n",
       "    </tr>\n",
       "    <tr>\n",
       "      <th>1</th>\n",
       "      <td>help give details database using techniques vary</td>\n",
       "      <td>False</td>\n",
       "      <td>0.000</td>\n",
       "    </tr>\n",
       "    <tr>\n",
       "      <th>2</th>\n",
       "      <td>infact Look first lines concat code problem co...</td>\n",
       "      <td>False</td>\n",
       "      <td>0.105</td>\n",
       "    </tr>\n",
       "    <tr>\n",
       "      <th>3</th>\n",
       "      <td>`` Currently implemented using StringBuffer ``...</td>\n",
       "      <td>False</td>\n",
       "      <td>0.000</td>\n",
       "    </tr>\n",
       "    <tr>\n",
       "      <th>4</th>\n",
       "      <td>code fail .Distinct returns IEnumerable add .T...</td>\n",
       "      <td>False</td>\n",
       "      <td>0.189</td>\n",
       "    </tr>\n",
       "  </tbody>\n",
       "</table>\n",
       "</div>"
      ],
      "text/plain": [
       "                                                text  c_label  neg_sentiment\n",
       "0  Yeah n't believe created console app good lord...    False          0.127\n",
       "1   help give details database using techniques vary    False          0.000\n",
       "2  infact Look first lines concat code problem co...    False          0.105\n",
       "3  `` Currently implemented using StringBuffer ``...    False          0.000\n",
       "4  code fail .Distinct returns IEnumerable add .T...    False          0.189"
      ]
     },
     "execution_count": 7,
     "metadata": {},
     "output_type": "execute_result"
    }
   ],
   "source": [
    "#remove stop words\n",
    "def split(word):\n",
    "    return [char for char in word]\n",
    "punc = split(string.punctuation)\n",
    "stop_words = set(stopwords.words('english'))\n",
    "\n",
    "for i in range(0,3887):\n",
    "    doc = stack_overflow_df['text'][i]\n",
    "    filtered = [w for w in word_tokenize(doc) if not w.lower() in stop_words]\n",
    "    filtered = [w for w in word_tokenize(\" \".join(filtered)) if not w.lower() in punc]\n",
    "    stack_overflow_df.at[i, 'text'] = \" \".join(filtered)\n",
    "\n",
    "stack_overflow_df.head()"
   ]
  },
  {
   "cell_type": "code",
   "execution_count": 8,
   "id": "222e9992",
   "metadata": {},
   "outputs": [],
   "source": [
    "#get rid of numbers\n",
    "for i in range(0,3887):\n",
    "    doc = stack_overflow_df['text'][i]\n",
    "    doc_no_nums = re.sub(\"\\d+\", \" \", doc)\n",
    "    stack_overflow_df.at[i, 'text'] = doc_no_nums"
   ]
  },
  {
   "cell_type": "code",
   "execution_count": 9,
   "id": "3c1e5160",
   "metadata": {},
   "outputs": [],
   "source": [
    "#simplify terms down to their stems\n",
    "#stemmer = LancasterStemmer()\n",
    "\n",
    "#for i in range(0,3887):\n",
    "    #doc = stack_overflow_df['text'][i]\n",
    "    #filtered = \"\"\n",
    "    #for word in doc.split():\n",
    "        #stem = stemmer.stem(word)\n",
    "        #filtered += stem + \" \"\n",
    "    #filtered.rstrip()\n",
    "    #stack_overflow_df.at[i, 'text'] = filtered.lower()"
   ]
  },
  {
   "cell_type": "markdown",
   "id": "6cf274d6",
   "metadata": {},
   "source": [
    "compound term extraction for emotes like :)"
   ]
  },
  {
   "cell_type": "code",
   "execution_count": 10,
   "id": "6d0b4310",
   "metadata": {},
   "outputs": [
    {
     "name": "stdout",
     "output_type": "stream",
     "text": [
      "['Yeah', \"n't\", 'believe', 'created', 'console', 'app', 'good', 'lord', 'would', 'give', 'rope', 'hang', 'hated', 'VB.NET', 'OrElse', 'AndAlso', 'keywords']\n"
     ]
    }
   ],
   "source": [
    "mwe_tokenizer = MWETokenizer([(':',')'), (';',')'),(':','('), ('=',')'),('=','('),\n",
    "                              (':','-',')'), (':','-','('),\n",
    "                              (':',\"'\",'-','('),('X','D'),(':','D'),(':',']'),\n",
    "                              ('>',':','('),('>',':','['),\n",
    "                              (':','/'),(':','|'),\n",
    "                              ('<','_','<'),('>','_','>'),('o','_','o'),('O','_','O')])\n",
    "\n",
    "for i in range(0,3886):\n",
    "    doc = stack_overflow_df['text'][i]\n",
    "    mwe_tokens = mwe_tokenizer.tokenize(word_tokenize(doc))\n",
    "    \n",
    "#make tokenizer that combines mwe_tokenizer and word_tokenizer to make callable\n",
    "def my_tokenizer(text):\n",
    "    mwe_tokens = mwe_tokenizer.tokenize(word_tokenize(text))\n",
    "    return(mwe_tokens)\n",
    "\n",
    "print(my_tokenizer(stack_overflow_df['text'][0]))"
   ]
  },
  {
   "cell_type": "markdown",
   "id": "6ade5da3",
   "metadata": {},
   "source": [
    "# Make CountVectorizer Doc-Term Matrix"
   ]
  },
  {
   "cell_type": "code",
   "execution_count": 11,
   "id": "282056a5",
   "metadata": {},
   "outputs": [
    {
     "name": "stdout",
     "output_type": "stream",
     "text": [
      "<class 'pandas.core.frame.DataFrame'>\n",
      "RangeIndex: 3887 entries, 0 to 3886\n",
      "Columns: 9625 entries, ' to …\n",
      "dtypes: int64(9625)\n",
      "memory usage: 285.4 MB\n"
     ]
    }
   ],
   "source": [
    "cv = CountVectorizer(tokenizer = my_tokenizer)\n",
    "cv_X = cv.fit_transform(stack_overflow_df['text'])\n",
    "cv_doc_term_mat = pd.DataFrame(cv_X.toarray(), columns = cv.get_feature_names_out())\n",
    "cv_doc_term_mat.info()"
   ]
  },
  {
   "cell_type": "code",
   "execution_count": 12,
   "id": "3695c1e4",
   "metadata": {},
   "outputs": [
    {
     "data": {
      "text/plain": [
       "55910"
      ]
     },
     "execution_count": 12,
     "metadata": {},
     "output_type": "execute_result"
    }
   ],
   "source": [
    "cv_doc_term_mat.values.sum()\n",
    "#looks about right"
   ]
  },
  {
   "cell_type": "code",
   "execution_count": 13,
   "id": "4b06118e",
   "metadata": {},
   "outputs": [
    {
     "name": "stdout",
     "output_type": "stream",
     "text": [
      "<class 'pandas.core.frame.DataFrame'>\n",
      "RangeIndex: 3887 entries, 0 to 3886\n",
      "Columns: 9625 entries, ' to …\n",
      "dtypes: int64(9625)\n",
      "memory usage: 285.4 MB\n"
     ]
    }
   ],
   "source": [
    "cv_doc_term_mat.info()"
   ]
  },
  {
   "cell_type": "markdown",
   "id": "36c76506",
   "metadata": {},
   "source": [
    "# Make TF-IDF Doc-Term Matrix"
   ]
  },
  {
   "cell_type": "code",
   "execution_count": 14,
   "id": "081cc9fc",
   "metadata": {},
   "outputs": [
    {
     "name": "stdout",
     "output_type": "stream",
     "text": [
      "<class 'pandas.core.frame.DataFrame'>\n",
      "RangeIndex: 3887 entries, 0 to 3886\n",
      "Columns: 9625 entries, ' to …\n",
      "dtypes: float64(9625)\n",
      "memory usage: 285.4 MB\n"
     ]
    }
   ],
   "source": [
    "tfidf = TfidfVectorizer(tokenizer = my_tokenizer)\n",
    "tfidf_X = tfidf.fit_transform(stack_overflow_df['text'])\n",
    "tfidf_doc_term_mat = pd.DataFrame(tfidf_X.toarray(), columns = tfidf.get_feature_names_out())\n",
    "tfidf_doc_term_mat.info()"
   ]
  },
  {
   "cell_type": "markdown",
   "id": "e6d6b6f3",
   "metadata": {},
   "source": [
    "# Latent Semantic Analysis Model"
   ]
  },
  {
   "cell_type": "markdown",
   "id": "0e82efb2",
   "metadata": {},
   "source": [
    "w/ count vectorizer"
   ]
  },
  {
   "cell_type": "code",
   "execution_count": 15,
   "id": "b1960c82",
   "metadata": {},
   "outputs": [
    {
     "data": {
      "text/plain": [
       "TruncatedSVD(n_components=3)"
      ]
     },
     "execution_count": 15,
     "metadata": {},
     "output_type": "execute_result"
    }
   ],
   "source": [
    "lsa = TruncatedSVD(3)\n",
    "lsa.fit(cv_doc_term_mat)"
   ]
  },
  {
   "cell_type": "code",
   "execution_count": 16,
   "id": "37fa7ff1",
   "metadata": {},
   "outputs": [],
   "source": [
    "def topics(model, feature_names, top_words, topic_names=None):\n",
    "    for j, topic in enumerate(model):\n",
    "        if not topic_names or not topic_names[j]:\n",
    "            print(\"\\nTopic \")\n",
    "        else:\n",
    "            print(\"\\nTopic:\",topic_names[j])\n",
    "        print(\", \".join([feature_names[i]\n",
    "                        for i in topic.argsort()[:-top_words - 1:-1]]))"
   ]
  },
  {
   "cell_type": "code",
   "execution_count": 17,
   "id": "0948f3ae",
   "metadata": {},
   "outputs": [
    {
     "name": "stdout",
     "output_type": "stream",
     "text": [
      "\n",
      "Topic: asking for clarification\n",
      "``, n't, 's, use, code, would, ..., one, like, answer, also, question, c, object, ., get, way, think, using, need\n",
      "\n",
      "Topic: technical\n",
      "``, cast, ~, derived, straight, postgresql, exact, var, printf, typeof, derives, student, .constructor, computer, insane, controlchars.quote, repeating, intend, -name, namespacelist\n",
      "\n",
      "Topic: reviews on other comments\n",
      "'s, code, way, think, like, answer, function, much, data, language, also, right, problem, http, around, wrong, goto, since, pretty, lot\n"
     ]
    }
   ],
   "source": [
    "topics(lsa.components_, cv_doc_term_mat.columns, 20, topic_names=['asking for clarification','technical','reviews on other comments'])\n"
   ]
  },
  {
   "cell_type": "markdown",
   "id": "31e9dde5",
   "metadata": {},
   "source": [
    "this model makes sense, but it was a bit of a stretch to define the topics."
   ]
  },
  {
   "cell_type": "markdown",
   "id": "00f0ad13",
   "metadata": {},
   "source": [
    "# Latent Semantic Analysis Model\n",
    "w/ tfidf"
   ]
  },
  {
   "cell_type": "code",
   "execution_count": 18,
   "id": "325d6554",
   "metadata": {},
   "outputs": [
    {
     "data": {
      "text/plain": [
       "TruncatedSVD(n_components=3)"
      ]
     },
     "execution_count": 18,
     "metadata": {},
     "output_type": "execute_result"
    }
   ],
   "source": [
    "lsa = TruncatedSVD(3)\n",
    "lsa.fit(tfidf_doc_term_mat)"
   ]
  },
  {
   "cell_type": "code",
   "execution_count": 19,
   "id": "f0ccae57",
   "metadata": {},
   "outputs": [
    {
     "name": "stdout",
     "output_type": "stream",
     "text": [
      "\n",
      "Topic: asking for clarification\n",
      "``, n't, 's, use, code, would, ..., one, question, answer, like, think, c, also, good, need, really, way, want, using\n",
      "\n",
      "Topic: technical\n",
      "``, jpeg, ocaml, postgresql, words, datetime.now.tostring, case-insensitive, -tiers, n-tiers, associative, repeating, commutative, foo, controlchars.quote, hofstadterian, age, href=, insane, cryptography, combining\n",
      "\n",
      "Topic: reviews on other comments\n",
      "question, answer, asked, answers, one, good, asking, ask, valid, c++, perfectly, vote, questions, accepted, answered, nice, think, different, correct, subjective\n"
     ]
    }
   ],
   "source": [
    "topics(lsa.components_, tfidf_doc_term_mat.columns, 20, topic_names=['asking for clarification','technical','reviews on other comments'])\n"
   ]
  },
  {
   "cell_type": "markdown",
   "id": "f86e6c96",
   "metadata": {},
   "source": [
    "same topics, looks almost same as w countvectorizer input, the last topic makes a lot more sense with this group of words"
   ]
  },
  {
   "cell_type": "markdown",
   "id": "41bb5845",
   "metadata": {},
   "source": [
    "# Non-Negative Matrix Factorization\n",
    "w/ cv"
   ]
  },
  {
   "cell_type": "code",
   "execution_count": 20,
   "id": "bc08f407",
   "metadata": {},
   "outputs": [
    {
     "name": "stderr",
     "output_type": "stream",
     "text": [
      "/Users/amelialui/opt/anaconda3/lib/python3.9/site-packages/sklearn/decomposition/_nmf.py:289: FutureWarning: The 'init' value, when 'init=None' and n_components is less than n_samples and n_features, will be changed from 'nndsvd' to 'nndsvda' in 1.1 (renaming of 0.26).\n",
      "  warnings.warn(\n"
     ]
    },
    {
     "data": {
      "text/plain": [
       "NMF(n_components=3)"
      ]
     },
     "execution_count": 20,
     "metadata": {},
     "output_type": "execute_result"
    }
   ],
   "source": [
    "nmf = NMF(3)\n",
    "nmf.fit(cv_doc_term_mat)"
   ]
  },
  {
   "cell_type": "code",
   "execution_count": 21,
   "id": "62ecae53",
   "metadata": {
    "scrolled": false
   },
   "outputs": [
    {
     "name": "stdout",
     "output_type": "stream",
     "text": [
      "\n",
      "Topic: technical\n",
      "``, string, cast, object, new, use, ..., ., also, name, like, x, would, type, instead, different, one, ==, example, code\n",
      "\n",
      "Topic: asking for clarification\n",
      "n't, would, use, ca, code, one, ..., want, question, could, c, work, like, think, answer, need, time, know, make, using\n",
      "\n",
      "Topic: reviews on other comments\n",
      "'s, code, think, use, like, answer, way, one, c, good, ..., question, time, would, also, using, function, know, much, need\n"
     ]
    }
   ],
   "source": [
    "topics(nmf.components_, cv_doc_term_mat.columns, 20, topic_names=[\"technical\",\"asking for clarification\",\"reviews on other comments\"])\n"
   ]
  },
  {
   "cell_type": "markdown",
   "id": "7522923a",
   "metadata": {},
   "source": [
    "# Non-Negative Matrix Factorization\n",
    "w/ tfidf"
   ]
  },
  {
   "cell_type": "code",
   "execution_count": 22,
   "id": "20d79430",
   "metadata": {},
   "outputs": [
    {
     "name": "stderr",
     "output_type": "stream",
     "text": [
      "/Users/amelialui/opt/anaconda3/lib/python3.9/site-packages/sklearn/decomposition/_nmf.py:289: FutureWarning: The 'init' value, when 'init=None' and n_components is less than n_samples and n_features, will be changed from 'nndsvd' to 'nndsvda' in 1.1 (renaming of 0.26).\n",
      "  warnings.warn(\n"
     ]
    },
    {
     "data": {
      "text/plain": [
       "NMF(n_components=3)"
      ]
     },
     "execution_count": 22,
     "metadata": {},
     "output_type": "execute_result"
    }
   ],
   "source": [
    "nmf = NMF(3)\n",
    "nmf.fit(tfidf_doc_term_mat)"
   ]
  },
  {
   "cell_type": "code",
   "execution_count": 23,
   "id": "e6a092fd",
   "metadata": {},
   "outputs": [
    {
     "name": "stdout",
     "output_type": "stream",
     "text": [
      "\n",
      "Topic: technical\n",
      "``, mean, string, new, also, example, different, best, statement, use, ==, --, ., actually, name, read, work, put, say, get\n",
      "\n",
      "Topic: asking for clarification\n",
      "n't, 's, code, use, ..., would, one, think, like, c, need, time, using, way, know, ca, want, could, good, 're\n",
      "\n",
      "Topic: reviews on other comments\n",
      "question, answer, asked, good, one, answers, would, asking, valid, c++, ask, vote, perfectly, accepted, nice, answered, questions, different, people, think\n"
     ]
    }
   ],
   "source": [
    "topics(nmf.components_, tfidf_doc_term_mat.columns, 20, topic_names=[\"technical\",\"asking for clarification\",\"reviews on other comments\"])\n"
   ]
  },
  {
   "cell_type": "markdown",
   "id": "a6142057",
   "metadata": {},
   "source": [
    "# Add LSA TFIDF Model to DF\n",
    "This model made most sense overall"
   ]
  },
  {
   "cell_type": "code",
   "execution_count": 24,
   "id": "f7a665bc",
   "metadata": {},
   "outputs": [
    {
     "data": {
      "text/plain": [
       "[[0.041854457767139114, -0.08856499915939631, -0.004200683396197927],\n",
       " [0.02358450177091204, -0.04639148417670391, -0.006353095883245711],\n",
       " [0.04488948817114191, -0.06548931950508635, -0.04219323522768081],\n",
       " [0.19601168900043717, 0.046779279167053704, -0.0158250462132611],\n",
       " [0.026784880327028433, -0.04813741428898866, -0.03987320218391961],\n",
       " [0.08618897209896378, -0.17933479556098347, -0.028908391971879957],\n",
       " [0.0678869985580105, -0.13550904796859262, -0.05156663155020208],\n",
       " [0.634138397941203, 0.30071622655350544, 0.009242284527927138],\n",
       " [0.04785959085576726, -0.09476250271553702, -0.011083583514583457],\n",
       " [0.04785959085576726, -0.09476250271553702, -0.011083583514583457],\n",
       " [0.028863056794620447, -0.0455609231586818, -0.02332664379653203],\n",
       " [0.049784602769327835, -0.09133780771854891, -0.04937958153379736],\n",
       " [0.17003504507308073, 0.050743099417857145, -0.014725421290260747],\n",
       " [0.07620415265274393, -0.12828500671296653, -0.0891450225014798],\n",
       " [0.022166028842967464, -0.039796678122830914, 0.0020778440401000254],\n",
       " [0.04392557079432359, -0.08530144386968493, -0.018104353704962054],\n",
       " [0.03480855754518182, -0.04870992407060783, -0.04406174481118971],\n",
       " [0.07333602013150936, -0.13078995171375793, -0.018127006022636206],\n",
       " [0.011458363036668414, -0.008287801814918134, -0.0030230095890931554],\n",
       " [0.016032386515114683, -0.02766549721564035, -0.015653535663997895],\n",
       " [0.01065377171921424, -0.01688166252978253, -0.01101023693254841],\n",
       " [0.052441193244639035, -0.057696274180394, -0.0407960855043364],\n",
       " [0.03301226805703396, -0.07235137152230174, -0.0267612234136633],\n",
       " [0.04617370947569486, -0.08209039868923626, -0.02352983646998131],\n",
       " [0.004331477119274535, -0.001241670773992356, 0.0019425178635400328],\n",
       " [0.02905949050848336, -0.04571113743965941, -0.010345283630910062],\n",
       " [0.013838441668524281, -0.019554634003892808, -0.003875981685862336],\n",
       " [0.007618121378289966, -0.01016986845955661, -0.004027380645087794],\n",
       " [0.042324883849620284, -0.07309160518993177, -0.02486200127788191],\n",
       " [0.04456039100454212, -0.08894513871739373, -0.009854404327719087],\n",
       " [0.03880062065139879, -0.07313923689582925, 0.18097384588071838],\n",
       " [0.012949866884293764, -0.029893818513564197, -0.010425131107125757],\n",
       " [0.03322191399743888, -0.06205394719892392, -0.00128830322703536],\n",
       " [0.37685026434376595, 0.09403554356653726, -0.01980429014872437],\n",
       " [0.025180474487964573, -0.041425752870291196, 0.010432651905789648],\n",
       " [0.01647389870918273, -0.03169725994411578, -0.0070247764279542015],\n",
       " [0.037377819166530483, -0.06232401852029894, -0.03954115706523637],\n",
       " [0.04882573968975118, -0.10068794458651524, -0.0045796185288599425],\n",
       " [0.19604019427307787, 0.018981535259631987, 0.08930289935070232],\n",
       " [0.06295581465078874, -0.1242504060734378, 0.11558381591501979],\n",
       " [0.03921324653531291, -0.07068045819533401, -0.004171598958134197],\n",
       " [0.0403883818461443, -0.08769972674773574, -0.03486529378503068],\n",
       " [0.30062645961645357, 0.028630404651290936, -0.03068580855058346],\n",
       " [0.0173565816667921, -0.029342036617707175, -0.006560062176762293],\n",
       " [0.03236364614912122, -0.044802569326644004, -0.01760030910075096],\n",
       " [0.0551759497531355, -0.10425977907591777, -0.02428923613495081],\n",
       " [0.03476403834325041, -0.07276540105982085, 0.2897840406270258],\n",
       " [0.06873199427339097, -0.14197540951775664, -0.049867846509736025],\n",
       " [0.3580519018742481, 0.15385958023248686, -0.020612922696981135],\n",
       " [0.05515738522640135, -0.10661756907821736, -0.040093664158426516],\n",
       " [0.07131742332692023, -0.1549467037695718, -0.05559811869642721],\n",
       " [0.03366747266279804, -0.06470168619571134, 0.11723930747986432],\n",
       " [0.4258532390578384, 0.11822364324186341, -0.008900882975389416],\n",
       " [0.043787573276384315, -0.08159153907529428, -0.03426891726146547],\n",
       " [0.03787959425788709, -0.061995905381145924, -0.019861134599840104],\n",
       " [0.18912701328724765, -0.0032038927084170124, -0.042601940308016784],\n",
       " [0.068750439901856, -0.1305641583053462, -0.0109397936348386],\n",
       " [0.3622471329236528, 0.11960075909997252, -0.008093954259118793],\n",
       " [0.38258114933158355, 0.0922499864488823, -0.006533063870559257],\n",
       " [0.010081454919198013, -0.016869776428074194, -0.007718942628910639],\n",
       " [0.06759440817526595, -0.13158941910123634, 0.0922827111649348],\n",
       " [0.04284450499458017, -0.07617643384915967, -0.020357328780756724],\n",
       " [0.03988158177897106, -0.07856487670752481, -0.024028321610272428],\n",
       " [0.048649190807278815, -0.07216813022033396, 0.005390024505018217],\n",
       " [0.06917088712805143, -0.11182201450431953, -0.03742148362518498],\n",
       " [0.036979136894914375, -0.06211550074546984, -0.030380618068917037],\n",
       " [0.01969290589312724, -0.03330227512850502, -0.005660065965811154],\n",
       " [0.036899854074090514, -0.059046290077561944, -0.017461073224920142],\n",
       " [0.07289578397371164, -0.13040824253144592, -0.034797870760795394],\n",
       " [0.013476486519399785, -0.025672658136018104, -0.0006630144165616025],\n",
       " [0.043253979697059936, -0.07496751062959368, -0.026272899928002837],\n",
       " [0.02775297062333421, -0.049673762566061146, -0.008304432023428154],\n",
       " [0.07461309114746242, -0.13459867866240582, -0.026943666002521235],\n",
       " [0.2248956819325674, -0.011647918188020712, -0.006940040248896549],\n",
       " [0.034222126888649444, -0.06611572783750565, 0.011442050410557163],\n",
       " [0.019131680985970727, -0.027730991460241786, -0.004141395311890848],\n",
       " [0.29541267392575077, 0.13188584668135106, 0.006232403856085031],\n",
       " [0.029608455162347176, -0.046579773774124145, -0.016814559805799656],\n",
       " [0.03594443531477403, -0.06056304947318995, -0.009971907292908234],\n",
       " [0.020405594082658386, -0.032028322628166135, -0.005775052901949831],\n",
       " [0.04753400363200473, -0.08286638766547728, 0.05160329705229523],\n",
       " [0.05926392521714023, -0.11148441179496785, -0.02413762118281121],\n",
       " [0.061057325668563825, -0.1142928922178576, 0.01252386349196271],\n",
       " [0.2131074124111102, -0.07257343243632904, -0.02990608323923931],\n",
       " [0.03422898538948076, -0.04611411351461037, -0.014974650987839717],\n",
       " [0.2139172235664788, 0.02357013153216168, -0.026896472118753373],\n",
       " [0.10053342676486948, -0.17364016777142727, -0.08254752611961604],\n",
       " [0.08329457156652839, -0.15347439639454186, 0.41136387700924953],\n",
       " [0.2210513910464156, 0.019552866607936422, -0.011428019713178687],\n",
       " [0.06772388303190992, -0.13483748884337363, -0.05852678099290219],\n",
       " [0.020749405918084135, -0.03599026003957088, -0.02262826359979785],\n",
       " [0.029832638546507736, -0.045707978898038716, -0.021057684958160988],\n",
       " [0.025199884989883053, -0.04788471156059353, -0.0058000069641967415],\n",
       " [0.03737231869014336, -0.08359584538266585, 0.10391919147705089],\n",
       " [0.029872717737891727, -0.05537460448542739, -0.040828803475066164],\n",
       " [0.04253015213776132, -0.07409827542957656, -7.017452099068039e-05],\n",
       " [0.07138100621143464, -0.15186936257095818, 0.31970462620339113],\n",
       " [0.06880149823469456, -0.12925806985833865, -0.02654316222391066],\n",
       " [0.08086480027744397, -0.14710183865909324, -0.08214421170502409],\n",
       " [0.08081584109456157, -0.1371016753715908, -0.0662192677566526],\n",
       " [0.10046627761176254, -0.21963564292138613, 0.16346191264948745],\n",
       " [0.04006176291000417, -0.06997460177615664, -0.014013515485562273],\n",
       " [0.014593348645869492, -0.027354425392799787, -0.02157786582842486],\n",
       " [0.05165204218378433, -0.09090831729379982, -0.03358888967530953],\n",
       " [0.012229827430057901, -0.020890349287763572, 1.2354299711994274e-05],\n",
       " [0.056820824248080146, -0.11103507072757042, -0.005040822765436959],\n",
       " [0.19589723377720525, -0.03638776267179495, -0.019226112285836934],\n",
       " [0.06441426650293082, -0.10197197034449848, -0.03680826905351452],\n",
       " [0.028580288268779664, -0.047746691214936555, -0.008457182975793854],\n",
       " [0.07417395403317247, -0.1374443400381731, -0.039893887868095036],\n",
       " [0.04580666889084863, -0.08631049813332291, -0.03780684892290788],\n",
       " [0.014480361584145356, -0.022923063457917645, 0.009938513037672627],\n",
       " [0.035783833620536984, -0.062186325761117316, -0.017592202030075554],\n",
       " [0.46579395228285736, 0.19156184914751062, 0.13949474085031657],\n",
       " [0.02835549220578891, -0.05100769230692169, 2.2291754221530845e-05],\n",
       " [0.26828935496965933, 0.1420190084628132, 0.005886320327949045],\n",
       " [0.27724862346313833, -0.1564716333839719, -0.042118308087968084],\n",
       " [0.0025371778760690704, -0.00599378876419425, 0.0007547841291294451],\n",
       " [0.05221323418825471, -0.11428513259731543, 0.1873941206641971],\n",
       " [0.03851215210468696, -0.05695920508167174, -0.026713891289937165],\n",
       " [0.04330160825112832, -0.049961910778377715, -0.021176054749892002],\n",
       " [0.04192638550329646, -0.09019529148421296, 0.3202742884853274],\n",
       " [0.08851822706261, -0.17052376286825577, -0.0458085235119757],\n",
       " [0.039671536012398055, -0.06766678557380448, -0.013158960259731222],\n",
       " [0.03403371155865354, -0.0709797186730273, -0.014415548297280196],\n",
       " [0.06541590025718429, -0.11678879308908158, -0.05871478731562422],\n",
       " [0.2979621448413274, -0.10339132355158172, 0.1465219994139786],\n",
       " [0.07959410697344163, -0.18757753026121843, 0.39161441532857094],\n",
       " [0.032099007477419686, -0.0639859831930674, -0.013032962389495122],\n",
       " [0.058838668785417526, -0.10904810293972601, -0.038667322432091554],\n",
       " [0.23812518147878953, -0.04845221516837021, -0.03515086521866398],\n",
       " [0.06994124393100891, -0.11816478188955465, -0.01369331117012644],\n",
       " [0.017287700037211643, -0.03297700455341216, 0.007162105396008267],\n",
       " [0.03238813343463925, -0.05795207150715174, 0.07796045393882883],\n",
       " [0.025098114217776215, -0.04480872738774937, -0.03856483391757043],\n",
       " [0.052594533759311744, -0.09027653636236516, -0.04141188023111944],\n",
       " [0.07026654982058538, -0.12874560735229115, -0.05354681733969692],\n",
       " [0.3209659672253548, 0.15677208397881195, -0.0013188490911311716],\n",
       " [0.023854905943749477, -0.02867244897198656, -0.01706419849887566],\n",
       " [0.5733412423150814, 0.27976446714962283, 0.014665945025793804],\n",
       " [0.04755039804437608, -0.08694418138396029, -0.05503489064187233],\n",
       " [0.02881462263011189, -0.05138656104964079, -0.035509342464838445],\n",
       " [0.01113042732096441, -0.015808273738030884, -0.004862398399975863],\n",
       " [0.07961782618506831, -0.1491990261945949, -0.059005462787510586],\n",
       " [0.028661685618956947, -0.056669512302337965, -0.00886942472216722],\n",
       " [0.06284948731683031, -0.11674700491245688, -0.003600887460687845],\n",
       " [0.20540667428141732, -0.017408677572589678, -0.013907840690598501],\n",
       " [0.02778271728031503, -0.039772648353103825, -0.019869640203909047],\n",
       " [0.030989112346337538, -0.05075242332287659, -0.025848754801604333],\n",
       " [0.19824599806161064, -0.033291780088295, -0.05201482541540858],\n",
       " [0.06186741567714729, -0.11128906730657527, -0.054414949486535885],\n",
       " [0.04912278199587469, -0.08449262621861954, -0.0030685720917392138],\n",
       " [0.2992377680105452, -0.0029888583331836426, -0.0373652700978816],\n",
       " [0.020732499704086596, -0.034774708954063496, 0.004062432767659433],\n",
       " [0.013236288569132905, -0.02378001818524146, -0.010821174203773981],\n",
       " [0.047535434844385105, -0.09101786971416044, 0.23806120339309755],\n",
       " [0.044044178171987684, -0.0776602492969076, -0.010363668959364102],\n",
       " [0.02161588443728131, -0.024131488202754684, -0.00450598702219685],\n",
       " [0.03677432525225552, -0.06727001436110444, -0.040716287963154574],\n",
       " [0.040734376180932334, -0.07426612919998071, -0.021509486696218157],\n",
       " [0.03164301207310122, -0.04383369003078247, -0.021800752919101593],\n",
       " [0.01597532845179837, -0.021868218021354923, -0.014566273581850638],\n",
       " [0.019951393031156325, -0.0362697876750846, -0.009184919607343368],\n",
       " [0.04646292153569624, -0.10073983646345308, -0.028628618777848003],\n",
       " [0.05444612178782503, -0.08461839927904535, -0.03243450119027509],\n",
       " [0.0811188455856915, -0.1670138903302525, -0.05473183212225459],\n",
       " [0.039650909041319696, -0.0767416716841253, -0.043809028888570384],\n",
       " [0.05670034458437332, -0.10436312660809995, 0.09518452612572847],\n",
       " [0.028251729589449305, -0.051820221793200304, -0.01588799197218717],\n",
       " [0.07612109166489237, -0.14132700099847034, -0.06489403766476307],\n",
       " [0.06921077411998772, -0.11860384880700856, -0.025609652674273155],\n",
       " [0.008029922560201175, -0.016371010582467135, 0.01073970812135129],\n",
       " [0.05893495229617493, -0.1149069777903778, 0.21526358216978342],\n",
       " [0.0484453348486944, -0.08708866280584246, -0.022174572772592938],\n",
       " [0.06488647506457185, -0.10788218979577409, -0.019911196664348065],\n",
       " [0.018567084149465216, -0.03189029131283788, -0.027274260032600032],\n",
       " [0.02913765054275111, -0.04015391015335367, -0.0060562629691981],\n",
       " [0.05039250122805102, -0.09035046508677964, -0.02688287034944749],\n",
       " [0.10482138628080993, -0.19373337711468216, -0.05295418840748506],\n",
       " [0.02040689455621369, -0.021108132427015064, -0.014062870596912238],\n",
       " [0.013054183649593357, -0.021948849967525778, 0.007503199745240436],\n",
       " [0.07633378061953, -0.1394920272593318, -0.08072867892719507],\n",
       " [0.02314261537626986, -0.038922323440594674, -0.004111817421712461],\n",
       " [0.34537832199484164, 0.14570571352553716, 0.0018009206234650573],\n",
       " [0.27232566880239917, 0.1229149401970865, 0.011288799146271608],\n",
       " [0.05366898535416863, -0.09217385266441012, -0.04146156900487452],\n",
       " [0.0863362645817301, -0.16823454901252288, 0.026063886329380084],\n",
       " [0.03943638603788795, -0.08484528265561149, 0.008112299239152578],\n",
       " [0.01825816424745683, -0.03385396511895051, -0.030972595107601256],\n",
       " [0.057636133461403165, -0.10989517637904488, -0.04842712588281775],\n",
       " [0.03489435581964371, -0.0667189205809044, 0.1229040067681469],\n",
       " [0.08518264282452388, -0.13804421977484538, 0.13075007168018046],\n",
       " [0.2727296710523045, -0.03291270242675366, -0.031140346940621812],\n",
       " [0.026725916904721956, -0.028681306511838662, -0.011878448652311784],\n",
       " [0.01471607094272983, -0.020712551441424257, -0.010484221300197025],\n",
       " [0.044700190485926015, -0.06519923006744169, -0.06055431620993718],\n",
       " [0.030693247633217645, -0.06428054152660115, -0.006418936908999336],\n",
       " [0.04517982211437891, -0.09288464822128614, 0.12315765817602836],\n",
       " [0.0612802483026537, -0.09676024378237494, -0.044182552588290104],\n",
       " [0.09146794667356208, -0.17963778878538728, -0.043980834812938595],\n",
       " [0.030218447026530766, -0.053115899189354276, -0.0201428340302111],\n",
       " [0.045721389387428396, -0.07300573711265959, -0.021605495802764496],\n",
       " [0.06305829646915792, -0.11343415850164629, 0.05065526068555796],\n",
       " [0.07197246922227513, -0.14210196064776281, -0.035948507692265916],\n",
       " [0.5701195853736422, 0.2869115946442701, 0.00479541308930629],\n",
       " [0.046740363524671966, -0.09017218554463594, -0.014183931662418188],\n",
       " [0.054587942508192454, -0.08436156542843161, 0.0740814846529933],\n",
       " [0.04864108673170814, -0.10365349911444102, -0.03301658758800357],\n",
       " [0.06406088210705242, -0.1090046029772403, -0.025822260002648048],\n",
       " [0.035827609566350296, -0.07082652216780289, -0.017269543762928566],\n",
       " [0.2592771054170819, 0.11190768263040558, -0.004859557902993386],\n",
       " [0.03784032980280641, -0.057433380744204836, -0.01407696525805903],\n",
       " [0.058268706625692876, -0.0966661180778369, -0.05050602558681833],\n",
       " [0.34516440963593187, 0.17265036732679098, 0.00403117327831338],\n",
       " [0.02134105736385321, -0.028134474929102964, -0.034909508070415186],\n",
       " [0.058308026236337275, -0.10687219405548437, -0.05806648431866605],\n",
       " [0.10594038816664268, -0.19834928141921782, -0.05064010363926204],\n",
       " [0.03559256302178798, -0.05258013844190659, -0.02242436596906176],\n",
       " [0.07031104869644886, -0.12241081940429645, -0.041486154232166436],\n",
       " [0.02256297535494816, -0.03512926249506118, -0.02062446781896407],\n",
       " [0.05235851499443511, -0.09118206827397576, -0.032148124256246656],\n",
       " [0.02936926953974447, -0.029935720231570623, -0.01000065754350825],\n",
       " [0.006666573799525083, -0.016407345509601788, -0.006561443151692756],\n",
       " [0.5845216683970557, 0.2827438420582167, 0.010794348746446936],\n",
       " [0.042289028897580475, -0.08149052669320007, -0.020834814883122645],\n",
       " [0.38496402713475475, 0.09670437847864465, 0.06687836590371295],\n",
       " [0.2581606146017034, 0.10859294711215665, 0.006680623238361874],\n",
       " [0.024042186392553466, -0.048223675604859115, -0.017626551881147125],\n",
       " [0.08169015843654691, -0.15583645533353468, -0.020818543115749464],\n",
       " [0.10328575632222615, -0.210858402602851, -0.06382971559616726],\n",
       " [0.0222880159060283, -0.04174279791230406, -0.005835058908952669],\n",
       " [0.20160260707704253, -0.0641932694594124, -0.012867710525893559],\n",
       " [0.030251462134804886, -0.043690871150882736, -0.04746332242877217],\n",
       " [0.080518761302747, -0.15250104785048363, 0.04067777714986754],\n",
       " [0.07019481953723397, -0.12516078560412577, -0.05269783019459941],\n",
       " [0.04171912904699348, -0.06715398181649365, -0.023097559328505064],\n",
       " [0.20529239865457574, -0.04000526224528231, 0.05123869726422357],\n",
       " [0.06347024391450251, -0.11778569736259618, -0.01886653412263914],\n",
       " [0.2095769558753284, -0.020877329313044177, -0.028081715973271734],\n",
       " [0.04280007209476497, -0.08192495069089639, -0.022150189762157317],\n",
       " [0.026474676793898196, -0.04380133582730842, -0.017387867528193865],\n",
       " [0.17784401907269182, 0.06911508968451432, -0.004776701980867675],\n",
       " [0.036372796981163344, -0.04993991345623258, -0.016109501394241558],\n",
       " [0.1508318002359792, 0.034512386297807174, -0.0008041633545549588],\n",
       " [0.015821785529571745, -0.03113787262243032, -0.01957196843843299],\n",
       " [0.04007726262932391, -0.06544346261029801, 0.008267036814528428],\n",
       " [0.27012631939325965, -0.08214681830246304, -0.07999084572653059],\n",
       " [0.06013258571539373, -0.1052719216459522, -0.03681779375122043],\n",
       " [0.03016446489576727, -0.05634271661594309, -0.023720013703836647],\n",
       " [0.08067415644618947, -0.14158260417260027, -0.05334090369096527],\n",
       " [0.3779013400064783, -0.018138677077935064, -0.06254448267410352],\n",
       " [0.058469536340200655, -0.10602758563738565, -0.03449812114047662],\n",
       " [0.06079185292537386, -0.11085020294412784, -0.026972916596332136],\n",
       " [0.2257024631524785, -0.0646092580695071, -0.06047790022313485],\n",
       " [0.011258353456215437, -0.017445225239021908, 0.004977043894119994],\n",
       " [0.04464627300384583, -0.08706869978094675, -0.028399475018371506],\n",
       " [0.017321057249646964, -0.03131077095490379, -0.0035459874652630148],\n",
       " [0.03284709073106007, -0.057750130202199185, 0.03231510589868859],\n",
       " [0.009897698794670444, -0.01290809749168359, -0.011725021133107857],\n",
       " [0.10019424314140155, -0.201878472101354, -0.06212362728426768],\n",
       " [0.0450911944019725, -0.07607249070579859, 0.006068427092141156],\n",
       " [0.4569630297305387, 0.19287708215316654, 0.005296509150916845],\n",
       " [0.04218007179261997, -0.07474755082071628, -0.03797042434892475],\n",
       " [0.07781580550738006, -0.1505386821186484, -0.045333958224421295],\n",
       " [0.22674213336454696, 0.09792891702957149, 0.004098936609289081],\n",
       " [0.027843379017537622, -0.04458976519333062, -0.0338035452207995],\n",
       " [0.028670835076167595, -0.05018676221978656, 0.011529954683674357],\n",
       " [0.06337214539373115, -0.1291002549263702, -0.024313508355818022],\n",
       " [0.03568983346183181, -0.07416860586146756, 0.27181826496162265],\n",
       " [0.05745230017880285, -0.10301916285988923, -0.03278066014762076],\n",
       " [0.013509033295404116, -0.026744408729356343, -0.007951468919063613],\n",
       " [0.03985749805906203, -0.06721139709201764, -0.04928137076796649],\n",
       " [9.423290632208688e-05, -0.00036626967762173304, 4.975399479906465e-06],\n",
       " [0.05493766894310234, -0.10224828038462794, -0.040806921655199356],\n",
       " [0.2229242959812257, 0.09038506427745648, -0.003046798057996525],\n",
       " [0.21191610236855293, 0.0012917097110081467, -0.008521139924313734],\n",
       " [0.07498823827681265, -0.14883493835228526, -0.03765743055344242],\n",
       " [0.021183251799663058, -0.03512772341386438, -0.0031058764120389755],\n",
       " [0.057193863569742535, -0.11028537703708508, -0.04941863899857032],\n",
       " [0.03443163190736098, -0.05554062333167387, -0.022162485131728672],\n",
       " [0.06345137918879389, -0.10943675811457038, -0.005400311813697886],\n",
       " [0.023807999762124554, -0.03448212514586106, -0.002884653539219685],\n",
       " [0.03927261710067031, -0.06282449262471014, -0.03978812231002982],\n",
       " [0.028434125777572913, -0.051275077208208536, -0.013504885605284879],\n",
       " [0.03862392677813578, -0.07626776993890652, 0.004368998125549419],\n",
       " [0.10058006529000066, -0.19406509634331354, -0.07845221109162283],\n",
       " [0.2765417121112037, 0.13715963386981087, -0.003027318610936851],\n",
       " [0.03195330845858899, -0.0549121890643235, -0.02296958330183497],\n",
       " [0.28601644219468164, 0.050499458895965195, -0.011395180452035619],\n",
       " [0.04903271442841001, -0.08630516766658364, -0.002125659063291079],\n",
       " [0.031544382475123645, -0.051097168396382404, -0.015010887024209376],\n",
       " [0.026403661264397714, -0.04028675327976299, -0.002130671992121056],\n",
       " [0.06562680242371269, -0.11601191073071579, -0.016423502464003738],\n",
       " [0.008523802765656228, -0.010636094862711623, 0.005480717563666325],\n",
       " [0.030165075432116144, -0.04807820251976322, 0.0024172033165891487],\n",
       " [0.14380987549192278, 0.008927375482384857, -0.023389025873307212],\n",
       " [0.03214190473012047, -0.046066445064072224, -0.020478785196277882],\n",
       " [0.07971497452840157, -0.1610424445660296, 0.11389143317319678],\n",
       " [0.04047243394575783, -0.08342214400518565, -0.009415040156982041],\n",
       " [0.013082065127464917, -0.020533864585695803, -0.00894070680997977],\n",
       " [0.023380739409688718, -0.021506870253147542, -0.00043491634151642325],\n",
       " [0.055883257624854694, -0.10811875401601453, 0.19417561515746337],\n",
       " [0.06941624841309757, -0.13253572070970343, -0.02976780593969524],\n",
       " [0.028243557337348717, -0.04125856291604817, -0.025311068567131778],\n",
       " [0.06929801497183918, -0.12711619379986439, 0.16752644032276168],\n",
       " [0.04990096066649009, -0.1043403277206823, -0.03382980093861278],\n",
       " [0.07133046263975924, -0.11592882373744054, -0.06891857096977815],\n",
       " [0.01792147725325593, -0.02990520173271183, -0.019166328346492834],\n",
       " [0.2450076459849981, 0.05068244183532345, -0.011021997204535913],\n",
       " [0.020085051643859583, -0.037902890656262275, 0.010047762837664603],\n",
       " [0.08179365117297055, -0.17550995979883238, 0.1376232266547254],\n",
       " [0.07693794047324873, -0.14270201483731523, 0.34677302642234703],\n",
       " [0.016449628852497445, -0.030369968776364557, -0.00422296350098631],\n",
       " [0.10307074530824402, -0.19002645417112643, -0.09686487700903325],\n",
       " [0.10864505188794436, -0.2037143922800713, 0.36309340903281484],\n",
       " [0.00837766646308461, -0.015044551274633623, 0.005420333001930776],\n",
       " [0.018425312087566315, -0.036592081670781804, -0.01762672475954502],\n",
       " [0.06564573786549359, -0.11743225461049568, -0.06725372637450494],\n",
       " [0.04901529235886986, -0.0976166134074046, 0.21355977374861088],\n",
       " [0.011381780907833053, -0.022027623869222322, -0.012600028995946493],\n",
       " [0.026198122186460313, -0.04839028765341152, -0.030135942589399067],\n",
       " [0.015668641817100218, -0.013535810626978284, -0.009037776247167659],\n",
       " [0.02384427244873288, -0.03460181457801476, -0.001962502973441555],\n",
       " [0.04196086948127098, -0.059213855515863674, -0.04890425453738891],\n",
       " [0.01659804552073322, -0.03651361178652782, 0.012965225511320327],\n",
       " [0.042471277964424584, -0.07182233845820238, -0.018345474332067575],\n",
       " [0.10118874333399716, -0.19324656491748857, -0.04154796986369251],\n",
       " [0.02545275350518703, -0.05193999379703797, 0.022259232528063333],\n",
       " [0.07632662673266896, -0.13706331820409942, -0.06508644716726698],\n",
       " [0.032985238498781426, -0.06453238285437904, -0.024277799488723974],\n",
       " [0.019280230849018712, -0.022568848277120454, -0.005185009619879135],\n",
       " [0.02230284234368157, -0.043694315352569416, -0.0017437960490567076],\n",
       " [0.045478312563328085, -0.09175692189756796, -0.004132413664765614],\n",
       " [0.02284039536375818, -0.03737603507041158, -0.018884129405008294],\n",
       " [0.06789514613377633, -0.13168822922551282, -0.03960196902872775],\n",
       " [0.14935499892445134, -0.015348948690811218, -0.021549800399384964],\n",
       " [0.034769501230172056, -0.06319252076483146, -0.03008296119191548],\n",
       " [0.22427621547486054, 0.021714933047651576, -0.023091824353880373],\n",
       " [0.03977899074919399, -0.06229376190675568, -0.009140351826338447],\n",
       " [0.01649433919596014, -0.0267647760153501, -0.006816711136846466],\n",
       " [0.04013479050292058, -0.07026615063480679, -0.013043524986584851],\n",
       " [0.24832818561956022, 0.06870986654239697, -0.0327973235727277],\n",
       " [0.041978795269284094, -0.07933145500708497, -0.01713829566588842],\n",
       " [0.022302574378226993, -0.03591485380267937, -0.027893500763049212],\n",
       " [0.1931734017818512, 0.0407057917125922, -0.0084898418049114],\n",
       " [0.038928778075243774, -0.05910948583348151, -0.03636497129439546],\n",
       " [0.03994017696889464, -0.07229575559325338, -0.018848860700987707],\n",
       " [0.25541732897320923, 0.0398463200994725, -0.006993687961436254],\n",
       " [0.041259787405038155, -0.07816116242265558, -0.020854136527800517],\n",
       " [0.0209654999678697, -0.034598072944088086, -0.017079270584392407],\n",
       " [0.2662490796773934, 0.09678258397215142, -0.005308287404288986],\n",
       " [0.04049230741534103, -0.08281923694576303, -0.04411567875640018],\n",
       " [0.049563596360380074, -0.09014091652030193, -0.03475860487519514],\n",
       " [0.06419332626687548, -0.12444146337041252, -0.0425346648674441],\n",
       " [0.01672504372457653, -0.029502042979122674, 0.0026781900974167583],\n",
       " [0.07645550292894499, -0.15382310619141615, -0.039183942591161085],\n",
       " [0.056722991098184246, -0.11231294027348314, -0.018700207735028968],\n",
       " [0.05575537910420763, -0.10580703487499786, -0.04596741738996286],\n",
       " [0.024676956908732586, -0.04624811068894, -0.0026559752589796243],\n",
       " [0.01870674432571187, -0.03483860873146915, -0.011937053917613035],\n",
       " [0.036057543189602095, -0.07611379951563563, 0.010796141856061215],\n",
       " [0.019718432546971962, -0.02076502606523749, -0.009356167291235864],\n",
       " [0.02786992141260623, -0.04150818570804338, -0.00416131500952726],\n",
       " [0.035238895370531514, -0.062101388611694626, -0.01896951184129736],\n",
       " [0.02313644272972285, -0.032669712824105794, -0.03449219311852638],\n",
       " [0.05578628083243109, -0.10142588677606915, -0.01933491283956543],\n",
       " [0.02953635881723128, -0.05341831392623967, -0.011751750964460734],\n",
       " [0.21116100703589344, 0.10445178019059034, 0.006516894838339549],\n",
       " [0.2793814448294872, 0.1034312848417947, 0.01342954556766052],\n",
       " [0.025488265268824452, -0.03541151615783463, -0.007026838144001672],\n",
       " [0.05903397847787635, -0.10787454538735733, 0.0985265697854757],\n",
       " [0.0489730432993923, -0.08052791379487065, -0.01838369123767659],\n",
       " [0.0432024706996134, -0.08831665206641097, -0.03673348280010012],\n",
       " [0.048731360984154794, -0.08997636599814225, -0.03406975584185655],\n",
       " [0.023938900573624765, -0.0362790192268971, -0.021487776168997136],\n",
       " [0.04337815941192273, -0.07569511002392636, -0.004610256273846054],\n",
       " [0.016386063655046728, -0.03129019052173977, -0.015233900160907012],\n",
       " [0.2388640974444582, -0.07052390024490823, -0.037776688524636406],\n",
       " [0.05078928687332717, -0.09841340888721588, -0.021217044475610992],\n",
       " [0.0589054983043141, -0.11679501881462656, 0.030922554764046685],\n",
       " [0.029152153637365452, -0.04196662696475291, -0.012492391158980223],\n",
       " [0.45676954505580997, 0.17840900572969112, -0.004506289623218715],\n",
       " [0.04340314390017927, -0.07132681914870645, -0.02127397710923253],\n",
       " [0.2989556908778782, 0.08679032095970432, -0.014801402508417515],\n",
       " [0.2652200427352156, 0.005838614902962437, -0.04662595379274051],\n",
       " [0.02205854591834973, -0.023053492091184086, -0.006740921064934315],\n",
       " [0.03782074231983801, -0.05150597278742053, -0.03381894473690744],\n",
       " [0.011543877285244464, -0.017699776586087627, 0.0056880810706305815],\n",
       " [0.43457189553407305, 0.13090134441160914, 0.0017374708644714455],\n",
       " [0.08353129142139316, -0.13414358970980583, -0.05300308702472279],\n",
       " [0.06590147428916897, -0.12406914802836466, 0.2870449720457956],\n",
       " [0.006712177657567442, -0.0149746546254573, -0.006091525008542898],\n",
       " [0.07045210226771338, -0.12233145391188897, -0.04560128057158392],\n",
       " [0.06793216417961587, -0.13934979269925232, 0.416567415175107],\n",
       " [0.022783864612103626, -0.03817127955149725, -0.05182173162935789],\n",
       " [0.17822255222240901, 0.03208787964023704, -0.021250808904197706],\n",
       " [0.06285467399196056, -0.11407098089933128, -0.022968171501562357],\n",
       " [0.07739173273744542, -0.13091335672742016, -0.041172359234879045],\n",
       " [0.34730377477819213, 0.03661439272290152, 0.16105609433210044],\n",
       " [0.06989021234324752, -0.12138408118532756, -0.010606759523986597],\n",
       " [0.04913344127013462, -0.08477707102956834, -0.031483476742563375],\n",
       " [0.036075787670349455, -0.067538179162549, -0.01202598443121031],\n",
       " [0.06975239898598909, -0.12415622637423529, -0.04580389931116885],\n",
       " [0.02488756027833556, -0.05102998144607353, -0.035804185146842415],\n",
       " [0.045088595029193414, -0.0745816871035956, -0.030889870155046927],\n",
       " [0.020879357587694804, -0.04063749101087631, -0.02771255523786932],\n",
       " [0.05022543654218541, -0.08627464486414625, -0.026456038309162745],\n",
       " [0.027563876073647207, -0.060068911694096755, 0.018596350362504104],\n",
       " [0.09247064376433682, -0.1674790158188013, -0.07728606744759055],\n",
       " [0.035565584343734455, -0.06400030801779233, -0.026294950226218607],\n",
       " [0.02453317349849523, -0.03663193662780296, -0.024818499078567976],\n",
       " [0.20293539170000305, 0.03417539585925622, -0.03852454050965015],\n",
       " [0.02032081718160008, -0.025311473919761216, -0.013838420913642149],\n",
       " [0.009117080057852889, -0.016960115985510858, -0.0055288935763369434],\n",
       " [0.037551447171082455, -0.06733999776976049, -0.024550759834385295],\n",
       " [0.0374914757703554, -0.061160432362885785, -0.0209642021606124],\n",
       " [0.35776287266329265, 0.046656663756026596, -0.019559399395703045],\n",
       " [0.37507525575395445, 0.11024816070484703, -0.030612610956583255],\n",
       " [0.06695766783553085, -0.12770096145777005, -0.021109715095886827],\n",
       " [0.20717913208654967, -0.06893985687886534, -0.0142379671386769],\n",
       " [0.02086859546561453, -0.03614503018567283, -0.010105995863239266],\n",
       " [0.2542998698729898, 0.026498867492671253, 0.08490134279587785],\n",
       " [0.024548064727847853, -0.039427352832362136, -0.03109717378479486],\n",
       " [0.06749688792365462, -0.11525382323598322, -0.030328082956383517],\n",
       " [0.007767438852704517, -0.004583743853123653, -0.004405463038987097],\n",
       " [0.05337338337996207, -0.09940468218908459, -0.01838185894129609],\n",
       " [0.000560497403691406, -0.0022579308645583225, -0.001161513577827114],\n",
       " [0.03941058428755904, -0.07540030324303863, -0.026036115797824798],\n",
       " [0.42640670777925943, 0.2199727327369391, 0.0018246521109859578],\n",
       " [0.05105824191472135, -0.09486837268371365, -0.013629560656653838],\n",
       " [0.05484422538696948, -0.1020811700730646, -0.02611623293865656],\n",
       " [0.030735496772872545, -0.05219613938698301, -0.003545962420443802],\n",
       " [0.060287425800897874, -0.10801768808043974, -0.0072007259067503665],\n",
       " [0.11032088749042683, -0.20662622135077813, 0.2016979447274458],\n",
       " [0.03196036129368688, -0.045904379907186044, -0.014853711286496655],\n",
       " [0.031609426870589256, -0.058799935461205086, -0.018747515471914847],\n",
       " [0.005510247038400052, -0.009389747904627363, 0.008697292498138687],\n",
       " [0.219276679864521, -0.0028997300853281904, -0.009224243945738026],\n",
       " [0.021665481094013943, -0.032874927252061925, -0.007788921791095947],\n",
       " [0.22337740757104457, 0.07438434899282867, -0.007212508293433478],\n",
       " [0.004916366153984036, -0.004516057161425535, -0.0016115079670002371],\n",
       " [0.04210797472847339, -0.07900711135094596, 0.06042980170467894],\n",
       " [0.09375345462290993, -0.1732422048746614, -0.05103603785683959],\n",
       " [0.04721542117008499, -0.09686102712247892, -0.02241421265548158],\n",
       " [0.0022658214267647263, -0.001928205180736388, -0.002550454192700084],\n",
       " [0.011596544977276425, -0.02444442378922487, -0.016255520941986634],\n",
       " [0.23222743657157166, 0.03556284083133169, -0.01893185003477228],\n",
       " [0.19278968455976042, -0.02993250653573059, -0.021997930624019852],\n",
       " [0.07542344193759778, -0.13799619600223548, 0.09999271171364142],\n",
       " [0.15642609813814937, 0.0055633278982887635, -0.013969132103299932],\n",
       " [0.07471882941050313, -0.1483064231480956, -0.02252431202085834],\n",
       " [0.05788505525353754, -0.10420597219396194, -0.010384948742378513],\n",
       " [0.10455213363393398, -0.19742232054485073, -0.031617575029787286],\n",
       " [0.04441337919394061, -0.08272553809550724, -0.014424275073085923],\n",
       " [0.03661920077706684, -0.06573286939712332, -0.019975691046615972],\n",
       " [0.023526526968311492, -0.047257980534953815, -0.006425803763317661],\n",
       " [0.06302704466802943, -0.10426221860777841, -0.010197937316230825],\n",
       " [0.06528512183735713, -0.1270362260906375, -0.03405131221955977],\n",
       " [0.1700356083192222, -0.05420956509070091, -0.004793473962921198],\n",
       " [0.06606588391149096, -0.12305515308097967, -0.004504467951459466],\n",
       " [0.046537790755117034, -0.08250216894124239, -0.005980646769944329],\n",
       " [0.010039058969301025, -0.023609470400608033, 0.006359206361089656],\n",
       " [0.06661686793529542, -0.11531779397188119, -0.02608823052607297],\n",
       " [0.02946797348317045, -0.03616611413417574, -0.012784574630213586],\n",
       " [0.039572563837894384, -0.05654621934739468, 0.07255743679286203],\n",
       " [0.25162979936575747, 0.007341304760410124, -0.012619686709947574],\n",
       " [0.019903745888609863, -0.042322046868490074, 0.003955265389131097],\n",
       " [0.053571710807717, -0.09148506598162529, -0.04832787119703949],\n",
       " [0.10219688126650599, -0.19718833000136687, 0.0628008283699506],\n",
       " [0.05908405442861644, -0.10798284233599977, -0.047307061075292554],\n",
       " [0.07341244065513797, -0.13143654974004598, 0.41134764146832126],\n",
       " [0.01081742281919063, -0.016645244011293147, -0.007891594190545762],\n",
       " [0.08325728606409297, -0.14865779562275727, -0.060025838186615554],\n",
       " [0.07520334038034994, -0.1357955916765341, -0.08514880677072394],\n",
       " [0.5136826654283697, 0.11529260943036641, 0.08276919616980537],\n",
       " [0.03182812676482278, -0.06657952128551325, -0.04941869297325464],\n",
       " [0.0285008904151475, -0.04350715716740128, -0.05425850568735094],\n",
       " [0.4523105168282028, 0.016344798443775857, -0.02815856988944513],\n",
       " [0.049904039069018136, -0.09388323881460037, -0.025457152821410176],\n",
       " [0.04294545577312572, -0.07730635876942987, -0.03684550114376615],\n",
       " [0.12530477404617266, 0.01139760781352036, -0.030250874826809125],\n",
       " [0.021383113031832802, -0.020984156654597297, -0.011804011209327208],\n",
       " [0.06595035827018136, -0.13377113710446414, -0.022708561499709852],\n",
       " [0.025371931410564437, -0.04278992326354019, -0.012910326215233458],\n",
       " [0.39829364381324994, 0.13541361756506895, -0.0005960123426523515],\n",
       " [0.04120864903501535, -0.05709719618150148, -0.019130831561122903],\n",
       " [0.10653770569807951, -0.2020157190155293, -0.037331636337137195],\n",
       " [0.035058246380816054, -0.06269022974579058, -0.012705048255374492],\n",
       " [0.13339734246659474, -0.2716636592439006, -0.03905080804770951],\n",
       " [0.019824442084165537, -0.027249528443267817, -0.02905856420708186],\n",
       " [0.5106681317644857, 0.2302212451596061, 0.021701481604046405],\n",
       " [0.00705421206788848, -0.010120236399813996, 0.008643675769123343],\n",
       " [0.25675773771816895, 0.10127461717462503, -0.0056567608804492546],\n",
       " [0.05760271731722362, -0.09889319039319967, -0.03895713014471517],\n",
       " [0.02994268931218986, -0.051756502349011704, -0.003026506923938261],\n",
       " [0.03870245190353477, -0.06769417954570991, -0.018479893546798676],\n",
       " [0.0818726722856622, -0.14616315350099973, -0.0045034582702633335],\n",
       " [0.02827710998169716, -0.05266187448103639, 0.1289321967705188],\n",
       " [0.06427842548509236, -0.1279091167041069, -0.031417902708884],\n",
       " [0.02486475687613085, -0.03588608100268925, -0.018068810698540754],\n",
       " [0.043781074425155546, -0.04492836045264681, -0.01729051621896509],\n",
       " [0.10220419845503255, -0.19892137073911573, 0.31336208523225356],\n",
       " [0.14865674110850632, 0.03572003007469593, -0.019425394504006193],\n",
       " [0.017833622517800914, -0.043746054365347314, 0.0036515469229099957],\n",
       " [0.08865910506317302, -0.16102752790295694, -0.029082335970782296],\n",
       " [0.03106299557064012, -0.04995251256649601, -0.034775743874899845],\n",
       " [0.05321345849328825, -0.08143949229958507, -0.002374512158995881],\n",
       " [0.02812522820310599, -0.05365850082492861, -0.012054590207754817],\n",
       " [0.20869474055841156, -0.019635710287195386, -0.033378041905083575],\n",
       " [0.01474805596894231, -0.025364234837948862, 0.0055119263196552],\n",
       " [0.04596474534225295, -0.09059012749543374, -0.013743505188034957],\n",
       " [0.034974396163341595, -0.0679748992809302, 0.15225252533551575],\n",
       " [0.04112737917350624, -0.07009913158059915, -0.022586458263959153],\n",
       " [0.03124367120852183, -0.04313315464517954, -0.006409170903581871],\n",
       " [0.013376847863294038, -0.025344982615886708, -0.00881139733315084],\n",
       " [0.04764194757741902, -0.08764373765086445, -0.01747850789448552],\n",
       " [0.03998424270141157, -0.07012256142647556, 0.08101512711714792],\n",
       " [0.05572919447513071, -0.0786502424121413, -0.06571043502534368],\n",
       " [0.12411249147991732, -0.2306633952383593, -0.03806721209964682],\n",
       " [0.006158296255097852, -0.010326511304804732, -0.0052386023837574895],\n",
       " [0.03711151001906038, -0.07637934377820504, 0.002607421562991683],\n",
       " [0.028996623322987164, -0.040146851642649736, -0.013347510974111394],\n",
       " [0.012568159147285055, -0.025549147000443792, 0.004823724195486198],\n",
       " [0.012104357528400668, -0.02108974079494975, -0.013706755576718714],\n",
       " [0.028451853274261037, -0.0650133499655211, 0.012119329776593704],\n",
       " [0.034678779009664124, -0.049203370218806136, -0.00884314414442378],\n",
       " [0.04970626870709774, -0.08596846253743115, -0.0218319358448171],\n",
       " [0.04576254533910615, -0.06323933359760596, -0.0141216625021207],\n",
       " [0.04611822625692829, -0.07227540445760397, 0.00900527177116468],\n",
       " [0.046055081554609856, -0.0871321857650914, 0.08059731802137458],\n",
       " [0.026317947778960127, -0.0416867377817017, -0.020649320292683945],\n",
       " [0.02137156268669547, -0.034644536161808646, -0.007353869093510443],\n",
       " [0.07804648495673851, -0.1357089932279552, -0.027779848453266576],\n",
       " [0.054447190451824494, -0.09833923547161555, -0.0059859000090647044],\n",
       " [0.06952028725057688, -0.15633590532957217, -0.0004695320961454275],\n",
       " [0.015870199914931566, -0.02274831406602583, -0.0008102912470770033],\n",
       " [0.03500051042077977, -0.06435662063523484, -0.004997757822708379],\n",
       " [0.008770639069996084, -0.009839707634266382, -0.00941379914748137],\n",
       " [0.0091824703809927, -0.018425475264737298, -0.008912595384257843],\n",
       " [0.3150841390201914, 0.1517891836044632, 0.006448292983285158],\n",
       " [0.06755855909833618, -0.13053627040944926, -0.01783505796467577],\n",
       " [0.019257289271007692, -0.033334074141391744, -0.012308459691606188],\n",
       " [0.05693292387855392, -0.10863885281283514, -0.05178157592579481],\n",
       " [0.05517332016626107, -0.09942512514013112, -0.048077194128104996],\n",
       " [0.06916884629031216, -0.14767019438517653, 0.2707519682890092],\n",
       " [0.2464595053106554, 0.10614165794306658, -0.006927991569554353],\n",
       " [0.0074408844465749845, -0.011146373640150604, -0.0056940067995038405],\n",
       " [0.06839320115047251, -0.1218402708849233, 0.11587308728285824],\n",
       " [0.20189907321089937, -0.006852662702694046, -0.03047862396810549],\n",
       " [0.3708689395346793, 0.06384470274630374, 0.07919025328389534],\n",
       " [0.003243376903625855, -0.008734792259824313, -0.006210097781464797],\n",
       " [0.03094280982305778, -0.06826133170155142, 0.002896177821476312],\n",
       " [0.06569023572049065, -0.14584835740769134, 0.6719061155040189],\n",
       " [0.055564846657889196, -0.0983966315757544, -0.0043504616473574245],\n",
       " [0.04630708881520972, -0.08927827288127502, -0.012756784058835905],\n",
       " [0.09605525145747151, -0.1889976402297818, -0.062066351466917],\n",
       " [0.09289653237790986, -0.1850014785924905, -0.056085812605933226],\n",
       " [0.034057283074002284, -0.04633706482890414, -0.020497903408204843],\n",
       " [0.022940564896424164, -0.03795778657354799, -0.01686836192609524],\n",
       " [0.04086454936927937, -0.07548075935672477, -0.04666031557172584],\n",
       " [0.046581870461666786, -0.08748055553063767, -0.04427505593854196],\n",
       " [0.03135374302054853, -0.050171746931697916, -0.012942495549024765],\n",
       " [0.058690521876315786, -0.10037600642850754, -0.03553714363020342],\n",
       " [0.021288370511238795, -0.03909186415030766, -0.007897628850431465],\n",
       " [0.03633808409285187, -0.07022430453817025, -0.018720105143589672],\n",
       " [0.03396634186521394, -0.049068060439037796, 0.06718604317604686],\n",
       " [0.21474266565921207, -0.011167441970552833, -0.02128404998898688],\n",
       " [0.031203998289831274, -0.05070451793419999, -0.007335094577367555],\n",
       " [0.051678764702143686, -0.09996409177284499, -0.044720096443485846],\n",
       " [0.03559011705926921, -0.05573984655518001, -0.015652416530654138],\n",
       " [0.08671674367340029, -0.16837130545716658, -0.003833788761519203],\n",
       " [0.29168805613819193, 0.010737920906739855, 0.2412538397086458],\n",
       " [0.029866311927296312, -0.04458827568386595, -0.018403047860658425],\n",
       " [0.034228752772338694, -0.047130493993723065, -0.05263962430058814],\n",
       " [0.06685943528320487, -0.12661474172425943, -0.0686107734003214],\n",
       " [0.042144078194784614, -0.06985102975986746, -0.01805666905344306],\n",
       " [0.05017127383081216, -0.09984126278016997, 0.005549543269380473],\n",
       " [0.043800818311111114, -0.09190049389105714, -0.026045319285122458],\n",
       " [0.10537962950074903, -0.21237926357425801, -0.05786635428084374],\n",
       " [0.06265977448554669, -0.10450418174614502, -0.03379830351951778],\n",
       " [0.05423334688365713, -0.08184106720070078, -0.027910524569252075],\n",
       " [0.0466929908792553, -0.07988073942309734, -0.038025745355930306],\n",
       " [0.008627988138979817, -0.013791723352211249, 0.012629857415417767],\n",
       " [0.04715340014695987, -0.07553668804963155, -0.019549290911255943],\n",
       " [0.016014841306561167, -0.024879770441515747, -0.002160484029030205],\n",
       " [0.04675063864562607, -0.0737323976209666, -0.01322204332461371],\n",
       " [0.026359462267988323, -0.05179542452034729, -0.03490113628472765],\n",
       " [0.07326445268263082, -0.13496883782312946, -0.013670764815681366],\n",
       " [0.013208672630481597, -0.009910225886787494, -0.010705759758108188],\n",
       " [0.25057076739894263, 0.10503137384207123, -0.011708883385459291],\n",
       " [0.40932808531481896, 0.19609102518832291, 0.012039508408662705],\n",
       " [0.032501842429534446, -0.04861419688704339, -0.03684306539093338],\n",
       " [0.06099145028798174, -0.10642659103461122, -0.033536034282138596],\n",
       " [0.06975495455509326, -0.1352897181002438, -0.037361906703261026],\n",
       " [0.05239850746894602, -0.0944122229141455, -0.031291292632367664],\n",
       " [0.05324584825456321, -0.10669490984026561, 0.16054016867891732],\n",
       " [0.051240730775091003, -0.08075733368080729, -0.025386623930458707],\n",
       " [0.17788599059895885, 0.03049356941882496, -0.012099761732359758],\n",
       " [0.033673759758165694, -0.04555832478152447, -0.007731715883728283],\n",
       " [0.010877453017086204, -0.015449139735789876, -0.0014301594395684757],\n",
       " [0.04298361085765423, -0.057379469442082914, -0.03881919488918384],\n",
       " [0.04405443517119694, -0.06182227490106956, -0.08459480063231921],\n",
       " [0.08319908340361432, -0.15270941789396592, -0.054681832674120336],\n",
       " [0.054784314761518495, -0.1024985119404984, 0.15420701156539882],\n",
       " [0.046426347073540535, -0.06660406788749185, -0.038302688906225124],\n",
       " [0.05777818228488403, -0.09401868526275242, -0.011633556401272435],\n",
       " [0.044053881535095096, -0.059841687000753374, -0.024812964175278764],\n",
       " [0.049303466303575835, -0.10557377202368083, -0.0223106558122899],\n",
       " [0.015434440077420612, -0.02655722758143677, -0.022691030317160757],\n",
       " [0.2583743856237633, 0.07139086931510143, 0.023687383832975563],\n",
       " [0.024926615620547286, -0.04965027153205981, 0.0035526725841084207],\n",
       " [0.04110922248513472, -0.08587287984699121, -0.03754814092478481],\n",
       " [0.040132647386387624, -0.07221932598299202, -0.02882406566217642],\n",
       " [0.049367036532656006, -0.07684988189562802, -0.012853701269675284],\n",
       " [0.0389174201045507, -0.07956382136531166, -0.02060011840723689],\n",
       " [0.009532007627034184, -0.015399223582604909, -0.010408273647170773],\n",
       " [0.08972128791171612, -0.18655173305784709, -0.0320080877788229],\n",
       " [0.07358467693071483, -0.14185321218905822, -0.01350965729038434],\n",
       " [0.048892752222756956, -0.09283298624161103, -0.01828690822272156],\n",
       " [0.0321135331673013, -0.053446485364977606, -0.01529469211845849],\n",
       " [0.3495510997349138, -0.04926580526511591, 0.22691061377458144],\n",
       " [0.09465306891933073, -0.19827473812358326, 0.23174638588217283],\n",
       " [0.061859704393862354, -0.12546971667419252, 0.11992144194701938],\n",
       " [0.024736291363895085, -0.0377882237477162, -0.00867626543879303],\n",
       " [0.018780717485073872, -0.025489389260002736, -0.014838623554572432],\n",
       " [0.03958759658944708, -0.056683534746055864, -0.039974596388983055],\n",
       " [0.011481456810176956, -0.02064386655375908, -0.014348550305444819],\n",
       " [0.03871499625435089, -0.07027199891253168, -0.00046519269570280235],\n",
       " [0.026194716718837396, -0.05276190599774502, -0.01570534327348878],\n",
       " [0.0353699560888243, -0.0663327747881165, 0.01246760942722434],\n",
       " [0.004031143605777628, -0.0023088153549594096, -0.0006710714234692579],\n",
       " [0.11000544449143733, -0.031015984019364937, -0.010298947602129417],\n",
       " [0.05559396945684054, -0.10394550228867849, -0.05001958014410054],\n",
       " [0.0010863101263236875, -0.0009473779561300901, -0.0017486462255058735],\n",
       " [0.014861906344067997, -0.024991599827371695, -0.0078106502306459335],\n",
       " [0.011708025932118792, -0.014060769682634323, 0.0021940228485517765],\n",
       " [0.023615710532686122, -0.032059473048391775, -0.01185596315932186],\n",
       " [0.24179278767611723, 0.038634507839878464, -0.02155998458203929],\n",
       " [0.2742183174681395, -0.11789038190633074, 0.24492562926696707],\n",
       " [0.18488047602947097, -0.01961790362719048, -0.04276787051318875],\n",
       " [0.060435910333311006, -0.10584218690067779, -0.022197968206876237],\n",
       " [0.023260045698414618, -0.03365533884871601, -0.010482994914949643],\n",
       " [0.0019599598498405944, -0.0058246240415224595, -0.004479817430797433],\n",
       " [0.04014207192766062, -0.06526018485995622, -0.022565617689668246],\n",
       " [0.0661948398911518, -0.12463040811073184, 0.14994775672899416],\n",
       " [0.036226378987098296, -0.050837623648151774, -0.01705023425926875],\n",
       " [0.06859302936987344, -0.1236758674208852, -0.03625184474532633],\n",
       " [0.05661374424194576, -0.09815215415173231, -0.07286158441442053],\n",
       " [0.07495941351970342, -0.14189761474213658, -0.09381925752296265],\n",
       " [0.06353368334278903, -0.10578899774544687, -0.07015717767423818],\n",
       " [0.024051018195908686, -0.042851664774260514, -0.039883677757395083],\n",
       " [0.035691102736145904, -0.07726548965299049, 0.35615729656255196],\n",
       " [0.039993006900420305, -0.07907522018711333, -0.0071628578238583695],\n",
       " [0.060874572566528506, -0.09731908892605778, -0.06390562478272012],\n",
       " [0.0328155564770408, -0.06295351078369492, 0.006436690859770483],\n",
       " [0.043429084979801996, -0.0853233076783369, 0.1868013833621745],\n",
       " [0.04651444258979649, -0.09330842010992187, 0.20751079463416186],\n",
       " [0.24833047233152192, 0.05786500604476091, -0.02577217129258525],\n",
       " [0.04565397096389696, -0.08628786664761377, -0.0018243997485897483],\n",
       " [0.033837340677184524, -0.0570912689015064, -0.054126959355102464],\n",
       " [0.21300869960533583, 0.02226087297136456, -0.05085439102393919],\n",
       " [0.06156653479378645, -0.11863621147271484, -0.04286356764324132],\n",
       " [0.04479334816214299, -0.0723685258285729, -0.060761462106545934],\n",
       " [0.015648879164603415, -0.01703071018566568, -0.015957392806722124],\n",
       " [0.04140611189007994, -0.07984396656544496, -0.003263708503090177],\n",
       " [0.3614620838466616, 0.02404459040948439, -0.02631186361394799],\n",
       " [0.01923146063444581, -0.03645789558476029, -0.020677860890354886],\n",
       " [0.30786778852507674, 0.011477717626747423, -0.02484149417545945],\n",
       " [0.05106209995609108, -0.09801870426639102, 0.1407705449866556],\n",
       " [0.43966992206616967, 0.1559537245498396, -0.026064045307882477],\n",
       " [0.024282293701742043, -0.04186884948750588, -0.012513185826458727],\n",
       " [0.05488179995782453, -0.10404268857457488, -0.03714908471286554],\n",
       " [0.03989953336053179, -0.06796645645335213, -0.03585921314138849],\n",
       " [0.038950186308580693, -0.06476095037200981, -0.01773817960809685],\n",
       " [0.05485087528310168, -0.09119474062065136, -0.03337747886434257],\n",
       " [0.028599801753628595, -0.04543265881775603, 0.0035721582338705087],\n",
       " [0.03627584152489028, -0.06497147790737987, -0.03494447950935222],\n",
       " [0.05096413345634303, -0.08927145982582606, -0.014564298734013522],\n",
       " [0.06123068575388313, -0.1307406793016078, 0.21215534315364815],\n",
       " [0.0019622513853865403, -0.0030618948624380605, -0.0023039582112535937],\n",
       " [0.0236949045631888, -0.03356539310573742, -0.01986338980831515],\n",
       " [0.03283314567986702, -0.052560503943296144, -0.012695373105826028],\n",
       " [0.02913463228450734, -0.041545501647900725, -0.01689343026229429],\n",
       " [0.20575988606490275, 0.03292882524651072, -0.0020987146892999992],\n",
       " [0.016699091013172438, -0.03237762811853673, -0.0077580084481975765],\n",
       " [0.05137570270628482, -0.10262163849739958, -0.02779876532059774],\n",
       " [0.04327210851245311, -0.07700010601774655, -0.023775382099590858],\n",
       " [0.028973240151688222, -0.056610726946909724, -0.013643717840474693],\n",
       " [0.5964483587862504, 0.2914422398533745, 0.00621771691924586],\n",
       " [0.02557647245543095, -0.04224643746831239, -0.009787625738767352],\n",
       " [0.017318027863208105, -0.029674135703721762, -0.01746530749345513],\n",
       " [0.043760124634924465, -0.08391001701027764, -0.04368604431204208],\n",
       " [0.08178912296036701, -0.16139570633499978, -0.029684906617432647],\n",
       " [0.10583736603367237, -0.215091156386379, 0.1531285662240477],\n",
       " [0.07216714503632976, -0.12762748769336402, 0.09194479120815016],\n",
       " [0.025130120806057744, -0.0438221296827994, -0.033949033909769194],\n",
       " [0.018431677950438173, -0.024629625064988586, -0.008306593758494522],\n",
       " [0.05760876319122512, -0.08888911989065862, -0.008801292702444247],\n",
       " [0.3415455635250563, 0.08211847395696835, 0.06360661601060869],\n",
       " [0.010189521588923401, -0.020494410172375365, -0.0002868682914921469],\n",
       " [0.02086627727445867, -0.030949359588059073, -0.022489181086017114],\n",
       " [0.18128901685907034, 0.0033557706974111073, -0.029334500904665172],\n",
       " [0.04256219352578814, -0.08298757525445412, -0.04481290976166067],\n",
       " [0.04220214980810381, -0.06676395652887956, -0.011284895628042173],\n",
       " [0.03830880036271901, -0.0680948401912358, -0.027506231948326857],\n",
       " [0.22013038117109918, 0.023345464445746634, -0.027661363270886984],\n",
       " [0.03622196055376447, -0.06675199030387542, -0.010642488315725788],\n",
       " [0.029368584553934544, -0.051137814775613945, -0.02110586547079423],\n",
       " [0.055270931268082496, -0.10421283865135113, -0.01965197023435899],\n",
       " [0.07106887722694581, -0.11295225559774355, -0.03410330998813507],\n",
       " [0.0390281591956809, -0.07979045728545724, 0.1520637493033666],\n",
       " [0.22826484282144818, 0.03501585669018819, -0.007942569721738898],\n",
       " [0.24459459309301565, -0.0477411993598407, -0.04227580112045712],\n",
       " [0.009343386630325894, -0.010195297385978526, -0.008644769278682386],\n",
       " [0.21017436863491135, -0.011053795830382785, -0.015744826901837865],\n",
       " [0.009798196949770167, -0.013008323351896105, -0.010340720437269557],\n",
       " [0.06663264916537076, -0.12109341401940069, -0.03428955933552796],\n",
       " [0.049025996828412195, -0.09781095355930808, -0.051265996009215324],\n",
       " [0.0564352845044058, -0.10730980427497921, -0.025301327760512613],\n",
       " [0.24061489683517073, 0.05395370998445972, -0.03837861338921741],\n",
       " [0.2573164518406735, 0.10061838053451927, -0.011642702975274056],\n",
       " [0.033960920593637534, -0.05543232658626681, -0.023905221140658017],\n",
       " [0.04183565657165281, -0.08863461549482357, 0.14118464482806328],\n",
       " [0.028587270992980977, -0.0482881986106579, 0.10775416250737374],\n",
       " [0.1707730769339694, 0.03788244531808682, -0.0050201829915970855],\n",
       " [0.019451897149708422, -0.035866272177667635, -0.01765670296680868],\n",
       " [0.041965377498363265, -0.06815872079010925, -0.04507057887122505],\n",
       " [0.07818583897473677, -0.15573313570721417, -0.07648883466431247],\n",
       " [0.04977674591247861, -0.10716878321270815, -0.008083250952458172],\n",
       " [0.18154783089350857, 0.018472433984520427, -0.013241907476687194],\n",
       " [0.012566134625325244, -0.022408976607893778, -0.007125304690214058],\n",
       " [0.062090696327432665, -0.09900169183289691, -0.02381275426215447],\n",
       " [0.09843601402648733, -0.17529571417414463, -0.04553293710362641],\n",
       " [0.0209505026141087, -0.04912663264464596, 0.017313135796888285],\n",
       " [0.09200253970759173, -0.17757095131073283, -0.01239685431885278],\n",
       " [0.08010246980738131, -0.13739132135869403, -0.0538570062931081],\n",
       " [0.03204546106427233, -0.03077889451640573, -0.024694656180049308],\n",
       " [0.06469940488936235, -0.1064961362614253, -0.04198034181581478],\n",
       " [0.0598740117043447, -0.10637421386877645, -0.052529736333650746],\n",
       " [0.023414240683650105, -0.03723915691670744, -0.0012115440651405958],\n",
       " [0.04315080981829425, -0.06601755004650127, -0.00515357842524744],\n",
       " [0.03526470682576864, -0.062180201337795435, -0.04071303925173447],\n",
       " [0.008844697934476495, -0.007011663778528469, -0.007135812311006516],\n",
       " [0.014028062883257992, -0.01953917057016715, -0.002978520171596555],\n",
       " [0.25435612947715736, -0.09983129613749156, -0.05139262683049678],\n",
       " [0.04049627103805976, -0.07340239113171901, -0.0351866378535076],\n",
       " [0.3133406907933939, 0.11261392733393724, 0.001948455333118806],\n",
       " [0.3288545931770873, 0.11311365849140878, 0.0069894614865015775],\n",
       " [0.06481513833712499, -0.1270196072865899, -0.0384706617494281],\n",
       " [0.04534797524987358, -0.08770064691432788, -0.026709113032312364],\n",
       " [0.020932090274383513, -0.03562248690333629, -0.02227336405328294],\n",
       " [0.02667778684048818, -0.035200518102394884, -0.014915848608494738],\n",
       " [0.34421957412483645, 0.09188941795018848, 0.15162437818171948],\n",
       " [0.02911627342639724, -0.04753806129639373, -0.020866174722104263],\n",
       " [0.010040713183004224, -0.012355749006914862, -0.0038795362412318533],\n",
       " [0.09665428522331329, -0.1843030198501873, -0.10151176671808249],\n",
       " [0.04884997104686242, -0.07407939874652522, -0.029614551904748574],\n",
       " [0.031217602585150526, -0.05133204682081585, -0.02619050639242585],\n",
       " [0.03382519226818521, -0.06986910560583649, -0.02107257358685484],\n",
       " [0.03210301856830642, -0.06743864327677045, -0.03201457543499419],\n",
       " [0.06471499996508005, -0.12862468679593042, -0.030581958774506698],\n",
       " [0.05028969629910591, -0.09337792318396843, -0.04974554793155247],\n",
       " [0.08649931539237611, -0.16319629591693754, -0.07920448649848368],\n",
       " [0.06262816169067667, -0.12011158190892866, -0.06992465711252328],\n",
       " [0.05458886457332904, -0.09581565735707145, -0.023415094076653223],\n",
       " [0.3916637985951087, 0.0794916208780703, -0.06568930630104622],\n",
       " [0.03134105372851191, -0.05696627904711542, -0.018181054680220427],\n",
       " [0.2177795219913635, 0.042901451717318385, -0.01244653885549954],\n",
       " [0.030492756305951926, -0.043554396220219116, -0.0225084099130306],\n",
       " [0.42646317588453314, -0.027282068442336417, 0.12425026713844171],\n",
       " [0.038864534690919474, -0.05659257389963333, -0.008013346497748179],\n",
       " [0.02690337290473662, -0.04600377369337377, -0.02246753633743527],\n",
       " [0.026493791546917746, -0.04885187290944533, 0.16005257192181288],\n",
       " [0.29419944217498195, -0.029631986706984838, -0.06876839742868703],\n",
       " [0.03271142970151639, -0.06258271179344303, -0.017583185101551803],\n",
       " [0.06880165873986943, -0.10733067307472524, 0.1350581911049378],\n",
       " [0.026072519966826156, -0.040908156021776935, -0.021156650627822925],\n",
       " [0.07052662716749426, -0.1218829137214555, -0.02699604834980669],\n",
       " [0.06400302840103138, -0.14903881236628036, 0.5705737339669815],\n",
       " [0.052749468904535475, -0.10581669306008562, -0.012544432995697704],\n",
       " [0.07601577574371624, -0.1376630608318462, -0.04698394207688951],\n",
       " [0.2565902869990944, 0.07372254431427258, -0.00626670148381706],\n",
       " [0.017626708199509903, -0.019978436783453568, -0.011174626939986039],\n",
       " [0.05037206235558572, -0.0813080214230884, -0.00972720661089005],\n",
       " [0.24771855875590637, -0.08872416601581082, -0.049790802975940865],\n",
       " [0.5190065007805535, 0.1796861555344382, -0.017304588366701977],\n",
       " [0.0030315237531378355, 0.001373851602863978, -0.0009622415411787874],\n",
       " [0.018286766110681203, -0.013616640132057179, 0.0071335482863914435],\n",
       " [0.03392796528516605, -0.06254586240320714, -0.0207231542016855],\n",
       " [0.05310202197984706, -0.09696594932171035, -0.03387193866607997],\n",
       " [0.05180929801519528, -0.08858760636080115, -0.028938908861397182],\n",
       " [0.6217513192028442, 0.1289783109682946, -0.040607670646931354],\n",
       " [0.06207577438230749, -0.10536287976520423, 0.010553134382810761],\n",
       " [0.362321234341716, 0.14617202922795955, 0.01106752162128617],\n",
       " [0.020943066614211296, -0.04526242073326163, 0.004260499954037775],\n",
       " [0.04204906935554143, -0.07142073240899334, -0.00971272935665783],\n",
       " [0.007652666050520887, -0.017212707550026258, -0.01057944043929042],\n",
       " [0.04853770531428066, -0.10184334550947415, -0.007884153551440114],\n",
       " [0.02826151360944955, -0.05544523210122084, -0.02312007869059241],\n",
       " [0.05842959397192506, -0.11899311642472689, -0.041423804264231846],\n",
       " [0.0033615490890760834, -0.006701334181825425, -0.003593307030201611],\n",
       " [0.07796066011990074, -0.15411701845502448, -0.0435451974144684],\n",
       " [0.05988544188823984, -0.10690426137411192, -0.03075071293386954],\n",
       " [0.02955112800483318, -0.045711370362669285, -0.026321910129913896],\n",
       " [0.06621860736983926, -0.1139300664799019, -0.06443533574578851],\n",
       " [0.0660020057142505, -0.13437837372184758, -0.05062073056975153],\n",
       " [0.32230983747000463, 0.0982278129673605, -0.010513343577562591],\n",
       " [0.09339921074211009, -0.1775632951164347, -0.021964429779604753],\n",
       " [0.056673884873940795, -0.08406141005790496, -0.04735760266390881],\n",
       " [0.02694075608196456, -0.050636447997482056, -0.00439935273217267],\n",
       " [0.011525461069949441, -0.020206689546728596, -0.009685004876850534],\n",
       " [0.034499137319758864, -0.05246003332792025, -0.006321979690438907],\n",
       " [0.0195039401954065, -0.030474014887286613, -0.004872093727536147],\n",
       " [0.13972826008656009, 0.026840453047082866, 0.002934523527327906],\n",
       " [0.24868905302223976, 0.13492665010591692, 0.005057097472313197],\n",
       " [0.023892647476259177, -0.03579493741377509, -0.045994378655519065],\n",
       " [0.04199265593588287, -0.07154558108288962, -0.030064619779109424],\n",
       " [0.017879589685708897, -0.030715684085180172, -0.016992264924882552],\n",
       " [0.06324243694717473, -0.12160527223931976, 0.11065614500654918],\n",
       " [0.01155523296264415, -0.025773134420809658, -0.0015915033469706772],\n",
       " [0.044133702109643125, -0.07845675180209702, -0.03464902310643318],\n",
       " [0.03408637776366106, -0.06252096490351437, -0.02119381168701911],\n",
       " [0.040823615619057445, -0.08354947019480216, 0.0037417713604073494],\n",
       " [0.01906086286820685, -0.02374814208916989, 0.00672482153876997],\n",
       " [0.0058606144772653124, -0.012723833507310248, 0.0006958922836987299],\n",
       " [0.003462225971375818, -0.005272159338351588, -0.0035144255259460717],\n",
       " [0.04405359785358229, -0.0778751782662968, -0.01746031794937351],\n",
       " [0.21395476094988503, -0.04588419849776602, -0.03522713894203915],\n",
       " [0.04624040985400817, -0.10111727627742455, -0.014379108803898652],\n",
       " [0.03510674827915474, -0.07267489953621838, -0.008057308955224376],\n",
       " [0.07504990553489871, -0.15075173988994503, -0.011815774170007093],\n",
       " [0.024486386884590976, -0.03486319875474357, -0.013691745247146607],\n",
       " [0.06318467946302302, -0.11999248896488847, 0.17070064121203574],\n",
       " [0.37733664518687204, 0.13270258171608088, -0.013908521132221132],\n",
       " [0.019310288512898816, -0.03212441458533517, -0.02659299012921272],\n",
       " [0.05601676074766772, -0.09801666250696452, 0.05243565257136891],\n",
       " [0.046629957216842294, -0.07546909847184079, 0.003739838780980282],\n",
       " [0.043749353054507945, -0.06996969891920012, -0.044807427764828545],\n",
       " [0.0456900901086526, -0.08427340159806365, -0.013257141363723607],\n",
       " [0.046647035505306925, -0.10356192259879768, 0.43715854504241275],\n",
       " [0.013976234829125066, -0.015904116043477745, -0.006899477892744061],\n",
       " [0.04288356484793747, -0.07170800971086747, -0.023312187349889456],\n",
       " [0.03505430315037737, -0.05648258087666333, 0.011053775256651218],\n",
       " [0.01958657854662767, -0.027704483708997717, -0.018299830055988266],\n",
       " [0.0590629806944295, -0.11716759968583743, -0.019159506795068483],\n",
       " [0.011190789667040625, -0.016650407684605014, -0.010052643198761799],\n",
       " [0.019067187001101528, -0.038069127851656726, -0.016348799634317436],\n",
       " [0.042878233237644295, -0.06251539881048238, -0.059712797148674904],\n",
       " [0.30078814777936325, 0.00944915011397851, -0.01842309915548252],\n",
       " [0.028810069079991164, -0.04516479948795312, -0.014802382769617543],\n",
       " [0.30062504987227223, 0.06230881944296359, -0.03172096081530016],\n",
       " [0.04282792494403864, -0.0715426221078892, -0.03284485043009657],\n",
       " [0.19079800562222418, 0.0757293357790486, -0.0005902584373564145],\n",
       " [0.056598995371593346, -0.09332038125807106, 0.11363016057560087],\n",
       " [0.03094109736483135, -0.05700810751811316, 0.002769831804757197],\n",
       " [0.3109650987328039, 0.11741020413114871, -0.008016389187868525],\n",
       " [0.018139180456433212, -0.030379256953510403, -0.0007130265942452817],\n",
       " [0.008055358524346558, -0.01594915657793114, 0.002847348035672728],\n",
       " [0.03875724499217219, -0.06414227662003162, -0.020334934815015887],\n",
       " [0.23279479340860013, 0.009504586200873138, 0.12399291921313617],\n",
       " [0.2733130434326491, 0.056091238626659476, -0.013734019855198083],\n",
       " [0.2682982365981636, 0.10858098957511579, 0.02186958833730268],\n",
       " [0.06917427622178894, -0.11839447427393156, 0.02680514855320101],\n",
       " [0.051437064033861855, -0.10310674738947322, -0.02710589823924927],\n",
       " [0.011945430259412049, -0.009961165145492027, -0.007024186165411867],\n",
       " [0.04130672916621505, -0.07883884627880043, 0.013927491773470777],\n",
       " [0.028679975398199622, -0.049034612267383315, -0.008332161176092858],\n",
       " [0.2582974694071983, 0.1234984159116447, 0.002962721328831108],\n",
       " [0.039418837649109424, -0.076129344941086, -0.02154408003645685],\n",
       " [0.044458936787149544, -0.08285327705706631, -0.02564624543907331],\n",
       " [0.016863787543872143, -0.036029226441240104, -0.014872598723601266],\n",
       " [0.03746927057040688, -0.06208828364525684, -0.01706864773579027],\n",
       " [0.017511315037388862, -0.02742471676558228, -0.004385308435612961],\n",
       " [0.04715428846759769, -0.08963134310605787, -0.027172803134772824],\n",
       " [0.01600430915811475, -0.021699950537565238, -0.001033528904032856],\n",
       " [0.04795881809744608, -0.09506320843900945, -0.013451942245965054],\n",
       " [0.32053476678452764, 0.11136299022443977, -0.013312941217568748],\n",
       " [0.0552244837658844, -0.10909478041585043, -0.014009116247859329],\n",
       " [0.0058054571157748, -0.012978903277963746, 0.03988919625658573],\n",
       " [0.017729568934376543, -0.032924835392337176, -0.013476941974367572],\n",
       " [0.04038383745332356, -0.07512051835864109, 0.032410256978027546],\n",
       " [0.01212653365335847, -0.02267952131628945, -0.012503215719870188],\n",
       " [0.04806588163520674, -0.09418476724719949, -0.016601288334423196],\n",
       " [0.07889091656918429, -0.15695800896017906, -0.05294138898699785],\n",
       " [0.0407356204939867, -0.0747795424984141, -0.04622153563998905],\n",
       " [0.07290720692690612, -0.13455032973075254, -0.05694134150985678],\n",
       " [0.05075019482836061, -0.09370447888466266, 0.001351015789827315],\n",
       " [0.02579527012590794, -0.04064861693983835, -0.010399616407437182],\n",
       " [0.027536094066105344, -0.0345992243102044, -0.009141403772821287],\n",
       " [0.03260328127518558, -0.04754236731459678, -0.019443716996606557],\n",
       " [0.11179877790281238, -0.2272592895691557, 0.1058592164601033],\n",
       " [0.04840114361567705, -0.08183431501322849, 0.005645911677385323],\n",
       " [0.22588500194728647, -0.03199646172158089, -0.045251306852482714],\n",
       " [0.06379986131863193, -0.11070692940228441, -0.009175562806529208],\n",
       " [0.22329508898738068, -0.02198626802643356, 0.0022657310811256175],\n",
       " [0.12139637944323033, -0.23613628167895065, -0.05904083377689727],\n",
       " [0.05751882169468028, -0.10502927586033721, 0.07924574722536662],\n",
       " [0.03088588643120216, -0.054829102772182184, -0.00023784126165184546],\n",
       " [0.02730803378593041, -0.0495263653916221, -0.021153912986486216],\n",
       " [0.03038326050510335, -0.04851163056680245, -0.028215608523461267],\n",
       " [0.22235947826080352, 0.04625447962736159, -0.013329185608298141],\n",
       " [0.062141724067645655, -0.1150160125052128, 0.0007077194614171607],\n",
       " [0.06401685696135456, -0.10590921375539086, -0.034984851426097266],\n",
       " [0.04434198412990193, -0.05818531877940763, -0.048999393693177344],\n",
       " [0.2091189974875348, -0.0007289564500700457, -0.03576638683745912],\n",
       " [0.07250073671778683, -0.13433015267749504, -0.006279469261346036],\n",
       " [0.03689327260845304, -0.06194611740713979, -0.016012522207244143],\n",
       " [0.027417996560732, -0.043795779761029316, -0.01950714286111346],\n",
       " [0.08205419201077566, -0.15233734104172317, -0.03823004184100508],\n",
       " [0.06065694320883251, -0.1102824131643074, -0.026153381507686622],\n",
       " [0.41340518071771204, 0.03793740658044499, -0.04314969647513622],\n",
       " [0.0626772333113425, -0.1248734297128011, 0.000556851080376123],\n",
       " [0.047907474415713955, -0.08660263112997403, -0.04198318539411627],\n",
       " [0.05814239382834649, -0.12077922373328692, -0.015528203328347728],\n",
       " [0.0658966770786215, -0.13269425869551965, -0.009136509965611809],\n",
       " [0.2171556428206885, 0.09978601955446789, -0.0032112678301135364],\n",
       " [0.017946084979301294, -0.03409335064745565, 0.0015657569914791494],\n",
       " [0.2172473975239188, -0.03219912701050823, 0.022888381798105654],\n",
       " [0.14459820551320962, -0.014167483567458974, -0.011881782921463071],\n",
       " [0.04228664661624127, -0.07146787280926424, -0.013371446870939373],\n",
       " [0.030734937487361905, -0.05095238322114794, -0.011629362074830549],\n",
       " [0.07329638430991872, -0.1483827623417125, -0.07331341770340279],\n",
       " [0.026953906264774518, -0.039682360751113234, -0.013387118595587817],\n",
       " [0.06007239459314184, -0.10196147302274212, -0.031054465906100653],\n",
       " [0.05144587000196106, -0.08075473325580024, -0.03467000120355219],\n",
       " [0.06264762956016773, -0.10493303480159384, -0.0008082817163294319],\n",
       " [0.06424835463694899, -0.12278172797594998, -0.02874788159435386],\n",
       " [0.01327747327807855, -0.021267360985797186, 0.008152059041847983],\n",
       " [0.05857290834892778, -0.09796512849556163, -0.047808057169052086],\n",
       " [0.05967741899240948, -0.11185614585211752, -0.08086068104831681],\n",
       " [0.033724511073411026, -0.06983884245460453, -0.0026984577600127997],\n",
       " [0.032675916745195314, -0.0720997922600147, -0.025264757981382755],\n",
       " [0.1967522264702814, 0.03938266256140114, 0.08779755205941389],\n",
       " [0.03622453009524968, -0.049023129105598584, -0.019673298875672218],\n",
       " [0.03188265644979823, -0.047710436902937046, -0.021600961335885308],\n",
       " [0.08019022076143675, -0.15758990765051056, 0.2702999313695691],\n",
       " [0.04757618663084205, -0.0934647181312362, -0.01921961169261955],\n",
       " [0.048745563118396576, -0.08479518247075306, -0.022210760069639335],\n",
       " [0.04149210189218643, -0.06860046377641346, -0.010644357777396862],\n",
       " [0.04035422716883976, -0.07045898529930747, -0.013810812716248023],\n",
       " [0.02921823938809069, -0.043333394790494834, -0.0019405773006906058],\n",
       " [0.044778249825712095, -0.10150830668882584, -0.0372438598493316],\n",
       " [0.05143605127340999, -0.09465291484972899, -0.011707580509060404],\n",
       " [0.038496360748134145, -0.06322798340910979, -0.017999906965618723],\n",
       " [0.046459440787212335, -0.07758130570331773, -0.017870676749961845],\n",
       " [0.02832789870015029, -0.048277179030238405, 0.006079938049244054],\n",
       " [0.020486080437482738, -0.028346428701743313, -0.011921037856217112],\n",
       " [0.015110061452212399, -0.021225483523412386, -0.00927780348507605],\n",
       " [0.032106304594666554, -0.06164201543438452, -0.01981838827667878],\n",
       " [0.03750963250932749, -0.06805173041769602, -0.03775322201847623],\n",
       " [0.2176371954037112, -0.030017911613770116, -0.058556613635689245],\n",
       " [0.07295329711581733, -0.11959729856231768, -0.043698978027199534],\n",
       " [0.19516930524435336, 0.04440340145110034, -0.02713540919318337],\n",
       " [0.023437783712151106, -0.03545909769465501, -0.017641431213916942],\n",
       " [0.01435087199189785, -0.025058888260962565, -0.011952376531746273],\n",
       " [0.01981092365532699, -0.035699562256762865, -0.021665704438906835],\n",
       " [0.02383296919066819, -0.03685740162511876, -0.008661459168660136],\n",
       " [0.04015045589122583, -0.053701809351649955, -0.031597891405527545],\n",
       " [0.012444397188477566, -0.017208097672404984, -0.005379769433057623],\n",
       " [0.21459091333674216, 0.06360079286817681, -0.0010614082827951456],\n",
       " [0.009513697806602562, -0.017328841219941826, -0.0038337346547699987],\n",
       " [0.662608153732854, 0.3500165566747099, 0.015716272847610773],\n",
       " [0.059464545349925665, -0.10298806912062866, -0.03758804311412351],\n",
       " [0.08567242276988857, -0.155463786356589, 0.33334496044166184],\n",
       " [0.045359039351812847, -0.081662157146901, -0.0406105110746983],\n",
       " [0.027554464686237158, -0.037054593380143504, -0.008483259958391118],\n",
       " [0.05415162543594296, -0.1145262612688541, -0.040809860025368995],\n",
       " [0.026619790269492502, -0.05207236382980817, -0.031918727533667694],\n",
       " [0.054755621086196235, -0.11719845184735742, -0.01652840919327743],\n",
       " [0.016681455268321918, -0.030046092256084244, -0.010129212508797551],\n",
       " [0.06908502589981605, -0.12850110306688145, -0.05807250785190643],\n",
       " [0.01391765279661357, -0.025951193679835633, -0.007302853365555306],\n",
       " [0.05683216060229091, -0.10635635936991022, 0.04432953351699012],\n",
       " [0.06351558249023391, -0.12667996266481504, -0.07016271576796551],\n",
       " [0.02032885391297306, -0.036479015146338674, -0.011607132110762001],\n",
       " [0.029650685927063557, -0.05955280584288177, 0.17126621569706893],\n",
       " [0.03246878558786877, -0.05415096559781139, -0.009147425519888105],\n",
       " [0.014921896352334223, -0.028110293647378333, -0.016595384754667125],\n",
       " [0.1813613029979598, -0.04801685259442307, -0.024047408817484153],\n",
       " [0.11855794940129402, -0.1992508958905712, -0.035054073709134],\n",
       " [0.06924084952271217, -0.13439501960362304, -0.019758632354418344],\n",
       " [0.07554872507702327, -0.139443499597601, -0.06808948387325033],\n",
       " [0.020574596087660494, -0.03634953076150156, -0.024544259981530533],\n",
       " [0.019146711910153203, -0.03004095903820509, -0.012466820274474434],\n",
       " [0.029949890166065328, -0.053364985392944875, -0.044833407793867554],\n",
       " [0.008998894078488882, -0.012791425804486825, -0.00207151897108357],\n",
       " [0.2898056009079587, 0.09647815594677187, -0.02855744562032738],\n",
       " [0.040670771592095485, -0.06899476384481129, -0.03114880974870224],\n",
       " [0.07452668317911247, -0.15121136274946134, 0.02102250202855436],\n",
       " [0.023148071993883676, -0.03715911384446031, -0.0075823030917529744],\n",
       " [0.03279429018639937, -0.05378922116277812, -0.0037213169440296666],\n",
       " [0.04922638829575949, -0.09688223012038706, 0.24703488929906972],\n",
       " [0.07065389496073246, -0.1351014035137821, -0.032104267443936046],\n",
       " [0.0005850340883064166, -0.0024051250926537355, -0.0011406671458606588],\n",
       " [0.021267438346938762, -0.03711126625120607, -0.01907967238208185],\n",
       " [0.001809474938973683, -0.0031811382832023674, -0.0012890302140517943],\n",
       " [0.19858275078664697, -0.045828543282396675, -0.023810435209057092],\n",
       " [0.05068769641243816, -0.08574687246006595, -0.02386831544346004],\n",
       " [0.06179502935300249, -0.11018746084157548, -0.030237235587609084],\n",
       " [0.04772520561763451, -0.08109432472767014, -0.030925851800182442],\n",
       " ...]"
      ]
     },
     "execution_count": 24,
     "metadata": {},
     "output_type": "execute_result"
    }
   ],
   "source": [
    "lsa.transform(tfidf_doc_term_mat).tolist()"
   ]
  },
  {
   "cell_type": "code",
   "execution_count": 25,
   "id": "fca7a3e0",
   "metadata": {},
   "outputs": [],
   "source": [
    "topic1 = []\n",
    "topic2 = []\n",
    "topic3 = []\n",
    "for topic_list in lsa.transform(tfidf_doc_term_mat).tolist():\n",
    "    topic1.append(topic_list[0])\n",
    "    topic2.append(topic_list[1])\n",
    "    topic3.append(topic_list[2])"
   ]
  },
  {
   "cell_type": "code",
   "execution_count": 26,
   "id": "30ca28b9",
   "metadata": {},
   "outputs": [],
   "source": [
    "stack_overflow_df['topic1'] = topic1\n",
    "stack_overflow_df['topic2'] = topic2\n",
    "stack_overflow_df['topic3'] = topic3"
   ]
  },
  {
   "cell_type": "code",
   "execution_count": 27,
   "id": "058e188e",
   "metadata": {},
   "outputs": [
    {
     "data": {
      "text/html": [
       "<div>\n",
       "<style scoped>\n",
       "    .dataframe tbody tr th:only-of-type {\n",
       "        vertical-align: middle;\n",
       "    }\n",
       "\n",
       "    .dataframe tbody tr th {\n",
       "        vertical-align: top;\n",
       "    }\n",
       "\n",
       "    .dataframe thead th {\n",
       "        text-align: right;\n",
       "    }\n",
       "</style>\n",
       "<table border=\"1\" class=\"dataframe\">\n",
       "  <thead>\n",
       "    <tr style=\"text-align: right;\">\n",
       "      <th></th>\n",
       "      <th>text</th>\n",
       "      <th>c_label</th>\n",
       "      <th>neg_sentiment</th>\n",
       "      <th>topic1</th>\n",
       "      <th>topic2</th>\n",
       "      <th>topic3</th>\n",
       "    </tr>\n",
       "  </thead>\n",
       "  <tbody>\n",
       "    <tr>\n",
       "      <th>0</th>\n",
       "      <td>Yeah n't believe created console app good lord...</td>\n",
       "      <td>False</td>\n",
       "      <td>0.127</td>\n",
       "      <td>0.041854</td>\n",
       "      <td>-0.088565</td>\n",
       "      <td>-0.004201</td>\n",
       "    </tr>\n",
       "    <tr>\n",
       "      <th>1</th>\n",
       "      <td>help give details database using techniques vary</td>\n",
       "      <td>False</td>\n",
       "      <td>0.000</td>\n",
       "      <td>0.023585</td>\n",
       "      <td>-0.046391</td>\n",
       "      <td>-0.006353</td>\n",
       "    </tr>\n",
       "    <tr>\n",
       "      <th>2</th>\n",
       "      <td>infact Look first lines concat code problem co...</td>\n",
       "      <td>False</td>\n",
       "      <td>0.105</td>\n",
       "      <td>0.044889</td>\n",
       "      <td>-0.065489</td>\n",
       "      <td>-0.042193</td>\n",
       "    </tr>\n",
       "    <tr>\n",
       "      <th>3</th>\n",
       "      <td>`` Currently implemented using StringBuffer ``...</td>\n",
       "      <td>False</td>\n",
       "      <td>0.000</td>\n",
       "      <td>0.196012</td>\n",
       "      <td>0.046779</td>\n",
       "      <td>-0.015825</td>\n",
       "    </tr>\n",
       "    <tr>\n",
       "      <th>4</th>\n",
       "      <td>code fail .Distinct returns IEnumerable add .T...</td>\n",
       "      <td>False</td>\n",
       "      <td>0.189</td>\n",
       "      <td>0.026785</td>\n",
       "      <td>-0.048137</td>\n",
       "      <td>-0.039873</td>\n",
       "    </tr>\n",
       "  </tbody>\n",
       "</table>\n",
       "</div>"
      ],
      "text/plain": [
       "                                                text  c_label  neg_sentiment  \\\n",
       "0  Yeah n't believe created console app good lord...    False          0.127   \n",
       "1   help give details database using techniques vary    False          0.000   \n",
       "2  infact Look first lines concat code problem co...    False          0.105   \n",
       "3  `` Currently implemented using StringBuffer ``...    False          0.000   \n",
       "4  code fail .Distinct returns IEnumerable add .T...    False          0.189   \n",
       "\n",
       "     topic1    topic2    topic3  \n",
       "0  0.041854 -0.088565 -0.004201  \n",
       "1  0.023585 -0.046391 -0.006353  \n",
       "2  0.044889 -0.065489 -0.042193  \n",
       "3  0.196012  0.046779 -0.015825  \n",
       "4  0.026785 -0.048137 -0.039873  "
      ]
     },
     "execution_count": 27,
     "metadata": {},
     "output_type": "execute_result"
    }
   ],
   "source": [
    "stack_overflow_df.head()"
   ]
  },
  {
   "cell_type": "markdown",
   "id": "7a053d1d",
   "metadata": {},
   "source": [
    "# EDA for Classification"
   ]
  },
  {
   "cell_type": "code",
   "execution_count": 29,
   "id": "dd2b43e4",
   "metadata": {},
   "outputs": [],
   "source": [
    "stack_overflow_df[\"c_label\"] = stack_overflow_df[\"c_label\"].astype(int)\n",
    "\n",
    "X = stack_overflow_df[['neg_sentiment','topic1','topic2','topic3']]\n",
    "y = stack_overflow_df.c_label\n"
   ]
  },
  {
   "cell_type": "code",
   "execution_count": 30,
   "id": "c98e0002",
   "metadata": {},
   "outputs": [
    {
     "data": {
      "text/plain": [
       "<AxesSubplot:xlabel='c_label', ylabel='neg_sentiment'>"
      ]
     },
     "execution_count": 30,
     "metadata": {},
     "output_type": "execute_result"
    },
    {
     "data": {
      "image/png": "[encoded data removed]",
      "text/plain": [
       "<Figure size 432x288 with 1 Axes>"
      ]
     },
     "metadata": {
      "needs_background": "light"
     },
     "output_type": "display_data"
    }
   ],
   "source": [
    "sns.violinplot(x=stack_overflow_df[\"c_label\"],y=stack_overflow_df[\"neg_sentiment\"])"
   ]
  },
  {
   "cell_type": "code",
   "execution_count": 31,
   "id": "cddefa7a",
   "metadata": {},
   "outputs": [
    {
     "data": {
      "text/plain": [
       "<AxesSubplot:xlabel='c_label', ylabel='topic1'>"
      ]
     },
     "execution_count": 31,
     "metadata": {},
     "output_type": "execute_result"
    },
    {
     "data": {
      "image/png": "[encoded data removed]",
      "text/plain": [
       "<Figure size 432x288 with 1 Axes>"
      ]
     },
     "metadata": {
      "needs_background": "light"
     },
     "output_type": "display_data"
    }
   ],
   "source": [
    "sns.violinplot(x=stack_overflow_df[\"c_label\"],y=stack_overflow_df[\"topic1\"])"
   ]
  },
  {
   "cell_type": "code",
   "execution_count": 32,
   "id": "21eb4786",
   "metadata": {},
   "outputs": [
    {
     "data": {
      "text/plain": [
       "<AxesSubplot:xlabel='c_label', ylabel='topic2'>"
      ]
     },
     "execution_count": 32,
     "metadata": {},
     "output_type": "execute_result"
    },
    {
     "data": {
      "image/png": "[encoded data removed]",
      "text/plain": [
       "<Figure size 432x288 with 1 Axes>"
      ]
     },
     "metadata": {
      "needs_background": "light"
     },
     "output_type": "display_data"
    }
   ],
   "source": [
    "sns.violinplot(x=stack_overflow_df[\"c_label\"],y=stack_overflow_df[\"topic2\"])"
   ]
  },
  {
   "cell_type": "code",
   "execution_count": 33,
   "id": "ac72e96a",
   "metadata": {},
   "outputs": [
    {
     "data": {
      "text/plain": [
       "<AxesSubplot:xlabel='c_label', ylabel='topic3'>"
      ]
     },
     "execution_count": 33,
     "metadata": {},
     "output_type": "execute_result"
    },
    {
     "data": {
      "image/png": "[encoded data removed]",
      "text/plain": [
       "<Figure size 432x288 with 1 Axes>"
      ]
     },
     "metadata": {
      "needs_background": "light"
     },
     "output_type": "display_data"
    }
   ],
   "source": [
    "sns.violinplot(x=stack_overflow_df[\"c_label\"],y=stack_overflow_df[\"topic3\"])"
   ]
  },
  {
   "cell_type": "markdown",
   "id": "b4d1dff2",
   "metadata": {},
   "source": [
    "# Split data"
   ]
  },
  {
   "cell_type": "code",
   "execution_count": 34,
   "id": "167d14c6",
   "metadata": {},
   "outputs": [],
   "source": [
    "#Split the data into train and test sets (80/20) \n",
    "X_train, X_test, y_train, y_test = train_test_split(X, y, test_size = .2, random_state=8)\n",
    "df_train = X_train\n",
    "df_train['c_label'] = y_train"
   ]
  },
  {
   "cell_type": "markdown",
   "id": "cea5e631",
   "metadata": {},
   "source": [
    "# Baseline Model"
   ]
  },
  {
   "cell_type": "code",
   "execution_count": 69,
   "id": "c896a176",
   "metadata": {},
   "outputs": [],
   "source": [
    "y_test_list = y_test.tolist()"
   ]
  },
  {
   "cell_type": "code",
   "execution_count": 76,
   "id": "39fa25cc",
   "metadata": {},
   "outputs": [
    {
     "name": "stdout",
     "output_type": "stream",
     "text": [
      "Model: Baseline Model\n",
      "\n",
      "accuracy score: 89.07%\n",
      "precision score: 0.00%\n",
      "recall score: 0.00%\n",
      "f1 score: 0.00%\n"
     ]
    }
   ],
   "source": [
    "#baseline model: let this model predict the majority class every time and see how it performs\n",
    "true_neg = []\n",
    "false_neg = []\n",
    "true_pos = [] #empty\n",
    "false_pos = [] #empty\n",
    "for i in range(len(y_test_list)):\n",
    "    if y_test_list[i] == 0:\n",
    "        true_neg.append('true_neg')\n",
    "    elif y_test_list[i] == 1:\n",
    "        false_neg.append('false_neg')\n",
    "\n",
    "print(\"Model: Baseline Model\\n\")\n",
    "print(\"accuracy score:\", \"{0:.2%}\".format((len(true_neg)+len(true_pos))/len(y_test_list)))\n",
    "print(\"precision score:\", \"{0:.2%}\".format(0))\n",
    "print(\"recall score:\", \"{0:.2%}\".format(0))\n",
    "print(\"f1 score:\", \"{0:.2%}\".format(0))"
   ]
  },
  {
   "cell_type": "markdown",
   "id": "d749128d",
   "metadata": {},
   "source": [
    "# Resample data since imbalanced"
   ]
  },
  {
   "cell_type": "code",
   "execution_count": 35,
   "id": "0f4152ec",
   "metadata": {},
   "outputs": [],
   "source": [
    "df_majority = df_train[(df_train['c_label']==0)] \n",
    "df_minority = df_train[(df_train['c_label']==1)] \n",
    "# upsample minority class\n",
    "df_minority_upsampled = resample(df_minority, \n",
    "                                 replace=True,    # sample with replacement\n",
    "                                 n_samples= 131177, # to match majority class\n",
    "                                 random_state=42)  # reproducible results\n",
    "# Combine majority class with upsampled minority class\n",
    "df_upsampled = pd.concat([df_minority_upsampled, df_majority])\n",
    "\n",
    "X_train_upsampled = df_upsampled[['neg_sentiment','topic1','topic2','topic3']]\n",
    "y_train_upsampled = df_upsampled['c_label']"
   ]
  },
  {
   "cell_type": "markdown",
   "id": "3d0973ff",
   "metadata": {},
   "source": [
    "# Scale Data"
   ]
  },
  {
   "cell_type": "code",
   "execution_count": 36,
   "id": "7b8de643",
   "metadata": {},
   "outputs": [],
   "source": [
    "#scale data for knn and logreg\n",
    "std_scale = StandardScaler()\n",
    "\n",
    "X_train_scaled_upsampled = std_scale.fit_transform(X_train_upsampled)\n",
    "X_test_scaled = std_scale.transform(X_test)"
   ]
  },
  {
   "cell_type": "markdown",
   "id": "2aae85f9",
   "metadata": {},
   "source": [
    "# kNN"
   ]
  },
  {
   "cell_type": "code",
   "execution_count": 63,
   "id": "d8e96111",
   "metadata": {
    "scrolled": false
   },
   "outputs": [
    {
     "name": "stdout",
     "output_type": "stream",
     "text": [
      "Model: kNN\n",
      "\n",
      "accuracy score: 77.12%\n",
      "precision score: 19.21%\n",
      "recall score: 34.12%\n",
      "f1 score: 24.58%\n"
     ]
    }
   ],
   "source": [
    "knn = KNeighborsClassifier(n_neighbors=3)\n",
    "knn.fit(X_train_scaled_upsampled, y_train_upsampled)\n",
    "y_pred_knn = knn.predict(X_test_scaled)\n",
    "\n",
    "print(\"Model: kNN\\n\")\n",
    "print(\"accuracy score:\", \"{0:.2%}\".format(accuracy_score(y_test, y_pred_knn)))\n",
    "print(\"precision score:\", \"{0:.2%}\".format(precision_score(y_test, y_pred_knn)))\n",
    "print(\"recall score:\", \"{0:.2%}\".format(recall_score(y_test, y_pred_knn)))\n",
    "print(\"f1 score:\", \"{0:.2%}\".format(f1_score(y_test, y_pred_knn)))"
   ]
  },
  {
   "cell_type": "code",
   "execution_count": 38,
   "id": "e45c689c",
   "metadata": {},
   "outputs": [
    {
     "data": {
      "image/png": "[encoded data removed]",
      "text/plain": [
       "<Figure size 432x288 with 2 Axes>"
      ]
     },
     "metadata": {
      "needs_background": "light"
     },
     "output_type": "display_data"
    }
   ],
   "source": [
    "cm = confusion_matrix(y_test, y_pred_knn)\n",
    "\n",
    "plt.rcParams['font.family'] = \"serif\"\n",
    "\n",
    "names = [\"True Negatives\",\"False Positives\",\"False Negatives\",\"True Positives\"]\n",
    "counts = [\"{0:0.0f}\".format(value) for value in cm.flatten()]\n",
    "percents = [\"{0:.2%}\".format(value) for value in cm.flatten()/np.sum(cm)]\n",
    "labels = [f'{v1}\\n{v2}\\n{v3}' for v1, v2, v3 in zip(names,counts,percents)]\n",
    "labels = np.asarray(labels).reshape(2,2)\n",
    "\n",
    "sns.heatmap(cm, annot=labels, fmt=\"\", cmap='coolwarm');\n",
    "plt.title(\"Confusion Matrix - kNN\",fontsize=17)\n",
    "plt.ylabel(\"Actual\")\n",
    "plt.xlabel(\"Predicted\")\n",
    "plt.show()"
   ]
  },
  {
   "cell_type": "code",
   "execution_count": 39,
   "id": "306867d1",
   "metadata": {},
   "outputs": [
    {
     "name": "stdout",
     "output_type": "stream",
     "text": [
      "Model: kNN with lower decision threshold\n",
      "\n",
      "accuracy score: 71.47%\n",
      "precision score: 18.14%\n",
      "recall score: 45.88%\n",
      "f1 score: 26.00%\n"
     ]
    }
   ],
   "source": [
    "knn = KNeighborsClassifier(n_neighbors=3)\n",
    "knn.fit(X_train_scaled_upsampled, y_train_upsampled)\n",
    "y_pred_knn = (knn.predict_proba(X_test_scaled)[:,1] >= 0.3).astype(bool)\n",
    "\n",
    "print(\"Model: kNN with lower decision threshold\\n\")\n",
    "print(\"accuracy score:\", \"{0:.2%}\".format(accuracy_score(y_test, y_pred_knn)))\n",
    "print(\"precision score:\", \"{0:.2%}\".format(precision_score(y_test, y_pred_knn)))\n",
    "print(\"recall score:\", \"{0:.2%}\".format(recall_score(y_test, y_pred_knn)))\n",
    "print(\"f1 score:\", \"{0:.2%}\".format(f1_score(y_test, y_pred_knn)))"
   ]
  },
  {
   "cell_type": "code",
   "execution_count": 40,
   "id": "dc50f299",
   "metadata": {},
   "outputs": [
    {
     "data": {
      "image/png": "[encoded data removed]",
      "text/plain": [
       "<Figure size 432x288 with 2 Axes>"
      ]
     },
     "metadata": {
      "needs_background": "light"
     },
     "output_type": "display_data"
    }
   ],
   "source": [
    "cm = confusion_matrix(y_test, y_pred_knn)\n",
    "\n",
    "plt.rcParams['font.family'] = \"serif\"\n",
    "\n",
    "names = [\"True Negatives\",\"False Positives\",\"False Negatives\",\"True Positives\"]\n",
    "counts = [\"{0:0.0f}\".format(value) for value in cm.flatten()]\n",
    "percents = [\"{0:.2%}\".format(value) for value in cm.flatten()/np.sum(cm)]\n",
    "labels = [f'{v1}\\n{v2}\\n{v3}' for v1, v2, v3 in zip(names,counts,percents)]\n",
    "labels = np.asarray(labels).reshape(2,2)\n",
    "\n",
    "sns.heatmap(cm, annot=labels, fmt=\"\", cmap='coolwarm');\n",
    "plt.title(\"Confusion Matrix: kNN\\n(lower decision threshold)\",fontsize=17)\n",
    "plt.ylabel(\"Actual\")\n",
    "plt.xlabel(\"Predicted\")\n",
    "plt.show()"
   ]
  },
  {
   "cell_type": "markdown",
   "id": "c66efb3a",
   "metadata": {},
   "source": [
    "# LogReg"
   ]
  },
  {
   "cell_type": "code",
   "execution_count": 41,
   "id": "d7b04ed4",
   "metadata": {},
   "outputs": [],
   "source": [
    "#instantiate, then fit\n",
    "logreg = LogisticRegression()\n",
    "logreg.fit(X_train_scaled_upsampled, y_train_upsampled)\n",
    "\n",
    "#prediction\n",
    "p_pred = logreg.predict_proba(X_test_scaled)[:,1]\n",
    "y_pred = np.where(p_pred > 0.5, 1, 0)"
   ]
  },
  {
   "cell_type": "code",
   "execution_count": 42,
   "id": "bae97dd2",
   "metadata": {},
   "outputs": [
    {
     "name": "stdout",
     "output_type": "stream",
     "text": [
      "Model: LogReg\n",
      "\n",
      "accuracy score: 10.93%\n",
      "precision score: 10.93%\n",
      "recall score: 100.00%\n",
      "f1 score: 19.70%\n"
     ]
    }
   ],
   "source": [
    "print(\"Model: LogReg\\n\")\n",
    "\n",
    "print(\"accuracy score:\", \"{0:.2%}\".format(accuracy_score(y_test, y_pred)))\n",
    "print(\"precision score:\", \"{0:.2%}\".format(precision_score(y_test, y_pred)))\n",
    "print(\"recall score:\", \"{0:.2%}\".format(recall_score(y_test, y_pred)))\n",
    "print(\"f1 score:\", \"{0:.2%}\".format(f1_score(y_test, y_pred)))"
   ]
  },
  {
   "cell_type": "code",
   "execution_count": 43,
   "id": "c5780cdf",
   "metadata": {},
   "outputs": [
    {
     "data": {
      "image/png": "[encoded data removed]",
      "text/plain": [
       "<Figure size 432x288 with 2 Axes>"
      ]
     },
     "metadata": {
      "needs_background": "light"
     },
     "output_type": "display_data"
    }
   ],
   "source": [
    "cm = confusion_matrix(y_test, y_pred)\n",
    "\n",
    "plt.rcParams['font.family'] = \"serif\"\n",
    "\n",
    "names = [\"True Negatives\",\"False Positives\",\"False Negatives\",\"True Positives\"]\n",
    "counts = [\"{0:0.0f}\".format(value) for value in cm.flatten()]\n",
    "percents = [\"{0:.2%}\".format(value) for value in cm.flatten()/np.sum(cm)]\n",
    "labels = [f'{v1}\\n{v2}\\n{v3}' for v1, v2, v3 in zip(names,counts,percents)]\n",
    "labels = np.asarray(labels).reshape(2,2)\n",
    "\n",
    "sns.heatmap(cm, annot=labels, fmt=\"\", cmap='coolwarm');\n",
    "plt.title(\"Confusion Matrix - LogReg\",fontsize=17)\n",
    "plt.ylabel(\"Actual\")\n",
    "plt.xlabel(\"Predicted\")\n",
    "plt.show()"
   ]
  },
  {
   "cell_type": "code",
   "execution_count": 44,
   "id": "93af3e69",
   "metadata": {
    "scrolled": false
   },
   "outputs": [
    {
     "name": "stdout",
     "output_type": "stream",
     "text": [
      "neg_sentiment : 0.523174173092983\n",
      "topic1 : 0.11690619032292883\n",
      "topic2 : -0.3199230878698626\n",
      "topic3 : 0.3598410311806136\n"
     ]
    },
    {
     "data": {
      "image/png": "[encoded data removed]",
      "text/plain": [
       "<Figure size 432x288 with 1 Axes>"
      ]
     },
     "metadata": {
      "needs_background": "light"
     },
     "output_type": "display_data"
    }
   ],
   "source": [
    "#visualize coefs\n",
    "features = []\n",
    "coefs = []\n",
    "\n",
    "plt.rcParams['font.family'] = \"serif\"\n",
    "\n",
    "i=0\n",
    "while i < (len(list(X.columns.values))):\n",
    "    features.append(X.columns.values[i])\n",
    "    coefs.append(logreg.coef_[0][i])\n",
    "    print(X.columns.values[i], \":\", logreg.coef_[0][i])\n",
    "    i+=1\n",
    "    \n",
    "sns.barplot(x=features,y=coefs,color='cornflowerblue')\n",
    "plt.xticks(rotation=90)\n",
    "plt.title(\"Visualize LogReg Coefs\",fontsize = 17)\n",
    "plt.show()"
   ]
  },
  {
   "cell_type": "code",
   "execution_count": 45,
   "id": "bff25346",
   "metadata": {},
   "outputs": [
    {
     "name": "stdout",
     "output_type": "stream",
     "text": [
      "Model: LogReg with lower decision threshold\n",
      "\n",
      "accuracy score: 10.93%\n",
      "precision score: 10.93%\n",
      "recall score: 100.00%\n",
      "f1 score: 19.70%\n"
     ]
    }
   ],
   "source": [
    "#instantiate, then fit\n",
    "logreg = LogisticRegression()\n",
    "logreg.fit(X_train_scaled_upsampled, y_train_upsampled)\n",
    "\n",
    "#prediction\n",
    "y_pred = (logreg.predict_proba(X_test_scaled)[:,1] >= 0.3).astype(bool)\n",
    "\n",
    "print(\"Model: LogReg with lower decision threshold\\n\")\n",
    "print(\"accuracy score:\", \"{0:.2%}\".format(accuracy_score(y_test, y_pred)))\n",
    "print(\"precision score:\", \"{0:.2%}\".format(precision_score(y_test, y_pred)))\n",
    "print(\"recall score:\", \"{0:.2%}\".format(recall_score(y_test, y_pred)))\n",
    "print(\"f1 score:\", \"{0:.2%}\".format(f1_score(y_test, y_pred)))"
   ]
  },
  {
   "cell_type": "markdown",
   "id": "bb89be90",
   "metadata": {},
   "source": [
    "so much for logistic regression >:("
   ]
  },
  {
   "cell_type": "markdown",
   "id": "2c9b664f",
   "metadata": {},
   "source": [
    "# Random Forests"
   ]
  },
  {
   "cell_type": "code",
   "execution_count": 46,
   "id": "13ce209d",
   "metadata": {},
   "outputs": [],
   "source": [
    "#instantiate, then fit\n",
    "rf = RandomForestClassifier()\n",
    "rf.fit(X_train_upsampled, y_train_upsampled)\n",
    "y_pred = rf.predict(X_test)"
   ]
  },
  {
   "cell_type": "code",
   "execution_count": 47,
   "id": "f7ca7371",
   "metadata": {},
   "outputs": [
    {
     "name": "stdout",
     "output_type": "stream",
     "text": [
      "Model: Random Forests\n",
      "\n",
      "accuracy score: 86.25%\n",
      "precision score: 15.62%\n",
      "recall score: 5.88%\n",
      "f1 score: 8.55%\n"
     ]
    }
   ],
   "source": [
    "print(\"Model: Random Forests\\n\")\n",
    "\n",
    "print(\"accuracy score:\", \"{0:.2%}\".format(accuracy_score(y_test, y_pred)))\n",
    "print(\"precision score:\", \"{0:.2%}\".format(precision_score(y_test, y_pred)))\n",
    "print(\"recall score:\", \"{0:.2%}\".format(recall_score(y_test, y_pred)))\n",
    "print(\"f1 score:\", \"{0:.2%}\".format(f1_score(y_test, y_pred)))"
   ]
  },
  {
   "cell_type": "code",
   "execution_count": 48,
   "id": "06a1dfea",
   "metadata": {},
   "outputs": [
    {
     "data": {
      "image/png": "[encoded data removed]",
      "text/plain": [
       "<Figure size 432x288 with 2 Axes>"
      ]
     },
     "metadata": {
      "needs_background": "light"
     },
     "output_type": "display_data"
    }
   ],
   "source": [
    "cm = confusion_matrix(y_test, y_pred)\n",
    "\n",
    "plt.rcParams['font.family'] = \"serif\"\n",
    "\n",
    "names = [\"True Negatives\",\"False Positives\",\"False Negatives\",\"True Positives\"]\n",
    "counts = [\"{0:0.0f}\".format(value) for value in cm.flatten()]\n",
    "percents = [\"{0:.2%}\".format(value) for value in cm.flatten()/np.sum(cm)]\n",
    "labels = [f'{v1}\\n{v2}\\n{v3}' for v1, v2, v3 in zip(names,counts,percents)]\n",
    "labels = np.asarray(labels).reshape(2,2)\n",
    "\n",
    "sns.heatmap(cm, annot=labels, fmt=\"\", cmap='coolwarm');\n",
    "plt.title(\"Confusion Matrix - Random Forests\",fontsize=17)\n",
    "plt.ylabel(\"Actual\")\n",
    "plt.xlabel(\"Predicted\")\n",
    "plt.show()"
   ]
  },
  {
   "cell_type": "code",
   "execution_count": 49,
   "id": "8ed45132",
   "metadata": {},
   "outputs": [
    {
     "name": "stderr",
     "output_type": "stream",
     "text": [
      "/Users/amelialui/opt/anaconda3/lib/python3.9/site-packages/sklearn/base.py:450: UserWarning: X does not have valid feature names, but RandomForestClassifier was fitted with feature names\n",
      "  warnings.warn(\n"
     ]
    }
   ],
   "source": [
    "#instantiate, then fit\n",
    "rf = RandomForestClassifier()\n",
    "rf.fit(X_train_upsampled, y_train_upsampled)\n",
    "y_pred = (rf.predict_proba(X_test_scaled)[:,1] >= 0.3).astype(bool)"
   ]
  },
  {
   "cell_type": "code",
   "execution_count": 50,
   "id": "667ac3a9",
   "metadata": {},
   "outputs": [
    {
     "name": "stdout",
     "output_type": "stream",
     "text": [
      "Model: Random Forests with lower decision threshold\n",
      "\n",
      "accuracy score: 88.82%\n",
      "precision score: 25.00%\n",
      "recall score: 1.18%\n",
      "f1 score: 2.25%\n"
     ]
    }
   ],
   "source": [
    "print(\"Model: Random Forests with lower decision threshold\\n\")\n",
    "\n",
    "print(\"accuracy score:\", \"{0:.2%}\".format(accuracy_score(y_test, y_pred)))\n",
    "print(\"precision score:\", \"{0:.2%}\".format(precision_score(y_test, y_pred)))\n",
    "print(\"recall score:\", \"{0:.2%}\".format(recall_score(y_test, y_pred)))\n",
    "print(\"f1 score:\", \"{0:.2%}\".format(f1_score(y_test, y_pred)))"
   ]
  }
 ],
 "metadata": {
  "kernelspec": {
   "display_name": "Python 3 (unsupervised)",
   "language": "python",
   "name": "unsupervised"
  },
  "language_info": {
   "codemirror_mode": {
    "name": "ipython",
    "version": 3
   },
   "file_extension": ".py",
   "mimetype": "text/x-python",
   "name": "python",
   "nbconvert_exporter": "python",
   "pygments_lexer": "ipython3",
   "version": "3.9.12"
  }
 },
 "nbformat": 4,
 "nbformat_minor": 5
}
